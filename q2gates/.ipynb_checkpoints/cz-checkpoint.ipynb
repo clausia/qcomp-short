{
 "cells": [
  {
   "cell_type": "markdown",
   "id": "c90b9982-693c-4cda-b2ef-62806da691b5",
   "metadata": {},
   "source": [
    "# Controlled- Z, S, T, P gates"
   ]
  },
  {
   "cell_type": "markdown",
   "id": "3f4f65a8-b871-4f03-a555-12c244696650",
   "metadata": {},
   "source": [
    "Recall that that Z, S, and T gates all change the phase of $|1\\rangle$ and that the general phase gate P($\\theta$) can replace them as Z = P($\\pi$), S = P($\\pi/2$), and T = P($\\pi/4$)  (See {numref}`chap-one-qubit-gates`.)  In this section, controlled- Z, S, T, and P gates (CZ, CS, CT, and CP, respectively) are introduced.  Since all of them work in the similar manner, only controlled-P is explained in most parts."
   ]
  },
  {
   "cell_type": "markdown",
   "id": "653df09e-9b34-4ceb-978a-8c7f7b366d94",
   "metadata": {},
   "source": [
    "**Operational Definition**\n",
    "\n",
    "When gate  CP$_{q_0}^{q_1}(\\theta)$ acts on $|q_1\\, q_0\\rangle$, P($\\theta$) is applied to $q_1$ if $q_0=1$ and nothing is done otherwise. Qubit $q_0$ serves as source and $q_1$ as target.  AS shwon bellow, CP$_{q_0}^{q_1}(\\theta) =$ CP$_{q_1}^{q_0}(\\theta)$.  Hence, it is not necessary to specify a source and a target qubit.  \n",
    "\n",
    "Mathematically, it is expressed as\n",
    "\n",
    "$$\n",
    "\\text{CP}_{q_0}^{q_1}(\\theta)|q_1\\, q_0\\rangle = \\text{I} \\otimes |0\\rangle\\langle 0| + \\text{P}(\\theta) \\otimes |1\\rangle\\langle 1|\n",
    "$$\n",
    "\n",
    "Switching source and target qubits, \n",
    "\n",
    "CP$_{q_1}^{q_0} (\\theta) |q_1\\, q_0\\rangle$  applies P($\\theta$) to $q_0$ if $q_1=1$ and do nothing otherwise.  Mathematically, it is expressed as\n",
    "\n",
    "$$\n",
    "\\text{CP}_{q_1}^{q_0}|q_1\\, q_0\\rangle (\\theta) = |0\\rangle\\langle 0| \\otimes \\text{I}   +   |1\\rangle\\langle 1| \\otimes \\text{P}(\\theta)\n",
    "$$\n",
    "\n",
    "**Transformation**\n",
    "\n",
    "CP$_{q_0}^{q_1}(\\theta)$ and CP$_{q_1}^{q_0}(\\theta)$ transforms computational basis as follows:\n",
    "\n",
    "$$\n",
    "\\begin{align}\n",
    "&\\text{CP}_{q_0}^{q_1}(\\theta) \\lvert 00\\rangle = \\lvert 00\\rangle\\\\ \n",
    "&\\text{CP}_{q_0}^{q_1}(\\theta) \\lvert 01\\rangle = \\lvert 01\\rangle\\\\\n",
    "&\\text{CP}_{q_0}^{q_1}(\\theta) \\lvert 10\\rangle = \\lvert 00\\rangle\\\\\n",
    "&\\text{CP}_{q_0}^{q_1}(\\theta) \\lvert 11\\rangle = e^{i \\theta}\\lvert 11\\rangle\n",
    "\\end{align}\n",
    "$$\n",
    "\n",
    "Since only $\\lvert 11\\rangle$ is affected, $\\text{CP}_{q_0}^{q_1}(\\theta)= \\text{CP}_{q_1}^{q_0}(\\theta)$.\n",
    "\n",
    "**Matrix representation**\n",
    "\n",
    "$$\n",
    "\\text{CP}_{q_0}^{q_1}(\\theta) = \\text{CP}_{q_0}^{q_1}(\\theta)  = \\begin{bmatrix} 1&0&0&0\\\\0&1&0&0\\\\0&0&1&0\\\\0&0&0&e^{i\\theta}\\end{bmatrix}\n",
    "$$\n",
    "\n"
   ]
  },
  {
   "cell_type": "markdown",
   "id": "c9791421-cb11-4264-9bc5-3a931239839b",
   "metadata": {},
   "source": [
    "The Qiskit circuit symbols for CZ and CP are `cz` and `cp`, respectively and it appears in circuit as follows.  Notice that the circuit diagrams are symmetric and they do not show which qubit is source or target."
   ]
  },
  {
   "cell_type": "code",
   "execution_count": 9,
   "id": "badcd950-2078-4a05-b6f3-9a4ac5111b46",
   "metadata": {
    "tags": [
     "hide-input"
    ]
   },
   "outputs": [
    {
     "data": {
      "text/html": [
       "<pre style=\"word-wrap: normal;white-space: pre;background: #fff0;line-height: 1.1;font-family: &quot;Courier New&quot;,Courier,monospace\">                \n",
       "q7_0: ─■──■─────\n",
       "       │  │P(θ) \n",
       "q7_1: ─■──■─────\n",
       "                </pre>"
      ],
      "text/plain": [
       "                \n",
       "q7_0: ─■──■─────\n",
       "       │  │P(θ) \n",
       "q7_1: ─■──■─────\n",
       "                "
      ]
     },
     "execution_count": 9,
     "metadata": {},
     "output_type": "execute_result"
    }
   ],
   "source": [
    "from qiskit import *\n",
    "from qiskit.circuit import Parameter\n",
    "from qiskit.quantum_info import Statevector\n",
    "t=Parameter('\\u03B8')\n",
    "\n",
    "qr  = QuantumRegister(2)\n",
    "qc = QuantumCircuit(qr)\n",
    "\n",
    "# control CZ gate\n",
    "qc.cz(0,1)\n",
    "\n",
    "# contrl CP gate\n",
    "qc.cp(t,0,1)\n",
    "\n",
    "qc.draw()"
   ]
  },
  {
   "cell_type": "markdown",
   "id": "806c17f6-40fb-4b2b-8a1e-055ae3b89413",
   "metadata": {},
   "source": [
    "Qiskit does not have circuit symbols for CS and CT but they are predefined in `qiskit.circuit.library.standard_gates`.  You just have to create a shorthand expression."
   ]
  },
  {
   "cell_type": "code",
   "execution_count": 13,
   "id": "7433486d-870f-4501-a07d-ce278b9af304",
   "metadata": {},
   "outputs": [
    {
     "data": {
      "text/html": [
       "<pre style=\"word-wrap: normal;white-space: pre;background: #fff0;line-height: 1.1;font-family: &quot;Courier New&quot;,Courier,monospace\">               \n",
       "q_0: ──■────■──\n",
       "     ┌─┴─┐┌─┴─┐\n",
       "q_1: ┤ S ├┤ T ├\n",
       "     └───┘└───┘</pre>"
      ],
      "text/plain": [
       "               \n",
       "q_0: ──■────■──\n",
       "     ┌─┴─┐┌─┴─┐\n",
       "q_1: ┤ S ├┤ T ├\n",
       "     └───┘└───┘"
      ]
     },
     "execution_count": 13,
     "metadata": {},
     "output_type": "execute_result"
    }
   ],
   "source": [
    "from qiskit import *\n",
    "from qiskit.circuit.library.standard_gates import SGate, TGate\n",
    "\n",
    "cs = SGate().control(1) # the parameter is the amount of control points you want\n",
    "ct = TGate().control(1)\n",
    "qr=QuantumRegister(2,'q')\n",
    "qc = QuantumCircuit(qr)\n",
    "\n",
    "qc.append(cs, [0, 1])\n",
    "qc.append(ct, [0, 1])\n",
    "\n",
    "qc.draw()"
   ]
  }
 ],
 "metadata": {
  "kernelspec": {
   "display_name": "Python 3 (ipykernel)",
   "language": "python",
   "name": "python3"
  },
  "language_info": {
   "codemirror_mode": {
    "name": "ipython",
    "version": 3
   },
   "file_extension": ".py",
   "mimetype": "text/x-python",
   "name": "python",
   "nbconvert_exporter": "python",
   "pygments_lexer": "ipython3",
   "version": "3.9.12"
  }
 },
 "nbformat": 4,
 "nbformat_minor": 5
}
