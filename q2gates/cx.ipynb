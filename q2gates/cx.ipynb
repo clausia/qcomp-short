{
 "cells": [
  {
   "cell_type": "markdown",
   "id": "3b92dd0f-8497-4647-935a-50ead4a053a1",
   "metadata": {},
   "source": [
    "(sec-cxgate)=\n",
    "# Controlled X gate"
   ]
  },
  {
   "cell_type": "markdown",
   "id": "ef634c98-54c5-4534-a1ee-ee60c80ad2bf",
   "metadata": {},
   "source": [
    "## Definition"
   ]
  },
  {
   "cell_type": "markdown",
   "id": "cae62087-fb32-4d48-9ee6-251a499ef931",
   "metadata": {},
   "source": [
    "**Operational Definition**\n",
    "\n",
    "$\\texttt{CX}_{q_0,q_1}|q_1\\, q_0\\rangle$ means \"Apply `X` to $q_1$ if $q_0=1$ and do nothing otherwise.\"  Mathematically, it is expressed as\n",
    "\n",
    "$$\n",
    "\\texttt{CX}_{q_0,q_1} = \\texttt{I} \\otimes |0\\rangle\\langle 0| + \\texttt{X} \\otimes |1\\rangle\\langle 1|\n",
    "$$\n",
    "\n",
    "Swapping the source and target qubits,\n",
    "\n",
    "$\\texttt{CX}_{q_1,q_0}|q_1\\, q_0\\rangle$ means \"Apply `X` to $q_0$ if $q_1=1$ and do nothing otherwise.\"  Mathematically, it is expressed as\n",
    "\n",
    "$$\n",
    "\\texttt{CX}_{q_1,q_0} = |0\\rangle\\langle 0| \\otimes \\texttt{I}   +   |1\\rangle\\langle 1| \\otimes \\texttt{X}\n",
    "$$\n",
    "\n",
    "**Transformation**\n",
    "\n",
    "`CX` transforms computational basis as follows:\n",
    "\n",
    ">$$\n",
    "\\begin{align}\n",
    "\\texttt{CX}_{q_0,q_1} \\lvert 00\\rangle &= \\lvert 00\\rangle \\\\\n",
    "\\texttt{CX}_{q_0,q_1} \\lvert 01\\rangle &= \\lvert 11\\rangle \\\\\n",
    "\\texttt{CX}_{q_0,q_1} \\lvert 10\\rangle &= \\lvert 10\\rangle \\\\\n",
    "\\texttt{CX}_{q_0,q_1} \\lvert 11\\rangle &= \\lvert 01\\rangle \n",
    "\\end{align}\n",
    "$$\n",
    "\n",
    ">$$\n",
    "\\begin{align}\n",
    "\\texttt{CX}_{q_1,q_0} \\lvert 00\\rangle &= \\lvert 00\\rangle \\\\\n",
    "\\texttt{CX}_{q_1,q_0} \\lvert 01\\rangle &= \\lvert 01\\rangle \\\\\n",
    "\\texttt{CX}_{q_1,q_0} \\lvert 10\\rangle &= \\lvert 11\\rangle \\\\\n",
    "\\texttt{CX}_{q_1,q_0} \\lvert 11\\rangle &= \\lvert 10\\rangle \n",
    "\\end{align}\n",
    "$$\n",
    "\n",
    "**Matrix representation**\n",
    "\n",
    "$$\n",
    "\\texttt{CX}_{q_0,q_1} = \\begin{bmatrix} 1&0&0&0\\\\0&0&0&1\\\\0&0&1&0\\\\0&1&0&0\\end{bmatrix}\n",
    "$$\n",
    "\n",
    "$$\n",
    "\\texttt{CX}_{q_1,q_0} = \\begin{bmatrix} 1&0&0&0\\\\0&1&0&0\\\\0&0&0&1\\\\0&0&1&0\\end{bmatrix}\n",
    "$$\n",
    "\n",
    "\n",
    "<div class=\"alert alert-block alert-info\">\n",
    "\n",
    "    \n",
    "$\\texttt{CX}$ swaps the phase of $|01\\rangle$ and $|11\\rangle$.\n",
    "    \n",
    "$$\n",
    "\\texttt{CX}(q_0,q_1) \\left (a |00\\rangle + b |01\\rangle + c |10\\rangle + d |11\\rangle \\right ) =\n",
    "\\left (a |00\\rangle + d |01\\rangle + c |10\\rangle + b |11\\rangle \\right )\n",
    "$$\n",
    "\n",
    "    \n",
    "</div>\n",
    "\n",
    "We will discuss action of `CX` on other basis in the section of [Phase Kickbak](sec:phase-kickback)."
   ]
  },
  {
   "cell_type": "code",
   "execution_count": 1,
   "id": "28828f17-ba2f-4236-8b38-1aa1c1424d59",
   "metadata": {
    "tags": [
     "hide_input"
    ]
   },
   "outputs": [
    {
     "name": "stdout",
     "output_type": "stream",
     "text": [
      "          ┌───┐\n",
      "q_0: ──■──┤ X ├\n",
      "     ┌─┴─┐└─┬─┘\n",
      "q_1: ┤ X ├──■──\n",
      "     └───┘     \n"
     ]
    }
   ],
   "source": [
    "from qiskit import QuantumCircuit\n",
    "qc=QuantumCircuit(2)\n",
    "# CX_{q0,q1}\n",
    "qc.cx(0,1)\n",
    "# CX_{q1,q0}\n",
    "qc.cx(1,0)\n",
    "\n",
    "print(qc)"
   ]
  },
  {
   "cell_type": "markdown",
   "id": "0a76d400-6a60-4f0d-9de8-0fed731a063f",
   "metadata": {},
   "source": [
    "## Acting on superposition state\n",
    "\n",
    "\n",
    "`CX` swaps the coefficients of $|01\\rangle$ and $|11\\rangle$.\n",
    "\n",
    "$$\n",
    "\\text{CX}_{q_0,q_1} \\left (c_{00} |00\\rangle + c_{01} |01\\rangle + c_{10} |10\\rangle + c_{11} |11\\rangle \\right ) =\n",
    "c_{00} |00\\rangle + c_{11} |01\\rangle + c_{10} |10\\rangle + c_{01} |11\\rangle\n",
    "$$\n",
    "\n",
    "The following Qiskit example deomnstrate it."
   ]
  },
  {
   "cell_type": "code",
   "execution_count": 12,
   "id": "8fba8e47-0699-4510-9c41-06d4630bb82b",
   "metadata": {},
   "outputs": [
    {
     "data": {
      "text/html": [
       "<pre style=\"word-wrap: normal;white-space: pre;background: #fff0;line-height: 1.1;font-family: &quot;Courier New&quot;,Courier,monospace\">     ┌───┐┌───┐\n",
       "q_0: ┤ X ├┤ H ├\n",
       "     ├───┤├───┤\n",
       "q_1: ┤ X ├┤ H ├\n",
       "     └───┘└───┘</pre>"
      ],
      "text/plain": [
       "     ┌───┐┌───┐\n",
       "q_0: ┤ X ├┤ H ├\n",
       "     ├───┤├───┤\n",
       "q_1: ┤ X ├┤ H ├\n",
       "     └───┘└───┘"
      ]
     },
     "execution_count": 12,
     "metadata": {},
     "output_type": "execute_result"
    }
   ],
   "source": [
    "from qiskit import *\n",
    "\n",
    "qr=QuantumRegister(2,'q')\n",
    "qc=QuantumCircuit(qr)\n",
    "\n",
    "qc.x([0,1])\n",
    "qc.h([0,1])\n",
    "\n",
    "qc.draw()"
   ]
  },
  {
   "cell_type": "code",
   "execution_count": 13,
   "id": "660edd37-fad4-45a3-8f0a-508469e159e8",
   "metadata": {},
   "outputs": [
    {
     "name": "stdout",
     "output_type": "stream",
     "text": [
      "State before applying CX\n"
     ]
    },
    {
     "data": {
      "text/latex": [
       "$$\\frac{1}{2} |00\\rangle- \\frac{1}{2} |01\\rangle- \\frac{1}{2} |10\\rangle+\\frac{1}{2} |11\\rangle$$"
      ],
      "text/plain": [
       "<IPython.core.display.Latex object>"
      ]
     },
     "execution_count": 13,
     "metadata": {},
     "output_type": "execute_result"
    }
   ],
   "source": [
    "from qiskit.quantum_info import Statevector\n",
    "# state before applying CX\n",
    "print(\"State before applying CX.\")\n",
    "Statevector(qc).draw('latex')"
   ]
  },
  {
   "cell_type": "code",
   "execution_count": 14,
   "id": "d7b47ef9-2fd7-4750-a5fe-2431ed0add4e",
   "metadata": {},
   "outputs": [
    {
     "data": {
      "text/html": [
       "<pre style=\"word-wrap: normal;white-space: pre;background: #fff0;line-height: 1.1;font-family: &quot;Courier New&quot;,Courier,monospace\">     ┌───┐┌───┐     \n",
       "q_0: ┤ X ├┤ H ├──■──\n",
       "     ├───┤├───┤┌─┴─┐\n",
       "q_1: ┤ X ├┤ H ├┤ X ├\n",
       "     └───┘└───┘└───┘</pre>"
      ],
      "text/plain": [
       "     ┌───┐┌───┐     \n",
       "q_0: ┤ X ├┤ H ├──■──\n",
       "     ├───┤├───┤┌─┴─┐\n",
       "q_1: ┤ X ├┤ H ├┤ X ├\n",
       "     └───┘└───┘└───┘"
      ]
     },
     "execution_count": 14,
     "metadata": {},
     "output_type": "execute_result"
    }
   ],
   "source": [
    "qc.cx(0,1)\n",
    "qc.draw()"
   ]
  },
  {
   "cell_type": "code",
   "execution_count": 15,
   "id": "84c01754-9ac2-441f-b63d-67cc5914247a",
   "metadata": {},
   "outputs": [
    {
     "name": "stdout",
     "output_type": "stream",
     "text": [
      "State before applying CX\n"
     ]
    },
    {
     "data": {
      "text/latex": [
       "$$\\frac{1}{2} |00\\rangle+\\frac{1}{2} |01\\rangle- \\frac{1}{2} |10\\rangle- \\frac{1}{2} |11\\rangle$$"
      ],
      "text/plain": [
       "<IPython.core.display.Latex object>"
      ]
     },
     "execution_count": 15,
     "metadata": {},
     "output_type": "execute_result"
    }
   ],
   "source": [
    "# state after applyiong CX\n",
    "print(\"State after applying CX.\")\n",
    "Statevector(qc).draw('latex')"
   ]
  },
  {
   "cell_type": "markdown",
   "id": "754688cb-cb5d-4d5c-b4b8-fccbfea0af90",
   "metadata": {},
   "source": [
    "Compare the states before and after applying `CX` and find how the coefficients changed."
   ]
  },
  {
   "cell_type": "markdown",
   "id": "197e2a39-8fba-463f-9bca-081b3daa69fa",
   "metadata": {},
   "source": [
    ":::{admonition} Does `CX` preserve the source qubit?\n",
    ":class: warning\n",
    "\n",
    "The definition of `CX` seems indicating that only the state of the target qubit is modified and the state of the source qubit remains the same.  Surprisingly, that is not true.  In some cases, the state of the source qubit also changes.\n",
    "\n",
    "Let us look at the above example more carefully.  The state before applying `CX` is\n",
    "\n",
    "$$\n",
    "\\frac{1}{2}\\left(|00\\rangle - |01\\rangle - |10\\rangle + |11\\rangle\\right) = \n",
    "\\frac{1}{\\sqrt{2}}\\left(|0\\rangle - |1\\rangle\\right) \\otimes \\frac{1}{\\sqrt{2}}\\left(|0\\rangle - |1\\rangle\\right) = |-\\rangle\\otimes |-\\rangle\n",
    "$$\n",
    "\n",
    "and after applying `CX`,\n",
    "\n",
    "$$\n",
    "\\frac{1}{2}\\left(|00\\rangle + |01\\rangle - |10\\rangle - |11\\rangle\\right) = \n",
    "\\frac{1}{\\sqrt{2}}\\left(|0\\rangle - |1\\rangle\\right) \\otimes \\frac{1}{\\sqrt{2}}\\left(|0\\rangle + |1\\rangle\\right) = |-\\rangle\\otimes |+\\rangle\n",
    "$$\n",
    "\n",
    "Notice that the source qubit is transformed from $|-\\rangle$ to $|+\\rangle$.  This kind of transformation is called *phase kickback* since the phase of the source qubit changed.  The phase kickback is a ubiquitous strategy in quantum algorithms.  See the next subsection.\n",
    "\n",
    ":::"
   ]
  },
  {
   "cell_type": "markdown",
   "id": "16c4a3b8-e4aa-4bcb-a134-53f0d788a642",
   "metadata": {},
   "source": [
    "## Acting on the x-basis\n",
    "\n",
    "We look at the action of `CX` on other basis, namely $|\\pm\\pm\\rangle$.  We assume that $q_0$ is the control qubit and $q_1$ is the target. \n",
    "\n",
    "$$\n",
    "\\begin{align}\n",
    "\\texttt{CX}(q_0,q_1) |++\\rangle &= \\frac{1}{2} \\texttt{CX} \\left(|00\\rangle + |01\\rangle  + |10\\rangle + |11\\rangle \\right)\n",
    "&&=  \\frac{1}{2} \\left(|00\\rangle + |11\\rangle  + |10\\rangle + |01\\rangle \\right) &= |++\\rangle \\\\\n",
    "\\texttt{CX}(q_0,q_1) |+-\\rangle &= \\frac{1}{2} \\texttt{CX} \\left(|00\\rangle - |01\\rangle  + |10\\rangle - |11\\rangle \\right)\n",
    "&&=  \\frac{1}{2} \\left(|00\\rangle - |11\\rangle  + |10\\rangle - |11\\rangle \\right) &= |+-\\rangle \\\\\n",
    "\\texttt{CX}(q_0,q_1) |-+\\rangle &= \\frac{1}{2} \\texttt{CX} \\left(|00\\rangle + |01\\rangle  - |10\\rangle - |11\\rangle \\right)\n",
    "&&=  \\frac{1}{2} \\left(|00\\rangle + |11\\rangle  - |10\\rangle - |01\\rangle \\right) &= |--\\rangle \\\\\n",
    "\\texttt{CX}(q_0,q_1) |--\\rangle &= \\frac{1}{2} \\texttt{CX} \\left(|00\\rangle - |01\\rangle  - |10\\rangle + |11\\rangle \\right)\n",
    "&&=  \\frac{1}{2} \\left(|00\\rangle - |11\\rangle  - |10\\rangle + |01\\rangle \\right) &= |-+\\rangle\n",
    "\\end{align}\n",
    "$$\n",
    "\n",
    "This transformation can be described as \"Apply `Z` to $q_0$ if $q_1=-$ and do nothing oterwise.\" Interestingly, now $q_1$ is the control qubit and $q_0$ is the target.  Yes, this operation is still \"Apply `X` to $q_1$ if $q_0=1$ and do nothing otherwise.\"  The two operations are equivalent.\n",
    "\n",
    "The reversal of control-target relation is known as signature of *phase kickback*.  Other controlled gates also show phase kickback.  The details will be discussed in a separate section."
   ]
  },
  {
   "cell_type": "markdown",
   "id": "fed3068f-ee79-481a-a618-1921eab35969",
   "metadata": {},
   "source": [
    "## Examples"
   ]
  },
  {
   "cell_type": "code",
   "execution_count": 41,
   "id": "d3482d43-d980-4802-b15b-a937cd6f86fd",
   "metadata": {},
   "outputs": [],
   "source": [
    "import numpy as np\n",
    "from qiskit import QuantumCircuit, QuantumRegister\n",
    "from qiskit.quantum_info import Statevector\n",
    "from qiskit.visualization import plot_state_qsphere, plot_bloch_multivector"
   ]
  },
  {
   "cell_type": "markdown",
   "id": "bba0c55e-61a0-43db-b03b-795b916cdea8",
   "metadata": {},
   "source": [
    "---\n",
    "__Example 1__\n",
    "\n",
    "WHat will happen if the state of control bit has uncertainty?  In this example, the control qubit is in $|+\\rangle$.  That means $q_0$ is neither $|0\\rangle$ nor $|1\\rangle$ (but both).\n",
    "\n",
    "$\\qquad \\texttt{CX} \\left( |0\\rangle \\otimes |+\\rangle \\right) = \\left(|00\\rangle + |11\\rangle\\right)/\\sqrt{2}$\n",
    "\n",
    "The result is a fully entangled state. The state of $q_0$ is no longer a state vector despite that no opertion is done on $q_0$.   This is a common procedure to  creates the Bell state."
   ]
  },
  {
   "cell_type": "code",
   "execution_count": 18,
   "id": "4f9c26ef-4662-41ad-baa1-a43dc893cba7",
   "metadata": {},
   "outputs": [
    {
     "name": "stdout",
     "output_type": "stream",
     "text": [
      "Initial State\n"
     ]
    },
    {
     "data": {
      "text/latex": [
       "$$\\frac{\\sqrt{2}}{2} |00\\rangle+\\frac{\\sqrt{2}}{2} |01\\rangle$$"
      ],
      "text/plain": [
       "<IPython.core.display.Latex object>"
      ]
     },
     "execution_count": 18,
     "metadata": {},
     "output_type": "execute_result"
    }
   ],
   "source": [
    "# create twoqubits\n",
    "qc = QuantumCircuit(2)\n",
    "\n",
    "# create |0>^|+>\n",
    "qc.h(0)\n",
    "\n",
    "# show the initial state\n",
    "psi=Statevector(qc)\n",
    "print(\"Initial State\")\n",
    "psi.draw('latex')"
   ]
  },
  {
   "cell_type": "code",
   "execution_count": 15,
   "id": "26bfb6b7-6b82-46f0-860a-e80aecbf9bca",
   "metadata": {},
   "outputs": [
    {
     "data": {
      "image/png": "[encoded data removed]",
      "text/plain": [
       "<Figure size 576x288 with 2 Axes>"
      ]
     },
     "execution_count": 15,
     "metadata": {},
     "output_type": "execute_result"
    }
   ],
   "source": [
    "# it is a product state\n",
    "psi.draw('bloch')"
   ]
  },
  {
   "cell_type": "code",
   "execution_count": 19,
   "id": "f0d611c0-08a4-4d17-acac-7425db715fad",
   "metadata": {},
   "outputs": [
    {
     "data": {
      "image/png": "[encoded data removed]",
      "text/plain": [
       "<Figure size 267.052x144.48 with 1 Axes>"
      ]
     },
     "execution_count": 19,
     "metadata": {},
     "output_type": "execute_result"
    }
   ],
   "source": [
    "qc.barrier()\n",
    "qc.cnot(0,1)\n",
    "qc.draw('mpl')"
   ]
  },
  {
   "cell_type": "code",
   "execution_count": 20,
   "id": "6ffb9137-dc61-46b9-b0d1-396e31dcea34",
   "metadata": {},
   "outputs": [
    {
     "name": "stdout",
     "output_type": "stream",
     "text": [
      "Final State\n"
     ]
    },
    {
     "data": {
      "text/latex": [
       "$$\\frac{\\sqrt{2}}{2} |00\\rangle+\\frac{\\sqrt{2}}{2} |11\\rangle$$"
      ],
      "text/plain": [
       "<IPython.core.display.Latex object>"
      ]
     },
     "execution_count": 20,
     "metadata": {},
     "output_type": "execute_result"
    }
   ],
   "source": [
    "# Show the result \n",
    "psi=Statevector(qc)\n",
    "print(\"Final State\")\n",
    "psi.draw('latex')"
   ]
  },
  {
   "cell_type": "code",
   "execution_count": 25,
   "id": "491f9297-8f6f-4a34-b8bd-6962bf441102",
   "metadata": {},
   "outputs": [
    {
     "data": {
      "image/png": "[encoded data removed]",
      "text/plain": [
       "<Figure size 288x288 with 2 Axes>"
      ]
     },
     "execution_count": 25,
     "metadata": {},
     "output_type": "execute_result"
    }
   ],
   "source": [
    "# it's an entangled state.  Use qsphere.\n",
    "plot_state_qsphere(psi,figsize=(4,4))"
   ]
  },
  {
   "cell_type": "markdown",
   "id": "173d648f-fdcd-4f7c-9bba-2089ba0dc2c0",
   "metadata": {},
   "source": [
    "---\n",
    "\n",
    "__Example 2__  \n",
    "\n",
    "We consider the reversed process.  The input state is entangled and thus $q_0$ is not in a unique pure state.  FUrthermore, the target qubit is fully correlated with the control qubit. WHat happens to the entanglement.\n",
    "\n",
    "$\\qquad \\texttt{CX} \\left(|00\\rangle + |11\\rangle\\right)/\\sqrt{2} = |0\\rangle \\otimes |+\\rangle$\n",
    "\n",
    "Notice that the outcome is a product state and thus the entanglement in the Bell state is completely destroyed.  Notice that $\\texttt{CX}$ is reversible gate."
   ]
  },
  {
   "cell_type": "code",
   "execution_count": 27,
   "id": "617c2332-ed4a-4f82-9318-3aa24f6ea89e",
   "metadata": {},
   "outputs": [
    {
     "name": "stdout",
     "output_type": "stream",
     "text": [
      "Initial State\n"
     ]
    },
    {
     "data": {
      "text/latex": [
       "$$\\frac{\\sqrt{2}}{2} |00\\rangle+\\frac{\\sqrt{2}}{2} |11\\rangle$$"
      ],
      "text/plain": [
       "<IPython.core.display.Latex object>"
      ]
     },
     "execution_count": 27,
     "metadata": {},
     "output_type": "execute_result"
    }
   ],
   "source": [
    "# set two qubits\n",
    "qc = QuantumCircuit(2)\n",
    "\n",
    "# generate a Bell state\n",
    "qc.h(0)\n",
    "qc.cx(0,1)\n",
    "psi=Statevector(qc)\n",
    "print(\"Initial State\")\n",
    "psi.draw('latex')"
   ]
  },
  {
   "cell_type": "code",
   "execution_count": 119,
   "id": "167b8328-fd8c-46bb-9075-18cb6fbdd4b6",
   "metadata": {},
   "outputs": [
    {
     "data": {
      "image/png": "[encoded data removed]",
      "text/plain": [
       "<Figure size 267x144 with 1 Axes>"
      ]
     },
     "execution_count": 119,
     "metadata": {},
     "output_type": "execute_result"
    }
   ],
   "source": [
    "# apply CX\n",
    "qc.barrier()\n",
    "qc.cnot(0,1)\n",
    "qc.draw('mpl')"
   ]
  },
  {
   "cell_type": "code",
   "execution_count": 29,
   "id": "31eb94f1-cd04-4897-90f5-c81b90a7aff4",
   "metadata": {},
   "outputs": [
    {
     "name": "stdout",
     "output_type": "stream",
     "text": [
      "Final State\n"
     ]
    },
    {
     "data": {
      "text/latex": [
       "$$\\frac{\\sqrt{2}}{2} |00\\rangle+\\frac{\\sqrt{2}}{2} |01\\rangle$$"
      ],
      "text/plain": [
       "<IPython.core.display.Latex object>"
      ]
     },
     "execution_count": 29,
     "metadata": {},
     "output_type": "execute_result"
    }
   ],
   "source": [
    "# confirm that |11> is replaced with |01>\n",
    "psi=Statevector(qc)\n",
    "print(\"Final State\")\n",
    "psi.draw('latex')"
   ]
  },
  {
   "cell_type": "code",
   "execution_count": 49,
   "id": "1efac68e-0f04-43dc-aceb-cc2e3361c8e9",
   "metadata": {},
   "outputs": [],
   "source": [
    "# confirm that the result is a product state |0>^|1>\n",
    "p2=psi.draw('bloch')"
   ]
  },
  {
   "cell_type": "markdown",
   "id": "0477ddc3-7c1f-4f64-9773-3406032e04d3",
   "metadata": {},
   "source": [
    "(sec:phase-kickback)=\n",
    "# Phase Kickback"
   ]
  },
  {
   "cell_type": "markdown",
   "id": "54d80962-bf97-49fc-b8e8-36e3368f0799",
   "metadata": {},
   "source": [
    "In this section, we look at the action of `CX` on other basis, namely $|\\pm\\pm\\rangle$.  We assume that $q_0$ is the control qubit and $q_1$ is the target.  Note that $|\\pm$ is superposition of $|0\\rangle$ and $|1\\rangle$and thus the value on the control qubit is not certain in $Z$-basis.  The $X$-basis vectors are transformed as\n",
    "\n",
    "$$\n",
    "\\begin{align}\n",
    "\\texttt{CX} |++\\rangle &= \\frac{1}{2} \\texttt{CX} \\left(|00\\rangle + |01\\rangle  + |10\\rangle + |11\\rangle \\right)\n",
    "&&=  \\frac{1}{2} \\left(|00\\rangle + |11\\rangle  + |10\\rangle + |01\\rangle \\right) &= |++\\rangle \\\\\n",
    "\\texttt{CX} |+-\\rangle &= \\frac{1}{2} \\texttt{CX} \\left(|00\\rangle - |01\\rangle  + |10\\rangle - |11\\rangle \\right)\n",
    "&&=  \\frac{1}{2} \\left(|00\\rangle - |11\\rangle  + |10\\rangle - |11\\rangle \\right) &= |+-\\rangle \\\\\n",
    "\\texttt{CX} |-+\\rangle &= \\frac{1}{2} \\texttt{CX} \\left(|00\\rangle + |01\\rangle  - |10\\rangle - |11\\rangle \\right)\n",
    "&&=  \\frac{1}{2} \\left(|00\\rangle + |11\\rangle  - |10\\rangle - |01\\rangle \\right) &= |--\\rangle \\\\\n",
    "\\texttt{CX} |--\\rangle &= \\frac{1}{2} \\texttt{CX} \\left(|00\\rangle - |01\\rangle  - |10\\rangle + |11\\rangle \\right)\n",
    "&&=  \\frac{1}{2} \\left(|00\\rangle - |11\\rangle  - |10\\rangle + |01\\rangle \\right) &= |-+\\rangle\n",
    "\\end{align}\n",
    "$$\n",
    "\n",
    "which can be stated as\n",
    "\n",
    "> If $q_1=|-\\rangle$,   \n",
    "> &emsp; apply $\\texttt{Z}$ to $q_0$   \n",
    "> else   \n",
    ">  &emsp; do nothing   \n",
    "\n",
    "Interestingly, now $q_1$ is the control qubit and $\\texttt{Z}$ is applied on target $q_0$.  The reversal of control-target relation is known as _phase kickback_.   The phase kickback plays important role in quantum computation."
   ]
  },
  {
   "cell_type": "markdown",
   "id": "be257d1a-385d-47cc-bf29-140c288efab4",
   "metadata": {},
   "source": [
    "__Example 3__\n",
    "\n",
    "Remembering that the Hadamard gate changes from $Z$-basis to $X$-basis or vice versa.  We can construct a circuit with $\\texttt{H}$ and $\\texttt{CX}$. The phase kickbak operation is done by the following circuit:"
   ]
  },
  {
   "cell_type": "code",
   "execution_count": 90,
   "id": "cc35ebe0-78fe-4fad-93d1-e72fa61b21c4",
   "metadata": {
    "tags": [
     "remove_input"
    ]
   },
   "outputs": [
    {
     "data": {
      "image/png": "[encoded data removed]",
      "text/plain": [
       "<Figure size 267x144 with 1 Axes>"
      ]
     },
     "metadata": {},
     "output_type": "display_data"
    }
   ],
   "source": [
    "qc = QuantumCircuit(2)      \n",
    "qc.h([0,1])\n",
    "qc.cx(0,1)\n",
    "qc.h([0,1])\n",
    "qc.draw('mpl')"
   ]
  },
  {
   "cell_type": "markdown",
   "id": "9f1de54d-ca37-46f8-8470-be72b91ebe91",
   "metadata": {
    "tags": [
     "remove_input"
    ]
   },
   "source": [
    "However, this must be equivalent to "
   ]
  },
  {
   "cell_type": "code",
   "execution_count": 91,
   "id": "6b4e6446-09bc-4be2-a3a2-dfbc39b8be5c",
   "metadata": {
    "tags": [
     "remove_input"
    ]
   },
   "outputs": [
    {
     "data": {
      "image/png": "[encoded data removed]",
      "text/plain": [
       "<Figure size 146x144 with 1 Axes>"
      ]
     },
     "execution_count": 91,
     "metadata": {},
     "output_type": "execute_result"
    }
   ],
   "source": [
    "qc = QuantumCircuit(2)\n",
    "qc.cx(1,0)   \n",
    "qc.draw('mpl')        "
   ]
  },
  {
   "cell_type": "code",
   "execution_count": 116,
   "id": "e60dd2a7-cc91-4e1e-9273-e354536062ed",
   "metadata": {
    "tags": []
   },
   "outputs": [],
   "source": [
    "#\n",
    "from qiskit import QuantumCircuit\n",
    "from qiskit.quantum_info import Operator\n",
    "from qiskit.visualization import array_to_latex\n",
    "\n",
    "# the first circuit\n",
    "qc = QuantumCircuit(2)      \n",
    "qc.h([0,1])\n",
    "qc.cx(0,1)\n",
    "qc.h([0,1])\n",
    "op1=Operator(qc)\n",
    "\n",
    "# the second circuit\n",
    "qc = QuantumCircuit(2) \n",
    "qc.cx(1,0)\n",
    "\n",
    "op2=Operator(qc)"
   ]
  },
  {
   "cell_type": "code",
   "execution_count": 114,
   "id": "d983b8fe-e449-414c-a814-61257f1f3c74",
   "metadata": {},
   "outputs": [
    {
     "name": "stdout",
     "output_type": "stream",
     "text": [
      "Unitary operator for the first circuit\n"
     ]
    },
    {
     "data": {
      "text/latex": [
       "$$\n",
       "\n",
       "\\begin{bmatrix}\n",
       "1 & 0 & 0 & 0  \\\\\n",
       " 0 & 1 & 0 & 0  \\\\\n",
       " 0 & 0 & 0 & 1  \\\\\n",
       " 0 & 0 & 1 & 0  \\\\\n",
       " \\end{bmatrix}\n",
       "$$"
      ],
      "text/plain": [
       "<IPython.core.display.Latex object>"
      ]
     },
     "execution_count": 114,
     "metadata": {},
     "output_type": "execute_result"
    }
   ],
   "source": [
    "print(\"Unitary operator for the first circuit\")\n",
    "array_to_latex(op1)"
   ]
  },
  {
   "cell_type": "code",
   "execution_count": 115,
   "id": "3bcda9d9-676f-4039-9ed8-d9690f13025d",
   "metadata": {},
   "outputs": [
    {
     "name": "stdout",
     "output_type": "stream",
     "text": [
      "Unitary operator for the second circuit\n"
     ]
    },
    {
     "data": {
      "text/latex": [
       "$$\n",
       "\n",
       "\\begin{bmatrix}\n",
       "1 & 0 & 0 & 0  \\\\\n",
       " 0 & 1 & 0 & 0  \\\\\n",
       " 0 & 0 & 0 & 1  \\\\\n",
       " 0 & 0 & 1 & 0  \\\\\n",
       " \\end{bmatrix}\n",
       "$$"
      ],
      "text/plain": [
       "<IPython.core.display.Latex object>"
      ]
     },
     "execution_count": 115,
     "metadata": {},
     "output_type": "execute_result"
    }
   ],
   "source": [
    "print(\"Unitary operator for the second circuit\")\n",
    "array_to_latex(op2)"
   ]
  },
  {
   "cell_type": "code",
   "execution_count": 118,
   "id": "59e4189d-eddd-42d4-b86c-18a552830046",
   "metadata": {},
   "outputs": [
    {
     "name": "stdout",
     "output_type": "stream",
     "text": [
      "Two operations are equivalent: True\n"
     ]
    }
   ],
   "source": [
    "print(\"Two operations are equivalent:\", op1==op2)"
   ]
  },
  {
   "cell_type": "code",
   "execution_count": null,
   "id": "e7e2381e-a4d7-4b55-a0cf-4c912e9cae96",
   "metadata": {},
   "outputs": [],
   "source": []
  }
 ],
 "metadata": {
  "kernelspec": {
   "display_name": "Python 3 (ipykernel)",
   "language": "python",
   "name": "python3"
  },
  "language_info": {
   "codemirror_mode": {
    "name": "ipython",
    "version": 3
   },
   "file_extension": ".py",
   "mimetype": "text/x-python",
   "name": "python",
   "nbconvert_exporter": "python",
   "pygments_lexer": "ipython3",
   "version": "3.9.12"
  }
 },
 "nbformat": 4,
 "nbformat_minor": 5
}
