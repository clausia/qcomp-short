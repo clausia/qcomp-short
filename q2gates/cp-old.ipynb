{
 "cells": [
  {
   "cell_type": "markdown",
   "id": "7e317f8d-2bfd-49b1-aee9-801af2d209a9",
   "metadata": {},
   "source": [
    "# CP  "
   ]
  },
  {
   "cell_type": "code",
   "execution_count": 1,
   "id": "732b8a96-68ee-4584-8ffd-fa4034b9ba46",
   "metadata": {},
   "outputs": [],
   "source": [
    "import numpy as np\n",
    "from qiskit import QuantumCircuit, QuantumRegister\n",
    "from qiskit.quantum_info import Statevector, Operator\n",
    "from qiskit.circuit import Parameter\n",
    "from qiskit.visualization import array_to_latex, plot_bloch_multivector, plot_state_qsphere"
   ]
  },
  {
   "cell_type": "markdown",
   "id": "982340d8-e37a-4aaf-b9b5-49144ed3e816",
   "metadata": {},
   "source": [
    "A single parameter 2-qubit gate."
   ]
  },
  {
   "cell_type": "markdown",
   "id": "9655f987-95fd-4a3b-a713-703d20eb181a",
   "metadata": {},
   "source": [
    "## Standard CP \n",
    "\n",
    "$|11\\rangle \\Rightarrow e^{i\\theta} |11\\rangle$"
   ]
  },
  {
   "cell_type": "markdown",
   "id": "16d829c8-f37e-409f-af4c-a7408865057b",
   "metadata": {},
   "source": [
    "A single parameter 2-qubit gate.\n",
    "\n",
    "Action\n",
    "\n",
    "$\\qquad CP(\\theta)|00\\rangle = |00\\rangle$  \n",
    "$\\qquad CP(\\theta)|01\\rangle = |01\\rangle$  \n",
    "$\\qquad CP(\\theta)|10\\rangle = |10\\rangle$  \n",
    "$\\qquad CP(\\theta)|11\\rangle = e^{i\\theta} |11\\rangle$  "
   ]
  },
  {
   "cell_type": "markdown",
   "id": "57b86901-7cb8-473e-9b1b-be28f6d7f13b",
   "metadata": {},
   "source": [
    "\n",
    "__Matrix form__\n",
    "\n",
    "$\\qquad CP(\\theta) = \\begin{bmatrix}1&0&0&0\\\\0&1&0&0\\\\0&0&1&0\\\\0&0&0&e^{i\\theta}\\end{bmatrix}$"
   ]
  },
  {
   "cell_type": "markdown",
   "id": "5e744420-3281-49ed-a666-2df304b58c7f",
   "metadata": {},
   "source": [
    "\n",
    "__Action__\n",
    "\n",
    "$\\qquad CP(\\theta)|00\\rangle = |00\\rangle$  \n",
    "$\\qquad CP(\\theta)|01\\rangle = |01\\rangle$  \n",
    "$\\qquad CP(\\theta)|10\\rangle = |10\\rangle$  \n",
    "$\\qquad CP(\\theta)|11\\rangle = e^{i\\theta} |11\\rangle$  "
   ]
  },
  {
   "cell_type": "markdown",
   "id": "8478da3d-475c-4452-a153-41498cd1c487",
   "metadata": {},
   "source": [
    "\n",
    "__Standard circuit symbol__\n"
   ]
  },
  {
   "cell_type": "code",
   "execution_count": 3,
   "id": "7bd27b7b-8728-414d-8350-61fd8d9e2d05",
   "metadata": {},
   "outputs": [
    {
     "data": {
      "text/html": [
       "<pre style=\"word-wrap: normal;white-space: pre;background: #fff0;line-height: 1.1;font-family: &quot;Courier New&quot;,Courier,monospace\">             \n",
       "q0_0: ─■─────\n",
       "       │P(t) \n",
       "q0_1: ─■─────\n",
       "             </pre>"
      ],
      "text/plain": [
       "             \n",
       "q0_0: ─■─────\n",
       "       │P(t) \n",
       "q0_1: ─■─────\n",
       "             "
      ]
     },
     "execution_count": 3,
     "metadata": {},
     "output_type": "execute_result"
    }
   ],
   "source": [
    "# Show the symbol\n",
    "t=Parameter('t')\n",
    "qr = QuantumRegister(2)\n",
    "qc = QuantumCircuit(qr)\n",
    "qc.cp(t,0,1)\n",
    "qc.draw()"
   ]
  },
  {
   "cell_type": "markdown",
   "id": "8be4624d-411a-4181-8450-9b30d7518056",
   "metadata": {},
   "source": [
    "\n",
    "__Matrix representation from Qiskit__\n"
   ]
  },
  {
   "cell_type": "code",
   "execution_count": 4,
   "id": "e1116a2a-95c7-4813-9bcb-ba632a18e364",
   "metadata": {},
   "outputs": [
    {
     "data": {
      "text/latex": [
       "$$\n",
       "\n",
       "\\begin{bmatrix}\n",
       "1 & 0 & 0 & 0  \\\\\n",
       " 0 & 1 & 0 & 0  \\\\\n",
       " 0 & 0 & 1 & 0  \\\\\n",
       " 0 & 0 & 0 & \\tfrac{1}{\\sqrt{2}}(1 + i)  \\\\\n",
       " \\end{bmatrix}\n",
       "$$"
      ],
      "text/plain": [
       "<IPython.core.display.Latex object>"
      ]
     },
     "execution_count": 4,
     "metadata": {},
     "output_type": "execute_result"
    }
   ],
   "source": [
    "# we assume t=pi/4\n",
    "qc = qc.bind_parameters({t: np.pi/4})\n",
    "array_to_latex(Operator(qc))"
   ]
  },
  {
   "cell_type": "markdown",
   "id": "ae9a4f2d-517e-45b4-ac8e-bb9990c601a2",
   "metadata": {},
   "source": [
    "## Variants of `CP`\n"
   ]
  },
  {
   "cell_type": "markdown",
   "id": "33a9c338-b0d9-459d-a82d-468688c75915",
   "metadata": {},
   "source": [
    " $|00\\rangle \\Rightarrow e^{i \\theta} |00\\rangle$  \n",
    "\n",
    "__Matrix form__\n",
    "$\\qquad CP(\\theta) = \\begin{bmatrix}e^{i\\theta}&0&0&0\\\\0&1&0&0\\\\0&0&1&0\\\\0&0&0&1\\end{bmatrix}$\n"
   ]
  },
  {
   "cell_type": "code",
   "execution_count": 5,
   "id": "d85353b3-fe90-4c1f-8437-b91dcf6ba60e",
   "metadata": {},
   "outputs": [
    {
     "data": {
      "text/html": [
       "<pre style=\"word-wrap: normal;white-space: pre;background: #fff0;line-height: 1.1;font-family: &quot;Courier New&quot;,Courier,monospace\">      ┌───┐       ┌───┐\n",
       "q1_0: ┤ X ├─■─────┤ X ├\n",
       "      ├───┤ │P(t) ├───┤\n",
       "q1_1: ┤ X ├─■─────┤ X ├\n",
       "      └───┘       └───┘</pre>"
      ],
      "text/plain": [
       "      ┌───┐       ┌───┐\n",
       "q1_0: ┤ X ├─■─────┤ X ├\n",
       "      ├───┤ │P(t) ├───┤\n",
       "q1_1: ┤ X ├─■─────┤ X ├\n",
       "      └───┘       └───┘"
      ]
     },
     "execution_count": 5,
     "metadata": {},
     "output_type": "execute_result"
    }
   ],
   "source": [
    "qr = QuantumRegister(2)\n",
    "qc = QuantumCircuit(qr)\n",
    "qc.x([0,1])\n",
    "qc.cp(t,0,1)\n",
    "qc.x([0,1])\n",
    "qc.draw()"
   ]
  },
  {
   "cell_type": "code",
   "execution_count": 6,
   "id": "cb722bed-8260-42c3-a494-785bb7b8c202",
   "metadata": {},
   "outputs": [
    {
     "data": {
      "text/latex": [
       "$$\n",
       "\n",
       "\\begin{bmatrix}\n",
       "\\tfrac{1}{\\sqrt{2}}(1 + i) & 0 & 0 & 0  \\\\\n",
       " 0 & 1 & 0 & 0  \\\\\n",
       " 0 & 0 & 1 & 0  \\\\\n",
       " 0 & 0 & 0 & 1  \\\\\n",
       " \\end{bmatrix}\n",
       "$$"
      ],
      "text/plain": [
       "<IPython.core.display.Latex object>"
      ]
     },
     "execution_count": 6,
     "metadata": {},
     "output_type": "execute_result"
    }
   ],
   "source": [
    "qc = qc.bind_parameters({t: np.pi/4})\n",
    "array_to_latex(Operator(qc))"
   ]
  },
  {
   "cell_type": "markdown",
   "id": "3bb038c5-1c65-4b6f-bfa9-651f618e4b4a",
   "metadata": {},
   "source": [
    "---  \n",
    "### $|01\\rangle \\Rightarrow e^{i \\theta} |01\\rangle$  "
   ]
  },
  {
   "cell_type": "code",
   "execution_count": 7,
   "id": "3b4af8b6-8cbf-40e7-b22d-1bbb1fb9df5f",
   "metadata": {},
   "outputs": [
    {
     "data": {
      "text/html": [
       "<pre style=\"word-wrap: normal;white-space: pre;background: #fff0;line-height: 1.1;font-family: &quot;Courier New&quot;,Courier,monospace\">                       \n",
       "q2_0: ──────■──────────\n",
       "      ┌───┐ │P(t) ┌───┐\n",
       "q2_1: ┤ X ├─■─────┤ X ├\n",
       "      └───┘       └───┘</pre>"
      ],
      "text/plain": [
       "                       \n",
       "q2_0: ──────■──────────\n",
       "      ┌───┐ │P(t) ┌───┐\n",
       "q2_1: ┤ X ├─■─────┤ X ├\n",
       "      └───┘       └───┘"
      ]
     },
     "execution_count": 7,
     "metadata": {},
     "output_type": "execute_result"
    }
   ],
   "source": [
    "qr = QuantumRegister(2)\n",
    "qc = QuantumCircuit(qr)\n",
    "qc.x(1)\n",
    "qc.cp(t,0,1)\n",
    "qc.x(1)\n",
    "qc.draw()"
   ]
  },
  {
   "cell_type": "code",
   "execution_count": 8,
   "id": "3ae4a7e1-2378-4c4b-8086-e255bbde5f6b",
   "metadata": {},
   "outputs": [
    {
     "data": {
      "text/latex": [
       "$$\n",
       "\n",
       "\\begin{bmatrix}\n",
       "1 & 0 & 0 & 0  \\\\\n",
       " 0 & \\tfrac{1}{\\sqrt{2}}(1 + i) & 0 & 0  \\\\\n",
       " 0 & 0 & 1 & 0  \\\\\n",
       " 0 & 0 & 0 & 1  \\\\\n",
       " \\end{bmatrix}\n",
       "$$"
      ],
      "text/plain": [
       "<IPython.core.display.Latex object>"
      ]
     },
     "execution_count": 8,
     "metadata": {},
     "output_type": "execute_result"
    }
   ],
   "source": [
    "qc = qc.bind_parameters({t: np.pi/4})\n",
    "array_to_latex(Operator(qc))"
   ]
  },
  {
   "cell_type": "markdown",
   "id": "f2c34409-747d-434d-8cce-03df7efd9d94",
   "metadata": {},
   "source": [
    "---\n",
    "### $|10\\rangle \\Rightarrow e^{i \\theta} |10\\rangle$  "
   ]
  },
  {
   "cell_type": "code",
   "execution_count": 9,
   "id": "779dea5b-7e72-449b-9089-02e5ac7b3d9d",
   "metadata": {},
   "outputs": [
    {
     "data": {
      "text/html": [
       "<pre style=\"word-wrap: normal;white-space: pre;background: #fff0;line-height: 1.1;font-family: &quot;Courier New&quot;,Courier,monospace\">      ┌───┐       ┌───┐\n",
       "q3_0: ┤ X ├─■─────┤ X ├\n",
       "      └───┘ │P(t) └───┘\n",
       "q3_1: ──────■──────────\n",
       "                       </pre>"
      ],
      "text/plain": [
       "      ┌───┐       ┌───┐\n",
       "q3_0: ┤ X ├─■─────┤ X ├\n",
       "      └───┘ │P(t) └───┘\n",
       "q3_1: ──────■──────────\n",
       "                       "
      ]
     },
     "execution_count": 9,
     "metadata": {},
     "output_type": "execute_result"
    }
   ],
   "source": [
    "qr = QuantumRegister(2)\n",
    "qc = QuantumCircuit(qr)\n",
    "qc.x(0)\n",
    "qc.cp(t,0,1)\n",
    "qc.x(0)\n",
    "qc.draw()"
   ]
  },
  {
   "cell_type": "code",
   "execution_count": 10,
   "id": "f02b5ea7-0e8b-4944-960a-2869713aec6e",
   "metadata": {},
   "outputs": [
    {
     "data": {
      "text/latex": [
       "$$\n",
       "\n",
       "\\begin{bmatrix}\n",
       "1 & 0 & 0 & 0  \\\\\n",
       " 0 & 1 & 0 & 0  \\\\\n",
       " 0 & 0 & \\tfrac{1}{\\sqrt{2}}(1 + i) & 0  \\\\\n",
       " 0 & 0 & 0 & 1  \\\\\n",
       " \\end{bmatrix}\n",
       "$$"
      ],
      "text/plain": [
       "<IPython.core.display.Latex object>"
      ]
     },
     "execution_count": 10,
     "metadata": {},
     "output_type": "execute_result"
    }
   ],
   "source": [
    "qc = qc.bind_parameters({t: np.pi/4})\n",
    "array_to_latex(Operator(qc))"
   ]
  },
  {
   "cell_type": "markdown",
   "id": "dec70b80-e03d-4db1-bedf-4cc5c48e0573",
   "metadata": {},
   "source": [
    "## Examples\n"
   ]
  },
  {
   "cell_type": "markdown",
   "id": "415bbab5-3a5e-4571-9b44-4d9482c481ba",
   "metadata": {},
   "source": [
    "---\n",
    "###  $e^{i t (Z-I)\\otimes (Z-I)} = CP(4t)$\n",
    "\n",
    "$U|00\\rangle = U|01\\rangle = U|10\\rangle = I$ and $U|11\\rangle = e^{4i t}|11\\rangle$.  Hence, $U=CP(4 t)$."
   ]
  },
  {
   "cell_type": "code",
   "execution_count": 11,
   "id": "968a739d-0d23-46f0-bef6-34dac30e08c5",
   "metadata": {},
   "outputs": [
    {
     "data": {
      "text/latex": [
       "$$\n",
       "\n",
       "\\begin{bmatrix}\n",
       "1 & 0 & 0 & 0  \\\\\n",
       " 0 & 1 & 0 & 0  \\\\\n",
       " 0 & 0 & 1 & 0  \\\\\n",
       " 0 & 0 & 0 & -\\tfrac{1}{2} + \\sqrt{\\tfrac{3}{4}}i  \\\\\n",
       " \\end{bmatrix}\n",
       "$$"
      ],
      "text/plain": [
       "<IPython.core.display.Latex object>"
      ]
     },
     "execution_count": 11,
     "metadata": {},
     "output_type": "execute_result"
    }
   ],
   "source": [
    "# We use qiskit.opflow since it can handle exponential operators\n",
    "import numpy as np\n",
    "from qiskit.opflow import Zero, One, I, X, Y, Z\n",
    "import warnings\n",
    "warnings.filterwarnings('ignore')\n",
    "t=np.pi/6\n",
    "H=(Z-I)^(Z-I)\n",
    "expH=(-t*H).exp_i().eval()\n",
    "expH_op=expH.primitive\n",
    "array_to_latex(expH_op)"
   ]
  },
  {
   "cell_type": "code",
   "execution_count": 12,
   "id": "49993dad-75a3-4dda-9009-3a2bd701fb29",
   "metadata": {},
   "outputs": [
    {
     "data": {
      "text/html": [
       "<pre style=\"word-wrap: normal;white-space: pre;background: #fff0;line-height: 1.1;font-family: &quot;Courier New&quot;,Courier,monospace\">                \n",
       "q4_0: ─■────────\n",
       "       │P(2π/3) \n",
       "q4_1: ─■────────\n",
       "                </pre>"
      ],
      "text/plain": [
       "                \n",
       "q4_0: ─■────────\n",
       "       │P(2π/3) \n",
       "q4_1: ─■────────\n",
       "                "
      ]
     },
     "execution_count": 12,
     "metadata": {},
     "output_type": "execute_result"
    }
   ],
   "source": [
    "qr = QuantumRegister(2)\n",
    "qc = QuantumCircuit(qr)\n",
    "qc.cp(4*t,0,1)\n",
    "qc.draw()"
   ]
  },
  {
   "cell_type": "code",
   "execution_count": 13,
   "id": "4cd5f473-c3b3-4d12-996e-72f2043c19db",
   "metadata": {},
   "outputs": [
    {
     "data": {
      "text/latex": [
       "$$\n",
       "\n",
       "\\begin{bmatrix}\n",
       "1 & 0 & 0 & 0  \\\\\n",
       " 0 & 1 & 0 & 0  \\\\\n",
       " 0 & 0 & 1 & 0  \\\\\n",
       " 0 & 0 & 0 & -\\tfrac{1}{2} + \\sqrt{\\tfrac{3}{4}}i  \\\\\n",
       " \\end{bmatrix}\n",
       "$$"
      ],
      "text/plain": [
       "<IPython.core.display.Latex object>"
      ]
     },
     "execution_count": 13,
     "metadata": {},
     "output_type": "execute_result"
    }
   ],
   "source": [
    "cp_op=Operator(qc)\n",
    "array_to_latex(cp_op)"
   ]
  },
  {
   "cell_type": "code",
   "execution_count": 14,
   "id": "3f4e7d77-8023-42b9-91c5-f8954743b872",
   "metadata": {},
   "outputs": [
    {
     "data": {
      "text/plain": [
       "True"
      ]
     },
     "execution_count": 14,
     "metadata": {},
     "output_type": "execute_result"
    }
   ],
   "source": [
    "# Two expressions are exactly the same\n",
    "cp_op==expH_op"
   ]
  },
  {
   "cell_type": "markdown",
   "id": "9f6e919d-428a-4eae-8562-b2a6f910d4f2",
   "metadata": {},
   "source": []
  }
 ],
 "metadata": {
  "kernelspec": {
   "display_name": "Python 3 (ipykernel)",
   "language": "python",
   "name": "python3"
  },
  "language_info": {
   "codemirror_mode": {
    "name": "ipython",
    "version": 3
   },
   "file_extension": ".py",
   "mimetype": "text/x-python",
   "name": "python",
   "nbconvert_exporter": "python",
   "pygments_lexer": "ipython3",
   "version": "3.9.12"
  }
 },
 "nbformat": 4,
 "nbformat_minor": 5
}
