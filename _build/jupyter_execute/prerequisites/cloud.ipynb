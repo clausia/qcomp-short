{
 "cells": [
  {
   "cell_type": "markdown",
   "id": "4ae1f164-69bd-4a4c-84df-3e358ca4effa",
   "metadata": {},
   "source": [
    "(sec-cloud)=\n",
    "# Cloud IDE"
   ]
  },
  {
   "cell_type": "markdown",
   "id": "d0209622-44f9-4eb8-b405-0253304bac53",
   "metadata": {
    "jupyter": {
     "source_hidden": true
    },
    "tags": []
   },
   "source": [
    "If your computer does not have enough storage or power to run python and jupyter, you can develop python codes and run them on cloud-based online IDEs.  You can also upload the jupyter notebook files used in this book and run them.  The most popular one is *Google Colab*.  However, it is a general purpose IDE and some packages we use are not available.  You must install them manually each time you use their service.[^cloud]  *IBM Quantum Lab* is another cloud-based online IDE and it is designed to work with IBM Quantum Computing service via Qiskit and thus all packages we need are preloaded.  For our purpose, IBM Quantum Lab works better than Google Colab."
   ]
  },
  {
   "cell_type": "markdown",
   "id": "39e1c724-3dda-451b-9005-880e5fc98c8f",
   "metadata": {},
   "source": [
    "(sec-IBMQLab)=\n",
    "## IBM Quantum Lab\n",
    "\n",
    "IBM Quantum Lab allows to run JupyterLab on their server.  It is designed for quantum computing and thus it is ready to run the codes in this book.  Then, upload it to IBM Quantum Lab.  You can run it on their server for free.    \n",
    "\n",
    "If you created your IBM Quantum Experience account as instructed in {numref}`sec-qiskit`, you are ready to use IBM Quantum Lab.\n",
    "Login to [IBM Quantum Dashboard](https://quantum-computing.ibm.com/).  Click \"Launch Lab\".  Then you enter IBM Quantum Lab, which is JupyterLab running on their computer.  On the left panel, you can create new folders, new files, or upload existing jupyter notebook files.\n"
   ]
  },
  {
   "cell_type": "markdown",
   "id": "038274a2-3950-4f18-9c1f-5143acf68eac",
   "metadata": {},
   "source": [
    "(sec-Colab)=\n",
    "## Google Colab\n",
    "\n",
    "Google Colab also gives you a similar free development environment. It is not identical but compatible to JupyterLab.  However, it is for general purpose and you must install necessary python packages such as qiskit each time.  Nevertheless, it is convenient if you do not have access to a local jupyter environment.\n",
    "\n",
    "You need to have a google account to use this free service. If you don't have one yet, you can open an account at [accounts.google.com](https://accounts.google.com/signup).  Once you obtained your account, sign in at [golan.research.google.com](https://colab.research.google.com/).  You can start writing codes or upload jupyter notebook files.  \n",
    "\n",
    "Unfortunately, Colab does not have qiskit.  However, you can install it.  Add the following code block at the beginning.\n",
    "```\n",
    "!pip install qiskit ipywidgets pylatexenc\n",
    "```\n",
    "Now, your qiskit codes run in Colab.  The installation is only temporary.  When you close the session, qiskit is removed.  You must install it each time you start new Colab session."
   ]
  },
  {
   "cell_type": "markdown",
   "id": "157849f5-0cb2-4584-839b-809fc187d467",
   "metadata": {},
   "source": [
    "```{admonition} Running Qiskit on Google Colab\n",
    ":class: tip\n",
    ":name: download-page\n",
    "\n",
    "If you want to run qiskit codes on Google Colab, you need to add the following command in a code block.\n",
    "\n",
    "`!pip install qiskit ipywidgets pylatexenc`\n",
    "\n",
    "```"
   ]
  },
  {
   "cell_type": "markdown",
   "id": "74d8af3c-c513-4969-9f09-6e9a91623d0c",
   "metadata": {},
   "source": [
    "[^cloud]: There are methods to store packages permanently but the procedure is rather complicated.  Therefore, we do not discuss it here."
   ]
  }
 ],
 "metadata": {
  "kernelspec": {
   "display_name": "Python 3 (ipykernel)",
   "language": "python",
   "name": "python3"
  },
  "language_info": {
   "codemirror_mode": {
    "name": "ipython",
    "version": 3
   },
   "file_extension": ".py",
   "mimetype": "text/x-python",
   "name": "python",
   "nbconvert_exporter": "python",
   "pygments_lexer": "ipython3",
   "version": "3.9.12"
  }
 },
 "nbformat": 4,
 "nbformat_minor": 5
}