{
 "cells": [
  {
   "cell_type": "markdown",
   "id": "4ae1f164-69bd-4a4c-84df-3e358ca4effa",
   "metadata": {},
   "source": [
    "(sec-quantum)=\n",
    "# Quantum Mechanics"
   ]
  },
  {
   "cell_type": "markdown",
   "id": "d0209622-44f9-4eb8-b405-0253304bac53",
   "metadata": {},
   "source": [
    "Quantum computation obviously relies on the principles of quantum mechanics. You need to understand them to learn quantum computation.  However, traditional quantum mechanics courses do not cover some of the principles essential to quantum computation.  Therefore, you must taught them for yourselves.  I introduce the principles of quantum mechanics as needed without details. If you wish to learn them in depth, the following book is recommended.\n",
    "\n",
    "* J. Audretsch: *Entangled Systems - New Directions in Quantum Physics* (Wiley-VCH, 2007)\n",
    "\n",
    "The following book is the most popular book on quantum computation and contains a comprehensive introduction to quantum mechanics which covers everything you need to learn quantum computation. Advanced students are encourage to read it.\n",
    "\n",
    "* M. A. Nielsen and I. L. Chuang: *Quantum Computation and Quantum Information*\n",
    "\n",
    "If you want to learn mathematical calculation in depth, there is an exercise book on quantum computation.\n",
    "\n",
    "* W.-H. Steeb and Y. Hardy: *Problems and Solutions in Quantum Computing and Quantum Information* (World Scientific, 2012)."
   ]
  },
  {
   "cell_type": "markdown",
   "id": "74d8af3c-c513-4969-9f09-6e9a91623d0c",
   "metadata": {},
   "source": [
    "[^cloud]: There are methods to store packages permanently but the procedure is rather complicated.  Therefore, we do not discuss it here."
   ]
  }
 ],
 "metadata": {
  "kernelspec": {
   "display_name": "Python 3 (ipykernel)",
   "language": "python",
   "name": "python3"
  },
  "language_info": {
   "codemirror_mode": {
    "name": "ipython",
    "version": 3
   },
   "file_extension": ".py",
   "mimetype": "text/x-python",
   "name": "python",
   "nbconvert_exporter": "python",
   "pygments_lexer": "ipython3",
   "version": "3.9.12"
  }
 },
 "nbformat": 4,
 "nbformat_minor": 5
}