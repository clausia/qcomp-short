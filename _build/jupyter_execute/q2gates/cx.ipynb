{
 "cells": [
  {
   "cell_type": "markdown",
   "id": "3b92dd0f-8497-4647-935a-50ead4a053a1",
   "metadata": {},
   "source": [
    "(sec-cxgate)=\n",
    "# CX gate\n",
    "\n",
    "CX (Controlled-X), known also as `CNOT`, is one of the most essential gates for quantum computation.  "
   ]
  },
  {
   "cell_type": "markdown",
   "id": "ef634c98-54c5-4534-a1ee-ee60c80ad2bf",
   "metadata": {},
   "source": [
    "## Definition"
   ]
  },
  {
   "cell_type": "markdown",
   "id": "cae62087-fb32-4d48-9ee6-251a499ef931",
   "metadata": {},
   "source": [
    "**Operational Definition**\n",
    "\n",
    "When gate CX$_{q_0}^{q_1}$ acts on $|q_1\\, q_0\\rangle$, X is applied to $q_1$ if $q_0=1$ and nothing is done otherwise.[^symb-cx] Qubit $q_0$ serves as source and $q_1$ as target. Mathematically, it is expressed as\n",
    "\n",
    "$$\n",
    "\\text{CX}_{q_0}^{q_1} = \\text{I} \\otimes |0\\rangle\\langle 0| + \\text{X} \\otimes |1\\rangle\\langle 1|\n",
    "$$\n",
    "\n",
    "Switching source and target qubits, \n",
    "\n",
    "CX$_{q_1}^{q_0}|q_1\\, q_0\\rangle$ means \"Apply X to $q_0$ if $q_1=1$ and do nothing otherwise.\"  Mathematically, it is expressed as\n",
    "\n",
    "$$\n",
    "\\text{CX}_{q_1}^{q_0} = |0\\rangle\\langle 0| \\otimes \\text{I}   +   |1\\rangle\\langle 1| \\otimes \\text{X}\n",
    "$$\n",
    "\n",
    "**Transformation**\n",
    "\n",
    "CX transforms computational basis as follows:\n",
    "\n",
    "$$\n",
    "\\begin{align}\n",
    "\\text{CX}_{q_0}^{q_1} \\lvert 00\\rangle &= \\lvert 00\\rangle \\\\\n",
    "\\text{CX}_{q_0}^{q_1} \\lvert 01\\rangle &= \\lvert 11\\rangle \\\\\n",
    "\\text{CX}_{q_0}^{q_1} \\lvert 10\\rangle &= \\lvert 10\\rangle \\\\\n",
    "\\text{CX}_{q_0}^{q_1} \\lvert 11\\rangle &= \\lvert 01\\rangle \n",
    "\\end{align}\n",
    "$$\n",
    "\n",
    "$$\n",
    "\\begin{align}\n",
    "\\text{CX}_{q_0}^{q_1} \\lvert 00\\rangle &= \\lvert 00\\rangle \\\\\n",
    "\\text{CX}_{q_1}^{q_0} \\lvert 01\\rangle &= \\lvert 01\\rangle \\\\\n",
    "\\text{CX}_{q_1}^{q_0} \\lvert 10\\rangle &= \\lvert 11\\rangle \\\\\n",
    "\\text{CX}_{q_1}^{q_0} \\lvert 11\\rangle &= \\lvert 10\\rangle \n",
    "\\end{align}\n",
    "$$\n",
    "\n",
    "**Matrix representation**\n",
    "\n",
    "$$\n",
    "\\text{CX}_{q_0}^{q_1} = \\begin{bmatrix} 1&0&0&0\\\\0&0&0&1\\\\0&0&1&0\\\\0&1&0&0\\end{bmatrix}\n",
    "$$\n",
    "\n",
    "which is default CX in Qiskit.  In many literature, `CX` corresponds to:\n",
    "\n",
    "$$\n",
    "\\text{CX}_{q_1}^{q_0} = \\begin{bmatrix} 1&0&0&0\\\\0&1&0&0\\\\0&0&0&1\\\\0&0&1&0\\end{bmatrix}\n",
    "$$\n",
    "\n",
    "Don't get confused. Our notation avoids the confusion.  "
   ]
  },
  {
   "cell_type": "markdown",
   "id": "e1cd699b-8c1a-4fec-b648-c506cf01fcd2",
   "metadata": {},
   "source": [
    "The Qiskit circuit symbol is `cx` and it appears in circuit as:"
   ]
  },
  {
   "cell_type": "code",
   "execution_count": 1,
   "id": "28828f17-ba2f-4236-8b38-1aa1c1424d59",
   "metadata": {
    "tags": [
     "hide_input"
    ]
   },
   "outputs": [
    {
     "name": "stdout",
     "output_type": "stream",
     "text": [
      "          ┌───┐\n",
      "q_0: ──■──┤ X ├\n",
      "     ┌─┴─┐└─┬─┘\n",
      "q_1: ┤ X ├──■──\n",
      "     └───┘     \n"
     ]
    }
   ],
   "source": [
    "from qiskit import QuantumCircuit\n",
    "qc=QuantumCircuit(2)\n",
    "\n",
    "# CX_{q0,q1}\n",
    "qc.cx(0,1)\n",
    "# CX_{q1,q0}\n",
    "qc.cx(1,0)\n",
    "\n",
    "print(qc)"
   ]
  },
  {
   "cell_type": "markdown",
   "id": "0a76d400-6a60-4f0d-9de8-0fed731a063f",
   "metadata": {
    "tags": []
   },
   "source": [
    "## Acting on superposition state\n",
    "\n",
    "\n",
    "CX$_{q_0}^{q_1}$ swaps the coefficients of $|01\\rangle$ and $|11\\rangle$.\n",
    "\n",
    "$$\n",
    "\\text{CX}_{q_0}^{q_1} \\left (c_{00} |00\\rangle + c_{01} |01\\rangle + c_{10} |10\\rangle + c_{11} |11\\rangle \\right ) =\n",
    "c_{00} |00\\rangle + c_{11} |01\\rangle + c_{10} |10\\rangle + c_{01} |11\\rangle\n",
    "$$\n",
    "\n",
    "Similarly, CX$_{q_1}^{q_0}$ swaps the coefficients of $|10\\rangle$ and $|11\\rangle$.\n",
    "\n",
    "$$\n",
    "\\text{CX}_{q_1}^{q_0} \\left (c_{00} |00\\rangle + c_{01} |01\\rangle + c_{10} |10\\rangle + c_{11} |11\\rangle \\right ) =\n",
    "c_{00} |00\\rangle + c_{01} |01\\rangle + c_{11} |10\\rangle + c_{10} |11\\rangle\n",
    "$$\n",
    "\n",
    "The following Qiskit example demonstrates it."
   ]
  },
  {
   "cell_type": "code",
   "execution_count": 2,
   "id": "8fba8e47-0699-4510-9c41-06d4630bb82b",
   "metadata": {},
   "outputs": [
    {
     "data": {
      "text/html": [
       "<pre style=\"word-wrap: normal;white-space: pre;background: #fff0;line-height: 1.1;font-family: &quot;Courier New&quot;,Courier,monospace\">     ┌───┐┌───┐\n",
       "q_0: ┤ X ├┤ H ├\n",
       "     ├───┤├───┤\n",
       "q_1: ┤ X ├┤ H ├\n",
       "     └───┘└───┘</pre>"
      ],
      "text/plain": [
       "     ┌───┐┌───┐\n",
       "q_0: ┤ X ├┤ H ├\n",
       "     ├───┤├───┤\n",
       "q_1: ┤ X ├┤ H ├\n",
       "     └───┘└───┘"
      ]
     },
     "execution_count": 2,
     "metadata": {},
     "output_type": "execute_result"
    }
   ],
   "source": [
    "from qiskit import *\n",
    "\n",
    "qr=QuantumRegister(2,'q')\n",
    "qc=QuantumCircuit(qr)\n",
    "\n",
    "qc.x([0,1])\n",
    "qc.h([0,1])\n",
    "\n",
    "qc.draw()"
   ]
  },
  {
   "cell_type": "code",
   "execution_count": 3,
   "id": "660edd37-fad4-45a3-8f0a-508469e159e8",
   "metadata": {},
   "outputs": [
    {
     "name": "stdout",
     "output_type": "stream",
     "text": [
      "State before applying CX.\n"
     ]
    },
    {
     "data": {
      "text/latex": [
       "$$\\frac{1}{2} |00\\rangle- \\frac{1}{2} |01\\rangle- \\frac{1}{2} |10\\rangle+\\frac{1}{2} |11\\rangle$$"
      ],
      "text/plain": [
       "<IPython.core.display.Latex object>"
      ]
     },
     "execution_count": 3,
     "metadata": {},
     "output_type": "execute_result"
    }
   ],
   "source": [
    "from qiskit.quantum_info import Statevector\n",
    "# state before applying CX\n",
    "print(\"State before applying CX.\")\n",
    "Statevector(qc).draw('latex')"
   ]
  },
  {
   "cell_type": "code",
   "execution_count": 4,
   "id": "d7b47ef9-2fd7-4750-a5fe-2431ed0add4e",
   "metadata": {},
   "outputs": [
    {
     "data": {
      "text/html": [
       "<pre style=\"word-wrap: normal;white-space: pre;background: #fff0;line-height: 1.1;font-family: &quot;Courier New&quot;,Courier,monospace\">     ┌───┐┌───┐     \n",
       "q_0: ┤ X ├┤ H ├──■──\n",
       "     ├───┤├───┤┌─┴─┐\n",
       "q_1: ┤ X ├┤ H ├┤ X ├\n",
       "     └───┘└───┘└───┘</pre>"
      ],
      "text/plain": [
       "     ┌───┐┌───┐     \n",
       "q_0: ┤ X ├┤ H ├──■──\n",
       "     ├───┤├───┤┌─┴─┐\n",
       "q_1: ┤ X ├┤ H ├┤ X ├\n",
       "     └───┘└───┘└───┘"
      ]
     },
     "execution_count": 4,
     "metadata": {},
     "output_type": "execute_result"
    }
   ],
   "source": [
    "qc.cx(0,1)\n",
    "qc.draw()"
   ]
  },
  {
   "cell_type": "code",
   "execution_count": 5,
   "id": "84c01754-9ac2-441f-b63d-67cc5914247a",
   "metadata": {},
   "outputs": [
    {
     "name": "stdout",
     "output_type": "stream",
     "text": [
      "State after applying CX.\n"
     ]
    },
    {
     "data": {
      "text/latex": [
       "$$\\frac{1}{2} |00\\rangle+\\frac{1}{2} |01\\rangle- \\frac{1}{2} |10\\rangle- \\frac{1}{2} |11\\rangle$$"
      ],
      "text/plain": [
       "<IPython.core.display.Latex object>"
      ]
     },
     "execution_count": 5,
     "metadata": {},
     "output_type": "execute_result"
    }
   ],
   "source": [
    "# state after applyiong CX\n",
    "print(\"State after applying CX.\")\n",
    "Statevector(qc).draw('latex')"
   ]
  },
  {
   "cell_type": "markdown",
   "id": "754688cb-cb5d-4d5c-b4b8-fccbfea0af90",
   "metadata": {},
   "source": [
    "Compare the states before and after applying `CX` and find how the coefficients changed."
   ]
  },
  {
   "cell_type": "markdown",
   "id": "197e2a39-8fba-463f-9bca-081b3daa69fa",
   "metadata": {},
   "source": [
    ":::{admonition} Source qubit not necessarily preserved by control gates\n",
    ":class: warning\n",
    "\n",
    "The definition of CX seems indicating that only the state of the target qubit is modified and the state of the source qubit remains the same.  Surprisingly, that is not true.  In some cases, the state of the source qubit also changes.\n",
    "\n",
    "Let us look at the above example more carefully.  The state before applying CX$_{q_0}^{q_1}$ is\n",
    "\n",
    "$$\n",
    "\\frac{1}{2}\\left(|00\\rangle - |01\\rangle - |10\\rangle + |11\\rangle\\right) = \n",
    "\\frac{1}{\\sqrt{2}}\\left(|0\\rangle - |1\\rangle\\right) \\otimes \\frac{1}{\\sqrt{2}}\\left(|0\\rangle - |1\\rangle\\right) = |-\\rangle\\otimes |-\\rangle\n",
    "$$\n",
    "\n",
    "and after applying `CX`$_{q_0}^{q_1}$ ,\n",
    "\n",
    "$$\n",
    "\\frac{1}{2}\\left(|00\\rangle + |01\\rangle - |10\\rangle - |11\\rangle\\right) = \n",
    "\\frac{1}{\\sqrt{2}}\\left(|0\\rangle - |1\\rangle\\right) \\otimes \\frac{1}{\\sqrt{2}}\\left(|0\\rangle + |1\\rangle\\right) = |-\\rangle\\otimes |+\\rangle\n",
    "$$\n",
    "\n",
    "Notice that the source qubit is transformed from $|-\\rangle$ to $|+\\rangle$.  This kind of transformation is called *phase kickback* since the phase of the source qubit changed.  The phase kickback is a ubiquitous strategy in quantum algorithms.  See the next subsection.\n",
    "\n",
    ":::"
   ]
  },
  {
   "cell_type": "markdown",
   "id": "16c4a3b8-e4aa-4bcb-a134-53f0d788a642",
   "metadata": {},
   "source": [
    "(ssec-cx-kickback)=\n",
    "## Phase kickback\n",
    "\n",
    "Let us look at the action of CX on z-basis $|\\pm\\pm\\rangle$.  We assume that $q_0$ is the control qubit and $q_1$ is the target. \n",
    "\n",
    "$$\n",
    "\\begin{align}\n",
    "\\text{CX}_{q_0}^{q_1} |++\\rangle &= \\frac{1}{2} \\text{CX}_{q_0}^{q_1} \\left(|00\\rangle + |01\\rangle  + |10\\rangle + |11\\rangle \\right)\n",
    "&&=  \\frac{1}{2} \\left(|00\\rangle + |11\\rangle  + |10\\rangle + |01\\rangle \\right) &= |++\\rangle \\\\\n",
    "\\text{CX}_{q_0}^{q_1} |+-\\rangle &= \\frac{1}{2} \\text{CX}_{q_0}^{q_1} \\left(|00\\rangle - |01\\rangle  + |10\\rangle - |11\\rangle \\right)\n",
    "&&=  \\frac{1}{2} \\left(|00\\rangle - |11\\rangle  + |10\\rangle - |11\\rangle \\right) &= |+-\\rangle \\\\\n",
    "\\text{CX}_{q_0}^{q_1} |-+\\rangle &= \\frac{1}{2} \\text{CX}_{q_0}^{q_1} \\left(|00\\rangle + |01\\rangle  - |10\\rangle - |11\\rangle \\right)\n",
    "&&=  \\frac{1}{2} \\left(|00\\rangle + |11\\rangle  - |10\\rangle - |01\\rangle \\right) &= |--\\rangle \\\\\n",
    "\\text{CX}_{q_0}^{q_1} |--\\rangle &= \\frac{1}{2} \\text{CX}_{q_0}^{q_1} \\left(|00\\rangle - |01\\rangle  - |10\\rangle + |11\\rangle \\right)\n",
    "&&=  \\frac{1}{2} \\left(|00\\rangle - |11\\rangle  - |10\\rangle + |01\\rangle \\right) &= |-+\\rangle\n",
    "\\end{align}\n",
    "$$\n",
    "\n",
    "This transformation can be described as \"Apply Z to $q_0$ if $q_1=-$ and do nothing otherwise.\" Interestingly, now $q_1$ is the control qubit and $q_0$ is the target.  The gate has not change and  this operation is still \"Apply X to $q_1$ if $q_0=1$ and do nothing otherwise.\"  The two operations are equivalent. The reversal of control-target relation is known as signature of *phase kickback*.  Other controlled gates also show phase kickback.\n",
    "\n",
    "Remembering that the Hadamard gate changes basis set from z-basis to x-basis and vice versa. Applying H gate before CX we can realize the phase kickback shown above. After the kickback, we can go back to z-basis by another H gate. Then, we have reversed CX.\n",
    "\n",
    "In the following example, we start with an initial state $|10\\rangle$. In the first example, the basis is switched to x-basis by H gate and apply CX$_{q_0}^{q_1}$. In the second computation, CX$_{q_1}^{q_0}$ is directly applied. Both get the same result. Try other initial conditions and confirm that the two circuits do the same transformation."
   ]
  },
  {
   "cell_type": "code",
   "execution_count": 6,
   "id": "cc35ebe0-78fe-4fad-93d1-e72fa61b21c4",
   "metadata": {
    "tags": []
   },
   "outputs": [
    {
     "data": {
      "text/html": [
       "<pre style=\"word-wrap: normal;white-space: pre;background: #fff0;line-height: 1.1;font-family: &quot;Courier New&quot;,Courier,monospace\">           ░ ┌───┐     ┌───┐\n",
       "q_0: ──────░─┤ H ├──■──┤ H ├\n",
       "     ┌───┐ ░ ├───┤┌─┴─┐├───┤\n",
       "q_1: ┤ X ├─░─┤ H ├┤ X ├┤ H ├\n",
       "     └───┘ ░ └───┘└───┘└───┘</pre>"
      ],
      "text/plain": [
       "           ░ ┌───┐     ┌───┐\n",
       "q_0: ──────░─┤ H ├──■──┤ H ├\n",
       "     ┌───┐ ░ ├───┤┌─┴─┐├───┤\n",
       "q_1: ┤ X ├─░─┤ H ├┤ X ├┤ H ├\n",
       "     └───┘ ░ └───┘└───┘└───┘"
      ]
     },
     "execution_count": 6,
     "metadata": {},
     "output_type": "execute_result"
    }
   ],
   "source": [
    "from qiskit import *\n",
    "\n",
    "qr = QuantumRegister(2,'q')\n",
    "qc = QuantumCircuit(qr)\n",
    "\n",
    "qc.x(1)\n",
    "qc.barrier()\n",
    "qc.h([0,1])\n",
    "qc.cx(0,1)\n",
    "qc.h([0,1])\n",
    "qc.draw()"
   ]
  },
  {
   "cell_type": "code",
   "execution_count": 7,
   "id": "6dda964f-fa67-4e0f-bf60-535a1f370dc2",
   "metadata": {},
   "outputs": [
    {
     "data": {
      "text/latex": [
       "$$None |01\\rangle |11\\rangle$$"
      ],
      "text/plain": [
       "<IPython.core.display.Latex object>"
      ]
     },
     "execution_count": 7,
     "metadata": {},
     "output_type": "execute_result"
    }
   ],
   "source": [
    "from qiskit.quantum_info import Statevector\n",
    "Statevector(qc).draw('latex')"
   ]
  },
  {
   "cell_type": "markdown",
   "id": "9f1de54d-ca37-46f8-8470-be72b91ebe91",
   "metadata": {
    "tags": []
   },
   "source": [
    "However, this must be equivalent to "
   ]
  },
  {
   "cell_type": "code",
   "execution_count": 8,
   "id": "6b4e6446-09bc-4be2-a3a2-dfbc39b8be5c",
   "metadata": {
    "tags": []
   },
   "outputs": [
    {
     "data": {
      "text/html": [
       "<pre style=\"word-wrap: normal;white-space: pre;background: #fff0;line-height: 1.1;font-family: &quot;Courier New&quot;,Courier,monospace\">           ░ ┌───┐\n",
       "q_0: ──────░─┤ X ├\n",
       "     ┌───┐ ░ └─┬─┘\n",
       "q_1: ┤ X ├─░───■──\n",
       "     └───┘ ░      </pre>"
      ],
      "text/plain": [
       "           ░ ┌───┐\n",
       "q_0: ──────░─┤ X ├\n",
       "     ┌───┐ ░ └─┬─┘\n",
       "q_1: ┤ X ├─░───■──\n",
       "     └───┘ ░      "
      ]
     },
     "execution_count": 8,
     "metadata": {},
     "output_type": "execute_result"
    }
   ],
   "source": [
    "qc = QuantumCircuit(qr)\n",
    "qc.x(1)\n",
    "qc.barrier()\n",
    "qc.cx(1,0)   \n",
    "qc.draw()        "
   ]
  },
  {
   "cell_type": "code",
   "execution_count": 9,
   "id": "bd657cb5-c3e8-4925-9e89-8d8d76982b44",
   "metadata": {},
   "outputs": [
    {
     "data": {
      "text/latex": [
       "$$ |11\\rangle$$"
      ],
      "text/plain": [
       "<IPython.core.display.Latex object>"
      ]
     },
     "execution_count": 9,
     "metadata": {},
     "output_type": "execute_result"
    }
   ],
   "source": [
    "Statevector(qc).draw('latex')"
   ]
  },
  {
   "cell_type": "markdown",
   "id": "7e109930-7647-46c5-bab6-06237a9683cc",
   "metadata": {},
   "source": [
    "## Change of basis\n",
    "\n",
    "Suppose that we want to flip $q_1$  if $q_0$ is $|-\\rangle$ and do nothing otherwise.  We change the basis of $q_0$ using H gate, apply CX$_{q_0}^{q_1}$, and apply H again to $q_0$.  Note that the third step bring $q_0$ back to the original state.  We can generate superposition of Bell states using the circuit.\n",
    "\n",
    "$$\n",
    "\\begin{align}\n",
    "\\text{H}_{q_0} \\cdot \\text{CX}_{q_0}^{q_1} \\cdot \\text{H}_{q_0} |00\\rangle &= \\frac{1}{2}\\left(|00\\rangle + |01\\rangle + |10\\rangle - |11\\rangle \\right) = \\frac{1}{\\sqrt{2}} \\left( \\Phi^{-} + \\Psi^{+} \\right) \\\\\n",
    "\\text{H}_{q_0} \\cdot \\text{CX}_{q_0}^{q_1} \\cdot \\text{H}_{q_0} |01\\rangle &= \\frac{1}{2}\\left(|00\\rangle - |01\\rangle + |10\\rangle + |11\\rangle \\right) = \\frac{1}{\\sqrt{2}} \\left( \\Phi^{+} - \\Psi^{-} \\right) \\\\\n",
    "\\text{H}_{q_0} \\cdot \\text{CX}_{q_0}^{q_1} \\cdot \\text{H}_{q_0} |10\\rangle &= \\frac{1}{2}\\left(|00\\rangle + |01\\rangle - |10\\rangle + |11\\rangle \\right) = \\frac{1}{\\sqrt{2}} \\left( \\Phi^{+} + \\Psi^{-} \\right) \\\\\n",
    "\\text{H}_{q_0} \\cdot \\text{CX}_{q_0}^{q_1} \\cdot \\text{H}_{q_0} |11\\rangle &= \\frac{1}{2}\\left(-|00\\rangle + |01\\rangle + |10\\rangle + |11\\rangle \\right) = \\frac{1}{\\sqrt{2}} \\left( -\\Phi^{-} + \\Psi^{+} \\right)\n",
    "\\end{align}\n",
    "$$\n",
    "\n",
    "If we want to flip the target qubit also in x-basis, H gate is applied on $q_1$ before and after CX. as well.  However, this circuit is identical to just a single CX since it does the same transformation simply in a different basis. \n",
    "\n",
    "\n",
    "The following example generates $\\frac{1}{\\sqrt{2}} \\left( \\Phi^{-} + \\Psi^{+} \\right)$."
   ]
  },
  {
   "cell_type": "code",
   "execution_count": 10,
   "id": "0503b3cb-5e35-466d-9442-87c0d1420d24",
   "metadata": {},
   "outputs": [
    {
     "data": {
      "text/html": [
       "<pre style=\"word-wrap: normal;white-space: pre;background: #fff0;line-height: 1.1;font-family: &quot;Courier New&quot;,Courier,monospace\">     ┌───┐     ┌───┐\n",
       "q_0: ┤ H ├──■──┤ H ├\n",
       "     └───┘┌─┴─┐└───┘\n",
       "q_1: ─────┤ X ├─────\n",
       "          └───┘     </pre>"
      ],
      "text/plain": [
       "     ┌───┐     ┌───┐\n",
       "q_0: ┤ H ├──■──┤ H ├\n",
       "     └───┘┌─┴─┐└───┘\n",
       "q_1: ─────┤ X ├─────\n",
       "          └───┘     "
      ]
     },
     "execution_count": 10,
     "metadata": {},
     "output_type": "execute_result"
    }
   ],
   "source": [
    "from qiskit import *\n",
    "\n",
    "qr=QuantumRegister(2,'q')\n",
    "qc=QuantumCircuit(qr)\n",
    "\n",
    "qc.h(0)\n",
    "qc.cx(0,1)\n",
    "qc.h(0)\n",
    "\n",
    "qc.draw()"
   ]
  },
  {
   "cell_type": "code",
   "execution_count": 11,
   "id": "8c2818d9-c146-422e-8f44-0b1058f1d6a2",
   "metadata": {},
   "outputs": [
    {
     "data": {
      "text/latex": [
       "$$\\frac{1}{2} |00\\rangle+\\frac{1}{2} |01\\rangle+\\frac{1}{2} |10\\rangle- \\frac{1}{2} |11\\rangle$$"
      ],
      "text/plain": [
       "<IPython.core.display.Latex object>"
      ]
     },
     "execution_count": 11,
     "metadata": {},
     "output_type": "execute_result"
    }
   ],
   "source": [
    "from qiskit.quantum_info import Statevector\n",
    "\n",
    "Statevector(qc).draw('latex')"
   ]
  },
  {
   "cell_type": "markdown",
   "id": "3e7698ec-bc3e-4efe-bc3a-76d553f3994d",
   "metadata": {},
   "source": [
    "## Simple applications\n",
    "\n",
    "As the above example shows, CX gate is used to create Bell states.  In {numref}`chap-algorithms`, many quantum strategies that use CX extensively will be discussed.  Here are a few small applications."
   ]
  },
  {
   "cell_type": "markdown",
   "id": "c39fb8c0-e4d2-4a27-8f1d-b8804b4b0ce2",
   "metadata": {
    "tags": []
   },
   "source": [
    "### Generating Bell states\n",
    "The \n",
    "No one-qubit gate can generate an entangled state.  The CX gate is commonly used to generate entangled states from product states.  As discussed in {numref}`sec-2qubits`, Bell states play important roles in quantum computation. We can generate all Bell states by by applying CX_{q_0}^{q_1} \\cdot H_{q_0}$ to the computational basis vectors.\n",
    "\n",
    "$$\n",
    "\\begin{align}\n",
    "CX_{q_0}^{q_1} \\cdot H_{q_0} |00\\rangle &= |\\Phi^{+}\\rangle \\\\\n",
    "CX_{q_0}^{q_1} \\cdot H_{q_0} |01\\rangle &= |\\Phi^{-}\\rangle \\\\\n",
    "CX_{q_0}^{q_1} \\cdot H_{q_0} |10\\rangle &= |\\Psi^{+}\\rangle \\\\\n",
    "CX_{q_0}^{q_1} \\cdot H_{q_0} |11\\rangle &= -|\\Psi^{-}\\rangle\n",
    "\\end{align}\n",
    "$$(cbase-Bell)\n",
    "\n",
    "The last one has unwanted phase \"-\".  We can get rid of it by applying Z on both qubits.  In the following Qiskit code, we generate the singlet state $|\\Psi^{-}$.\n",
    "\n",
    "**Exercise**  {numref}`%s <sec-cxgate>`.1  Generate $|\\Psi^{\\pm}\\rangle$ and visualize the results using Qiskit. (HINT: You can flip one of qubits by X gate."
   ]
  },
  {
   "cell_type": "code",
   "execution_count": 12,
   "id": "14573a3d-2e38-412a-a57d-3a61b3f2c513",
   "metadata": {},
   "outputs": [
    {
     "data": {
      "text/latex": [
       "$$\\frac{\\sqrt{2}}{2} |01\\rangle- \\frac{\\sqrt{2}}{2} |10\\rangle$$"
      ],
      "text/plain": [
       "<IPython.core.display.Latex object>"
      ]
     },
     "execution_count": 12,
     "metadata": {},
     "output_type": "execute_result"
    }
   ],
   "source": [
    "from qiskit import *\n",
    "from qiskit.quantum_info import Statevector\n",
    "\n",
    "qr=QuantumRegister(2,'q')\n",
    "qc=QuantumCircuit(qr)\n",
    "\n",
    "# generate |11>\n",
    "qc.x([0,1])\n",
    "\n",
    "# apply CX*H\n",
    "qc.h(0)\n",
    "qc.cx(0,1)\n",
    "\n",
    "# adjust phase\n",
    "qc.z([0,1])\n",
    "\n",
    "psi=Statevector(qc)\n",
    "psi.draw('latex')"
   ]
  },
  {
   "cell_type": "code",
   "execution_count": 13,
   "id": "e4f41167-b9da-41d2-9d78-0af5c3693265",
   "metadata": {},
   "outputs": [
    {
     "data": {
      "image/png": "[encoded data removed]",
      "text/plain": [
       "<Figure size 288x288 with 2 Axes>"
      ]
     },
     "execution_count": 13,
     "metadata": {
      "filenames": {
       "image/png": "/home/kawai/teaching/mybooks/qcomp-short/_build/jupyter_execute/q2gates/cx_24_0.png"
      }
     },
     "output_type": "execute_result"
    }
   ],
   "source": [
    "from qiskit.visualization import plot_state_qsphere\n",
    "# it's an entangled state.  Use qsphere.\n",
    "plot_state_qsphere(psi,figsize=(4,4))"
   ]
  },
  {
   "cell_type": "markdown",
   "id": "1f88ace9-8fae-4ec9-ba1e-6b7a11b0ae96",
   "metadata": {},
   "source": [
    "**Exercise**  {numref}`%s <sec-cpgate>`.1  Generate $|\\Phi^{\\pm}\\rangle$ and visualize the results using Qiskit."
   ]
  },
  {
   "cell_type": "markdown",
   "id": "178cc522-de9e-4574-93bc-459f1c413393",
   "metadata": {},
   "source": [
    "### Bell state measurement\n",
    "\n",
    "We can expand any two qubit states in the Bell basis as\n",
    "\n",
    "$$\n",
    "\\ket{\\psi} = c_{\\Phi^+} |\\Phi^{+}\\rangle + c_{\\Phi^-} |\\Phi^{-}\\rangle + c_{\\Psi^+} |\\Psi^{+}\\rangle + c_{\\Psi^-} |\\Phi^{-}\\rangle .\n",
    "$$(bell-expansion)\n",
    "\n",
    "Now, we want find the probabilities to find the Bell states. The process is called *Bell measurement*.  After the measurement, the state collapses to a Bell state depending on the outcome of the measurement.  The Bell measurement is commonly used in quantum information processes, such as [*quantum teleportation*](https://en.wikipedia.org/wiki/Quantum_teleportation).  However, the Bell measurement is not trivial.  Any local measurement fails and thus the standard measurement based on the computational basis does not help.\n",
    "\n",
    "In the example above, we transformed the computational basis vectors to the Bell states using CX$_{q_0}^{q_1} \\cdot$ H$_{q_0}$.  By inverting the transformation, we can convert the Bell states to the computational basis.  That is applying H$_{q_0} \\cdot$ CX$_{q_0}^{q_1}$ to the Bell states\n",
    "\n",
    "$$\n",
    "\\begin{align}\n",
    "\\text{H}_{q_0} \\cdot \\text{CX}_{q_0}^{q_1} |\\Phi^{+}\\rangle &= |00\\rangle \\\\\n",
    "\\text{H}_{q_0} \\cdot \\text{CX}_{q_0}^{q_1} |\\Phi^{-}\\rangle &= |01\\rangle \\\\\n",
    "\\text{H}_{q_0} \\cdot \\text{CX}_{q_0}^{q_1} |\\Psi^{+}\\rangle &= |10\\rangle \\\\\n",
    "\\text{H}_{q_0} \\cdot \\text{CX}_{q_0}^{q_1} |\\Phi^{-}\\rangle &= -|11\\rangle\n",
    "\\end{align}\n",
    "$$\n",
    "Applying $(H \\otimes I)\\cdot CX$ to the superposition {eq}`bell-expansion`, we obtain \n",
    "\n",
    "$$\n",
    "(H \\otimes I)\\cdot CX \\ket{\\psi} = c_{\\Phi^+} |00\\rangle + c_{\\Phi^-} |10\\rangle + c_{\\Psi^+} |01\\rangle - c_{\\Psi^-} |11\\rangle .\n",
    "$$(comp-expansion)\n",
    "\n",
    "The resulting state is a superposition in computational basis but the expansion coefficients are the same as before the transformation.\n",
    "Now, the standard measurement in the computational basis determine the probabilities of finding the corresponding Bell state.  The actual measurement collapses the state to one of computational basis vectors but the Bell measurement should result in one of the Bell state.\n",
    "The computational basis vector obtained from the measurement can be transformed back to the corresponding Bell state. "
   ]
  },
  {
   "cell_type": "markdown",
   "id": "8da24048-5b94-407c-8c23-862ed90ec10e",
   "metadata": {},
   "source": [
    "### Addition modulo 2\n",
    "\n",
    "We want to compute modulo-2 addition of two bits $x$ and $y$. We write it $x \\otimes y$.  Its truth table is\n",
    "\n",
    "| $x$ | $y$ | $x\\oplus y$|\n",
    "|:---:|:---:| :---------:|\n",
    "|  0  |  0  |      0     |\n",
    "|  1  |  0  |      1     |\n",
    "|  0  |  1  |      1     |\n",
    "|  1  |  1  |      0     |\n",
    "\n",
    "In classical computer, XOR gate calculate it. Unlike classical XOR, quantum computation must be reversible.  Thus we need to retain the values of $x$ and $y$. The out needs one qubit.  In total, we need three qubits\n",
    "$|z\\,y\\,x\\rangle = |z\\rangle \\otimes |y\\rangle \\otimes |x\\rangle$ where $z$ contains $x \\oplus y$ at the end.  We assume that $z=0$ initially.  We want to construct a quantum circuit which transforms $|0\\,y,x\\rangle$ to $|(x \\oplus y)\\, y\\, x\\rangle$.  Writing it explicitly.\n",
    "\n",
    "$$\n",
    "\\begin{align}\n",
    "|000\\rangle \\quad &\\Rightarrow \\quad |000\\rangle \\\\\n",
    "|001\\rangle \\quad &\\Rightarrow \\quad |101\\rangle \\\\\n",
    "|010\\rangle \\quad &\\Rightarrow \\quad |110\\rangle \\\\\n",
    "|011\\rangle \\quad &\\Rightarrow \\quad |011\\rangle\n",
    "\\end{align}\n",
    "$$\n",
    "\n",
    "The second transformation can be done by CX$_{q_0}^{q_1}$ and the third transformation can be done by a CX$_{q_1}^{q_2}$. These two gates also works for the first transformation.  However, it does not work for the last transformation.  It takes more than one step.  It would be nice if $z$ is directly correlated to $y$ or $x$. Let us try CX$_{q_0}^{q_1}$.\n",
    "\n",
    "$$\n",
    "\\begin{align}\n",
    "\\text{CX}_{q_0}^{q_1}|000\\rangle = |000\\rangle \\\\\n",
    "\\text{CX}_{q_0}^{q_1}|001\\rangle = |011\\rangle \\\\\n",
    "\\text{CX}_{q_0}^{q_1}|010\\rangle = |010\\rangle \\\\\n",
    "\\text{CX}_{q_0}^{q_1}|011\\rangle = |001\\rangle\n",
    "\\end{align}\n",
    "$$\n",
    "\n",
    "Now , the output $z$ and $y$ are perfectly correlated.  We can now apply CX$_{q_1}^{q_2}$ to find $z$.\n",
    "\n",
    "$$\n",
    "\\begin{align}\n",
    "\\text{CX}_{q_1}^{q_2}\\text{CX}_{q_0}^{q_1}|000\\rangle = \\text{CX}_{q_1}^{q_2}|000\\rangle = |000\\rangle  \\\\\n",
    "\\text{CX}_{q_1}^{q_2}\\text{CX}_{q_0}^{q_1}|001\\rangle = \\text{CX}_{q_1}^{q_2}|011\\rangle = |111\\rangle \\\\\n",
    "\\text{CX}_{q_1}^{q_2}\\text{CX}_{q_0}^{q_1}|010\\rangle = \\text{CX}_{q_1}^{q_2}|010\\rangle = |110\\rangle \\\\\n",
    "\\text{CX}_{q_1}^{q_2}\\text{CX}_{q_0}^{q_1}|011\\rangle = \\text{CX}_{q_1}^{q_2}|001\\rangle = |001\\rangle \n",
    "\\end{align}\n",
    "$$\n",
    "\n",
    "The value of $z$ is correct but $x$ and $y$ are not preserved.  That is not good. Next,we try to recover them by\n",
    "X$_{q_0}^{q_1}$.\n",
    "\n",
    "$$\n",
    "\\begin{align}\n",
    "\\text{CX}_{q_0}^{q_1} \\text{CX}_{q_1}^{q_2}\\text{CX}_{q_0}^{q_1}|000\\rangle = \\text{CX}_{q_0}^{q_1}|000\\rangle = |000\\rangle  \\\\\n",
    "\\text{CX}_{q_0}^{q_1} \\text{CX}_{q_1}^{q_2}\\text{CX}_{q_0}^{q_1}|001\\rangle = \\text{CX}_{q_0}^{q_1}|111\\rangle = |101\\rangle \\\\\n",
    "\\text{CX}_{q_0}^{q_1} \\text{CX}_{q_1}^{q_2}\\text{CX}_{q_0}^{q_1}|010\\rangle = \\text{CX}_{q_0}^{q_1}|110\\rangle = |110\\rangle \\\\\n",
    "\\text{CX}_{q_0}^{q_1} \\text{CX}_{q_1}^{q_2}\\text{CX}_{q_0}^{q_1}|011\\rangle = \\text{CX}_{q_0}^{q_1}|001\\rangle =|011\\rangle \n",
    "\\end{align}\n",
    "$$\n",
    "\n",
    "Now we have the desired output.  Three CX gates calculate $x \\oplus y$."
   ]
  },
  {
   "cell_type": "code",
   "execution_count": 14,
   "id": "1f113414-3b8c-487e-85d9-f71065e151a1",
   "metadata": {},
   "outputs": [
    {
     "name": "stdout",
     "output_type": "stream",
     "text": [
      "x=0, y=0, x+y=0\n",
      "x=0, y=1, x+y=1\n",
      "x=1, y=0, x+y=1\n",
      "x=1, y=1, x+y=0\n"
     ]
    }
   ],
   "source": [
    "from qiskit import *\n",
    "from qiskit.quantum_info import Statevector\n",
    "import numpy as np\n",
    "\n",
    "\n",
    "# loop over all inputs\n",
    "for x in range(2):\n",
    "    for y in range(2):\n",
    "\n",
    "        qr=QuantumRegister(3,'q')\n",
    "        qc=QuantumCircuit(qr)\n",
    " \n",
    "        # generate input state\n",
    "        if x==1:\n",
    "            qc.x(0)     \n",
    "        if y==1:\n",
    "            qc.x(1)\n",
    "\n",
    "        # compute x \\oplus y\n",
    "        qc.cx(0,1)\n",
    "        qc.cx(1,2)\n",
    "        qc.cx(0,1)\n",
    "\n",
    "        # extract output\n",
    "        psi=Statevector(qc).to_dict()\n",
    "        psi=list(psi.keys())[0]\n",
    "        print(\"x={0:d}, y={1:d}, x+y={2:s}\".format(x,y,psi[0]))\n"
   ]
  },
  {
   "cell_type": "markdown",
   "id": "03801a28-a7ce-4e61-a42b-0a42da9465a8",
   "metadata": {},
   "source": [
    "\n",
    "[^symb-cx]: The notation `CX`$_{q_0}^{q_1}$ is not commonly used.  In many literature, simply `CX` is used without specifying which qubit is source, causing confusion. If you are confused, see the corresponding circuit diagram.\n",
    "\n"
   ]
  },
  {
   "cell_type": "markdown",
   "id": "babc2d74-b77f-4461-8e42-def18fbddb04",
   "metadata": {},
   "source": [
    "### Swapping qubits\n",
    "\n",
    "Swap gate SWAP is defined by SWAP$|q_1\\, q_0\\rangle = |q_0\\, q_1\\rangle$.  When it acts on a superposition state, the coefficients of $|01\\rangle$ and $|10\\rangle$ is swapped.\n",
    "\n",
    "\n",
    "$$\n",
    "\\text{SWAP} \\left (c_{00} |00\\rangle + c_{01} |01\\rangle + c_{10} |10\\rangle + c_{11} |11\\rangle \\right ) =\n",
    "c_{00} |00\\rangle + c_{10} |01\\rangle + c_{01} |10\\rangle + c_{11} |11\\rangle\n",
    "$$\n",
    "\n",
    "Recall that CX$_{q_0}^{q_1}$ swaps the coefficients of $|01\\rangle$ and $|11\\rangle$, and  CX$_{q_1}^{q_0}$ swaps the coefficients of $|10\\rangle$ and $|11\\rangle$.  Using these gates in series, we can create SWAP.\n",
    "\n",
    "$$\n",
    "\\begin{align}\n",
    "&\\text{CX}_{q_0}^{q_1} \\cdot \\text{CX}_{q_1}^{q_0} \\cdot \\text{CX}_{q_0}^{q_1} \\left(c_{00} |00\\rangle + c_{01} |01\\rangle + c_{10} |10\\rangle + c_{11} |11\\rangle \\right)\\\\ \n",
    "= &\\text{CX}_{q_0}^{q_1} \\cdot \\text{CX}_{q_1}^{q_0} \\left(c_{00} |00\\rangle + c_{11} |01\\rangle + c_{10} |10\\rangle + c_{01} |11\\rangle \\right) \\\\\n",
    "= &\\text{CX}_{q_0}^{q_1}  \\left(c_{00} |00\\rangle + c_{11} |01\\rangle + c_{01} |10\\rangle + c_{10} |11\\rangle \\right)\\\\\n",
    "= & c_{00} |00\\rangle + c_{10} |01\\rangle + c_{01} |10\\rangle + c_{11} |11\\rangle\n",
    "\\end{align}\n",
    "$$\n",
    "\n",
    "which indicates SWAP=$\\text{CX}_{q_0}^{q_1} \\cdot  \\text{CX}_{q_1}^{q_0} \\cdot \\text{CX}_{q_0}^{q_1}$. (See the following circuit.)\n"
   ]
  },
  {
   "cell_type": "code",
   "execution_count": 15,
   "id": "0163da0f-ac29-49d1-884f-940b60ed2864",
   "metadata": {
    "tags": [
     "hide_input"
    ]
   },
   "outputs": [
    {
     "name": "stdout",
     "output_type": "stream",
     "text": [
      "sawpping qubits\n"
     ]
    },
    {
     "data": {
      "text/html": [
       "<pre style=\"word-wrap: normal;white-space: pre;background: #fff0;line-height: 1.1;font-family: &quot;Courier New&quot;,Courier,monospace\">          ┌───┐     \n",
       "q_0: ──■──┤ X ├──■──\n",
       "     ┌─┴─┐└─┬─┘┌─┴─┐\n",
       "q_1: ┤ X ├──■──┤ X ├\n",
       "     └───┘     └───┘</pre>"
      ],
      "text/plain": [
       "          ┌───┐     \n",
       "q_0: ──■──┤ X ├──■──\n",
       "     ┌─┴─┐└─┬─┘┌─┴─┐\n",
       "q_1: ┤ X ├──■──┤ X ├\n",
       "     └───┘     └───┘"
      ]
     },
     "execution_count": 15,
     "metadata": {},
     "output_type": "execute_result"
    }
   ],
   "source": [
    "from qiskit import *\n",
    "qr=QuantumRegister(2,'q')\n",
    "qc=QuantumCircuit(qr)\n",
    "qc.cx(0,1)\n",
    "qc.cx(1,0)\n",
    "qc.cx(0,1)\n",
    "\n",
    "print(\"sawpping qubits\")\n",
    "qc.draw()\n"
   ]
  },
  {
   "cell_type": "code",
   "execution_count": 16,
   "id": "0717e5c6-1486-47cb-9008-cf772df3b8d1",
   "metadata": {},
   "outputs": [
    {
     "name": "stdout",
     "output_type": "stream",
     "text": [
      "probability distribution before swap\n"
     ]
    },
    {
     "data": {
      "image/png": "[encoded data removed]",
      "text/plain": [
       "<Figure size 504x360 with 1 Axes>"
      ]
     },
     "execution_count": 16,
     "metadata": {
      "filenames": {
       "image/png": "/home/kawai/teaching/mybooks/qcomp-short/_build/jupyter_execute/q2gates/cx_32_1.png"
      }
     },
     "output_type": "execute_result"
    }
   ],
   "source": [
    "from qiskit import *\n",
    "from qiskit.quantum_info import Statevector\n",
    "import numpy as np\n",
    "\n",
    "qr=QuantumRegister(2,'q')\n",
    "qc=QuantumCircuit(qr)\n",
    "\n",
    "# randomly oriented qubits\n",
    "a=np.pi*np.random.rand()\n",
    "b=np.pi*np.random.rand()\n",
    "c=np.pi*np.random.rand()\n",
    "qc.u(a,b,c,0)\n",
    "a=np.pi*np.random.rand()\n",
    "b=np.pi*np.random.rand()\n",
    "c=np.pi*np.random.rand()\n",
    "qc.u(a,b,c,1)\n",
    "\n",
    "# get the statevector in dict format\n",
    "psi=Statevector(qc).to_dict()\n",
    "\n",
    "# evaluate of probabilities\n",
    "p0 = dict()\n",
    "for k in psi:\n",
    "    p0[k]=abs(psi[k])**2\n",
    "\n",
    "from qiskit.visualization import plot_histogram\n",
    "print(\"probability distribution before swap\")\n",
    "plot_histogram(p0)"
   ]
  },
  {
   "cell_type": "code",
   "execution_count": 17,
   "id": "075e8505-ad92-4529-8648-977b7835964c",
   "metadata": {},
   "outputs": [
    {
     "name": "stdout",
     "output_type": "stream",
     "text": [
      "probability distribution after swapping.\n"
     ]
    },
    {
     "data": {
      "image/png": "[encoded data removed]",
      "text/plain": [
       "<Figure size 504x360 with 1 Axes>"
      ]
     },
     "execution_count": 17,
     "metadata": {
      "filenames": {
       "image/png": "/home/kawai/teaching/mybooks/qcomp-short/_build/jupyter_execute/q2gates/cx_33_1.png"
      }
     },
     "output_type": "execute_result"
    }
   ],
   "source": [
    "qc.cx(0,1)\n",
    "qc.cx(1,0)\n",
    "qc.cx(0,1)\n",
    "\n",
    "psi=Statevector(qc).to_dict()\n",
    "\n",
    "p1 = dict()\n",
    "for k in psi:\n",
    "    p1[k]=abs(psi[k])**2\n",
    "\n",
    "print(\"probability distribution after swapping.\")\n",
    "plot_histogram(p1)"
   ]
  },
  {
   "cell_type": "markdown",
   "id": "b85cfb20-a952-456c-a1b3-8f414a901dd3",
   "metadata": {},
   "source": [
    "\n",
    "---\n",
    "Last Modified on 08/19/2022."
   ]
  },
  {
   "cell_type": "code",
   "execution_count": null,
   "id": "575ea0a6-c3fc-4cbb-864a-6ceb641a9c3a",
   "metadata": {},
   "outputs": [],
   "source": []
  }
 ],
 "metadata": {
  "kernelspec": {
   "display_name": "Python 3 (ipykernel)",
   "language": "python",
   "name": "python3"
  },
  "language_info": {
   "codemirror_mode": {
    "name": "ipython",
    "version": 3
   },
   "file_extension": ".py",
   "mimetype": "text/x-python",
   "name": "python",
   "nbconvert_exporter": "python",
   "pygments_lexer": "ipython3",
   "version": "3.9.12"
  }
 },
 "nbformat": 4,
 "nbformat_minor": 5
}