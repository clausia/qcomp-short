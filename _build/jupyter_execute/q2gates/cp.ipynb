{
 "cells": [
  {
   "cell_type": "markdown",
   "id": "c90b9982-693c-4cda-b2ef-62806da691b5",
   "metadata": {},
   "source": [
    "(sec-cpgate)=\n",
    "# Controlled- Z, S, T, P gates"
   ]
  },
  {
   "cell_type": "markdown",
   "id": "3f4f65a8-b871-4f03-a555-12c244696650",
   "metadata": {},
   "source": [
    "Recall that that Z, S, and T gates all change the phase of $|1\\rangle$ and that the general phase gate P($\\theta$) can replace them as Z = P($\\pi$), S = P($\\pi/2$), and T = P($\\pi/4$)  (See {numref}`chap-one-qubit-gates`.)  In this section, controlled- Z, S, T, and P gates (CZ, CS, CT, and CP, respectively) are introduced.  Since all of them work in the similar manner, only controlled-P is explained in most parts."
   ]
  },
  {
   "cell_type": "markdown",
   "id": "653df09e-9b34-4ceb-978a-8c7f7b366d94",
   "metadata": {},
   "source": [
    "**Operational Definition**\n",
    "\n",
    "When gate  CP$_{q_0}^{q_1}(\\theta)$ acts on $|q_1\\, q_0\\rangle$, P($\\theta$) is applied to $q_1$ if $q_0=1$ and nothing is done otherwise. Qubit $q_0$ serves as source and $q_1$ as target.  AS shwon bellow, CP$_{q_0}^{q_1}(\\theta) =$ CP$_{q_1}^{q_0}(\\theta)$.  Hence, it is not necessary to specify a source and a target qubit.  \n",
    "\n",
    "Mathematically, it is expressed as\n",
    "\n",
    "$$\n",
    "\\text{CP}_{q_0}^{q_1}(\\theta)|q_1\\, q_0\\rangle = \\text{I} \\otimes |0\\rangle\\langle 0| + \\text{P}(\\theta) \\otimes |1\\rangle\\langle 1|\n",
    "$$\n",
    "\n",
    "Switching source and target qubits, \n",
    "\n",
    "CP$_{q_1}^{q_0} (\\theta) |q_1\\, q_0\\rangle$  applies P($\\theta$) to $q_0$ if $q_1=1$ and do nothing otherwise.  Mathematically, it is expressed as\n",
    "\n",
    "$$\n",
    "\\text{CP}_{q_1}^{q_0}|q_1\\, q_0\\rangle (\\theta) = |0\\rangle\\langle 0| \\otimes \\text{I}   +   |1\\rangle\\langle 1| \\otimes \\text{P}(\\theta)\n",
    "$$\n",
    "\n",
    "**Transformation**\n",
    "\n",
    "CP$_{q_0}^{q_1}(\\theta)$ and CP$_{q_1}^{q_0}(\\theta)$ transforms computational basis as follows:\n",
    "\n",
    "$$\n",
    "\\begin{align}\n",
    "&\\text{CP}_{q_0}^{q_1}(\\theta) \\lvert 00\\rangle = \\lvert 00\\rangle\\\\ \n",
    "&\\text{CP}_{q_0}^{q_1}(\\theta) \\lvert 01\\rangle = \\lvert 01\\rangle\\\\\n",
    "&\\text{CP}_{q_0}^{q_1}(\\theta) \\lvert 10\\rangle = \\lvert 00\\rangle\\\\\n",
    "&\\text{CP}_{q_0}^{q_1}(\\theta) \\lvert 11\\rangle = e^{i \\theta}\\lvert 11\\rangle\n",
    "\\end{align}\n",
    "$$\n",
    "\n",
    "Since only $\\lvert 11\\rangle$ is affected, $\\text{CP}_{q_0}^{q_1}(\\theta)= \\text{CP}_{q_1}^{q_0}(\\theta)$.\n",
    "\n",
    "**Matrix representation**\n",
    "\n",
    "$$\n",
    "\\text{CP}_{q_0}^{q_1}(\\theta) = \\text{CP}_{q_0}^{q_1}(\\theta)  = \\begin{bmatrix} 1&0&0&0\\\\0&1&0&0\\\\0&0&1&0\\\\0&0&0&e^{i\\theta}\\end{bmatrix}\n",
    "$$\n",
    "\n"
   ]
  },
  {
   "cell_type": "markdown",
   "id": "c9791421-cb11-4264-9bc5-3a931239839b",
   "metadata": {},
   "source": [
    "## Qiskit circuit functions\n",
    "\n",
    "The Qiskit circuit functions for CZ and CP are `cz` and `cp`, respectively and it appears in a circuit as follows.  Unlike CX gate, the source and target are not distinguished."
   ]
  },
  {
   "cell_type": "code",
   "execution_count": 1,
   "id": "badcd950-2078-4a05-b6f3-9a4ac5111b46",
   "metadata": {
    "tags": [
     "hide-input"
    ]
   },
   "outputs": [
    {
     "data": {
      "text/html": [
       "<pre style=\"word-wrap: normal;white-space: pre;background: #fff0;line-height: 1.1;font-family: &quot;Courier New&quot;,Courier,monospace\">                \n",
       "q0_0: ─■──■─────\n",
       "       │  │P(θ) \n",
       "q0_1: ─■──■─────\n",
       "                </pre>"
      ],
      "text/plain": [
       "                \n",
       "q0_0: ─■──■─────\n",
       "       │  │P(θ) \n",
       "q0_1: ─■──■─────\n",
       "                "
      ]
     },
     "execution_count": 1,
     "metadata": {},
     "output_type": "execute_result"
    }
   ],
   "source": [
    "from qiskit import *\n",
    "from qiskit.circuit import Parameter\n",
    "from qiskit.quantum_info import Statevector\n",
    "t=Parameter('\\u03B8')\n",
    "\n",
    "qr  = QuantumRegister(2)\n",
    "qc = QuantumCircuit(qr)\n",
    "\n",
    "# control CZ gate\n",
    "qc.cz(0,1)\n",
    "\n",
    "# contrl CP gate\n",
    "qc.cp(t,0,1)\n",
    "\n",
    "qc.draw()"
   ]
  },
  {
   "cell_type": "markdown",
   "id": "806c17f6-40fb-4b2b-8a1e-055ae3b89413",
   "metadata": {},
   "source": [
    "Qiskit does not have standard circuit functions for CS and CT but they are predefined in `qiskit.circuit.library.standard_gates`.  You just have to create a shorthand expression from the library and use `append` function to add the gate to the circuit. We can always use CP($\\pi/2$) and CP($\\pi/4$) for CS and CT, respectively."
   ]
  },
  {
   "cell_type": "code",
   "execution_count": 2,
   "id": "7433486d-870f-4501-a07d-ce278b9af304",
   "metadata": {},
   "outputs": [
    {
     "data": {
      "text/html": [
       "<pre style=\"word-wrap: normal;white-space: pre;background: #fff0;line-height: 1.1;font-family: &quot;Courier New&quot;,Courier,monospace\">               \n",
       "q_0: ──■────■──\n",
       "     ┌─┴─┐┌─┴─┐\n",
       "q_1: ┤ S ├┤ T ├\n",
       "     └───┘└───┘</pre>"
      ],
      "text/plain": [
       "               \n",
       "q_0: ──■────■──\n",
       "     ┌─┴─┐┌─┴─┐\n",
       "q_1: ┤ S ├┤ T ├\n",
       "     └───┘└───┘"
      ]
     },
     "execution_count": 2,
     "metadata": {},
     "output_type": "execute_result"
    }
   ],
   "source": [
    "from qiskit import *\n",
    "from qiskit.circuit.library.standard_gates import SGate, TGate\n",
    "\n",
    "cs = SGate().control(1) # the parameter is the amount of control points you want\n",
    "ct = TGate().control(1)\n",
    "qr=QuantumRegister(2,'q')\n",
    "qc = QuantumCircuit(qr)\n",
    "\n",
    "qc.append(cs, [0, 1])\n",
    "qc.append(ct, [0, 1])\n",
    "\n",
    "qc.draw()"
   ]
  },
  {
   "cell_type": "markdown",
   "id": "c8075989-f705-4e33-bcc5-9f4510803c93",
   "metadata": {},
   "source": [
    "## Acting on superposition state\n",
    "\n",
    "CP$_{q_0}^{q_1}(\\theta)$ multiplies phase factor $e^{i\\theta}$ only to $|11\\rangle$.  Other basis vectors are not affected.  Note also that the modulus of the coefficients remain the same and thus probabilities of finding the computational basis vectors are not modified by CP.\n",
    "\n",
    "$$\n",
    "\\text{CP}_{q_0}^{q_1} (\\theta) \\left (c_{00} |00\\rangle + c_{01} |01\\rangle + c_{10} |10\\rangle + c_{11} |11\\rangle \\right ) =\n",
    "c_{00} |00\\rangle + c_{11} |01\\rangle + c_{10} |10\\rangle + e^{i \\theta} c_{01} |11\\rangle\n",
    "$$\n",
    "\n",
    "How can we change the phase of a basis vector other than $|11\\rangle$?  A possible strategy is to transform the target basis vector to $|11\\rangle$, apply CP and transform back to the original basis vector.  For example, if we want to multiply $i$ to $|00\\rangle$ without changing other basis vector, apply $(\\text{X} \\otimes \\text{X}) \\cdot \\text{CS} \\cdot (\\text{X} \\otimes \\text{X})$ "
   ]
  },
  {
   "cell_type": "markdown",
   "id": "aa99b1ca-cdfd-41b0-9d27-1e5339140bf4",
   "metadata": {},
   "source": [
    "**Example**  \n",
    "How can we change the phase of a basis vector other than $|11\\rangle$?  A possible strategy is to transform the target basis vector to $|11\\rangle$, apply CP and transform back to the original basis vector.  For example, if we want to multiply $i$ to $|00\\rangle$ without changing other basis vector, apply $(\\text{X} \\otimes \\text{X}) \\cdot \\text{CS} \\cdot (\\text{X} \\otimes \\text{X})$.  In this example, we start with a product state $|+\\rangle \\otimes |+\\rangle$.  Then, the above gate is applied to it.  Check that $i$ is multiplied only to  $|00\\rangle$.  The final state is entangled. (See {numref}`sec-2qubits`."
   ]
  },
  {
   "cell_type": "code",
   "execution_count": 3,
   "id": "a7eca2b0-b31e-4211-866f-d5874c534711",
   "metadata": {},
   "outputs": [
    {
     "name": "stdout",
     "output_type": "stream",
     "text": [
      "initial state\n"
     ]
    },
    {
     "data": {
      "text/latex": [
       "$$\\frac{1}{2} |00\\rangle+\\frac{1}{2} |01\\rangle+\\frac{1}{2} |10\\rangle+\\frac{1}{2} |11\\rangle$$"
      ],
      "text/plain": [
       "<IPython.core.display.Latex object>"
      ]
     },
     "execution_count": 3,
     "metadata": {},
     "output_type": "execute_result"
    }
   ],
   "source": [
    "from qiskit import *\n",
    "from qiskit.quantum_info import Statevector\n",
    "import numpy as np\n",
    "\n",
    "qr=QuantumRegister(2,'q')\n",
    "qc = QuantumCircuit(qr)\n",
    "\n",
    "# prepare a super position state\n",
    "qc.h([0,1])\n",
    "\n",
    "print(\"initial state\")\n",
    "Statevector(qc).draw('latex')\n",
    "\n",
    "\n"
   ]
  },
  {
   "cell_type": "code",
   "execution_count": 4,
   "id": "37f094cd-3e6a-462c-82bf-8cfb50568f57",
   "metadata": {},
   "outputs": [
    {
     "data": {
      "text/html": [
       "<pre style=\"word-wrap: normal;white-space: pre;background: #fff0;line-height: 1.1;font-family: &quot;Courier New&quot;,Courier,monospace\">     ┌───┐ ░ ┌───┐         ┌───┐\n",
       "q_0: ┤ H ├─░─┤ X ├─■───────┤ X ├\n",
       "     ├───┤ ░ ├───┤ │P(π/2) ├───┤\n",
       "q_1: ┤ H ├─░─┤ X ├─■───────┤ X ├\n",
       "     └───┘ ░ └───┘         └───┘</pre>"
      ],
      "text/plain": [
       "     ┌───┐ ░ ┌───┐         ┌───┐\n",
       "q_0: ┤ H ├─░─┤ X ├─■───────┤ X ├\n",
       "     ├───┤ ░ ├───┤ │P(π/2) ├───┤\n",
       "q_1: ┤ H ├─░─┤ X ├─■───────┤ X ├\n",
       "     └───┘ ░ └───┘         └───┘"
      ]
     },
     "execution_count": 4,
     "metadata": {},
     "output_type": "execute_result"
    }
   ],
   "source": [
    "qc.barrier()\n",
    "qc.x([0,1])\n",
    "qc.cp(np.pi/2,0,1)\n",
    "qc.x([0,1])\n",
    "qc.draw()"
   ]
  },
  {
   "cell_type": "code",
   "execution_count": 5,
   "id": "75d88071-8fc7-4938-b2ce-0e072553b1ab",
   "metadata": {},
   "outputs": [
    {
     "name": "stdout",
     "output_type": "stream",
     "text": [
      "final state\n"
     ]
    },
    {
     "data": {
      "text/latex": [
       "$$\\frac{i}{2} |00\\rangle+\\frac{1}{2} |01\\rangle+\\frac{1}{2} |10\\rangle+\\frac{1}{2} |11\\rangle$$"
      ],
      "text/plain": [
       "<IPython.core.display.Latex object>"
      ]
     },
     "execution_count": 5,
     "metadata": {},
     "output_type": "execute_result"
    }
   ],
   "source": [
    "print(\"final state\")\n",
    "Statevector(qc).draw('latex')"
   ]
  },
  {
   "cell_type": "markdown",
   "id": "7d99d6e5-5875-4255-836d-d37c64926d7e",
   "metadata": {},
   "source": [
    "\n",
    "\n",
    "\n",
    "\n",
    "**Exercise**\n",
    "\n",
    "Construct a circuit that transforms $\\frac{1}{2}\\left(|00\\rangle + |01\\rangle + |10\\rangle + |11\\rangle\\right)$ to $\\frac{1}{2}\\left(|00\\rangle + |01\\rangle - |10\\rangle + |11\\rangle\\right)$.\n",
    "\n",
    "\n",
    "\n"
   ]
  },
  {
   "cell_type": "code",
   "execution_count": null,
   "id": "a4263311-812c-4582-82ac-46cb634665cf",
   "metadata": {},
   "outputs": [],
   "source": []
  }
 ],
 "metadata": {
  "kernelspec": {
   "display_name": "Python 3 (ipykernel)",
   "language": "python",
   "name": "python3"
  },
  "language_info": {
   "codemirror_mode": {
    "name": "ipython",
    "version": 3
   },
   "file_extension": ".py",
   "mimetype": "text/x-python",
   "name": "python",
   "nbconvert_exporter": "python",
   "pygments_lexer": "ipython3",
   "version": "3.9.12"
  }
 },
 "nbformat": 4,
 "nbformat_minor": 5
}