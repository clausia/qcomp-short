{
 "cells": [
  {
   "cell_type": "markdown",
   "id": "96c63f44-b82c-4d6a-80c0-f96aabd9552b",
   "metadata": {},
   "source": [
    "# Two-qubits Gates"
   ]
  },
  {
   "cell_type": "markdown",
   "id": "ad0d70a4-7840-4adc-80a7-fef0b63d87a3",
   "metadata": {},
   "source": [
    "When two gates $A$ and $B$ are applied to qubits $q_0$ and $q_1$, respectively, we can write the combined gates as $C = A \\otimes B$. We do not call it 2-qubit gate. In fact, $A$ and $B$ are not necessarily applied to the qubits at the same time.   A 2-quibit gate  cannot be expressed as a tensor product of two 1-qubit gates and it must act simultaneously on two qubits.\n",
    "\n",
    "Commonly used 2-qubit gates are _controoled_ gates, which are actually conditional 1-qubit gates. A 1-qubit gate such as `X` is applied to $q_1$ only when $q_0$ is in $|1\\rangle$.  Otherwise, no action is taken.  \n",
    "There are other kind of 2-qubit gates such as `Swap` gate.\n",
    "\n",
    "Most of common 2-qubit gates are spectial cases of more general canonical gates.  Many  models used in condensed matter physics are directly expressed by canonical gates, understandin the relation between canonical gates and common 2-qubit gates are particluarly important."
   ]
  },
  {
   "cell_type": "markdown",
   "id": "aa2a1852-f83a-4e85-a80e-e7818641e878",
   "metadata": {},
   "source": [
    "| Generaic Name | Qiskit Class Name |  Qiskit Ciruit Name  | Symbols |\n",
    "| :-----------: | :---------------: | :------------------: | :-----: |\n",
    "| Controlled X     | CXGate            |  cx  or cnot         | `CX` or `CNOT` |\n",
    "| Controlled Y     | CYGate            |  cy                  | `CY`    |\n",
    "| Controlled Z     | CZGate            |  cz                  | `CZ`    |\n",
    "| Controlled Hadamard | CHGate         |  ch                  | `CH`    |\n",
    "| Controlled SX    | CSXGate           |  csx                 | `CSX`   |\n",
    "| Controlled Phase | CPhaseGate        |  cp                  | `CP`    |\n",
    "| Controlled Rotaion X  | CRXGate      |  crx                 |`CR`$_x$ |\n",
    "| Controlled Rotaion Y  | CRYGate      |  cry                 |`CR`$_y$ |\n",
    "| Controlled Rotaion Z  | CRZGate      |  crz                 |`CR`$_z$ |\n",
    "| Controlled Unitary 1  | CU1Gate      |  cu1                 |`CU`$_1$ |\n",
    "| Controlled Unitary 3  | CU3Gate      |  cu3                 |`CU`$_3$ |\n",
    "| Controlled Unitary    | CUGate       |  cu                  |`CU`     |"
   ]
  },
  {
   "cell_type": "markdown",
   "id": "321e0e5b-dda6-409f-98b2-d47909a8e374",
   "metadata": {},
   "source": [
    "__Others__  \n",
    "\n",
    "* `Swap`\n",
    "* `H`$_2$"
   ]
  },
  {
   "cell_type": "markdown",
   "id": "d4260c47-d161-4792-a2a5-40db9e2abcea",
   "metadata": {},
   "source": [
    "__Canonical Gates__  \n",
    "\n",
    "`Can`$(t_x,t_y,t_z)=\\exp\\left[-i\\frac{\\pi}{2}\\left( t_x X\\otimes X + t_y Y\\otimes Y + t_z \\otimes ZZ\\right) \\right]$"
   ]
  },
  {
   "cell_type": "code",
   "execution_count": null,
   "id": "327847b6-907d-4c00-9d02-301a211615e0",
   "metadata": {},
   "outputs": [],
   "source": []
  }
 ],
 "metadata": {
  "kernelspec": {
   "display_name": "Python 3 (ipykernel)",
   "language": "python",
   "name": "python3"
  },
  "language_info": {
   "codemirror_mode": {
    "name": "ipython",
    "version": 3
   },
   "file_extension": ".py",
   "mimetype": "text/x-python",
   "name": "python",
   "nbconvert_exporter": "python",
   "pygments_lexer": "ipython3",
   "version": "3.9.12"
  }
 },
 "nbformat": 4,
 "nbformat_minor": 5
}