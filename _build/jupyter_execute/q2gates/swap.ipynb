{
 "cells": [
  {
   "cell_type": "markdown",
   "id": "df0ddc57-b437-4e9a-9252-676a2176e678",
   "metadata": {
    "tags": []
   },
   "source": [
    "#  SWAP"
   ]
  },
  {
   "cell_type": "markdown",
   "id": "998e6d49-4d30-4faa-9882-ef5a3a26525b",
   "metadata": {},
   "source": [
    "| input |  |output |\n",
    "| :----: |:---: |:----: |\n",
    "| $\\lvert 00\\rangle$ | $\\Rightarrow$ | $\\lvert 00\\rangle$ |\n",
    "| $\\lvert 01\\rangle$ | $\\Rightarrow$ | $\\lvert 10\\rangle$ |\n",
    "| $\\lvert 10\\rangle$ | $\\Rightarrow$ | $\\lvert 01\\rangle$ |\n",
    "| $\\lvert 11\\rangle$ | $\\Rightarrow$ | $\\lvert 11\\rangle$ |"
   ]
  },
  {
   "cell_type": "markdown",
   "id": "50ae0464-4bcb-4a93-913b-9c0528b4ca79",
   "metadata": {},
   "source": [
    "SWAP gate can be a native gate for certain types of quantum computer through exchange interaction.  Here we show a circuit equivalent to `SWAP`."
   ]
  },
  {
   "cell_type": "code",
   "execution_count": 1,
   "id": "36029502-64c5-4452-9bee-522dd94104d3",
   "metadata": {},
   "outputs": [],
   "source": [
    "import numpy as np\n",
    "from qiskit import QuantumCircuit, QuantumRegister, ClassicalRegister, Aer\n",
    "from qiskit.quantum_info import Statevector\n",
    "backend = Aer.get_backend('statevector_simulator')"
   ]
  },
  {
   "cell_type": "markdown",
   "id": "8ae10f12-4bc0-417b-9038-75ee9d4846da",
   "metadata": {},
   "source": [
    "Using the built-in SWAP gate:  |01⟩⇒|10⟩"
   ]
  },
  {
   "cell_type": "code",
   "execution_count": 2,
   "id": "141fe471-6b44-4d5b-b50a-344dcb3326fe",
   "metadata": {},
   "outputs": [
    {
     "data": {
      "text/html": [
       "<pre style=\"word-wrap: normal;white-space: pre;background: #fff0;line-height: 1.1;font-family: &quot;Courier New&quot;,Courier,monospace\">      ┌───┐ ░    ┌─┐   \n",
       "q0_0: ┤ X ├─░──X─┤M├───\n",
       "      └───┘ ░  │ └╥┘┌─┐\n",
       "q0_1: ──────░──X──╫─┤M├\n",
       "            ░     ║ └╥┘\n",
       "c0: 2/════════════╩══╩═\n",
       "                  0  1 </pre>"
      ],
      "text/plain": [
       "      ┌───┐ ░    ┌─┐   \n",
       "q0_0: ┤ X ├─░──X─┤M├───\n",
       "      └───┘ ░  │ └╥┘┌─┐\n",
       "q0_1: ──────░──X──╫─┤M├\n",
       "            ░     ║ └╥┘\n",
       "c0: 2/════════════╩══╩═\n",
       "                  0  1 "
      ]
     },
     "execution_count": 2,
     "metadata": {},
     "output_type": "execute_result"
    }
   ],
   "source": [
    "cr=ClassicalRegister(2)\n",
    "qr  = QuantumRegister(2)\n",
    "qc = QuantumCircuit(qr,cr)\n",
    "qc.x(0)\n",
    "qc.barrier()\n",
    "qc.swap(0,1)\n",
    "qc.measure([0,1],[0,1])\n",
    "qc.draw()"
   ]
  },
  {
   "cell_type": "code",
   "execution_count": 3,
   "id": "f50f821f-7a6b-4a92-9201-d4bd72ddddae",
   "metadata": {},
   "outputs": [
    {
     "data": {
      "text/latex": [
       "$$ |10\\rangle$$"
      ],
      "text/plain": [
       "<IPython.core.display.Latex object>"
      ]
     },
     "execution_count": 3,
     "metadata": {},
     "output_type": "execute_result"
    }
   ],
   "source": [
    "result=backend.run(qc).result()\n",
    "(result.get_statevector()).draw('latex')"
   ]
  },
  {
   "cell_type": "markdown",
   "id": "9e8b590d-da90-41f8-90b9-214628bd9bb2",
   "metadata": {},
   "source": [
    "* Equivalent circuit to `SWAP` using `CX`"
   ]
  },
  {
   "cell_type": "code",
   "execution_count": 4,
   "id": "062f6821-ce54-4daf-afb7-de0db19f86f2",
   "metadata": {},
   "outputs": [
    {
     "data": {
      "text/html": [
       "<pre style=\"word-wrap: normal;white-space: pre;background: #fff0;line-height: 1.1;font-family: &quot;Courier New&quot;,Courier,monospace\">                ┌───┐     \n",
       "q1_0: ───────■──┤ X ├──■──\n",
       "      ┌───┐┌─┴─┐└─┬─┘┌─┴─┐\n",
       "q1_1: ┤ X ├┤ X ├──■──┤ X ├\n",
       "      └───┘└───┘     └───┘</pre>"
      ],
      "text/plain": [
       "                ┌───┐     \n",
       "q1_0: ───────■──┤ X ├──■──\n",
       "      ┌───┐┌─┴─┐└─┬─┘┌─┴─┐\n",
       "q1_1: ┤ X ├┤ X ├──■──┤ X ├\n",
       "      └───┘└───┘     └───┘"
      ]
     },
     "execution_count": 4,
     "metadata": {},
     "output_type": "execute_result"
    }
   ],
   "source": [
    "qr = QuantumRegister(2)\n",
    "qc = QuantumCircuit(qr)\n",
    "qc.x(1)\n",
    "qc.cnot(0,1)\n",
    "qc.cnot(1,0)\n",
    "qc.cnot(0,1)\n",
    "qc.draw()"
   ]
  },
  {
   "cell_type": "code",
   "execution_count": 5,
   "id": "b6de18fb-6ec9-4f29-ab6c-f1cd3b5412a9",
   "metadata": {},
   "outputs": [
    {
     "data": {
      "text/latex": [
       "$$ |01\\rangle$$"
      ],
      "text/plain": [
       "<IPython.core.display.Latex object>"
      ]
     },
     "execution_count": 5,
     "metadata": {},
     "output_type": "execute_result"
    }
   ],
   "source": [
    "result=backend.run(qc).result()\n",
    "(result.get_statevector()).draw('latex')"
   ]
  },
  {
   "cell_type": "markdown",
   "id": "1631b75a-4af4-48e7-bbeb-35f585a42252",
   "metadata": {},
   "source": [
    "Symmetric property: Swapping qubits themselves (not their states) should give the same results."
   ]
  },
  {
   "cell_type": "code",
   "execution_count": 6,
   "id": "83f5b78c-ce85-479c-8aca-b13cf9502bad",
   "metadata": {},
   "outputs": [
    {
     "data": {
      "text/html": [
       "<pre style=\"word-wrap: normal;white-space: pre;background: #fff0;line-height: 1.1;font-family: &quot;Courier New&quot;,Courier,monospace\">      ┌───┐ ░ ┌───┐     ┌───┐\n",
       "q2_0: ┤ X ├─░─┤ X ├──■──┤ X ├\n",
       "      ├───┤ ░ └─┬─┘┌─┴─┐└─┬─┘\n",
       "q2_1: ┤ X ├─░───■──┤ X ├──■──\n",
       "      └───┘ ░      └───┘     </pre>"
      ],
      "text/plain": [
       "      ┌───┐ ░ ┌───┐     ┌───┐\n",
       "q2_0: ┤ X ├─░─┤ X ├──■──┤ X ├\n",
       "      ├───┤ ░ └─┬─┘┌─┴─┐└─┬─┘\n",
       "q2_1: ┤ X ├─░───■──┤ X ├──■──\n",
       "      └───┘ ░      └───┘     "
      ]
     },
     "execution_count": 6,
     "metadata": {},
     "output_type": "execute_result"
    }
   ],
   "source": [
    "qr = QuantumRegister(2)\n",
    "qc = QuantumCircuit(qr)\n",
    "qc.x([0,1])\n",
    "qc.barrier()\n",
    "qc.cnot(1,0)\n",
    "qc.cnot(0,1)\n",
    "qc.cnot(1,0)\n",
    "qc.draw()"
   ]
  },
  {
   "cell_type": "code",
   "execution_count": 7,
   "id": "ef4f41d8-9220-416f-a59c-5516413b3d17",
   "metadata": {},
   "outputs": [
    {
     "data": {
      "text/latex": [
       "$$ |11\\rangle$$"
      ],
      "text/plain": [
       "<IPython.core.display.Latex object>"
      ]
     },
     "execution_count": 7,
     "metadata": {},
     "output_type": "execute_result"
    }
   ],
   "source": [
    "result=backend.run(qc).result()\n",
    "(result.get_statevector()).draw('latex')"
   ]
  },
  {
   "cell_type": "markdown",
   "id": "e57f00ea-8ce4-438c-8560-4ce950dc913a",
   "metadata": {},
   "source": [
    "There is no particular reason to use X direction.  `CY` should be able to realize `SWAP` as well."
   ]
  },
  {
   "cell_type": "code",
   "execution_count": 8,
   "id": "86fe7eb9-c0c9-46a1-8e0b-80907984ef7b",
   "metadata": {},
   "outputs": [
    {
     "data": {
      "text/html": [
       "<pre style=\"word-wrap: normal;white-space: pre;background: #fff0;line-height: 1.1;font-family: &quot;Courier New&quot;,Courier,monospace\">      ┌───┐ ░ ┌───┐     ┌───┐\n",
       "q3_0: ┤ X ├─░─┤ Y ├──■──┤ Y ├\n",
       "      └───┘ ░ └─┬─┘┌─┴─┐└─┬─┘\n",
       "q3_1: ──────░───■──┤ Y ├──■──\n",
       "            ░      └───┘     </pre>"
      ],
      "text/plain": [
       "      ┌───┐ ░ ┌───┐     ┌───┐\n",
       "q3_0: ┤ X ├─░─┤ Y ├──■──┤ Y ├\n",
       "      └───┘ ░ └─┬─┘┌─┴─┐└─┬─┘\n",
       "q3_1: ──────░───■──┤ Y ├──■──\n",
       "            ░      └───┘     "
      ]
     },
     "execution_count": 8,
     "metadata": {},
     "output_type": "execute_result"
    }
   ],
   "source": [
    "qr = QuantumRegister(2)\n",
    "qc = QuantumCircuit(qr)\n",
    "qc.x(0)\n",
    "qc.barrier()\n",
    "qc.cy(1,0)\n",
    "qc.cy(0,1)\n",
    "qc.cy(1,0)\n",
    "qc.draw()"
   ]
  },
  {
   "cell_type": "code",
   "execution_count": 9,
   "id": "84a0c622-c1bc-4ca3-96fd-d2d0babe4c75",
   "metadata": {},
   "outputs": [
    {
     "data": {
      "text/latex": [
       "$$ |10\\rangle$$"
      ],
      "text/plain": [
       "<IPython.core.display.Latex object>"
      ]
     },
     "execution_count": 9,
     "metadata": {},
     "output_type": "execute_result"
    }
   ],
   "source": [
    "result=backend.run(qc).result()\n",
    "(result.get_statevector()).draw('latex')"
   ]
  },
  {
   "cell_type": "code",
   "execution_count": null,
   "id": "a4399477-cda7-48a0-9993-0a9a6f2cff57",
   "metadata": {},
   "outputs": [],
   "source": []
  }
 ],
 "metadata": {
  "kernelspec": {
   "display_name": "Python 3 (ipykernel)",
   "language": "python",
   "name": "python3"
  },
  "language_info": {
   "codemirror_mode": {
    "name": "ipython",
    "version": 3
   },
   "file_extension": ".py",
   "mimetype": "text/x-python",
   "name": "python",
   "nbconvert_exporter": "python",
   "pygments_lexer": "ipython3",
   "version": "3.9.12"
  }
 },
 "nbformat": 4,
 "nbformat_minor": 5
}