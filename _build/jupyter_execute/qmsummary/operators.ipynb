{
 "cells": [
  {
   "cell_type": "markdown",
   "id": "041171d4-372e-4705-8c44-7d1a54189322",
   "metadata": {},
   "source": [
    "(sec-operators)=\n",
    "# Operators"
   ]
  },
  {
   "cell_type": "markdown",
   "id": "2af17324-6ade-469b-aa32-b28630627b91",
   "metadata": {},
   "source": [
    "An operator is defined on a Hilbert space and acts on a vector in the same Hilbert space.  More precisely, we use _linear_ operators.  In this section, we learn the following mathematical operations associated with operators.  Physical interpretations will be followed after this section.\n",
    "\n",
    "\n",
    "| operation | mathematical expression |\n",
    "| :---: | :---: |\n",
    "| operator times ket | $A |\\psi\\rangle$ |\n",
    "| adjoint operator | $|\\psi\\rangle A^\\dagger$ |\n",
    "| scalar multiplication | $\\lambda A, \\quad \\lambda \\in \\mathbb{C}$ |\n",
    "| operator sum | $A+B$ |\n",
    "| identity operator | $I$ |\n",
    "| operator multiplication | $AB$ |\n",
    "| commutation | $[A\\, B]=AB-BA $ |\n",
    "| matrix element | $\\langle \\psi \\vert A \\vert \\varphi  \\rangle$ |\n",
    "| trace | $\\text{tr} A$ |\n",
    "| dyad | $|\\psi\\rangle\\langle\\varphi$ |\n",
    "| projection operator | $P^2=P$ |\n",
    "| Self-adjoint operators | $A^\\dagger = A$ |\n",
    "| Unitary operator | $U^\\dagger U = I$ |\n",
    "| Eigenvalue and eigenvector | $A |a_i\\rangle = \\lambda_i |a_i\\rangle$ |\n",
    "| Pauli operator | $X, Y, Z$ |\n",
    "| function of operator | $f(A)$ |\n"
   ]
  },
  {
   "cell_type": "markdown",
   "id": "24760167-e0c5-447a-a765-19ac2fa08488",
   "metadata": {},
   "source": [
    "(pp-times-ket)=\n",
    "## Operator times ket\n",
    "\n",
    "When a operator $A$ acts on any ket in the Hilbert space, it transforms the ket to another ket in the same Hilbert space, \n",
    "\n",
    "$$\n",
    "|b\\rangle = A |a\\rangle.  \n",
    "$$\n",
    " \n",
    "Similarly every bra is transformed as\n",
    "\n",
    "$$\n",
    "\\langle b| = \\langle a | A^\\dagger\n",
    "$$\n",
    "where $A^\\dagger$ is _Hermite conjugate_ or _adjoint_ of $A$.  The adjoint of the adjoint operator is the original operator, that is  $(A^\\dagger)^\\dagger = A$.\n",
    "\n",
    "It is wrong to think that $A^\\dagger$ always act on bra.  It can be applied to ket and $A^\\dagger | a\\rangle$ is perfectly OK.  However, in general $A |a\\rangle \\ne A^\\dagger |A\\rangle$. Therefore $A$ and $A^\\dagger$ are two different operators.  By definition, the adjoint expression of $A^\\dagger |A\\rangle$ is $\\langle a| (A^\\dagger)^\\dagger = \\langle a| A$. "
   ]
  },
  {
   "cell_type": "markdown",
   "id": "e9bc86cb-d8b7-4838-8036-6d69ab05d057",
   "metadata": {},
   "source": [
    "**Example** {numref}`%s <sec-operators>`.1  Operator $X$ transforms the basis vectors as $X |0\\rangle \\equiv |1\\rangle$ and $X|1\\rangle \\equiv |0\\rangle$.\n",
    "\n",
    "\n",
    "**Example** {numref}`%s <sec-operators>`.2  Consider $H$ transforms the basis vectors as $H|0\\rangle \\equiv |+\\rangle$ and $H|1\\rangle \\equiv |-\\rangle$.\n",
    "(See {eq}`eq-plusminus-basis` for the definition of $|\\pm\\rangle$.)  $H$ is known as _Hadamard_ gate and one of the very important quantum gates."
   ]
  },
  {
   "cell_type": "markdown",
   "id": "7569bc97-085e-4a2b-9499-d002b2e2cf0f",
   "metadata": {},
   "source": [
    "## Scalar multiplication\n",
    "\n",
    "$\\lambda A$ is another operator where $\\lambda$ is any complex number.  You can place the scalar in the either side of the operator, i.e., $\\lambda A = A \\lambda$. The adjoint of $\\lambda A$ is $\\lambda^* A^\\dagger$.  Notice that the complex conjugate of the scalar in the adjoint. \n",
    "\n",
    "The following associativity holds:\n",
    "\n",
    "$$\n",
    "(\\lambda A) |a\\rangle = \\lambda (A  |a\\rangle) = A (\\lambda  |a\\rangle)\n",
    "$$\n",
    "\n",
    "$$\n",
    "(\\lambda \\eta) A = \\lambda (\\eta A)\n",
    "$$\n"
   ]
  },
  {
   "cell_type": "markdown",
   "id": "26e04e8a-70cb-4738-92d2-52cda52ff259",
   "metadata": {},
   "source": [
    "\n",
    "___  \n",
    "\n",
    "**Exercise** {numref}`%s <sec-operators>`.1 &nbsp;   Find the adjoint of $\\lambda A  |a\\rangle$.  \n",
    "\n",
    "___  \n"
   ]
  },
  {
   "cell_type": "markdown",
   "id": "19698269-31ac-462e-ba87-eb8154afeb93",
   "metadata": {},
   "source": [
    "## Linearity\n",
    "\n",
    "When an operator acts on a superposition state, the following linearity holds:\n",
    "\n",
    "$$\n",
    "A \\left(\\alpha  |\\psi\\rangle + \\beta|\\psi\\rangle\\right) = \\alpha A |\\psi\\rangle + \\beta A |\\psi\\rangle\n",
    "$$\n",
    "\n",
    "where $\\alpha, \\beta \\in \\mathbb{C}$."
   ]
  },
  {
   "cell_type": "markdown",
   "id": "ac07c496-1c67-464b-92e1-1c55070446b2",
   "metadata": {},
   "source": [
    "  \n",
    "___  \n",
    "\n",
    "\n",
    "**Exercise** {numref}`%s <sec-operators>`.2 &nbsp;   Show that $H|+\\rangle = |0\\rangle$ and $H |-\\rangle = |1\\rangle$ where $H$ is the Hadamard gate.  \n",
    "\n",
    "___  \n"
   ]
  },
  {
   "cell_type": "markdown",
   "id": "db8ea706-365e-4b61-8d89-a0c79a0d2f4d",
   "metadata": {
    "tags": []
   },
   "source": [
    "## Operator sum\n",
    "\n",
    "The sum of operators satisfies the following distributivity:\n",
    "\n",
    "$$\n",
    "\\left(A+B\\right)|\\psi\\rangle = A |\\psi\\rangle + B |\\psi\\rangle.\n",
    "$$"
   ]
  },
  {
   "cell_type": "markdown",
   "id": "8aace8a1-a126-4375-9a14-a41fcf851e04",
   "metadata": {},
   "source": [
    "## Operator products\n",
    "\n",
    "For any operators $P$ and $Q$ in a Hilbert space, the product $PQ$ is also an operator in the same Hilbert space. When $Q$ is applied on $|a\\rangle$ and $P$ is applied on the result of the first operation,  the final result is also a vector in the same Hilbert space:\n",
    "\n",
    "$$\n",
    "P (Q|a\\rangle) = P |b\\rangle = |c\\rangle\n",
    "$$\n",
    "\n",
    "where $|b\\rangle = Q |a\\rangle$. The associativity $P (Q|a\\rangle) = (PQ) |a\\rangle$ holds. \n",
    "\n",
    "Similarly, when we apply $P$ on $|a\\rangle$ first and $Q$ afterward, the associativity  $Q (P|a\\rangle) = (QP) |a\\rangle$ holds as well. \n",
    "In general the outcomes of these two operations are different and thus $PQ \\ne QP$.  In other words, $P$ and $Q$ do not _commute_.  The difference between $PQ$ and $QP$ is expressed with _commutator_\n",
    "\n",
    "$$\n",
    "[P,Q] \\equiv PQ - QP.\n",
    "$$\n",
    "\n",
    "Only when $[P,Q]=0$, we can change the order of operations. The commutation relation is of fundamental importance in quantum mechanics.\n",
    "\n",
    "For some operators, anti-commutation \n",
    "\n",
    "$$\n",
    "\\{P,Q\\} \\equiv PQ + QP\n",
    "$$\n",
    "\n",
    "also plays an important role.\n",
    "\n",
    "The dual of the above transformation is\n",
    "\n",
    "$$\n",
    "\\langle c| = \\langle b|P^\\dagger = (\\langle a| Q^\\dagger) P^\\dagger\n",
    "$$\n",
    "\n",
    "Using the associativity $PQ$, $\\langle c| = \\langle a| (PQ)^\\dagger$.  By direct comparison, we find\n",
    "\n",
    "$$\n",
    "(PQ)^\\dagger = Q^\\dagger P^\\dagger.\n",
    "$$ (PQ_dagger)\n",
    "\n",
    "We learned a similar relation in a linear algebra course: $(PQ)^T=Q^T P^T$ where $P$ and $Q$ are matrices and $T$ is transpose.  We will see that this equality is indeed equivalent to {eq}`PQ_dagger`.\n"
   ]
  },
  {
   "cell_type": "markdown",
   "id": "902a8fc1-840a-4646-9fc3-3591e7a94c84",
   "metadata": {
    "tags": []
   },
   "source": [
    "## Identity operator $I$\n",
    "\n",
    "The simplest operator is the _identity_ operator $I$ which transforms a vector to itself: \n",
    "\n",
    "$$\n",
    "|a \\rangle = I |a \\rangle.\n",
    "$$\n",
    "\n",
    "The adjoint of the transformation is given by\n",
    "\n",
    "$$\n",
    "\\langle a | = \\langle a | I^\\dagger\n",
    "$$\n",
    "\n",
    "It is easy to show that for any operator $A$, \n",
    "\n",
    "$$\n",
    "A\\,I = I\\, A = A.\n",
    "$$\n",
    "\n",
    "The identity operator looks trivial.  However, it is ubiquitous in quantum computation. First of all, it is needed to define inverse operators.  The inverse operator of $A$ is defined by\n",
    "\n",
    "$$\n",
    "A^{-1} A = A A^{-1} = I.\n",
    "$$\n",
    "\n",
    "Not all operators have their inverse but most of operators we use in quantum computation do."
   ]
  },
  {
   "cell_type": "markdown",
   "id": "9a4e0586-fd11-45d2-b587-71ce014bb6f8",
   "metadata": {},
   "source": [
    "\n",
    "___  \n",
    "\n",
    "**Exercise** {numref}`%s <sec-operators>`.3 &nbsp;   The identity operator $I$ satisfies $I = I^{-1} = I^\\dagger = I^2$.  Prove it.  \n",
    "\n",
    "___  \n"
   ]
  },
  {
   "cell_type": "markdown",
   "id": "37d77d36-7553-4f34-aae4-d65281cccd93",
   "metadata": {},
   "source": [
    "## Matrix elements\n",
    "\n",
    "Consider an expression $\\langle a | A | b \\rangle$.  It is not clear if $A$ is acting on the ket or the bra. Let us assume that $A$ acts on the ket as$\\langle b | (A | a \\rangle)$.  Then, it is a regular inner product.  If $A | a \\rangle=| c \\rangle$, it is indeed $\\langle  b|c \\rangle$.  It turns out that when $A$ can act on the bra, the same inner product is obtained.  Therefore, we don't have to specify which way the operator acts.  The quantity $\\langle a | A | b \\rangle$ is called _matrix element_ of $A$.  \n",
    "\n",
    "Most of mathematical objects we encounter in quantum mechanics are defined in some abstract space and they are not directly connected to what we see in the real world.  The inner products and also matrix elements are numbers we are familiar with.  Hence, abstract expressions of quantum mechanics and physical values we experience in the real world are connected through the inner product.  In this sense, the inner product is very essential.  Without it, quantum mechanics is completely separated from the real world and would be useless.\n"
   ]
  },
  {
   "cell_type": "markdown",
   "id": "ea67cb9c-b61f-4d90-a07e-a6b12a869112",
   "metadata": {},
   "source": [
    "**Example** {numref}`%s <sec-operators>`.3 &nbsp;   $\\langle 0|X| 0 \\rangle = 0$.  \n",
    "\n",
    "> Calculation: $\\langle 0|X| 0 \\rangle = \\langle 0 | 1 \\rangle = 0$ where $X| 0 \\rangle = | 1 \\rangle$ is used.\n",
    "\n",
    "**Example** {numref}`%s <sec-operators>`.4 &nbsp;   $\\langle +|H| + \\rangle = \\frac{1}{\\sqrt{2}}$. \n",
    "\n",
    "> Calculation: $\\langle +|H| + \\rangle = \\langle + | 0 \\rangle = \\left(\\frac{1}{\\sqrt{2}}(\\langle 0 + \\langle 1| \\right) | 0 \\rangle = \\frac{1}{\\sqrt{2}} \\left(\\langle 0|0 \\rangle + \\langle 1|0 \\rangle \\right)= \\frac{1}{\\sqrt{2}}.\n",
    "$."
   ]
  },
  {
   "cell_type": "markdown",
   "id": "55683d7b-9499-411c-a319-4d2b5ba01c27",
   "metadata": {},
   "source": [
    "\n",
    "___  \n",
    "\n",
    "**Exercise** {numref}`%s <sec-operators>`.4 &nbsp;   Evaluate matrix element $\\langle +| H |-\\rangle$.  \n",
    "\n",
    "___  \n"
   ]
  },
  {
   "cell_type": "markdown",
   "id": "87ef97ed-9e27-4241-a2b7-16456437ee65",
   "metadata": {},
   "source": [
    "## Dyads\n",
    "\n",
    "A kind of product between a bra $\\langle \\psi |$ and a ket $|\\varphi\\rangle$\n",
    "\n",
    "$$\n",
    "|\\varphi\\rangle\\langle \\psi |\n",
    "$$\n",
    "\n",
    "is an operator known as _dyad_.  In fact, it transforms a ket to another ket:\n",
    "\n",
    "$$ \\left(|\\varphi\\rangle\\langle\\psi|\\right) |a\\rangle = |\\varphi\\rangle \\langle \\psi|a \\rangle = \\lambda |\\varphi\\rangle\n",
    "$$\n",
    "\n",
    "where $\\lambda = \\langle \\psi|a \\rangle$.\n",
    "\n",
    "A special case of dyad, $|\\psi\\rangle\\langle\\psi|$ is known as _orthogonal projection operator_.  Assuming $|\\psi\\rangle$ is normalized, it satisfies the idempotency $P^2=P$. Mathematically, the idempotency is the definition of projection operators and the orthogonal projection operator is a special kind of projection operators. However, as in physics literature, we shall call it projection operator without \"orthogonal\".  We have already encounter it in the closure relation of the complete basis set {eq}`completeness`."
   ]
  },
  {
   "cell_type": "markdown",
   "id": "19f35822-7a64-4a32-9cf8-b6376ff7ba46",
   "metadata": {},
   "source": [
    "## Self-adjoint operators\n",
    "\n",
    "When $A = A^\\dagger$, operator $A$ is self-adjoint (or Hermitian).  Identity $I$ and projection operator $P$ are self-adjoint."
   ]
  },
  {
   "cell_type": "markdown",
   "id": "1854108e-4633-455d-849f-01e1908326ae",
   "metadata": {},
   "source": [
    "## Unitary operators\n",
    "\n",
    "When an operator transform a _state vector_ to another _state vector_, the transformation should preserve the norm of the _stat vectors_.  Consider a transformation $|\\psi'\\rangle = U |\\psi\\rangle$ and its adjoint $ \\langle\\psi'| = \\langle\\psi| U^\\dagger$.  Since the norm must preserve, we have\n",
    "$\\langle \\psi'|\\psi' \\rangle =  \\langle\\psi| U^\\dagger U |\\psi\\rangle = \\langle \\psi|\\psi \\rangle$, which indicates that\n",
    "\n",
    "$$\n",
    "U^\\dagger U = I.\n",
    "$$\n",
    "\n",
    "Any operator that satisfies this condition is _unitary_. In quantum computation , we apply a set of gates on an input state vector and the outcome is also a state vector, quantum circuit must be unitary operators (unless quantum measurement is involved in it).  \n",
    "\n",
    "Unitary operators are conveniently written in the exponential form\n",
    "\n",
    "$$\n",
    "U = e^{-i \\theta A}\n",
    "$$\n",
    "\n",
    "where $A$ is a self-adjoint operator and $\\theta$ is a real parameter.  \n",
    "\n",
    "Its adjoint is\n",
    "\n",
    "$$\n",
    "U^\\dagger = e^{i \\theta A^\\dagger} = e^{i \\theta A}\n",
    "$$\n",
    "\n",
    "which leads to $U^\\dagger U = I$ and thus $U$ is unitary. \n",
    "\n",
    "The operator exponential functions are used for time-evolution, space rotation, space translation, $\\cdots$ and they are a key mathematical component for symmetry groups and conservation laws."
   ]
  },
  {
   "cell_type": "markdown",
   "id": "3359f284-2f14-40b4-bee2-63476026c681",
   "metadata": {},
   "source": [
    "\n",
    "___  \n",
    "\n",
    "**Exercise** {numref}`%s <sec-operators>`.5 &nbsp;   Show that $U^\\dagger U = e^{i \\theta A^\\dagger} e^{-i \\theta A} = I$ if $A$ is self-adjoint.\n",
    "\n",
    "___  \n"
   ]
  },
  {
   "cell_type": "markdown",
   "id": "1d509387-cfb3-4931-b49e-ff31146b2424",
   "metadata": {},
   "source": [
    "## Eigenvalues and eigenvectors\n",
    "\n",
    "When an operator $A$ and its adjoint $A^\\dagger$ commute, i.e. $[A,A^\\dagger]=0$, $A$ is a _normal_ operator and there are special kets which are transformed to \"itself\"  by $A$.  Mathematically, it is expressed by\n",
    "\n",
    "$$\n",
    "A |a\\rangle = \\lambda |a\\rangle \n",
    "$$ (eigeneq)\n",
    "\n",
    "where $\\lambda \\in \\mathbb{C}$.  The right hand side is not exactly the \"itself\" but multiplied by a constant $\\lambda$ which is called _eigenvalue_.  (In next section, we will see that $|a\\rangle $ and $\\lambda |a\\rangle $ represent the same physical state.)  The ket $|a\\rangle$ is called _eigenvector_ or _eigenket_ of $A$.\n",
    "\n",
    "There are many such vectors.  More precisely, there are $N$ eigenkets in $N$-dimensional Hilbert space.  Therefore, we write {eq}`eigeneq` as\n",
    "\n",
    "$$\n",
    "A |a_i\\rangle  = \\lambda_i |a_i\\rangle , \\quad i=1,\\cdots, N.\n",
    "$$\n",
    "\n",
    "When $A$ is self-adjoint, the eigenvalues are all real, which is important when we discuss measurement of physical quantities in {numref}`sec_measurement}."
   ]
  },
  {
   "cell_type": "markdown",
   "id": "ba3fd09e-aefa-4ecc-bf98-69fb3ea3d277",
   "metadata": {},
   "source": [
    "## Trace of operators\n",
    "\n",
    "Another operation on operators we often use is tracing.   For an operator $A \\in \\mathcal{H}$, the trace of the operator is defined by\n",
    "\n",
    "$$\n",
    "\\text{tr} A = \\sum_j  \\langle e_j| A  |e_j\\rangle\n",
    "$$\n",
    "\n",
    "where $\\{|e_j\\rangle, \\, j=1,n\\}$ is a basis set in the Hilbert space.  $\\langle e_j| A  |e_j\\rangle$ is matrix element.\n",
    "\n",
    "The following properties of the trace are useful.  ($A$and $B$ are operators and $\\alpha, \\beta \\in \\mathbb{C}$.)\n",
    "\n",
    "* linearity\n",
    "> $\\text{tr}\\left(\\alpha A\\right) = \\alpha\\, \\text{tr} A$   \n",
    "> $\\text{tr} \\left(\\alpha A+\\beta B\\right) = \\alpha\\, \\text{tr} A + \\beta\\, \\text{tr} B$\n",
    "* cyclic permutations\n",
    "> $\\text{tr}\\left(AB\\right) = \\text{tr}\\left(BA\\right)$\n",
    "* adjoint operator\n",
    "> $\\text{tr} A^\\dagger = (\\text{tr} A)^*$\n",
    "\n",
    "\n",
    "The following trace formula for dyads are also useful\n",
    "\n",
    "> $\\text{tr}\\left(|\\varphi\\rangle\\langle \\psi|\\right) = \\langle\\psi|\\varphi\\rangle$.  \n",
    "> $\\text{tr}\\left(A|\\varphi\\rangle\\langle \\psi|\\right) = \\langle\\psi|A|\\varphi\\rangle$. "
   ]
  },
  {
   "cell_type": "markdown",
   "id": "2cc7d7a8-31d9-49a8-bdec-629b478bd33a",
   "metadata": {},
   "source": [
    "\n",
    "___  \n",
    "\n",
    "**Exercise** {numref}`%s <sec-operators>`.6 &nbsp;   Show that $\\text{tr} \\left([A,B]\\right) = 0$,  even when $[A,B]\\ne 0$.\n",
    "\n",
    "___  \n"
   ]
  },
  {
   "cell_type": "markdown",
   "id": "72e335ff-11f9-4e4b-a180-d9a25484f83b",
   "metadata": {},
   "source": [
    "(sec-pauli-ops)=\n",
    "## Pauli Operators\n",
    "\n",
    "Pauli operators $\\sigma_x$. $\\sigma_y$, and $\\sigma_z$ are originally used to express electron spin.  They plays very important roles in the qubit-based quantum computation.\n",
    "\n",
    "Traditionally in literature on quantum computation, symbols $X\\equiv \\sigma_x$, $Y\\equiv \\sigma_y$, and $Z\\equiv \\sigma_z$ are used.  By definition, the Pauli operators satisfy \n",
    "\n",
    "* commutation relation\n",
    "> $[X,Y]=2 i Z, \\qquad [Y,Z]=2 i X, \\qquad [Z,X]=2 i Y$\n",
    "* anti-commutatioan relation\n",
    "> $\\{X,Y\\} = \\{Y,Z\\} = \\{Z,X\\} = 0$\n",
    "* self-inverse\n",
    "> $X^2 = Y^2 = Z^2 = I$\n",
    "* self-adjoint\n",
    "> $X^\\dagger=X, \\qquad Y^\\dagger=Y, \\qquad Z^\\dagger = Z$\n",
    "* unitary\n",
    "> $X^\\dagger X = Y^\\dagger Y = Z^\\dagger Z = I$\n",
    "\n",
    "In $\\mathbb{C}^2$, any operator $A$ can be written as\n",
    "\n",
    "$$\n",
    "A = c_0 I + c_1 X + c_2 Y + c_3 Z\n",
    "$$\n",
    "\n",
    "where $c_0 = \\text{tr}(I A)$, $c_1 = \\text{tr}(X A)$, $c_2 = \\text{tr}(Y A)$, and $c_3 = \\text{tr}(Z A)$.  When $A$ is self-adjoint, all the coefficients are real."
   ]
  },
  {
   "cell_type": "markdown",
   "id": "ac50fdbf-f374-4553-8773-4a882f09d35d",
   "metadata": {},
   "source": [
    "\n",
    "___  \n",
    "\n",
    "**Exercise** {numref}`%s <sec-operators>`.7 &nbsp;   Using the properties given above\n",
    "1. Show that $X Y = i Z$,\n",
    "2. Show that $XYZ = i I$,\n",
    "3. Show that $\\text{tr} X = \\text{tr} Y = \\text{tr} Z = 0$.\n",
    "\n",
    "___  \n"
   ]
  },
  {
   "cell_type": "markdown",
   "id": "d152ede9-1f1d-46e5-a3e7-7324d6849ce4",
   "metadata": {},
   "source": [
    "Among the three Pauli operators, $X$ is the most important for quantum computation. Its main roles are:\n",
    "\n",
    "* $X$ flips the computational basis.\n",
    "> $X |0\\rangle = |1\\rangle, \\qquad X |1\\rangle = |0\\rangle$.\n",
    "* $X$ swaps the coefficients in a superposition state.\n",
    "> $X \\left(c_0|0\\rangle + c_1 |1\\rangle\\right) = c_1|0\\rangle + c_0 |1\\rangle$,\n",
    "\n",
    "$Z$ does not flip the basis but change the relative phase.\n",
    "\n",
    "* $Z$ does nothing on $|0\\rangle$\n",
    "> $Z |0\\rangle = |0\\rangle$.\n",
    "* $Z$ inverts the phase of $|1\\rangle$.\n",
    "> $Z |1\\rangle = - |1\\rangle$.\n",
    "* When acting on a superposition state $Z$ changes the relative phase as\n",
    "> $Z \\left(c_0|0\\rangle + c_1 |1\\rangle\\right) = c_0|0\\rangle - c_1|1\\rangle$\n",
    "\n",
    "When $Z$ acts on $|1\\rangle$, the ket acquires a new phase \"$-$\". Since the global phase is irrelevant, the operator essential does nothing thing to $|0\\rangle$ nor $|1\\rangle$. However, when it acts on a superposition state, the relative phase between $|0\\rangle$ and $|1\\rangle$ changes."
   ]
  },
  {
   "cell_type": "markdown",
   "id": "06624c44-29d8-4885-9e0c-ef4c00334432",
   "metadata": {},
   "source": [
    "Any operator $A$ In $\\mathbb{C}^2$ can be decomposed as\n",
    "\n",
    "$$\n",
    "A = c_0 I + c_1 X + c_2 Y + c_3 Z\n",
    "$$\n",
    "\n",
    "where $c_0 = \\text{tr}(I A)$, $c_1 = \\text{tr}(X A)$, $c_2 = \\text{tr}(Y A)$, and $c_3 = \\text{tr}(Z A)$.  This decomposition suggests that we need only $I$ and the Pauli operators to transform a qubit."
   ]
  },
  {
   "cell_type": "markdown",
   "id": "400c003d-deb6-4175-85c6-17849b540fee",
   "metadata": {},
   "source": [
    "\n",
    "___  \n",
    "\n",
    "**Exercise** {numref}`%s <sec-operators>`.8 &nbsp;   Initially a qubit is in $|0\\rangle$. We want to transform it to $|-\\rangle = \\frac{1}{\\sqrt{2}} \\left(|0\\rangle - |1\\rangle\\right)$. In previous sections, we learn that the Hadamard gate transforms $|1\\rangle$ to $|-\\rangle$. Pick two operators from $X$, $Z$, $H$, and construct a quantum circuit that transforms $|0\\rangle$ to $|-\\rangle$.  There are two possible combinations. Find both.  (The following Qiskit example veryify the solutions.\n"
   ]
  },
  {
   "cell_type": "markdown",
   "id": "1f7c03d9-5850-4856-9384-7506a437450c",
   "metadata": {},
   "source": [
    "__Qiskit Example__\n",
    "\n",
    "We shall demonstrate the two solution to the above exercise using Qiskit.  We use two qubits.  Initially they are both in $|0\\rangle$.  Then, we apply different gates to them. At the end, both should be in $|-\\rangle$.  In this example, we use `statevector_simulator` which calculate the transformation exactly.\n",
    "\n"
   ]
  },
  {
   "cell_type": "code",
   "execution_count": 1,
   "id": "bcbfbad9-bbdc-4897-b40f-0217a77f4589",
   "metadata": {},
   "outputs": [
    {
     "data": {
      "image/png": "[encoded data removed]",
      "text/plain": [
       "<Figure size 206.852x144.48 with 1 Axes>"
      ]
     },
     "execution_count": 1,
     "metadata": {
      "filenames": {
       "image/png": "/home/kawai/teaching/mybooks/qcomp-short/_build/jupyter_execute/qmsummary/operators_28_0.png"
      }
     },
     "output_type": "execute_result"
    }
   ],
   "source": [
    "from qiskit import *\n",
    "from qiskit.quantum_info import Statevector\n",
    "# declare to use two qubit\n",
    "qr = QuantumRegister(2,'q')\n",
    "\n",
    "# reset a quantum circuit with the two qubit\n",
    "qc = QuantumCircuit(qr)\n",
    "\n",
    "# We apply X and H on the first qubit\n",
    "qc.x(0)\n",
    "qc.h(0)\n",
    "\n",
    "# We apply H and Z on the second qubit\n",
    "qc.h(1)\n",
    "qc.z(1)\n",
    "\n",
    "# Show the circuit\n",
    "qc.draw('mpl')"
   ]
  },
  {
   "cell_type": "code",
   "execution_count": 2,
   "id": "de99e8c1-f62c-4554-a678-aeac4ef57459",
   "metadata": {
    "tags": []
   },
   "outputs": [
    {
     "data": {
      "image/png": "[encoded data removed]",
      "text/plain": [
       "<Figure size 576x288 with 2 Axes>"
      ]
     },
     "execution_count": 2,
     "metadata": {
      "filenames": {
       "image/png": "/home/kawai/teaching/mybooks/qcomp-short/_build/jupyter_execute/qmsummary/operators_29_0.png"
      }
     },
     "output_type": "execute_result"
    }
   ],
   "source": [
    "\n",
    "# We use state vector simulator\n",
    "backend = Aer.get_backend('statevector_simulator')\n",
    "job = backend.run(qc)\n",
    "result = job.result()\n",
    "psi=result.get_statevector(qc)\n",
    "\n",
    "# plot_bloch_multivector plots Bloch vector for each qubit.\n",
    "from qiskit.visualization import plot_bloch_multivector\n",
    "plot_bloch_multivector(psi)\n",
    "\n",
    "# Find that both qubits are |-> "
   ]
  },
  {
   "cell_type": "markdown",
   "id": "10a21245-8d94-462f-baae-82fed5546c13",
   "metadata": {},
   "source": [
    ":::{admonition} Qiskit note: Pauli Operators\n",
    ":class: tip\n",
    "\n",
    "In {numref}`sec-statevectors`, we calculated inner products of computational basis using `qiskit.opflow` module.  The same module provides predefined Pauli operators  `I`, `X`, `Y`, and `Z`.   Applying operator on ket is done with \"@\".  For example $X |0\\rangle$ is `(X@One).eval()` in Qiskit.\n",
    "\n",
    "\n",
    "[QIskit API Reference: qiskit.opflow](https://qiskit.org/documentation/apidoc/opflow.html)\n",
    ":::"
   ]
  },
  {
   "cell_type": "code",
   "execution_count": 3,
   "id": "96408965-bee8-4114-afd8-db4eb8644417",
   "metadata": {},
   "outputs": [
    {
     "name": "stdout",
     "output_type": "stream",
     "text": [
      "I|0> == |0>  True\n",
      "I|1> == |1>  True\n",
      "\n",
      "X|0> == |1>  True\n",
      "X|1> == |0>  True\n",
      "\n",
      "X is self-adjoint  True\n",
      "X is unitary  True\n"
     ]
    }
   ],
   "source": [
    "from qiskit.opflow import Zero, One, I, X, Y, Z\n",
    "\n",
    "# Show that I|0>=|0> and (|1>=|1>\n",
    "print(\"I|0> == |0> \",I@Zero == Zero)\n",
    "print(\"I|1> == |1> \",I@One == One)\n",
    "\n",
    "print()\n",
    "\n",
    "# Show that Z|0>=|1> and X|1>=|0>\n",
    "# X*ket must be evaluated by .eval()\n",
    "print(\"X|0> == |1> \",(X@One).eval() == Zero)\n",
    "print(\"X|1> == |0> \",(X@Zero).eval() == One)\n",
    "\n",
    "print()\n",
    "\n",
    "# Check if X is self-sdjoint\n",
    "print(\"X is self-adjoint \",~X == X)\n",
    "\n",
    "# Check if X is unitary\n",
    "# I and X are defined in different way, we need to eval() in both sieds.\n",
    "print(\"X is unitary \",(~X @ X).eval() == I.eval())\n"
   ]
  },
  {
   "cell_type": "markdown",
   "id": "5084166e-bdda-4010-9df1-a9441017d2c0",
   "metadata": {},
   "source": [
    "\n",
    "___\n",
    "\n",
    "**Exercise** {numref}`%s <sec-operators>`.9 &nbsp;   Demonstrate $Z|0\\rangle=|0\\rangle$ and $Z|1\\rangle=-|1\\rangle$ using the `qiskit.opflow` module.\n",
    "\n",
    "___"
   ]
  },
  {
   "cell_type": "code",
   "execution_count": 4,
   "id": "2bc5486d-a1cc-4551-82a3-e84ee975c817",
   "metadata": {},
   "outputs": [
    {
     "data": {
      "image/png": "[encoded data removed]",
      "text/plain": [
       "<Figure size 288x288 with 1 Axes>"
      ]
     },
     "execution_count": 4,
     "metadata": {
      "filenames": {
       "image/png": "/home/kawai/teaching/mybooks/qcomp-short/_build/jupyter_execute/qmsummary/operators_33_0.png"
      }
     },
     "output_type": "execute_result"
    }
   ],
   "source": [
    "from qiskit.visualization import plot_bloch_multivector\n",
    "plot_bloch_multivector(One)"
   ]
  },
  {
   "cell_type": "markdown",
   "id": "4c484ef0-5b83-458f-9043-02f7240f8047",
   "metadata": {},
   "source": [
    "## Functions of operators\n",
    "\n",
    "A function $f(x)$ maps an input value $x$ to an output value $f$.  Then what $f(A)$ means if $A$ is an operator? It is interpreted as a map from an operator $A$ to another operator $f$.  For example exponential function $e^x$ is a number and $e^A$ is an operator. But it is not clear how the function of of operator is applied to a vector?  We define $e^A$ using a power series (Taylor expansion).  For example,\n",
    "\n",
    "$$\n",
    "e^x = 1 + x + \\frac{1}{2}x^2 + \\cdots + \\frac{1}{n!}x^n + \\cdots\n",
    "$$\n",
    "\n",
    "Now we replace 1 with $I$ and $x$ with $A$.\n",
    "\n",
    "$$\n",
    "e^A = I + A + \\frac{1}{2} A^2 + \\cdots \\frac{1}{n!} A^n + \\cdots\n",
    "$$\n",
    "\n",
    "Since we know how to calculate the product of operators, there is no problem with $A^n$.  Hence, we evaluate\n",
    "\n",
    "$$\n",
    "e^A |\\psi\\rangle = I |\\psi\\rangle + A |\\psi\\rangle + \\cdots + \\frac{1}{n!} A^n |\\psi\\rangle + \\cdots.\n",
    "$$\n",
    "\n",
    "For a general function $f(A)$, we assume that $f(x)$ is a nice smooth function which can be expanded in a power series.  Then, the function of operator is understood as\n",
    "\n",
    "$$\n",
    "f(A) = I + c_1 A + c_2 A^2 + \\cdot + c_n A^n + \\cdots, \\qquad \\text{where  } c_n = \\frac{1}{n!} \\frac{d f}{dx} \\Big|_{x=0}\n",
    "$$\n",
    "\n",
    "We don't consider a function singular at $x=0$ like $\\log{A}$.\n",
    "\n",
    "A special care is required for a function of multiple operators.  For example we are familiar with  $e^{x+y} = e^x e^y,\\,$ if $x$ and $y$ are regular numbers.  In contrast,  $e^{A+B} \\ne e^A e^B,\\,\\,$ if $[A,B]\\ne 0$."
   ]
  },
  {
   "cell_type": "markdown",
   "id": "1c7bdba7-9cef-4355-a124-1f85a1258056",
   "metadata": {},
   "source": [
    "\n",
    "___\n",
    "\n",
    "**Exercise** {numref}`%s <sec-operators>`.10 &nbsp;   For Pauli operator $X$, show that $\\,e^{i \\theta X} = I \\cos \\theta - i X \\sin \\theta \\,$ where $\\theta$ is a real number. Hint: Use $X^2=I$ in the power series.\n",
    "\n",
    "When $\\theta=\\frac{\\pi}{4}$, the equality indicates that $e^{i \\frac{\\pi}{4} X} = \\frac{1}{\\sqrt{2}}  ( I - i X)$.  Applying the operator on $|0\\rangle$ we obtain $e^{i \\frac{\\pi}{4} X}|0\\rangle = \\frac{1}{\\sqrt{2}} \\left (|0\\rangle  - i |1\\rangle \\right)$.\n",
    "In the following Qiskit example, we will check it using `qiskit.opflow` module.\n",
    "\n",
    "___\n"
   ]
  },
  {
   "cell_type": "code",
   "execution_count": 5,
   "id": "4cda7699-0ca4-40fd-8b01-5220ee106c93",
   "metadata": {},
   "outputs": [
    {
     "data": {
      "text/latex": [
       "$$\\frac{\\sqrt{2}}{2} |0\\rangle- \\frac{\\sqrt{2} i}{2} |1\\rangle$$"
      ],
      "text/plain": [
       "<IPython.core.display.Latex object>"
      ]
     },
     "execution_count": 5,
     "metadata": {},
     "output_type": "execute_result"
    }
   ],
   "source": [
    "# import numpy\n",
    "import numpy as np\n",
    "\n",
    "# import qiskit.opflow\n",
    "from qiskit.opflow import Zero, One, I, X, Y, Z\n",
    "\n",
    "# we use Statevector class for vidualization\n",
    "from qiskit import *\n",
    "\n",
    "# construct the exponential operator using a method exp_i()\n",
    "# X.exp_i() creates exp(i X)\n",
    "expX=(np.pi/4*X).exp_i()\n",
    "\n",
    "# evaluate expX * Zero\n",
    "psi=(expX@Zero).eval()\n",
    "\n",
    "# print out the results\n",
    "# attribute 'primitive' extracts the information of the vector\n",
    "# method 'draw('latex')' print out the vector using LaTeX.\n",
    "# The detailed usage of attributes and methods are given in later chapters.\n",
    "psi.primitive.draw('latex')"
   ]
  },
  {
   "cell_type": "markdown",
   "id": "4f7d17d7-42e3-45db-9242-7fa8172ec3f4",
   "metadata": {},
   "source": [
    "\n",
    "___  \n",
    "\n",
    "Version 0.8.0: &nbsp; Last modified on May 3, 2022"
   ]
  },
  {
   "cell_type": "code",
   "execution_count": null,
   "id": "63120fa1-b04c-4eea-b0eb-5ebc04fb4114",
   "metadata": {},
   "outputs": [],
   "source": []
  }
 ],
 "metadata": {
  "kernelspec": {
   "display_name": "Python 3 (ipykernel)",
   "language": "python",
   "name": "python3"
  },
  "language_info": {
   "codemirror_mode": {
    "name": "ipython",
    "version": 3
   },
   "file_extension": ".py",
   "mimetype": "text/x-python",
   "name": "python",
   "nbconvert_exporter": "python",
   "pygments_lexer": "ipython3",
   "version": "3.9.12"
  }
 },
 "nbformat": 4,
 "nbformat_minor": 5
}