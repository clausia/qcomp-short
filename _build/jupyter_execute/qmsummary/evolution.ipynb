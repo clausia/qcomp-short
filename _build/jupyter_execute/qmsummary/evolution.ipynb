{
 "cells": [
  {
   "cell_type": "markdown",
   "id": "2ac5b363-a42e-49be-868d-73c71a2c1de5",
   "metadata": {},
   "source": [
    "(chap-time-evolution)=\n",
    "# Time-evolution"
   ]
  },
  {
   "cell_type": "markdown",
   "id": "dc61050e-4b6f-415d-8a00-1f232c8d8b11",
   "metadata": {},
   "source": [
    "The state of the classical particles change according to the Newton equation, which is a set of ordinary differential equations. Equivalently,  the trajectory can be computed from the Hamilton equations of motion, by measurement\n",
    "\n",
    "$$\n",
    "\\dot{q} = \\frac{\\partial H}{\\partial p}, \\qquad \\dot{p} = -\\frac{\\partial H}{\\partial q}\n",
    "$$\n",
    "\n",
    "where $H$ is a Hamiltonian.\n",
    "\n",
    "The state vector of a quantum system evolves in time according to the Schr&ouml;dinger equation\n",
    "\n",
    "$$\n",
    "i \\frac{\\partial}{\\partial t} |\\psi\\rangle = H |\\psi\\rangle\n",
    "$$\n",
    "\n",
    "where $H$ is Hamiltonian operator.  Equivalently,  the solution can be written as\n",
    "\n",
    "$$\n",
    "|\\psi(t)\\rangle = U(t) |\\psi(0)\\rangle\n",
    "$$\n",
    "\n",
    "where $U(t)$ is a unitary operator and $|\\psi(0)\\rangle$ an initial state.  We call this type of evolution _unitary_ evolution. Quantum computation solves this equation.  We will solve it using `Qiskis`."
   ]
  },
  {
   "cell_type": "markdown",
   "id": "9c21f25b-34d0-4777-9fb8-f350bd00e87f",
   "metadata": {},
   "source": [
    "\n",
    "___  \n",
    "\n",
    "(version 0.0.1: &nbsp;   Lat modified on April 7, 2022)\n"
   ]
  },
  {
   "cell_type": "code",
   "execution_count": null,
   "id": "b1bcbc8b-56ea-40af-8de8-520b5ed62283",
   "metadata": {},
   "outputs": [],
   "source": []
  }
 ],
 "metadata": {
  "kernelspec": {
   "display_name": "Python 3 (ipykernel)",
   "language": "python",
   "name": "python3"
  },
  "language_info": {
   "codemirror_mode": {
    "name": "ipython",
    "version": 3
   },
   "file_extension": ".py",
   "mimetype": "text/x-python",
   "name": "python",
   "nbconvert_exporter": "python",
   "pygments_lexer": "ipython3",
   "version": "3.9.12"
  }
 },
 "nbformat": 4,
 "nbformat_minor": 5
}