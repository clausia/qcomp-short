{
 "cells": [
  {
   "cell_type": "markdown",
   "id": "78f2194b-9455-46de-bc13-2a376159ede5",
   "metadata": {},
   "source": [
    "(ch-composites)=\n",
    "# Composite Systems"
   ]
  },
  {
   "cell_type": "markdown",
   "id": "902f0740-08c5-40f8-8f1f-583ebbb4b5a7",
   "metadata": {},
   "source": [
    "A single qubit is a smallest information carrying unit similar to classical bit.  Despite that a qubit can take infinitely many different states on the surface of a Bloch sphere, it carries the same amount of information as a classical bit since measurement of a qubit produces only two different values like a classical bit.  A practically useful quantum computer needs many qubits. Desktop computers process 64 bits of information inside a CPU and store information in giga bits of memory. At least similar number of qubits are needed for practical quantum computation.  However, the states of multiple qubits are much more complicated that the same number of classical bits. There are a special kind of superposition states known as *quantum entanglement*, which cannot realized in classical bits.  It turns out the entanglement is the most powerful resource for quantum computation.\n",
    "\n",
    "In this chapter, we study mathematical properties of a composite system consisting of multiple qubits and two-qubit gates which act on two qubits in such a way that the transformation of one qubit  depends on the other qubit and vice versa. "
   ]
  },
  {
   "cell_type": "code",
   "execution_count": null,
   "id": "67b2eaab-fab7-418b-bea2-76f125e1ae99",
   "metadata": {},
   "outputs": [],
   "source": []
  }
 ],
 "metadata": {
  "kernelspec": {
   "display_name": "Python 3 (ipykernel)",
   "language": "python",
   "name": "python3"
  },
  "language_info": {
   "codemirror_mode": {
    "name": "ipython",
    "version": 3
   },
   "file_extension": ".py",
   "mimetype": "text/x-python",
   "name": "python",
   "nbconvert_exporter": "python",
   "pygments_lexer": "ipython3",
   "version": "3.9.12"
  }
 },
 "nbformat": 4,
 "nbformat_minor": 5
}