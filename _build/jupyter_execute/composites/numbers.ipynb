{
 "cells": [
  {
   "cell_type": "markdown",
   "id": "a93e0c8d-199c-485b-9756-af7c325fd7f5",
   "metadata": {},
   "source": [
    "(sec-numbers)=\n",
    "# Encoding numbers\n",
    "\n",
    "If a quantum computation involves numbers, first we need to encode them.The situation is not much different from classical computing.  First, we have only finite number of qubits, we cannot encode all numbers.  Secondly, strictly speaking continuous numbers cannot be expressed in digital computers.  In this section, we study how to encode integer numbers and real numbers."
   ]
  },
  {
   "cell_type": "markdown",
   "id": "6f117cd7-4fe1-4ecf-9b05-26894355962a",
   "metadata": {},
   "source": [
    "## Integers\n",
    "\n",
    "Suppose that we encode integers in $n$ qubits. We just use the same encoding scheme as classical encoding.   That is to express intgers in binary and map them to bit string. Recall the inter indexing of the computational basis introduced in {numref}`ssec-notations` which also uses the binary string. Hence, integers from $0$ to $2^n-1$ can be expressed by the computational basis\n",
    "\n",
    "$$\n",
    "j \\quad \\Rightarrow \\quad |j\\rangle_n\n",
    "$$\n",
    "\n",
    "For example, $151 \\Rightarrow |151\\rangle_8 = |10010111\\rangle$.  You can also encode the same number with more qubits. Using $16$ qubits, $151 \\Rightarrow |151\\rangle_{16} = |0000000010010111\\rangle$.  The lower half of the binary string matches to the 8-qubit expression.\n",
    "\n",
    "The following Qiskit example encode 151 in eight qubits."
   ]
  },
  {
   "cell_type": "code",
   "execution_count": 1,
   "id": "bb9903e6-b8fe-49a8-b8e9-43899467ba6e",
   "metadata": {},
   "outputs": [
    {
     "data": {
      "text/latex": [
       "$$ |10010111\\rangle$$"
      ],
      "text/plain": [
       "<IPython.core.display.Latex object>"
      ]
     },
     "execution_count": 1,
     "metadata": {},
     "output_type": "execute_result"
    }
   ],
   "source": [
    "from qiskit import *\n",
    "\n",
    "qr=QuantumRegister(8,'q')\n",
    "qc=QuantumCircuit(qr)\n",
    "\n",
    "# create integer 151\n",
    "qc.x([0,1,2,4,7])\n",
    "\n",
    "from qiskit.quantum_info import Statevector\n",
    "\n",
    "Statevector(qc).draw('latex')"
   ]
  },
  {
   "cell_type": "markdown",
   "id": "79c85ee7-438c-4906-8932-ba3548c12038",
   "metadata": {},
   "source": [
    "## Real numbers with floating point arithmetic\n",
    "\n",
    "Real numbers are continuous and thus there are uncountable many numbers even upper and lower bounds are limited.  The situation is same in classical computation.  THerefore, we express real numbers approximately using the [*floating-point arithmetic*](https://en.wikipedia.org/wiki/Floating-point_arithmetic) method.  Suppose that we write a real number in a scientific notation *mantissa* $\\times$ *scale*, for example in base 10 $0.3452 \\times 10^7$.  We can always make the mantissa less than 1 by adjusting the scaling.  We can also make the mantissa integer as $3452 \\times 10^3$. \n",
    "Therefore, the scientific notation can be written as integer times scaling.\n",
    "Now, we use the similar expression in binary.  Consider a binary fractional number $0.10011 \\times 2^{10}$.  The mantissa can be written as \n",
    "\n",
    "$$\n",
    "0.10011 = \\frac{1}{2} + \\frac{1}{2^4} + \\frac{1}{2^5} = \\frac{1}{2^5} \\left (2^4 \\times 1 + 2 \\times 1  + 1 \\right) =  \\frac{1}{2^5} \\times 10011\n",
    "$$\n",
    "\n",
    "Hence, $0.10011 \\times 2^{10} = 10011 \\times 2^5$.\n",
    "\n",
    "In general binary fractional number expressed with $n$ qubits  is written as\n",
    "\n",
    "$$\n",
    "0.j_{n-1}\\,j_{n-2}\\,...\\,j_1\\,j_0 =  \\frac{1}{2^n} \\left ( 2^{n-1} j_{n-1} + 2^{n-2} j_{n-2} + \\cdots + 2 j_1 + j_0 \\right)  = \\frac{1}{2^n} \\sum_{k=0}^{n-1} 2^k j_k\n",
    "$$\n",
    "\n",
    "which indicate that the mantissa can be written as an integer divided by $2^n$.\n",
    "Real numbers smaller than 1 can be approximately encoded with $n$ qubit as integer devided by $2^n$.  In practice, $0<x<1$ is encoded as $|2^n x\\rangle = |j\\rangle_n$.  At the end of computation, we can find $x$ by computing $j/2^n$ on a classical computer. \n",
    "\n",
    "Using 3 qubits, we can encode eight real numbers, \n",
    "$\\frac{0}{8} = 0$, $\\frac{1}{8} = 0.125$, $\\frac{2}{8} = 0.25$, $\\frac{3}{8} = 0.375$,\n",
    "$\\frac{4}{8} = 0.5$, $\\frac{5}{8}=0.625$, $\\frac{6}{8}=0.75$, $\\frac{7}{8}= 0.875$. The gap between two adjacent values is $0.125$, too big as approximated real number.  However, for some applications, this is good enough. See for examples, {numref}`sec-qft` and {numref}`sec-qpe`. If $64$ qubits are available, we can encode $2^{64} = 18446744073709551616$ different real numbers between 0 and 1.  That means the gap is approximately $5.42101086 \\times 10^{-20}$, which is small enough for most of applications.  Unfortunately, the currently available quantum computer do not have enough qubits to use floating point arithmetic.\n"
   ]
  },
  {
   "cell_type": "code",
   "execution_count": 2,
   "id": "eebce4c3-1568-45c4-bcbe-cba5bd1bc38a",
   "metadata": {},
   "outputs": [
    {
     "name": "stdout",
     "output_type": "stream",
     "text": [
      "|101> corresponds to x=0.625\n"
     ]
    }
   ],
   "source": [
    "from qiskit import *\n",
    "\n",
    "qr=QuantumRegister(3,'q')\n",
    "qc=QuantumCircuit(qr)\n",
    "\n",
    "# create |101>\n",
    "qc.x([0,2])\n",
    "\n",
    "# find corresponding real number\n",
    "# extract output\n",
    "psi=Statevector(qc).to_dict()\n",
    "psi=list(psi.keys())[0]\n",
    "x = int(psi[2])/2. + int(psi[1])/2**2.+ int(psi[0])/2**3.\n",
    "\n",
    "print(\"|{0:s}> corresponds to x={1:5.3f}\".format(psi,x))"
   ]
  },
  {
   "cell_type": "markdown",
   "id": "e983fa64-0bdf-40f5-9600-1800e1ccf057",
   "metadata": {},
   "source": [
    "## Real numbers encoded in coefficients\n",
    "\n",
    "Unlike classical bits, quantum states naturally contains continuous numbers in superposition states.  Consider general qubit state\n",
    "\n",
    "$$\n",
    "|\\psi\\rangle = \\cos\\left(\\frac{\\pi x}{2}\\right) |0\\rangle + \\sin\\left(\\frac{\\pi x}{2}\\right) e^{2\\pi y} |1\\rangle\n",
    "$$\n",
    "\n",
    "where $0<x<1$ and $0<y<1$.  We can store two real numbers $x$ and $y$ in a single qubit. Their value can be determined by the method discussed in {numref}`sec-state-tomography`.  It is relatively easy to encode and decode the data.  However, it is not trivial to use $x$ and $y$ in actual calculation.  However, this method works in certain application nicely, especially the real numbers represent angles."
   ]
  },
  {
   "cell_type": "markdown",
   "id": "18cbea62-64a3-415d-9f7a-e55aba75aaea",
   "metadata": {},
   "source": [
    "let us calculate $\\cos(A)\\cos(B)\\cos(C),\\, \\cos(A)\\cos(B)\\sin(C),\\, \\cdots\\, \\sin(A)\\sin(B)\\sin(C)$ all at once where $0<A, B, C<\\pi/2$. Using three qubits, we construct a state\n",
    "\n",
    "$$\n",
    "\\begin{align}\n",
    "|\\psi\\rangle &=\\left(\\cos(A)|0\\rangle + \\sin(A)|1\\rangle\\right) \\otimes \\left(\\cos(B)|0\\rangle + \\sin(B)|1\\rangle\\right) \\otimes \\left(\\cos(C)|0\\rangle + \\sin(C)|1\\rangle\\right) \\\\\n",
    "&= \\cos(A)\\cos(B)\\cos(C)|000\\rangle + \\cos(A)\\cos(B)\\sin(C)|001\\rangle + \\cdots + \\sin(A)\\sin(B)\\sin(C)|111\\rangle\n",
    "\\end{align}\n",
    "$$\n",
    "\n",
    "By measuring all qubits, we obtain probabilities $p_{000}, \\cdots, p_{111}$.  Then,\n",
    "$\\cos(A)\\cos(B)\\cos(C) = \\sqrt{p_{000}}, \\cdots $.  Now we calculated all combination of three trig functions simultaneously."
   ]
  },
  {
   "cell_type": "code",
   "execution_count": 3,
   "id": "582f3e46-5815-4a77-a837-8f05de80252b",
   "metadata": {},
   "outputs": [
    {
     "name": "stdout",
     "output_type": "stream",
     "text": [
      " cos sin cos  = 0.306\n",
      " sin sin sin  = 0.301\n",
      " cos sin sin  = 0.531\n",
      " cos cos cos  = 0.308\n",
      " cos cos sin  = 0.531\n",
      " sin cos sin  = 0.303\n",
      " sin sin cos  = 0.174\n",
      " sin cos cos  = 0.184\n"
     ]
    }
   ],
   "source": [
    "import numpy as np\n",
    "from qiskit import *\n",
    "\n",
    "cr=ClassicalRegister(3,'c')\n",
    "qr=QuantumRegister(3,'q')\n",
    "qc=QuantumCircuit(qr,cr)\n",
    "\n",
    "A=np.pi/3\n",
    "B=np.pi/4\n",
    "C=np.pi/6\n",
    "\n",
    "qc.ry(2*A,0)\n",
    "qc.ry(2*B,1)\n",
    "qc.ry(2*C,2)\n",
    "\n",
    "qc.measure([0,1,2],[0,1,2])\n",
    "\n",
    "# Chose a general quantum simulator without noise.\n",
    "# The simulator behaves as an ideal quantum computer.\n",
    "backend = Aer.get_backend('qasm_simulator')\n",
    "\n",
    "# set number of tries\n",
    "nshots=8192\n",
    "\n",
    "# execute the quantum circuit and store the outcome\n",
    "job = backend.run(qc,shots=nshots)\n",
    "\n",
    "# extract the result\n",
    "result = job.result()\n",
    "\n",
    "# count the outcome\n",
    "counts = result.get_counts()\n",
    "\n",
    "for k in counts.keys():\n",
    "    sqrtp = np.sqrt(counts[k]/nshots)\n",
    "    term=(k.replace('0',' cos')).replace('1',' sin')\n",
    "    print(\"{0:s}  = {1:3.3f}\".format(term,sqrtp))\n"
   ]
  },
  {
   "cell_type": "code",
   "execution_count": null,
   "id": "70cb4c18-7714-498c-9904-6d31b93c5796",
   "metadata": {},
   "outputs": [],
   "source": []
  }
 ],
 "metadata": {
  "kernelspec": {
   "display_name": "Python 3 (ipykernel)",
   "language": "python",
   "name": "python3"
  },
  "language_info": {
   "codemirror_mode": {
    "name": "ipython",
    "version": 3
   },
   "file_extension": ".py",
   "mimetype": "text/x-python",
   "name": "python",
   "nbconvert_exporter": "python",
   "pygments_lexer": "ipython3",
   "version": "3.9.12"
  }
 },
 "nbformat": 4,
 "nbformat_minor": 5
}