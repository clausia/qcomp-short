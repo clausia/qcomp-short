{
 "cells": [
  {
   "cell_type": "markdown",
   "id": "ce31c7e9-c7e8-4335-877a-a631f4d04756",
   "metadata": {},
   "source": [
    "(sec-2qubits)=\n",
    "# Two qubits\n"
   ]
  },
  {
   "cell_type": "markdown",
   "id": "bb02f5e4-cf05-4e30-9259-54fd6c1d7799",
   "metadata": {},
   "source": [
    "## Hilbert space and computational basis\n",
    "\n",
    "First, let us recall that a single qubit is in a two-dimensional Hilbert space $\\mathbb{C}^2$ and the computational basis vectors $0\\rangle$ and $|1\\rangle$ span the space. Now we consider two qubits $q_0$ and $q_1$. The composite system lives in a four-dimensional Hilbert space.  The dimension $4$ is not $2+2$ but $2 \\times 2$.  We write it $\\mathbb{C}^2 \\otimes \\mathbb{C}^2$ where $\\otimes$ indicates *tensor product*.  This mathematical structure is very important. Using the computational basis of each $\\mathbb{C}^2$, we can construct four *computational basis* vectors for the composite system as products $|q_1\\rangle \\otimes |q_0\\rangle$:\n",
    "\n",
    "$$\n",
    "|00\\rangle \\equiv |0\\rangle \\otimes |0\\rangle, \\quad |01\\rangle \\equiv |0\\rangle \\otimes |1\\rangle, \\quad |10\\rangle \\equiv |1\\rangle \\otimes |0\\rangle, \\quad |11\\rangle \\equiv |0\\rangle \\otimes |0\\rangle.\n",
    "$$(computational-basis-q2)\n",
    "\n",
    "The physical meaning of each basis vector is clear. For example, $|01\\rangle$ means $q_0$ is in $\\rangle$ and $q_1$ in $|0\\rangle$.\n",
    "\n",
    "Other basis sets are also used.  The $xx$ basis uses $|\\pm\\rangle$ for both qubits\n",
    "\n",
    "$$\n",
    "|++\\rangle \\equiv |+\\rangle \\otimes |+\\rangle, \\quad |+-\\rangle \\equiv |+\\rangle \\otimes |-\\rangle, \\quad |-+\\rangle \\equiv |-\\rangle \\otimes |+\\rangle, \\quad |--\\rangle \\equiv |-\\rangle \\otimes |-\\rangle\n",
    "$$\n",
    "\n",
    "The mixed basis in which $q_0$ and $q_1$ use different basis kets is also allowed.\n",
    "\n",
    "$$\n",
    "|0+\\rangle \\equiv |0\\rangle \\otimes |+\\rangle, \\quad |0-\\rangle \\equiv |0\\rangle \\otimes |-\\rangle, \\quad |1+\\rangle \\equiv |1\\rangle \\otimes |+\\rangle, \\quad |1-\\rangle \\equiv |1\\rangle \\otimes |-\\rangle\n",
    "$$\n"
   ]
  },
  {
   "cell_type": "markdown",
   "id": "df96eebb-5099-49aa-91d5-2d6444497715",
   "metadata": {},
   "source": [
    "**Exercise** {numref}`%s <sec-2qubits>`.1    Show that the above basis sets are all orthonormal."
   ]
  },
  {
   "cell_type": "markdown",
   "id": "69cfd1da-060d-4b5a-b774-f816653f1656",
   "metadata": {},
   "source": [
    "## Superposition states\n",
    "\n",
    "The state of two-qubit system is expressed as \n",
    "\n",
    "$$\n",
    "c_{00} |00\\rangle + c_{01} |01\\rangle + c_{10} |10\\rangle + c_{11} |11\\rangle.\n",
    "$$\n",
    "\n",
    "What does this state physically means?  To see that, we assume that Alice has qubit $q_0$ and Bob has $q_1$.  They are separated by a large distance.  Even when they are far apart, the above state is still valid. Alice can measure her qubit but not Bob's qubit.  Similarly, Bob can measure his qubit but not Alice's.  This type of measurement is known as *local measurement*.  Now Alice measures her qubit $q_0$ before Bob measures $q_1$.  Suppose that the outcome is $|0\\rangle$.  The state now collapses to \n",
    "\n",
    "$$\n",
    "\\frac{1}{N} (c_{00} |00\\rangle + c_{10} |10\\rangle) = \\left(c_0 |0\\rangle + c_1|1\\rangle\\right) \\otimes |0\\rangle .\n",
    "$$\n",
    "\n",
    "where $N = \\sqrt{|c_{00}|^2 + |c_{01}|^2}$, $c_0=c_{00}/N$, and $c_1=c_{10}/N$.  After the measurement, Alice's qubit is now in  definite state $0\\rangle$ but Bob's qubit remains in a superposition state.  Next, Bob measures his qubit and found it in $|1\\rangle$.  Then, the state further collapses to $|1\\rangle \\otimes |0\\rangle$.  \n",
    "\n",
    "Recall that the outcome of quantum measurement is completely random and there is no way to predict it.  You can calculate the probability to find each state based on the Born rule.  The probability that Alice obtain $|0\\rangle$ is $p_A(0) = |c_{00}|^2 + |c_{10}|^2$ because Alices qubit is $|0\\rangle$ in $|00\\rangle = |0\\rangle \\otimes |0\\rangle$ and $|10\\rangle = |1\\rangle \\otimes |0\\rangle$. In other words, when Alice obtained $|0\\rangle$, Bob's qubit can be still $|0\\rangle$ or $|1\\rangle$, hence we need to take into account both. \n",
    "\n",
    "The probability that Bob gets $|1\\rangle$ after Alice get $|0\\rangle$ is $p_B(1|0)=|c_1|^2$, which is the [*conditional probability*](https://en.wikipedia.org/wiki/Conditional_probability) after Alice gets $|0\\rangle$. The net probability to find $|10\\rangle$ is \n",
    "\n",
    "$$\n",
    "p_A(0) p_B(1|0) = \\left(|c_{00}|^2 + |c_{01}|^2)\\right) |c_1|^2 = |c_{10}|^2\n",
    "$$\n",
    "\n",
    "which is the probability to obtain $|10\\rangle$.  , The Born rule worked well for the composite case."
   ]
  },
  {
   "cell_type": "markdown",
   "id": "0518d00a-b3af-4beb-b2ea-990c2b2ea27f",
   "metadata": {},
   "source": [
    "**Exercise**  {numref}`%s <sec-2qubits>`.1 Suppose that Alice measured her qubit before Bob did and got $|1\\rangle$.  Bob measured his qubit after Alice and obtained $|1\\rangle$.  What is the state after their measurement and what is the probability to get it?"
   ]
  },
  {
   "cell_type": "markdown",
   "id": "3ee4eaaf-3dd2-46d8-a4a6-99412f6e7140",
   "metadata": {},
   "source": [
    "Now an important question arises. If Bob measures before Alice, does the probability remain the same?\n",
    "\n",
    "Suppose that Bob measured before Alice and got $|1\\rangle$.  The probability that happens is $p_B(1)=|c_{10}|^2 + |c_{11}|^2$, which is different from the previous case despite that Bob gets the same outcome.   This is weird but let us move on.  After Bob's measurement the state collapse to\n",
    "\n",
    "$$\n",
    "\\frac{1}{N} (c_{10} |10\\rangle + c_{11} |11\\rangle) = |1\\rangle \\otimes \\left(c_0 |0\\rangle + c_1|1\\rangle\\right)\n",
    "$$(superposition-q2)\n",
    "\n",
    "where $N = \\sqrt{|c_{10}|^2 + |c_{11}|^2}$, $c_0=c_{10}/N$, and $c_1=c_{11}/N$.\n",
    "Next, Alice measured her qubit and obtained $0\\rangle$ with the probability $p_A(0|1)=|c_0|^2$.  The final state is $|10\\rangle$.  The net probability is\n",
    "\n",
    "$$\n",
    "p_B(1) p_A(0|1) = \\left(|c_{10}|^2 + |c_{11}|^2)\\right) |c_1|^2 = |c_{10}|^2\n",
    "$$\n",
    "\n",
    "in agreement with the previous case.  This agreement is guaranteed by the [*Bayes' theorem*](https://en.wikipedia.org/wiki/Bayes%27_theorem) $p_A(x)p_B(y|x) = p_B(y) p_A(x|y)$.\n",
    "\n",
    "While the net probability does not depend on the order of the measurement, the probabilities of individual observers experience depend on it. Despite that Alice and Bob are separated by a far distance, the act of Alice on her qubit changed the state of Bob's qubit instantaneously.  This conclusion is quite counter intuitive and needs to be examined more carefully."
   ]
  },
  {
   "cell_type": "markdown",
   "id": "17f39e49-e903-4d1b-a691-4eb093d0395e",
   "metadata": {},
   "source": [
    "## Product states\n",
    "\n",
    "Let us consider a special case where the two qubit state is \n",
    "\n",
    "$$\n",
    "|10\\rangle = |1\\rangle \\otimes |0\\rangle\n",
    "$$(product10)\n",
    "\n",
    "that is $c_{00}=c_{01}=c_{11}=0$ and $c_{10}=1$ in Eq {eq}`superposition-q2`.  Alice always finds her qubit in $|0\\rangle$ (probability=1) and Bob always find his in $|1\\rangle$ without exception (probability=1).   In this case, the order of measurement does not affect the individual measurements. There seems no controversy.\n",
    "\n",
    "Next we consider\n",
    "\n",
    "$$\n",
    "|+-\\rangle = \\frac{1}{\\sqrt{2}} \\left(|0\\rangle + |1\\rangle\\right ) \\otimes \\frac{1}{\\sqrt{2}} \\left(|0\\rangle - |1\\rangle\\right ) = \\frac{1}{2} \\left(|00\\rangle - |01\\rangle + |10\\rangle - |11\\rangle \\right).\n",
    "$$(product+-)\n",
    "\n",
    "This state is closer to the general case {eq}`superposition-q2`.  However, the probability that Alice gets $|0\\rangle$ is $\\frac{1}{2}$ and the probability Bob gets $|1\\rangle$ is also $\\frac{1}{2}$ regardless of who measures first.\n",
    "\n",
    "The state of the composite systems in these two examples can be written as *product state* $|q_1\\rangle \\otimes |q_0\\rangle$.  In Eq. {eq}`product10`, $|q_0\\rangle = |0\\rangle$ and $|q_1\\rangle = |1\\rangle$.  In Eq. {eq}`product+-`, $|q_0\\rangle = |-\\rangle$ and $|q_1\\rangle = |+\\rangle$.  When a composite system is in a product state, the measurements of $q_0$ and $q_1$ are completely independent and thus the order does not matter."
   ]
  },
  {
   "cell_type": "markdown",
   "id": "eac318f3-9c55-4cf7-a95e-10cae2fd4a30",
   "metadata": {},
   "source": [
    "## Entangled states\n",
    "\n",
    "When the state of a composite system cannot be written in a form of product $|q_1\\rangle \\otimes |q_0\\rangle$, we say that the system is *entangled*.  [*Quantum entanglement*](https://en.wikipedia.org/wiki/Quantum_entanglement) is unique to quantum systems.\n",
    "When the qubits are entangled, they are not independent. Measurement on one qubit change the state of the other qubit.  \n",
    "\n",
    "A pair of qubits interact at a certain place and an entangle state\n",
    "\n",
    "$$\n",
    "\\frac{1}{\\sqrt{2}} \\left(|01\\rangle + |10\\rangle\\right)\n",
    "$$(01+10)\n",
    "\n",
    "is formed.  Alice takes $q_0$ and travels to a distant place with it. Bob takes the other qubit and travels in the opposite direction.  Alice and Bob are separated by a large distance.\n",
    "\n",
    "The entangled state {eq}`01+10` indicates that Alice's qubit is either $|0\\rangle$ or $|1\\rangle$ and so is Bob's.  When Alice's measurement results in $|0\\rangle$, then Bob's qubit necessarily in $|1\\rangle$ since $|00\\rangle$ is absent.  On the other hand, if Alice finds $|1\\rangle$ then Bob's qubit must be in $|0\\rangle$.   Alice immediately knows what Bob's will find.  Hence, their measurement is perfectly correlated.  \n",
    "\n",
    "This correlation is not necessarily controversial since classical correlation exits.  Consider a pair of grabs.  Each side of the grab is placed in a separate box.  Alice took a box and Bob the other.  They don't know which side of the grab is in their of box.  They open the box at their home.  When Alice finds the left grab, the Bob must find the right grab.  This is an example of perfect classical correlation.  When Bob opened the box before Alice, the outcome remain the same.\n",
    "\n",
    "The quantum correlation by entanglement seems the same as the classical case but it is actually quite different. Before measurement neither spin has a definite state.  Both qubits are mixture of $|0\\rangle$ and $|1\\rangle$.  Alice's measurement destroys the mixture of Bob's qubit *instantaneously* over *distance*.  How can Alice's action on her qubit changes the state of Bob's qubit instantaneously over an arbitrarily long distance?   This is known as [*EPR paradox*](https://en.wikipedia.org/wiki/EPR_paradox).  Einstein called it \"Spooky action at a distance\" and claimed that the theory of quantum mechanics is incomplete.  However, every experimental observation is found to be consistent with the standard theory of quantum mechanics. Nicolas Gisin's book {cite}`Gisin2014` explains the issue nicely without complicated mathematics. Anyone interested in the quantum correlation, the book is highly recommended.\n",
    "\n",
    "Once David Mermin explained the common attitude toward the theory of quantum mechanics as \"Shut up and calculate\". {cite}`Mermin1989`.   For the moment, we set aside the incomprehensible aspect of quantum entanglement and just accept its extraordinary properties.  It turns out that entanglement carries very useful properties that classical physics cannot offer. We exploit them in quantum computation.  In fact, the success of quantum computation relies on quantum entanglement."
   ]
  },
  {
   "cell_type": "markdown",
   "id": "e7e0d43a-c5b4-4098-9132-e885035b4ecb",
   "metadata": {},
   "source": [
    "## Bell basis\n",
    "\n",
    "The Hilbert space of two qubits is four-dimensional and spanned by four basis vectors.  The computational basis {eq}`computational-basis-q2` is based on the product states.  In many cases, basis set based on entangled states is desired.  The most popular entangled basis is *Bell basis* defined by four Bell states:\n",
    "\n",
    "$$\n",
    "\\begin{align}\n",
    "|\\Phi^{\\pm}\\rangle &= \\frac{1}{\\sqrt{2}} \\left(|00\\rangle \\pm |11\\rangle\\right) \\\\\n",
    "|\\Psi^{\\pm}\\rangle &= \\frac{1}{\\sqrt{2}} \\left(|01\\rangle \\pm |10\\rangle\\right)\n",
    "\\end{align}\n",
    "$$\n",
    "\n",
    "Among them, $|\\Psi^{-}\\rangle$, known as *singlet state*, plays a particularly important role in quantum information theory. "
   ]
  },
  {
   "cell_type": "markdown",
   "id": "5c89e4aa-387e-4105-a834-5ad3ab3e4528",
   "metadata": {},
   "source": [
    ":::{admonition} Qiskit note: Visualizing two-qubit states\n",
    ":class: tip\n",
    "\n",
    "Visualizing the state of composite systems is challenging.  For small composite systems, `plot_state_qsphere` draw a sphere and places the computational basis vectors on it as small circles. See the above example.  The size of each circle represents the magnitude of coefficient to the basis such as $|c_{00}|$. In the above example, $|01\\rangle$ and $|10\\rangle$ are not shown because $c_{01}=c_{10}=0$. The color of the circle show the phase $e^{i \\theta}$, blue for $\\theta=0$ and yellow for $\\theta=\\pi$.\n",
    "\n",
    ":::"
   ]
  },
  {
   "cell_type": "markdown",
   "id": "3909bcad-f53a-4cf5-84f0-7755bb6135cc",
   "metadata": {},
   "source": [
    "**Exercise**  {numref}`%s <sec-2qubits>`.2  Generate $|\\Psi^{\\pm}\\rangle$ and visualize the results using Qiskit. (HINT: You can filp one of qubits by `X` gate."
   ]
  },
  {
   "cell_type": "markdown",
   "id": "58ca36f9-69b0-4ac0-a7e2-d2bf272848d9",
   "metadata": {},
   "source": [
    "## Two-qubit measurements in computational basis\n",
    "\n",
    "We want to determine $|c_{ij}|$ in  {eq}`superposition-q2` by measurement.  It can be done easily in Qiskit.\n",
    "\n"
   ]
  },
  {
   "cell_type": "code",
   "execution_count": 1,
   "id": "cc3da21e-870f-4b49-b0ef-94e040898e10",
   "metadata": {},
   "outputs": [
    {
     "data": {
      "image/png": "[encoded data removed]",
      "text/plain": [
       "<Figure size 387.452x204.68 with 1 Axes>"
      ]
     },
     "execution_count": 1,
     "metadata": {
      "filenames": {
       "image/png": "/home/kawai/teaching/mybooks/qcomp-short/_build/jupyter_execute/composites/2qubit_12_0.png"
      }
     },
     "output_type": "execute_result"
    }
   ],
   "source": [
    "from qiskit import *\n",
    "import numpy as np\n",
    "\n",
    "cr=ClassicalRegister(2,'c')\n",
    "qr=QuantumRegister(2,'q')\n",
    "qc=QuantumCircuit(qr,cr)\n",
    "\n",
    "# randomly oriented qubits\n",
    "a=np.pi*np.random.rand()\n",
    "b=np.pi*np.random.rand()\n",
    "c=np.pi*np.random.rand()\n",
    "qc.u(a,b,c,0)\n",
    "a=np.pi*np.random.rand()\n",
    "b=np.pi*np.random.rand()\n",
    "c=np.pi*np.random.rand()\n",
    "qc.u(a,b,c,1)\n",
    "\n",
    "qc.barrier()\n",
    "qc.measure(0,0)\n",
    "qc.measure(1,1)\n",
    "\n",
    "qc.draw('mpl')"
   ]
  },
  {
   "cell_type": "code",
   "execution_count": null,
   "id": "1b43842b-d895-4fd1-990a-3ee17530add9",
   "metadata": {},
   "outputs": [
    {
     "data": {
      "image/png": "[encoded data removed]",
      "text/plain": [
       "<Figure size 504x360 with 1 Axes>"
      ]
     },
     "execution_count": 31,
     "metadata": {
      "filenames": {
       "image/png": "/home/kawai/teaching/mybooks/qcomp-short/_build/jupyter_execute/composites/2qubit_13_0.png"
      }
     },
     "output_type": "execute_result"
    }
   ],
   "source": [
    "# Chose a general quantum simulator without noise.\n",
    "# The simulator behaves as an ideal quantum computer.\n",
    "backend = Aer.get_backend('qasm_simulator')\n",
    "\n",
    "# set number of tries\n",
    "nshots=8192\n",
    "\n",
    "# execute the quantum circuit and store the outcome\n",
    "job = backend.run(qc,shots=nshots)\n",
    "\n",
    "# extract the result\n",
    "result = job.result()\n",
    "\n",
    "# count the outcome\n",
    "counts = result.get_counts()\n",
    "\n",
    "from qiskit.visualization import plot_histogram\n",
    "plot_histogram(counts)"
   ]
  },
  {
   "cell_type": "markdown",
   "id": "8ef6ff65-89cc-4739-958e-7af4db0253c9",
   "metadata": {},
   "source": [
    "## Entanglement Measure\n",
    "\n",
    "How do you know that a given state is entangled or not?  It is not a trivial question and  no simple method is known at present.  However, the the state  is pure (expressed as a state vector),  the presence of bipartite entanglement can be determined by a rather simple method.\n",
    "\n",
    "Consider a bipartite system of $\\mathcal{H}_A \\otimes \\mathcal{H}_B$. The system is in a pure state $|\\psi\\rangle$.\n",
    "\n",
    "1. Write the state in a form of density matrix:  $\\qquad \\rho = |\\psi\\rangle\\langle \\psi |$.\n",
    "2. Take partial trace of $\\rho$ over the subspace $\\mathcal{H}_B$.   $\\qquad \\rho_A = = \\text{Tr}_B \\rho$.\n",
    "3. Evaluate the von Neumann entropy of the reduced density.  $\\qquad S_A = - \\text{Tr}_A \\left( \\rho_A \\ln \\rho_A\\right)$.\n",
    "4. If $S_A=0$, then there is no entanglement.  Otherwise, there is entanglement.\n",
    "\n",
    "**EXample**\n",
    "\n",
    "Let us try to find if a $\\psi\\rangle = \\frac{1}{2}\\left(|00\\rangle + |01\\rangle + |10\\rangle + |11\\rangle \\right)$ is entangled or not. WE use matrix representation.\n",
    "\n",
    "Step 1:\n",
    "$$\n",
    "\\rho = \\begin{bmatrix} \\frac{1}{4} & \\frac{1}{4} & \\frac{1}{4} & \\frac{1}{4} \\\\ \\frac{1}{4} & \\frac{1}{4} & \\frac{1}{4} & \\frac{1}{4} \\\\ \\frac{1}{4} & \\frac{1}{4} & \\frac{1}{4} & \\frac{1}{4} \\\\ \\frac{1}{4} & \\frac{1}{4} & \\frac{1}{4} & \\frac{1}{4} \\end{bmatrix}\n",
    "$$\n",
    "\n",
    "Step 2:\n",
    "$$\n",
    "\\rho_A = \\begin{bmatrix} \\frac{1}{2} & \\frac{1}{2} \\\\ \\frac{1}{2} & \\frac{1}{2} \\end{bmatrix}\n",
    "$$\n",
    "\n",
    "Step 3:  \n",
    "To evalue the von Neumann entropy, we need to find the eigenvalues of $\\rho_A$.  They are $\\lambda_1 = 0$ and $\\lambda_2=1$.\n",
    "\n",
    "$$\n",
    "S_A = - \\lambda_0 \\ln \\lambda_0 + \\lambda_1 \\ln \\lambda_1 = - 0 \\ln 0 = -1 \\ln 1 = 0\n",
    "$$\n",
    "\n",
    "Remember that $0 \\ln 0 = 0 \\times \\infty = 0$.\n",
    "\n",
    "Step 4:  Since $S_A=0$, there is no entanglement.  In fact, the state can be written as a product $|\\psi\\rangle = |+\\rangle \\otimes |+\\rangle$.\n",
    "\n",
    "\n",
    "Consider another state $|\\phi \\rangle = \\frac{1}{2}\\left(|00\\rangle + |01\\rangle + |10\\rangle + i |11\\rangle \\right)$ which is quite similar to the previous case but notice \"i\" on the last term.\n",
    "\n",
    "Step 1:\n",
    "$$\n",
    "\\rho = \\begin{bmatrix} \\frac{1}{4} & \\frac{1}{4} & \\frac{1}{4} & \\frac{i}{4} \\\\ \\frac{1}{4} & \\frac{1}{4} & \\frac{1}{4} & \\frac{i}{4} \\\\ \\frac{1}{4} & \\frac{1}{4} & \\frac{1}{4} & \\frac{i}{4} \\\\ \\frac{-i}{4} & \\frac{-i}{4} & \\frac{-i}{4} & \\frac{1}{4} \\end{bmatrix}\n",
    "$$\n",
    "\n",
    "Step 2:\n",
    "$$\n",
    "\\rho_A = \\begin{bmatrix} \\frac{1}{2} & \\frac{1+i}{4} \\\\ \\frac{1-i}{4} & \\frac{1}{2} \\end{bmatrix}\n",
    "$$\n",
    "\n",
    "Step 3:  \n",
    "$$\n",
    "\\lambda_1 = \\frac{1}{4}\\left(2-\\sqrt{2}\\right), \\quad \\lambda_2=\\frac{1}{4}\\left(2-\\sqrt{2}\\right)\n",
    "$$\n",
    "\n",
    "$$\n",
    "S_A = - \\lambda_0 \\ln \\lambda_0 + \\lambda_1 \\ln \\lambda_1 \\approx 0.416\n",
    "$$\n",
    "\n",
    "Step 4.\n",
    "$S_A > 0$, thus the state is entangled.\n"
   ]
  },
  {
   "cell_type": "markdown",
   "id": "72cf7e05-49cd-45a4-a794-e2b982636ea0",
   "metadata": {},
   "source": [
    "\n",
    "---\n",
    "Last Modified on 08/22/2022."
   ]
  }
 ],
 "metadata": {
  "kernelspec": {
   "display_name": "Python 3 (ipykernel)",
   "language": "python",
   "name": "python3"
  },
  "language_info": {
   "codemirror_mode": {
    "name": "ipython",
    "version": 3
   },
   "file_extension": ".py",
   "mimetype": "text/x-python",
   "name": "python",
   "nbconvert_exporter": "python",
   "pygments_lexer": "ipython3",
   "version": "3.9.12"
  }
 },
 "nbformat": 4,
 "nbformat_minor": 5
}