{
 "cells": [
  {
   "cell_type": "markdown",
   "id": "3a76dae9-b942-4758-8f38-d8fdd9143876",
   "metadata": {
    "tags": []
   },
   "source": [
    "# P Gate\n",
    "\n",
    "P gate is also known as *phase gate*.  This gate contains a parameter.\n",
    "\n",
    "[API References: PhaseGate](https://qiskit.org/documentation/stubs/qiskit.circuit.library.PhaseGate.html#qiskit.circuit.library.PhaseGate)  "
   ]
  },
  {
   "cell_type": "markdown",
   "id": "f5626ae9-ced1-4c1d-8d53-94d11b2cd307",
   "metadata": {},
   "source": [
    "## Definition\n",
    "\n",
    "**Transformation**\n",
    "\n",
    ">$$\n",
    "\\begin{align}\n",
    "&P(\\theta) |0\\rangle = |0\\rangle, && P(\\theta) |1\\rangle = e^{i \\theta}|1\\rangle\\\\\n",
    "&P^\\dagger(\\theta) |0\\rangle = |0\\rangle, && P^\\dagger(\\theta) |1\\rangle = e^{-i \\theta}|1\\rangle\n",
    "\\end{align}\n",
    "$$\n",
    "\n",
    "**Matrix expression**\n",
    "\n",
    ">$$\n",
    "P(\\theta) = \\begin{bmatrix}1&0\\\\0&e^{i \\theta}\\end{bmatrix}, \\qquad P^\\dagger(\\theta) = \\begin{bmatrix}1&0\\\\0&e^{-i \\theta}\\end{bmatrix}\n",
    "$$\n",
    "\n",
    "**U gate expression**\n",
    "\n",
    ">$$\n",
    "P = U\\left(0,0,\\theta \\right) = U\\left(0,\\theta,0 \\right), \\quad P^\\dagger = U\\left(0,0,-\\theta\\right)= U\\left(0,-\\theta,0\\right)\n",
    "$$\n",
    "\n",
    "**R gate expression**\n",
    "\n",
    ">$$\n",
    "P = e^{i \\theta/2} R_z(\\theta), \\quad P^\\dagger = e^{-i \\theta/2} R_z(-\\theta)\n",
    "$$\n",
    "\n",
    "\n",
    "The qiskit circuit symbol is `p`. It appears in quantum circuits as"
   ]
  },
  {
   "cell_type": "code",
   "execution_count": 1,
   "id": "4350af63-7bdf-4101-a404-fc3c3a80b6c4",
   "metadata": {
    "tags": [
     "hide-input"
    ]
   },
   "outputs": [
    {
     "data": {
      "text/html": [
       "<pre style=\"word-wrap: normal;white-space: pre;background: #fff0;line-height: 1.1;font-family: &quot;Courier New&quot;,Courier,monospace\">   ┌──────┐\n",
       "q: ┤ P(θ) ├\n",
       "   └──────┘</pre>"
      ],
      "text/plain": [
       "   ┌──────┐\n",
       "q: ┤ P(θ) ├\n",
       "   └──────┘"
      ]
     },
     "execution_count": 1,
     "metadata": {},
     "output_type": "execute_result"
    }
   ],
   "source": [
    "from qiskit.circuit import QuantumCircuit, Parameter\n",
    "t=Parameter('\\u03B8')\n",
    "qc=QuantumCircuit(1)\n",
    "qc.p(t,0)\n",
    "qc.draw()"
   ]
  },
  {
   "cell_type": "markdown",
   "id": "a11998db-b51a-44dd-95d6-71c22250a087",
   "metadata": {},
   "source": [
    "$Z$, $S$, $T$ and $P$ all rotates the Bloch vector around the $z$ axis. gates are special cases of $P$ gate: $Z=P(\\pi)$, $S=P(\\pi/2)$ and $T=P(\\pi/4)$. While these relations are mathematically exact and $P$ gate can replace them, the parameter-free gates should be used when the rotation angle"
   ]
  },
  {
   "cell_type": "markdown",
   "id": "f86ab32a-4023-452a-8ae8-0db0bc33a5d7",
   "metadata": {},
   "source": [
    "## Acting on a superposition state\n",
    "\n",
    "When PGate is applied to a superposition state, the coefficient to $|0\\rangle$ remains the same but that of $|1\\rangle$ gets additional phase factor.  That is\n",
    "\n",
    ">$$\n",
    "P(t) \\left (c_0 |0\\rangle + c_1 |1\\rangle\\right) = c_0 |0\\rangle + e^{it} c_1 |1\\rangle \n",
    "$$(P-on-superpos)\n",
    "\n",
    "In Bloch sphere representation,\n",
    "\n",
    ">$$\n",
    "P(t) \\left( \\cos(\\theta/2)|0\\rangle + \\sin(\\theta/2) e^{i\\phi}|1\\rangle\\right) = \\cos(\\theta/2) |0\\rangle + \\sin(\\theta/2) e^{i (\\phi+t)} |1\\rangle\n",
    "$$\n",
    "\n",
    "This suggests that the Bloch vector rotates around $z$ axis by $t$."
   ]
  },
  {
   "cell_type": "code",
   "execution_count": null,
   "id": "a2fb3a3d-4587-4687-a024-839bbc30b898",
   "metadata": {},
   "outputs": [],
   "source": []
  }
 ],
 "metadata": {
  "kernelspec": {
   "display_name": "Python 3 (ipykernel)",
   "language": "python",
   "name": "python3"
  },
  "language_info": {
   "codemirror_mode": {
    "name": "ipython",
    "version": 3
   },
   "file_extension": ".py",
   "mimetype": "text/x-python",
   "name": "python",
   "nbconvert_exporter": "python",
   "pygments_lexer": "ipython3",
   "version": "3.9.12"
  }
 },
 "nbformat": 4,
 "nbformat_minor": 5
}