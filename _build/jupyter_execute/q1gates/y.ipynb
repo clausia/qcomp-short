{
 "cells": [
  {
   "cell_type": "markdown",
   "id": "3a76dae9-b942-4758-8f38-d8fdd9143876",
   "metadata": {
    "tags": []
   },
   "source": [
    "(sec-ygate)=\n",
    "# YGate \n",
    "\n",
    "This gate is not popular since it can be replaced with other common operators.  Hence, this section only briefly covers its properties."
   ]
  },
  {
   "cell_type": "markdown",
   "id": "5642f681-befc-44cf-aabb-22a0567f8155",
   "metadata": {},
   "source": [
    "[API References: YGate](https://qiskit.org/documentation/stubs/qiskit.circuit.library.YGate.html#qiskit.circuit.library.YGate)"
   ]
  },
  {
   "cell_type": "markdown",
   "id": "352c86eb-f27f-4710-801c-14a2ee5fd406",
   "metadata": {
    "tags": []
   },
   "source": [
    "## Definition\n",
    "\n",
    "**Transformation**\n",
    "\n",
    ">$$\n",
    "Y |0\\rangle = i|1\\rangle, \\qquad Y |1\\rangle = -i |0\\rangle\n",
    "$$\n",
    "\n",
    "\n",
    "**Matrix expression**\n",
    "\n",
    ">$$\n",
    "Y \\doteq \\begin{bmatrix} 0 & -i \\\\ i & 0 \\end{bmatrix}\n",
    "$$(YGate-matrix)\n",
    "\n",
    "\n",
    "**U gate expression**\n",
    "\n",
    ">$$\n",
    "Y = U\\left(\\pi,\\frac{\\pi}{2},\\frac{\\pi}{2}\\right)\n",
    "$$(YGate-U)\n",
    "\n",
    "**R gate expression**\n",
    "\n",
    ">$$\n",
    "Y = i R_y(\\pi)\n",
    "$$\n",
    "\n",
    "The qiskit circuit code symbol is `y` and it appears in quantum circuit as"
   ]
  },
  {
   "cell_type": "code",
   "execution_count": 1,
   "id": "bde10c8c-6a9a-4020-9fcc-b15ac7453de6",
   "metadata": {
    "tags": [
     "hide-input"
    ]
   },
   "outputs": [
    {
     "data": {
      "image/png": "[encoded data removed]",
      "text/plain": [
       "<Figure size 133.526x84.28 with 1 Axes>"
      ]
     },
     "execution_count": 1,
     "metadata": {
      "filenames": {
       "image/png": "/home/kawai/teaching/mybooks/qcomp-short/_build/jupyter_execute/q1gates/y_3_0.png"
      }
     },
     "output_type": "execute_result"
    }
   ],
   "source": [
    "from qiskit import QuantumCircuit\n",
    "qc=QuantumCircuit(1)\n",
    "qc.y(0)\n",
    "qc.draw('mpl')"
   ]
  },
  {
   "cell_type": "markdown",
   "id": "01b14b65-b2db-45aa-8815-e9df6fc12e24",
   "metadata": {},
   "source": [
    "or"
   ]
  },
  {
   "cell_type": "code",
   "execution_count": 2,
   "id": "8d0e1641-b98d-4442-bdba-f1ac4cd3dff6",
   "metadata": {
    "tags": [
     "hide-input"
    ]
   },
   "outputs": [
    {
     "data": {
      "text/html": [
       "<pre style=\"word-wrap: normal;white-space: pre;background: #fff0;line-height: 1.1;font-family: &quot;Courier New&quot;,Courier,monospace\">   ┌───┐\n",
       "q: ┤ Y ├\n",
       "   └───┘</pre>"
      ],
      "text/plain": [
       "   ┌───┐\n",
       "q: ┤ Y ├\n",
       "   └───┘"
      ]
     },
     "execution_count": 2,
     "metadata": {},
     "output_type": "execute_result"
    }
   ],
   "source": [
    "qc.draw()"
   ]
  },
  {
   "cell_type": "markdown",
   "id": "c81549be-cb88-452e-aed7-72948664f65e",
   "metadata": {},
   "source": [
    "## Acting on a superposition state\n",
    "\n",
    "When Ygate is applied to a super position state the coefficient is swapped.  That is\n",
    "\n",
    ">$$\n",
    "Y \\left (c_0 |0\\rangle + c_1 |1\\rangle\\right)  = -i (c_1 |0\\rangle - c_0 |1\\rangle)\n",
    "$$(Y-on-superpos)\n",
    "\n",
    "If the global phase factor is omitted, we have\n",
    "\n",
    ">$$\n",
    "Y \\left (c_0 |0\\rangle + c_1 |1\\rangle\\right) \\simeq c_1 |0\\rangle - c_0 |1\\rangle\n",
    "$$(Y-on-superpos2)\n",
    "\n",
    "Like Xgate, the coefficients are swapped.  In addition the relative phase of $\\pi$ is applied."
   ]
  },
  {
   "cell_type": "markdown",
   "id": "f5400946-665c-40be-9ee5-8ff50bd35756",
   "metadata": {},
   "source": [
    "## Important Properties\n",
    "\n",
    "> $Y^2 = I$\n",
    "\n",
    "This means that\n",
    "1.  $Y^2$ does not do any thing on the qubit.\n",
    "2.  $Y$ is  self-inverse, that is $Y^{-1} = Y$.\n",
    "3.  $Y$ is self-adjoint ($Y^\\dagger = Y$) since $Y$ is unitary ($Y^\\dagger = Y^{-1}$) by definition.\n"
   ]
  },
  {
   "cell_type": "markdown",
   "id": "0e7ba961-7c17-4523-8ae3-ea7ad8384290",
   "metadata": {},
   "source": [
    "\n",
    "---\n",
    "**Exercise** {numref}`%s <sec-ygate>`.1&nbsp;  Show that $Y|+\\rangle = -i |-\\rangle$ and $Y|-\\rangle = i |+\\rangle$.\n",
    "Apart from the phase factor, $Y$ flips $|\\pm\\rangle$.\n",
    "\n",
    "---\n"
   ]
  },
  {
   "cell_type": "markdown",
   "id": "ed242149-c0d3-4791-90bd-bf1cd53b64a3",
   "metadata": {},
   "source": [
    "\n",
    "---\n",
    "Last modified: 08/31/2022"
   ]
  }
 ],
 "metadata": {
  "kernelspec": {
   "display_name": "Python 3 (ipykernel)",
   "language": "python",
   "name": "python3"
  },
  "language_info": {
   "codemirror_mode": {
    "name": "ipython",
    "version": 3
   },
   "file_extension": ".py",
   "mimetype": "text/x-python",
   "name": "python",
   "nbconvert_exporter": "python",
   "pygments_lexer": "ipython3",
   "version": "3.9.12"
  }
 },
 "nbformat": 4,
 "nbformat_minor": 5
}