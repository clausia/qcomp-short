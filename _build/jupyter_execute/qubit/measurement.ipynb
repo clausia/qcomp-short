{
 "cells": [
  {
   "cell_type": "markdown",
   "id": "b93395c4-395b-448f-a89f-8d3e5631482b",
   "metadata": {},
   "source": [
    "(sec-qubit-measurement)=\n",
    "# Qubit Measurement"
   ]
  },
  {
   "cell_type": "markdown",
   "id": "ef6134ad-6631-4955-b9da-4cc2fbfc8413",
   "metadata": {},
   "source": [
    "Measuring a physical quantity in quantum mechanics is a bit weird.  I am not going to present a full theory of measurement. If you are interested in it, read Ref. {cite:p}`Audretsch2007`. See also [wikipedia](https://en.wikipedia.org/wiki/Measurement_in_quantum_mechanics)."
   ]
  },
  {
   "cell_type": "markdown",
   "id": "e781196c-3606-4016-b539-6279e6a9e89e",
   "metadata": {},
   "source": [
    "## Projective measurement\n",
    "\n",
    "In classical computer, readout processes determine the outcome of computation stored in each bit.  That is to determine if the state of each bit is $0$ or $1$. The readout can be done at any time without disturbing the state of the bit.  If you repeat the same measurement, the same outcome is obtained.\n",
    "\n",
    "Similarly, we want to know whether each qubit is in $|0\\rangle$ or $|1\\rangle$. However, if a qubit is in a superposition state, we have a big problem.  Equation {eq}`qubit-purestate` indicates that the state of the qubit is neither $|0\\rangle$ nor $|1\\rangle$.  Despite of it, quantum mechanics allows us to ask if the qubit is in $|0\\rangle$ or $|1\\rangle$ and surprisingly the answer is one of $|0\\rangle$ and $|1\\rangle$ even it is in the superposition state. Suppose that the outcome of the measurement is $|0\\rangle$, it does not mean that the qubit was in $|0\\rangle$.  The measurement process has transformed $|psi\\rangle$ to $|0\\rangle$. This transition is referred as the *collapse of wavefunction*. Mathematically, we say that the state $|\\psi\\rangle$ is projected to $|0\\rangle$ and thus it is called *projective measurement*. See Fig. {numref}`measurement-purestate`.   You may obtain $|1\\rangle$ from the same superposition state. Then, $\\psi\\rangle$ is projected to $|1\\rangle$. The measurement of a single qubit seems suggesting that the outcome is not related to the state of the qubit. We never be able to determine the superposition from the outcome. Then, what is the purpose of the measurement?   Even worse, the measurement destroys the superposition state.\n"
   ]
  },
  {
   "cell_type": "markdown",
   "id": "359e9243-c16a-47e8-99a0-ac9d863bcbe2",
   "metadata": {},
   "source": [
    "```{figure} ./measurement-purestate.png\n",
    ":name: measurement-purestate\n",
    ":align: center\n",
    ":width: 400px\n",
    "\n",
    "Measurement of a superposition state.  Before measurement, every qubit in the ensemble is in the same superposition state {eq}`qubit-purestate`.  It is known as a purestate ensemble  The measurement selects one of $|0\\rangle$ and $|1\\rangle$.  As the result, some qubits in the ensemble are in $|0\\rangle$ and others in $\\1\\rangle$. After the measurement, we have a mixed state ensemble.\n",
    "```"
   ]
  },
  {
   "cell_type": "markdown",
   "id": "25b7ef6b-0ea9-4ce1-95f4-db684d3e5452",
   "metadata": {},
   "source": [
    "## Born rule\n",
    "\n",
    "It seems that the outcome is picked at random. The theory of quantum mechanics is powerless if we measure a single qubit.  So, what is the physical meaning of the state vector $|\\psi\\rangle$?  A resolution was offered by Born. Consider an ensemble of qubits. All qubits in the ensemble are prepared exactly in the same state $|\\psi\\rangle$ and exactly the same measurement process is applied to them. Some of them are transformed to $|0\\rangle$ and others to $|1\\rangle$.  It turns out that the probability to obtain $0\\rangle$ is $|c_0|^2$ and that of $|1\\rangle$ is $|c_1|^2$. This interpretation of the superposition state is known as *Born* rule.  Since we will obtain one of them from each measurement, $|c_0|^2+|c_1|^2=1$, which is satisfied by the normalization condition."
   ]
  },
  {
   "cell_type": "markdown",
   "id": "9a19355c-be55-4123-9009-094b7cdeadb0",
   "metadata": {},
   "source": [
    "\n",
    "---\n",
    "## Quantum coin flipping\n",
    "\n",
    "As an example of the Born rule, we simulate quantum coin flipping.\n",
    "\n",
    "It is a common practice to pick one of two choices by tossing up a coin.  The classical motion of coin is chaotic and the probability to get head and tail is approximately equal. We can simulate the process on a classical computer using a random number generator.  Such simulation is known as Monte Carlo simulation after the name of the famous casino city.  One can simulate the same process on a quantum computer without random number generator by exploiting the stochastic nature of quantum measurement.  For comparison, both a classical and quantum simulation are presented below."
   ]
  },
  {
   "cell_type": "markdown",
   "id": "de60c39f-d0fa-48f0-926e-f0f6a60b499e",
   "metadata": {},
   "source": [
    "### Classical simulation\n",
    "\n",
    "Using `random.choice` function in numpy, we generate random choice of 0=head and 1=tail.  Then, count the number of head and tail."
   ]
  },
  {
   "cell_type": "code",
   "execution_count": 1,
   "id": "8c4dff0d-ebe8-4365-983d-c6251b3ebebc",
   "metadata": {
    "tags": []
   },
   "outputs": [
    {
     "name": "stdout",
     "output_type": "stream",
     "text": [
      "head= 0.508\n",
      "tail= 0.492\n"
     ]
    }
   ],
   "source": [
    "# Classical Monte Carlo simulation of coin tossing\n",
    "import numpy as np\n",
    "\n",
    "# coin is tossed 10000 times for statistical analysis\n",
    "shots=10000\n",
    "\n",
    "# generate random choice 0 or 1\n",
    "# head=0 and tail=1\n",
    "face = np.random.choice(2,size=shots)\n",
    "\n",
    "# count number of heads and tails\n",
    "# if the random number is less than 0.5, it is head.\n",
    "# otherwise, it is tail.\n",
    "head = np.sum(face==0)\n",
    "tail = shots-head\n",
    "\n",
    "# print out the probabilities\n",
    "print(\"head=\",head/shots)\n",
    "print(\"tail=\",tail/shots)"
   ]
  },
  {
   "cell_type": "markdown",
   "id": "531d6f55-c859-4cf5-a730-7d2ada774277",
   "metadata": {},
   "source": [
    "### Quantum simulation\n",
    "\n",
    "To demonstrate the stochastic nature of quantum measurement, we consider a quantum coin.  The quantum coin has two states, head and tail. We assign the head to $|0\\rangle$ and the tail to $|1\\rangle$  The superposition state $|\\psi\\rangle = \\frac{1}{\\sqrt{2}}\\left(|0\\rangle+|1\\rangle\\right)$ indicates that the state of the quantum coin is neither head nor tail.  Based on the Born rule, the chance to get head is 50% and tail 50%.  Since the outcome is completely random, measuring the state of the quantum coin is equivalent to tossing a classical coin.\n",
    "\n",
    "In the following qiskit code, the superposition state using a Hadamard gate (we will discuss this in next chapter) and then the state of the qubit is measured.  The result is stored in a classical bit. The quantum computation is simulated with `qasm_simulator` on your computer instead of sending the code to a real quantum computer. (We will send this to real quantum computer in a later chapter.) We repeat the simulation 10000 times and find the probabilities to find head and tail. Since the number of samplings is finite, the result is not exactly 50%-50% but close to  it."
   ]
  },
  {
   "cell_type": "markdown",
   "id": "448e40cc-5b58-4630-8904-0878162c3aa3",
   "metadata": {},
   "source": [
    "The quantum circuit shows two lines, one for quantum register and the other for classical register.  The classical register contains a bit.  Usually the outcome of measurement on a qubit is stored. The quantum register contains a qubit.  It is initially reset to $|0\\rangle$.  The diagram shows that a single-qubit gate $H$ (Hadamard gate) is applied on the qubit.  The outcome is $H |0\\rangle = \\frac{1}{\\sqrt{2}} \\left(|0\\rangle + |1\\rangle \\right)$.  The next gate shows that the state of the qubit is measured and the result, either $0$ or $1$, is sent to the classical register.  In the current example, $0$ or $1$ is obtained with the equal probability. First, we construct a quantum circuit."
   ]
  },
  {
   "cell_type": "code",
   "execution_count": 2,
   "id": "d6e12526-e538-4230-a2de-d805cabb2f29",
   "metadata": {
    "tags": []
   },
   "outputs": [
    {
     "data": {
      "image/png": "[encoded data removed]",
      "text/plain": [
       "<Figure size 193.726x144.48 with 1 Axes>"
      ]
     },
     "execution_count": 2,
     "metadata": {
      "filenames": {
       "image/png": "/home/kawai/teaching/mybooks/qcomp-short/_build/jupyter_execute/qubit/measurement_10_0.png"
      }
     },
     "output_type": "execute_result"
    }
   ],
   "source": [
    "# Tossing Up Quantum Coin\n",
    "\n",
    "# import numpy\n",
    "import numpy as np\n",
    "\n",
    "# import entire qiskit\n",
    "from qiskit import *\n",
    "\n",
    "# set classical register (bit)\n",
    "cr = ClassicalRegister(1,'c')\n",
    "\n",
    "# set quantum register (qubit)\n",
    "qr = QuantumRegister(1,'q')\n",
    "\n",
    "# reset the quantum circuit\n",
    "qc = QuantumCircuit(qr,cr)\n",
    "\n",
    "# construct quantum circuit\n",
    "# step 1: create the superposition state with Hardamard gate\n",
    "qc.h(0)\n",
    "\n",
    "# measurement on qubit \n",
    "# output is stored in cllasical register\n",
    "qc.measure(qr,cr)\n",
    "\n",
    "# show the quantum circuit\n",
    "qc.draw('mpl')"
   ]
  },
  {
   "cell_type": "markdown",
   "id": "678614ac-bd92-4959-9755-1ef19fd08346",
   "metadata": {},
   "source": [
    "Now we execute the circuit using a simulator of quantum computer."
   ]
  },
  {
   "cell_type": "code",
   "execution_count": 3,
   "id": "0985c790-3b9e-4b2a-acc3-c0af104683c0",
   "metadata": {
    "tags": []
   },
   "outputs": [
    {
     "data": {
      "image/png": "[encoded data removed]",
      "text/plain": [
       "<Figure size 504x360 with 1 Axes>"
      ]
     },
     "execution_count": 3,
     "metadata": {
      "filenames": {
       "image/png": "/home/kawai/teaching/mybooks/qcomp-short/_build/jupyter_execute/qubit/measurement_12_0.png"
      }
     },
     "output_type": "execute_result"
    }
   ],
   "source": [
    "# Chose a general quantum simulator without noise.\n",
    "# The simulator behaves as an ideal quantum computer.\n",
    "\n",
    "backend = Aer.get_backend('qasm_simulator')\n",
    "\n",
    "# Execute the quantum circuit 10000 times\n",
    "job = backend.run(qc,shots=10000)\n",
    "\n",
    "# get the result\n",
    "result = job.result()\n",
    "\n",
    "# Count the outcome\n",
    "# Numbers of |0> and |1>\n",
    "counts = result.get_counts()\n",
    "\n",
    "# Visualize the outcome\n",
    "# import histgram plotting function\n",
    "from qiskit.visualization import plot_histogram\n",
    "plot_histogram(counts)\n",
    "\n",
    "# The result should be close to 0.5 for both |0> and |1>."
   ]
  },
  {
   "cell_type": "markdown",
   "id": "189ad363-c9b9-499d-98ca-c1aa98b40ac5",
   "metadata": {},
   "source": [
    "The outcome is not exactly 50%-50%.  This is because the simulation is executed with a finite shots and thus there is statistical error due to finite sampling.  Theoretically infinite sampling is required but practically it is not possible. However, this is not an issue of quantum computation. "
   ]
  },
  {
   "cell_type": "code",
   "execution_count": null,
   "id": "263d5aa5-d0db-423d-85ce-e06f26490d8b",
   "metadata": {},
   "outputs": [],
   "source": []
  }
 ],
 "metadata": {
  "kernelspec": {
   "display_name": "Python 3 (ipykernel)",
   "language": "python",
   "name": "python3"
  },
  "language_info": {
   "codemirror_mode": {
    "name": "ipython",
    "version": 3
   },
   "file_extension": ".py",
   "mimetype": "text/x-python",
   "name": "python",
   "nbconvert_exporter": "python",
   "pygments_lexer": "ipython3",
   "version": "3.9.12"
  }
 },
 "nbformat": 4,
 "nbformat_minor": 5
}