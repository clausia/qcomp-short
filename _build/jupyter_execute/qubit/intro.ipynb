{
 "cells": [
  {
   "cell_type": "markdown",
   "id": "41bee7ad-10c9-4362-bbf0-d11f57c134d1",
   "metadata": {},
   "source": [
    "(chap-qubit1)=\n",
    "# Single qubit\n"
   ]
  },
  {
   "cell_type": "markdown",
   "id": "785d9377-4dad-419d-97e7-164cd65fdc90",
   "metadata": {},
   "source": [
    "In quantum computer, information is processed in a set of qubits.  Correlation among the qubits distinguishes the quantum computation from the classical computation.  However, understanding the properties of a single qubit is the first step toward the quantum computation. \n",
    "\n",
    "Mathematically, a qubit lives in the smallest Hilbert space, that is a two-dimensional Hilbert space. Physically, a qubit is realized in many different form.  Any quantum system that has only two states or two states well separated from other states is a good candidate of a qubit.    For example, a photon  has two directions of linear polarization,  the horizontal and vertical polarization.  Hence, a single photon can be used as a qubit.  Various different types of qubits are developed, including [Superconducting quantum computing](https://en.wikipedia.org/wiki/Superconducting_quantum_computing) and [Trapped ion quantum computer](https://en.wikipedia.org/wiki/Trapped_ion_quantum_computer).  Regardless its physical implementation, the same mathematical theory can be used for any type of a qubit.\n",
    "\n",
    "In this chapter, first mathematical expressions and properties of a single qubit are explained. It is very important for you to familiarize yourself with the notations and the rules of calculation since they are used through the book.  Secondly, the concept of quantum measurement is introduced.  As we discussed in the previous chapter, the quantum measurement is quite different from the classical measurement.  You must get rid of the classical intuition and believe in the principles of quantum mechanics. \n",
    "\n",
    "After the theory of a qubit, I explain how to create a qubit in Qiskit and how to visualize the state of the qubit.  At the end, we simulate quantum coin tossing and quantum state tomography using a quantum computer. "
   ]
  },
  {
   "cell_type": "code",
   "execution_count": null,
   "id": "c0422274-34e6-4adc-a3db-b46852733047",
   "metadata": {},
   "outputs": [],
   "source": []
  }
 ],
 "metadata": {
  "kernelspec": {
   "display_name": "Python 3 (ipykernel)",
   "language": "python",
   "name": "python3"
  },
  "language_info": {
   "codemirror_mode": {
    "name": "ipython",
    "version": 3
   },
   "file_extension": ".py",
   "mimetype": "text/x-python",
   "name": "python",
   "nbconvert_exporter": "python",
   "pygments_lexer": "ipython3",
   "version": "3.9.12"
  }
 },
 "nbformat": 4,
 "nbformat_minor": 5
}