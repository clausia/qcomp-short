{
 "cells": [
  {
   "cell_type": "markdown",
   "id": "b9887770-b02a-47bc-b757-8808062de8ee",
   "metadata": {},
   "source": [
    "(sec-purestates)=\n",
    "# Pure states\n"
   ]
  },
  {
   "cell_type": "markdown",
   "id": "ae8f1b54-10b9-4530-b67c-c5d7f63fc645",
   "metadata": {},
   "source": [
    "Quantum computers store information in a two-dimensional Hilbert space called a qubit.   In this section, I will introduce mathematical description of a single qubit."
   ]
  },
  {
   "cell_type": "markdown",
   "id": "bed0a7d1-2981-4944-9c9a-ca66a827a809",
   "metadata": {
    "jp-MarkdownHeadingCollapsed": true,
    "tags": []
   },
   "source": [
    "## Pure states\n",
    "\n",
    "In ideal situations, the state of a qubit is specified by a single ket vector in a two-dimensional Hilbert space.  We call the ket *state vector* and the ideal state *pure state*.  Unless otherwise is specified, the state vectors are assumed to be normalized. That is $\\langle \\psi | \\psi \\rangle = 1$ (See {numref}`sec-statevectors`). \n",
    "In less ideal situations, a qubit is in a *mix state* involving multiple pure states, which will be discussed in a later chapter.  In this chapter, we focus on pure states.\n",
    "\n",
    "Any qubit state can be written as \n",
    "\n",
    "$$\n",
    "| \\psi \\rangle = c_0 | 0 \\rangle + c_1 | 1 \\rangle\n",
    "$$(qubit-purestate)\n",
    "\n",
    "where $| 0 \\rangle $ and $| 1 \\rangle$ are orthonormal basis vectors satisfying $\\langle 0 | 0 \\rangle = \\langle 1 | 1 \\rangle = 1$ and $\\langle 0 | 1 \\rangle = \\langle 1 | 0 \\rangle = 0$.  The coefficients $c_0$ and $c_1$ are complex numbers. The normalization requirement is satisfied if $|c_0|^2 + |c_1|^2 = 1$.\n",
    "\n",
    "This orthonormal complete basis set $\\{|0\\rangle, |1\\rangle\\}$ is known as *computational basis* which is the default basis in quantum computing.  However, this basis set do not represent any particular physical basis set.  In real quantum computers,  a qubit can be realized, for example, by an electron spin, $|0\\rangle \\equiv | \\uparrow \\rangle$ and $|1\\rangle \\equiv |\\downarrow \\rangle$ or the polarization of a photon, $|0\\rangle \\equiv | H \\rangle$ (horizontal polarization) and $|1\\rangle \\equiv | V \\rangle$ (vertical polarization).  By using the computational basis set, we don't have to worry about what type of hardware is used.  The mathematical expression based on the computational basis can be applied to all of qubit-based quantum computers."
   ]
  },
  {
   "cell_type": "markdown",
   "id": "ed39ce33-a396-490b-98d5-d0cdfe709b0e",
   "metadata": {},
   "source": [
    "## Standard Basis sets\n",
    "\n",
    "In addition to the computational basis (also known as *z-basis*) $\\{|0\\rangle,|1\\rangle\\}$, we often use other orthonormal basis set, namely *x-basis* $\\{|+\\rangle, |-\\rangle\\}$ and *y-basis* $\\{|L\\rangle,|R\\rangle\\}$.\n",
    "They are related to the computational basis as follows:\n",
    "\n",
    "$$\n",
    "|+\\rangle = \\frac{1}{\\sqrt{2}}\\left(|0\\rangle + |1\\rangle\\right), \\quad\n",
    "|-\\rangle = \\frac{1}{\\sqrt{2}}\\left(|0\\rangle - |1\\rangle\\right)\n",
    "$$(XBasis)\n",
    "\n",
    "$$\n",
    "|L\\rangle = \\frac{1}{\\sqrt{2}}\\left(|0\\rangle + i |1\\rangle\\right), \\quad\n",
    "|R\\rangle = \\frac{1}{\\sqrt{2}}\\left(|0\\rangle - i |1\\rangle\\right)\n",
    "$$(YBasis)"
   ]
  },
  {
   "cell_type": "markdown",
   "id": "291c6ac5-a976-43d6-8413-d40f832b9cb2",
   "metadata": {},
   "source": [
    "\n",
    "---\n",
    "**Exercise** {numref}`%s <sec-purestates>`.1 &nbsp;  Assuming that the computational basis is orthonormal, show that the x-basis and the y-basis are orthonormal.\n",
    "\n",
    "---\n"
   ]
  },
  {
   "cell_type": "markdown",
   "id": "e1a2a688-440b-4ee2-991f-1d6e915be9af",
   "metadata": {},
   "source": [
    "## The basis sets in Qiskit\n",
    "\n",
    "In Qiskit, the computatioal basis kets $\\{|0\\rangle, |1\\rangle\\}$ and x-basis kets $\\{|+\\rangle, |-\\rangle\\}$ are predefined.  See the following Qiskit note. "
   ]
  },
  {
   "cell_type": "markdown",
   "id": "9169c754-fbb2-4481-9678-50bb76140b36",
   "metadata": {},
   "source": [
    ":::{admonition} Qiskit note: Computational Basis\n",
    ":class: tip\n",
    "\n",
    "The `qiskit.opflow` library provides us with basic tools to describe quantum mechanics using expressions very similar to the original methematical expressions.  Here are the correspondence between mathematical expressions and `opflow` expressions.\n",
    "\n",
    "> $\\ket{0} \\quad \\Rightarrow \\quad$ `Zero`  \n",
    "> $\\ket{1} \\quad \\Rightarrow \\quad$ `One`  \n",
    "> $\\ket{+} \\quad \\Rightarrow \\quad$ `Plus`  \n",
    "> $\\ket{-} \\quad \\Rightarrow \\quad$ `Minus`     \n",
    "\n",
    "The vector with \"~\" indicates bra.  For example,  \n",
    "> $\\bra{0} \\quad  \\Rightarrow \\quad$ `~One` \n",
    "\n",
    "The regular addition works.\n",
    "> $\\ket{0} + \\ket{1} \\quad \\Rightarrow \\quad$  `Zero + One`\n",
    "\n",
    "The operator for inner product is \"@\". You need to evalute it with `.eval()`.\n",
    "> $\\langle 0 | + \\rangle \\quad \\Rightarrow \\quad$  `(~Zero @ Plus).eval()`\n",
    "\n",
    "`eval` is a method associated with `OperatorBase` class in `qiskit.opflow`.\n",
    "\n",
    "For more detail, see [Qiskit API Document: qiskit.opflow](https://qiskit.org/documentation/apidoc/opflow.html)\n",
    "\n",
    ":::"
   ]
  },
  {
   "cell_type": "markdown",
   "id": "0f979b57-d595-4e19-8716-365d06eddba6",
   "metadata": {},
   "source": [
    "\n",
    "---\n",
    "**Qiskit Example** {numref}`%s <sec-purestates>`.1 &nbsp; Let us check the orthonormality of the computational basis set in Qiskit."
   ]
  },
  {
   "cell_type": "code",
   "execution_count": 1,
   "id": "1624fdfc-5cda-4fa2-9bc2-e82860572612",
   "metadata": {
    "tags": [
     "hide-output"
    ]
   },
   "outputs": [
    {
     "name": "stdout",
     "output_type": "stream",
     "text": [
      "Norm of |0> = 1.0\n",
      "Norm of |1> = 1.0\n",
      "<0|1> = 0.0\n"
     ]
    }
   ],
   "source": [
    "# Import numpy (for sqrt)\n",
    "import numpy as np\n",
    "\n",
    "# Import the base vectors from qiskit.opflow library\n",
    "from qiskit.opflow import Zero, One, Plus, Minus\n",
    "\n",
    "# Example of inner product calculation with qiskit\n",
    "\n",
    "# First example calculate the norm of |0> and |1>\n",
    "# Zero and One are ket\n",
    "# ~Zero and ~One are corresponding bra\n",
    "# @ product between bra and ket, that is inner product\n",
    "# To complete the operation @, we must evaluate it by .eval()\n",
    "\n",
    "Norm_of_Zero = np.sqrt((~Zero @ Zero).eval())\n",
    "Norm_of_One  = np.sqrt((~One @ One).eval())\n",
    "\n",
    "# Show the reults\n",
    "print(\"Norm of |0> =\", Norm_of_Zero)\n",
    "print(\"Norm of |1> =\", Norm_of_One)\n",
    "\n",
    "# Next we check the orthogonality between |0> and |1>\n",
    "Inner_Product = (~Zero @ One).eval()\n",
    "\n",
    "# Show the result.\n",
    "print(\"<0|1> =\", Inner_Product)"
   ]
  },
  {
   "cell_type": "markdown",
   "id": "a48109c4-7288-4318-9806-da9bf9d328aa",
   "metadata": {},
   "source": [
    "\n",
    "---\n",
    "**Qiskit Example** {numref}`%s <sec-purestates>`.2 &nbsp;  Let us construct another orthonormal basis set $|L\\rangle = \\frac{1}{\\sqrt{2}}\\left(|0\\rangle + i |1\\rangle\\right)$ and $|R\\rangle = \\frac{1}{\\sqrt{2}}\\left(|0\\rangle - i |1\\rangle\\right)$.  Notice the complex unit $i$ on $|1\\rangle$."
   ]
  },
  {
   "cell_type": "code",
   "execution_count": 2,
   "id": "7182390b-ffc2-4654-b15f-09bf74d6021b",
   "metadata": {
    "tags": [
     "hide-output"
    ]
   },
   "outputs": [
    {
     "name": "stdout",
     "output_type": "stream",
     "text": [
      "<L|L> = (0.9999999999999998+0j)\n",
      "<R|R> = (0.9999999999999998+0j)\n",
      "<L|R> = 0j\n"
     ]
    }
   ],
   "source": [
    "# Let us try more complicated case.\n",
    "# we will solve the above exercise problem using Qiskit\n",
    "\n",
    "# import numpy \n",
    "import numpy as np\n",
    "\n",
    "# imaginary unit \"i\" is \"1j\" in python.\n",
    "L = (Zero + 1j* One)/np.sqrt(2)\n",
    "R = (Zero - 1j* One)/np.sqrt(2)\n",
    "\n",
    "print( \"<L|L> =\",(~L@L).eval() )\n",
    "print( \"<R|R> =\",(~R@R).eval() )\n",
    "print( \"<L|R> =\",(~L @ R).eval() )\n",
    "\n",
    "# Anser should be 0 since they are orthogonal."
   ]
  },
  {
   "cell_type": "markdown",
   "id": "8962901b-e0f6-44b9-8e7f-90cf4be586c9",
   "metadata": {},
   "source": [
    ":::{admonition} Python note: Complex numbers\n",
    "\n",
    "In `python`, a complex number is expressed as $2 + 3j$.  Note that symbol $j$ is used instead of $i$.  The imaginary unit $i$ is $1j$.  Notice $1$ in from of $j$.  $j$ must be used with a regular number.  $j$ alone causes an error.\n",
    "::: "
   ]
  },
  {
   "cell_type": "markdown",
   "id": "e4496db5-afe6-47af-aa23-e13a35b9270e",
   "metadata": {},
   "source": [
    "\n",
    "---\n",
    "**Exercise** {numref}`%s <sec-purestates>`.2 &nbsp;  \n",
    "\n",
    "1. Confirm that base vectors `Plus` and `Minus` are orthonormal using Qiskit.\n",
    "2. Calculate the inner product between `One` and `Minus` by hand and confirm your answer using Qiskit.\n"
   ]
  },
  {
   "cell_type": "markdown",
   "id": "b29b4a97-d6f3-4ffd-9c09-89f2668629b8",
   "metadata": {},
   "source": [
    "\n",
    "---\n",
    "**Exercise** {numref}`%s <sec-purestates>`.2 &nbsp;  In the previous example, change the order of rotations to `rx`, `rz`, `ry`.  Does it come back to the initial state?  "
   ]
  },
  {
   "cell_type": "markdown",
   "id": "b08759bd-b270-47f6-9885-a0a227eea0e9",
   "metadata": {},
   "source": [
    "\n",
    "---\n",
    "Last modified: 07/09/2022"
   ]
  },
  {
   "cell_type": "code",
   "execution_count": null,
   "id": "21acf319-990a-4c90-acac-2b65a9b5627c",
   "metadata": {},
   "outputs": [],
   "source": []
  }
 ],
 "metadata": {
  "kernelspec": {
   "display_name": "Python 3 (ipykernel)",
   "language": "python",
   "name": "python3"
  },
  "language_info": {
   "codemirror_mode": {
    "name": "ipython",
    "version": 3
   },
   "file_extension": ".py",
   "mimetype": "text/x-python",
   "name": "python",
   "nbconvert_exporter": "python",
   "pygments_lexer": "ipython3",
   "version": "3.9.12"
  }
 },
 "nbformat": 4,
 "nbformat_minor": 5
}