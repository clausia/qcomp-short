{
 "cells": [
  {
   "cell_type": "markdown",
   "id": "acabc023-c518-4ffb-9417-67eb4c0a9193",
   "metadata": {},
   "source": [
    "(sec-teleportation)=\n",
    "# Quantum teleportation"
   ]
  },
  {
   "cell_type": "markdown",
   "id": "4053e695-2f41-4070-895b-65c5002163f7",
   "metadata": {},
   "source": [
    "Suppose that Alice has a qubit in an arbitrary state $|\\psi\\rangle$ carrying some information.  She wants to send the information to Bob who are separated from Alice by a large distance.  We learned in {numref}`sec-cxgate` that information can be transferred with CX gates but thet do not work due to the distance between them. Remarkably the information can be transferred over any distance if Alice and Bob share an entangled pair of qubits and a classical communication channel such as telephone is available.  The protocol is known as  [*quantum teleportation*](https://en.wikipedia.org/wiki/Quantum_teleportation)."
   ]
  },
  {
   "cell_type": "markdown",
   "id": "334f0b85-3d54-456a-9493-5252dfdf8218",
   "metadata": {},
   "source": [
    "## The protocol\n",
    "\n",
    "Consider three qubits $q_0$, $q_1$ and $q_2$. Alice has $q_2$ which is in a super position state $\\alpha |0\\rangle + \\beta |1\\rangle$.  $q_0$ and $q_1$ are prepared in Bell state $|\\Phi^{+}\\rangle$ and given to Bob and Alice, respectively.  Hence, Alice has two qubits $q_1$ and $q_2$ and Bob has $q_0$.  Recall that the entanglement survives the two qubits are far apart.  We use \"spooky action at a distace\" to teleport the information.  \n",
    "The initial state of the whole system is given by\n",
    "\n",
    "$$\n",
    "|\\psi_0\\rangle = \\left( \\alpha |0\\rangle + \\beta |1\\rangle\\right) \\otimes |\\Phi^{+}\\rangle\n",
    "$$\n",
    "\n",
    "The quantum circuit consists of the following steps\n",
    "\n",
    "**Step 1**\n",
    "\n",
    "Alice applies CX$_{q_2}^{q_1}$ on the two qubits under her control.\n",
    "\n",
    "$$\n",
    "|\\psi_1\\rangle =\\left( \\alpha |0\\rangle + \\beta |1\\rangle\\right) \\otimes |\\Phi^{+}\\rangle \\quad \\Rightarrow \\quad  |\\psi_2\\rangle = \\alpha |0\\rangle \\otimes |\\Phi^{+}\\rangle + \\beta |1\\rangle \\otimes |\\Psi^{+}\\rangle\n",
    "$$\n",
    "\n",
    "This is a local unitary operation and thus the entanglement remains.\n",
    "\n",
    "**Step 2**\n",
    "\n",
    "Alice applies H on $q_2$, which is another local unitary transformation and thus the entanglement is preserved.\n",
    "\n",
    "$$\n",
    "|\\psi_2\\rangle = \\alpha |0\\rangle \\otimes |\\Phi^{+}\\rangle + \\beta |1\\rangle \\otimes |\\Psi^{+}\\rangle  \\quad \\Rightarrow \\quad |\\psi_3\\rangle = \\alpha |+\\rangle \\otimes |\\Phi^{+}\\rangle + \\beta |-\\rangle \\otimes |\\Psi^{+}\\rangle\n",
    "$$\n",
    "\n",
    "\n",
    "Now, we rewrite $|\\psi_2\\rangle$ from the Alice's view by factoring out $q_1$ and $q_2$.\n",
    "\n",
    "$$\n",
    "|\\psi_2\\rangle = \\frac{1}{2}\\left[|00\\rangle\\otimes \\left(\\alpha|0\\rangle + \\beta |1\\rangle\\right) + |01\\rangle\\otimes \\left(\\alpha|1\\rangle + \\beta |0\\rangle\\right) + |10\\rangle\\otimes \\left(\\alpha|0\\rangle - \\beta |1\\rangle\\right) + |11\\rangle\\otimes \\left(\\alpha|1\\rangle + \\beta |0\\rangle\\right) \\right]\n",
    "$$\n",
    "\n",
    "**Step 3**\n",
    "\n",
    "Alice measures $q_1$ and $q_2$ in the computational basis.  There are four possible outcomes, $|00\\rangle$, $|01\\rangle$, $|10\\rangle$, and $|11\\rangle$ with the equal probability $\\frac{1}{4}$.  The state vector collapses accordingly.   The outcomes of the measurement are listed in {numref}`table-teleport`. \n",
    "\n",
    "```{table} The outcome of measurement\n",
    ":name: table-teleport\n",
    "\n",
    "| Alice's outcome | Bob's state |  Classical message to Bob  | \n",
    "| :-----------: | :---------------: | :------------------: |\n",
    "| $\\lvert 00\\rangle$ | $\\alpha \\lvert 0\\rangle + \\beta \\lvert 1\\rangle$ |  Do nothing. |\n",
    "| $\\lvert 01\\rangle$ | $\\alpha \\lvert 1\\rangle + \\beta \\lvert 0\\rangle$ |  Apply X. |\n",
    "| $\\lvert 10\\rangle$ | $\\alpha \\lvert 0\\rangle - \\beta \\lvert 1\\rangle$ |  Apply Z. |\n",
    "| $\\lvert 11\\rangle$ | $\\alpha \\lvert 1\\rangle - \\beta \\lvert 0\\rangle$ |  Apply Z$\\cdot$X |\n",
    "\n",
    "```\n",
    "\n",
    "\n",
    "**Step 4**\n",
    "\n",
    "If Alice obtain $00\\rangle$, then Bob's qubit is in the desired state.  Otherwise, Bob needs to transform his qubit based on the outcome of the measurement.  However, he does not know what outcome Alice obtained.  Thus Alice sends a message given in {numref}`table-teleport` to Bob through classical channel (such as telephone). In quantum circuit, this final adjustment can be done by applying CX$_{q_1}^{q_0}$ and CZ$_{q_2}^{q_0}$ after the measurement.  Note this CX and CZ are just mimicking the classical communication.\n",
    "\n",
    "Bob follows the message.  Now, Bob has the desired state in all cases.\n",
    "\n",
    "Notice that no unrealistic non-local operation is used in the protocol.  Alice and Bob operates only on the qubits under their control."
   ]
  },
  {
   "cell_type": "code",
   "execution_count": 1,
   "id": "03defc31-4a13-4af7-8d65-95c05af0c858",
   "metadata": {},
   "outputs": [
    {
     "data": {
      "text/html": [
       "<pre style=\"word-wrap: normal;white-space: pre;background: #fff0;line-height: 1.1;font-family: &quot;Courier New&quot;,Courier,monospace\">                    ░ ┌───┐      ░            ░        ░ ┌───┐   \n",
       "q_0: ───────────────░─┤ H ├──■───░────────────░────────░─┤ X ├─■─\n",
       "                    ░ └───┘┌─┴─┐ ░ ┌───┐      ░ ┌─┐    ░ └─┬─┘ │ \n",
       "q_1: ───────────────░──────┤ X ├─░─┤ X ├──────░─┤M├────░───■───┼─\n",
       "     ┌────────────┐ ░      └───┘ ░ └─┬─┘┌───┐ ░ └╥┘┌─┐ ░       │ \n",
       "q_2: ┤ U(π/3,0,0) ├─░────────────░───■──┤ H ├─░──╫─┤M├─░───────■─\n",
       "     └────────────┘ ░            ░      └───┘ ░  ║ └╥┘ ░         \n",
       "c: 2/════════════════════════════════════════════╩══╩════════════\n",
       "                                                 0  1            </pre>"
      ],
      "text/plain": [
       "                    ░ ┌───┐      ░            ░        ░ ┌───┐   \n",
       "q_0: ───────────────░─┤ H ├──■───░────────────░────────░─┤ X ├─■─\n",
       "                    ░ └───┘┌─┴─┐ ░ ┌───┐      ░ ┌─┐    ░ └─┬─┘ │ \n",
       "q_1: ───────────────░──────┤ X ├─░─┤ X ├──────░─┤M├────░───■───┼─\n",
       "     ┌────────────┐ ░      └───┘ ░ └─┬─┘┌───┐ ░ └╥┘┌─┐ ░       │ \n",
       "q_2: ┤ U(π/3,0,0) ├─░────────────░───■──┤ H ├─░──╫─┤M├─░───────■─\n",
       "     └────────────┘ ░            ░      └───┘ ░  ║ └╥┘ ░         \n",
       "c: 2/════════════════════════════════════════════╩══╩════════════\n",
       "                                                 0  1            "
      ]
     },
     "execution_count": 1,
     "metadata": {},
     "output_type": "execute_result"
    }
   ],
   "source": [
    "import numpy as np\n",
    "from qiskit import QuantumCircuit, QuantumRegister, ClassicalRegister, Aer\n",
    "from qiskit.quantum_info import Statevector, partial_trace, purity\n",
    "backend = Aer.get_backend('statevector_simulator')\n",
    "\n",
    "cr=ClassicalRegister(2,'c')\n",
    "qr=QuantumRegister(3,'q')\n",
    "qc=QuantumCircuit(qr,cr)\n",
    "\n",
    "# Generate a state Alice has\n",
    "# set parameters\n",
    "theta=np.pi/3\n",
    "phi=0.0\n",
    "qc.u(theta,phi,0,2)\n",
    "qc.barrier()\n",
    "\n",
    "# form entanglement between 0 and 1\n",
    "qc.h(0)\n",
    "qc.cx(0,1)\n",
    "\n",
    "psi0=Statevector(qc)\n",
    "\n",
    "qc.barrier()\n",
    "\n",
    "# Step 1\n",
    "qc.cx(2,1)\n",
    "\n",
    "# Step 2\n",
    "qc.h(2)\n",
    "\n",
    "qc.barrier()\n",
    "\n",
    "# Step 3\n",
    "qc.measure([1,2],[0,1])\n",
    "\n",
    "qc.barrier()\n",
    "\n",
    "# Step 4\n",
    "qc.cx(1,0)\n",
    "qc.cz(2,0)\n",
    "\n",
    "qc.draw()"
   ]
  },
  {
   "cell_type": "code",
   "execution_count": 2,
   "id": "b9d2ce20-4329-4a1d-a835-f2e1a3f40f98",
   "metadata": {},
   "outputs": [],
   "source": [
    "result=backend.run(qc).result()\n",
    "psi4 = result.get_statevector()"
   ]
  },
  {
   "cell_type": "code",
   "execution_count": 3,
   "id": "41000f93-7e55-41e0-a309-2d3e9eb1fc54",
   "metadata": {},
   "outputs": [
    {
     "name": "stdout",
     "output_type": "stream",
     "text": [
      "Alice's initial state\n",
      "purity= (0.9999999999999996+0j)\n"
     ]
    },
    {
     "data": {
      "text/latex": [
       "$$\\frac{\\sqrt{3}}{2} |0\\rangle+\\frac{1}{2} |1\\rangle$$"
      ],
      "text/plain": [
       "<IPython.core.display.Latex object>"
      ]
     },
     "execution_count": 3,
     "metadata": {},
     "output_type": "execute_result"
    }
   ],
   "source": [
    "# Get the state of q0\n",
    "# assuiming the coefficients are real.\n",
    "print(\"Alice's initial state\")\n",
    "rhoA = partial_trace(psi0, [0,1])\n",
    "print(\"purity=\",purity(rhoA))\n",
    "psiA = Statevector(np.sqrt(np.diagonal(rhoA)))\n",
    "psiA.draw('latex')"
   ]
  },
  {
   "cell_type": "code",
   "execution_count": 4,
   "id": "be4113d2-88e3-4f96-9075-a1aa4593e259",
   "metadata": {},
   "outputs": [
    {
     "name": "stdout",
     "output_type": "stream",
     "text": [
      "Bob's final state\n",
      "purity= (1.0000000000000002+0j)\n"
     ]
    },
    {
     "data": {
      "text/latex": [
       "$$\\frac{\\sqrt{3}}{2} |0\\rangle+\\frac{1}{2} |1\\rangle$$"
      ],
      "text/plain": [
       "<IPython.core.display.Latex object>"
      ]
     },
     "execution_count": 4,
     "metadata": {},
     "output_type": "execute_result"
    }
   ],
   "source": [
    "# Get the state of q2\n",
    "# assuiming the coefficients are real.\n",
    "print(\"Bob's final state\")\n",
    "rhoB = partial_trace(psi4, [1,2])\n",
    "print(\"purity=\",purity(rhoB))\n",
    "psiB = Statevector(np.sqrt(np.diagonal(rhoB)))\n",
    "psiB.draw('latex')"
   ]
  },
  {
   "cell_type": "markdown",
   "id": "f5969c42-77e4-4796-880b-676ee664a7a0",
   "metadata": {},
   "source": [
    "The result shows that the state of Bob's qubit is pure and identical to the original state of Alice's qubit."
   ]
  },
  {
   "cell_type": "markdown",
   "id": "18027620-0886-40df-8071-b5d5b2c9de18",
   "metadata": {},
   "source": [
    "The \"spooky action at a distance\" can't transmit information or otherwise it violates the Einstein's theory of special relativity.  It collapses the state but Bob does not know what is the outcome.  Alice helps Bob by telling him what she found.  This classical communication send 2 bits of information since Bob needs to know one outcome out of four possibilities.  However, the no-teleportation theorem tells us that an exact state of a qubit cannot be described by any length of classical bits.  So, the classical communication did not transmit the information of $|\\psi\\rangle$.  It is very strange.  Neither the quantum correlation nor classical communication alone can transmit the full information but it did reach the Bob. Therefore, teleportation succeeded *with the help of quantum entanglement*."
   ]
  },
  {
   "cell_type": "markdown",
   "id": "71c88f8e-c18a-49ba-80e6-ca7ec614ab43",
   "metadata": {},
   "source": [
    "\n",
    "---\n",
    "Last Modified on 08/22/2022."
   ]
  }
 ],
 "metadata": {
  "kernelspec": {
   "display_name": "Python 3 (ipykernel)",
   "language": "python",
   "name": "python3"
  },
  "language_info": {
   "codemirror_mode": {
    "name": "ipython",
    "version": 3
   },
   "file_extension": ".py",
   "mimetype": "text/x-python",
   "name": "python",
   "nbconvert_exporter": "python",
   "pygments_lexer": "ipython3",
   "version": "3.9.12"
  }
 },
 "nbformat": 4,
 "nbformat_minor": 5
}