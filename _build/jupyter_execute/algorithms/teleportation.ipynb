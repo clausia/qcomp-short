{
 "cells": [
  {
   "cell_type": "markdown",
   "id": "acabc023-c518-4ffb-9417-67eb4c0a9193",
   "metadata": {},
   "source": [
    "(sec-teleportation)=\n",
    "# Quantum Teleportation"
   ]
  },
  {
   "cell_type": "markdown",
   "id": "4053e695-2f41-4070-895b-65c5002163f7",
   "metadata": {},
   "source": [
    "Suppose that Alice has a qubit in an arbitrary state $|\\psi\\rangle$ carrying some information.  She wants to send the information to Bob. In other words, Bob needs to obtain a qubit in the same state $|\\psi\\rangle$.  The simple solution is to deliver the Alice's qubit to Bob.  Let us assume that the Alice's qubit is not mobile and must stay with her.  What can they do?  First of all, Bob needs a qubit.  It can be any state but let us assume it us in a \"reset state\" $|0\\rangle$.  Further, we assume that the two qubits are initially not entangled. This assumption allows Bob to bring a qubit from anywhere he likes.  We apply some unitary operation (gates) to the both qubits so that the state of Bob's qubit  is transformed to $|\\psi\\rangle$.  Copying the state from Alice to Bob is not possible due to the no-cloning theorem.  Applying local unitary operation (one-qubit gates) to each qubit does not transmit any information and thus the Bob's qubit is independent of the Alice's. We need non-local operation (two-qubit gates).   We know such a non-local operation.  The SWAP operation makes the Bob's qubit $|\\psi\\rangle$ and Alice loses the information entirely.  Unfortunately, the SWAP operation works only when the two qubits are close to each other, hence one of them must travel to the other.\n",
    "\n",
    "Is there a way to create a desired state over a distance by communication?  Classical communication such as telephone call won't help due to the no-teleportation theorem. We must use a quantum communication.  That means we need a messenger qubit that can be sent from one cite to another, such as a photon. It turns out that quantum communication along with classical communication *teleport* the state $|\\psi\\rangle$ from Alice to Bob over a large distance.  We use three qubits, $q_A$ for Alice, $q_B$ for Bob, and $q_M$ messenger (often called *ancila* qubit).  The protocol is called [*quantum teleportation*](https://en.wikipedia.org/wiki/Quantum_teleportation)."
   ]
  },
  {
   "cell_type": "markdown",
   "id": "334f0b85-3d54-456a-9493-5252dfdf8218",
   "metadata": {},
   "source": [
    "## The protocol\n",
    "\n",
    "Consider a Hilbert space of three qubits $\\mathcal{H}_A \\otimes \\mathcal{H}_M \\otimes \\mathcal{H}_B$.  $q_A$ is in a arbitrary state\n",
    "$\\alpha |0\\rangle + \\beta |1\\rangle$, and  $q_B$ and $q_M$ are both in $|0\\rangle$.  Thus the initial state is\n",
    "\n",
    "$$\n",
    "|\\psi_0\\rangle = \\left( \\alpha |0\\rangle + \\beta |1\\rangle\\right) \\otimes |00\\rangle\n",
    "$$\n",
    "\n",
    "We want find a protocol that makes $q_B$ becomes $\\left( \\alpha |0\\rangle + \\beta |1\\rangle\\right)$ at the end.  We don't care the final state of $q_A$ and $q_M$.\n",
    "\n",
    "**Step 1**  \n",
    "\n",
    "Assume that $q_M$ is near by $q_B$.  Bob applies H and CX on $q_M$ and $q_B$ so that they becomes Bell state $|\\Phi^{+}$.(See {eq}`cbase-Bell`.)\n",
    "\n",
    "$$\n",
    "|\\psi_0\\rangle = \\left( \\alpha |0\\rangle + \\beta |1\\rangle\\right) \\otimes |00\\rangle \\quad \\Rightarrow \\quad  |\\psi_1\\rangle =\\left( \\alpha |0\\rangle + \\beta |1\\rangle\\right) \\otimes |\\Phi^{+}\\rangle\n",
    "$$\n",
    "\n",
    "\n",
    "**Step 2**\n",
    "\n",
    "Now the messenger qubit travels to Alice. In order to distinguish $\\alpha$ and $\\beta$, Alice applies CX$_{q_A}^{q_M}$.\n",
    "$$\n",
    "|\\psi_1\\rangle =\\left( \\alpha |0\\rangle + \\beta |1\\rangle\\right) \\otimes |\\Phi^{+}\\rangle \\quad \\Rightarrow \\quad  |\\psi_2\\rangle = \\alpha |0\\rangle \\otimes |\\Phi^{+}\\rangle + \\beta |1\\rangle \\otimes |\\Psi^{+}\\rangle\n",
    "$$\n",
    "\n",
    "Note that $q_M$ and $q_B$ are separated by a distance, entanglement in the Bell states survives.\n",
    "\n",
    "**Step 3**\n",
    "\n",
    "Alice applies H on $q_A$ to change the basis of $q_A$ from the $z$-basis to $x$-basis.\n",
    "\n",
    "$$\n",
    "|\\psi_2\\rangle = \\alpha |0\\rangle \\otimes |\\Phi^{+}\\rangle + \\beta |1\\rangle \\otimes |\\Psi^{+}\\rangle  \\quad \\Rightarrow \\quad |\\psi_3\\rangle = \\alpha |+\\rangle \\otimes |\\Phi^{+}\\rangle + \\beta |-\\rangle \\otimes |\\Psi^{+}\\rangle\n",
    "$$\n",
    "\n",
    "Now, we rewrite $|\\psi_3\\rangle$ from the Alice's view\n",
    "\n",
    "$$\n",
    "|\\psi_3\\rangle = \\frac{1}{2}\\left[|00\\rangle\\otimes \\left(\\alpha|0\\rangle + \\beta |1\\rangle\\right) + |01\\rangle\\otimes \\left(\\alpha|1\\rangle + \\beta |0\\rangle\\right) + |10\\rangle\\otimes \\left(\\alpha|0\\rangle - \\beta |1\\rangle\\right) + |11\\rangle\\otimes \\left(\\alpha|1\\rangle + \\beta |0\\rangle\\right) \\right]\n",
    "$$\n",
    "\n",
    "**Step 4**\n",
    "\n",
    "Alice measures $q_A$ and $q_M$ in the computational basis.  There are four possible outcomes, $|00\\rangle$, $|01\\rangle$, $|10\\rangle$, and $|11\\rangle$ with the equal probability $\\frac{1}{4}$.  The state vector collapses accordingly.   The outcomes of the measurement are listed in {numref}`table-teleport`. \n",
    "\n",
    "```{table} The outcome of measurement\n",
    ":name: table-teleport\n",
    "\n",
    "| Alice's outcome | Bob's state |  Classical message  | \n",
    "| :-----------: | :---------------: | :------------------: |\n",
    "| $\\lvert 00\\rangle$ | $\\alpha \\lvert 0\\rangle + \\beta \\lvert 1\\rangle$ |  Do nothing. |\n",
    "| $\\lvert 01\\rangle$ | $\\alpha \\lvert 1\\rangle + \\beta \\lvert 0\\rangle$ |  Apply X. |\n",
    "| $\\lvert 10\\rangle$ | $\\alpha \\lvert 0\\rangle - \\beta \\lvert 1\\rangle$ |  Apply Z. |\n",
    "| $\\lvert 11\\rangle$ | $\\alpha \\lvert 1\\rangle - \\beta \\lvert 0\\rangle$ |  Apply Z$\\cdot$X |\n",
    "\n",
    "```\n",
    "\n",
    "\n",
    "**Step 5**\n",
    "\n",
    "If Alice obtain $00\\rangle$, then Bob's qubit is in the desired state.  Otherwise, Bob needs to transform his qubit but he does not know what to do.  Alice sends a message given in {numref}`table-teleport` to Bob through classical channel (such as telephone). In quantum circuit, this final adjustment can be done by applying CX$_{q_M}^{q_B}$ and CZ$_{q_A}^{q_B}$ after the measurement.  Note this CX and CZ are just mimicking the classical communication.\n",
    "\n",
    "Bob follows the message.  Now, Bob has the desired state in all cases."
   ]
  },
  {
   "cell_type": "code",
   "execution_count": 1,
   "id": "03defc31-4a13-4af7-8d65-95c05af0c858",
   "metadata": {},
   "outputs": [
    {
     "data": {
      "text/html": [
       "<pre style=\"word-wrap: normal;white-space: pre;background: #fff0;line-height: 1.1;font-family: &quot;Courier New&quot;,Courier,monospace\">     ┌────────────┐ ░                ┌───┐ ░ ┌─┐           \n",
       "q_0: ┤ U(π/3,0,0) ├─░─────────────■──┤ H ├─░─┤M├─────────■─\n",
       "     └────────────┘ ░ ┌───┐     ┌─┴─┐└───┘ ░ └╥┘┌─┐      │ \n",
       "q_1: ───────────────░─┤ H ├──■──┤ X ├──────░──╫─┤M├──■───┼─\n",
       "                    ░ └───┘┌─┴─┐└───┘      ░  ║ └╥┘┌─┴─┐ │ \n",
       "q_2: ───────────────░──────┤ X ├───────────░──╫──╫─┤ X ├─■─\n",
       "                    ░      └───┘           ░  ║  ║ └───┘   \n",
       "c: 2/═════════════════════════════════════════╩══╩═════════\n",
       "                                              0  1         </pre>"
      ],
      "text/plain": [
       "     ┌────────────┐ ░                ┌───┐ ░ ┌─┐           \n",
       "q_0: ┤ U(π/3,0,0) ├─░─────────────■──┤ H ├─░─┤M├─────────■─\n",
       "     └────────────┘ ░ ┌───┐     ┌─┴─┐└───┘ ░ └╥┘┌─┐      │ \n",
       "q_1: ───────────────░─┤ H ├──■──┤ X ├──────░──╫─┤M├──■───┼─\n",
       "                    ░ └───┘┌─┴─┐└───┘      ░  ║ └╥┘┌─┴─┐ │ \n",
       "q_2: ───────────────░──────┤ X ├───────────░──╫──╫─┤ X ├─■─\n",
       "                    ░      └───┘           ░  ║  ║ └───┘   \n",
       "c: 2/═════════════════════════════════════════╩══╩═════════\n",
       "                                              0  1         "
      ]
     },
     "execution_count": 1,
     "metadata": {},
     "output_type": "execute_result"
    }
   ],
   "source": [
    "import numpy as np\n",
    "from qiskit import QuantumCircuit, QuantumRegister, ClassicalRegister, Aer\n",
    "from qiskit.quantum_info import Statevector, partial_trace, purity\n",
    "backend = Aer.get_backend('statevector_simulator')\n",
    "\n",
    "cr=ClassicalRegister(2,'c')\n",
    "qr=QuantumRegister(3,'q')\n",
    "qc=QuantumCircuit(qr,cr)\n",
    "\n",
    "# Generate a state Alice has\n",
    "# set parameters\n",
    "theta=np.pi/3\n",
    "phi=0.0\n",
    "qc.u(theta,phi,0,0)\n",
    "\n",
    "psi0=Statevector(qc)\n",
    "\n",
    "qc.barrier()\n",
    "\n",
    "# Step 1\n",
    "qc.h(1)\n",
    "qc.cx(1,2)\n",
    "\n",
    "# Step 2\n",
    "qc.cx(0,1)\n",
    "\n",
    "# Step 3\n",
    "qc.h(0)\n",
    "qc.barrier()\n",
    "\n",
    "# Step 4\n",
    "qc.measure([0,1],[0,1])\n",
    "\n",
    "# Step 5\n",
    "qc.cx(1,2)\n",
    "qc.cz(0,2)\n",
    "\n",
    "qc.draw()"
   ]
  },
  {
   "cell_type": "code",
   "execution_count": 2,
   "id": "b9d2ce20-4329-4a1d-a835-f2e1a3f40f98",
   "metadata": {},
   "outputs": [],
   "source": [
    "result=backend.run(qc).result()\n",
    "full_statevector = result.get_statevector()"
   ]
  },
  {
   "cell_type": "code",
   "execution_count": 3,
   "id": "41000f93-7e55-41e0-a309-2d3e9eb1fc54",
   "metadata": {},
   "outputs": [
    {
     "name": "stdout",
     "output_type": "stream",
     "text": [
      "Alice's initial state\n",
      "purity= (1.0000000000000002+0j)\n"
     ]
    },
    {
     "data": {
      "text/latex": [
       "$$\\frac{\\sqrt{3}}{2} |0\\rangle+\\frac{1}{2} |1\\rangle$$"
      ],
      "text/plain": [
       "<IPython.core.display.Latex object>"
      ]
     },
     "execution_count": 3,
     "metadata": {},
     "output_type": "execute_result"
    }
   ],
   "source": [
    "# get the density matrix for the first qubit by taking the partial trace\n",
    "print(\"Alice's initial state\")\n",
    "rhoA = partial_trace(psi0, [1,2])\n",
    "print(\"purity=\",purity(rhoA))\n",
    "psiA = Statevector(np.sqrt(np.diagonal(rhoA)))\n",
    "psiA.draw('latex')"
   ]
  },
  {
   "cell_type": "code",
   "execution_count": 4,
   "id": "be4113d2-88e3-4f96-9075-a1aa4593e259",
   "metadata": {},
   "outputs": [
    {
     "name": "stdout",
     "output_type": "stream",
     "text": [
      "Bob's initial state\n",
      "purity= (0.9999999999999993+0j)\n"
     ]
    },
    {
     "data": {
      "text/latex": [
       "$$\\frac{\\sqrt{3}}{2} |0\\rangle+\\frac{1}{2} |1\\rangle$$"
      ],
      "text/plain": [
       "<IPython.core.display.Latex object>"
      ]
     },
     "execution_count": 4,
     "metadata": {},
     "output_type": "execute_result"
    }
   ],
   "source": [
    "# get the density matrix for the first qubit by taking the partial trace\n",
    "print(\"Bob's initial state\")\n",
    "rhoB = partial_trace(full_statevector, [0,1])\n",
    "print(\"purity=\",purity(rhoB))\n",
    "psiB = Statevector(np.sqrt(np.diagonal(rhoB)))\n",
    "psiB.draw('latex')"
   ]
  },
  {
   "cell_type": "markdown",
   "id": "f5969c42-77e4-4796-880b-676ee664a7a0",
   "metadata": {},
   "source": [
    "The result shows that the state of Bob's qubit is pure and identical to the original state of Alice's qubit."
   ]
  },
  {
   "cell_type": "code",
   "execution_count": null,
   "id": "3daa519a-9f2c-4698-be7a-9dde64ef41c3",
   "metadata": {},
   "outputs": [],
   "source": []
  }
 ],
 "metadata": {
  "kernelspec": {
   "display_name": "Python 3 (ipykernel)",
   "language": "python",
   "name": "python3"
  },
  "language_info": {
   "codemirror_mode": {
    "name": "ipython",
    "version": 3
   },
   "file_extension": ".py",
   "mimetype": "text/x-python",
   "name": "python",
   "nbconvert_exporter": "python",
   "pygments_lexer": "ipython3",
   "version": "3.9.12"
  }
 },
 "nbformat": 4,
 "nbformat_minor": 5
}