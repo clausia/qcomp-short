{
 "cells": [
  {
   "cell_type": "markdown",
   "id": "b2519ae5-956b-47e5-b9e6-4d393866b96b",
   "metadata": {},
   "source": [
    "(sec-denscoding)=\n",
    "# Superdense coding\n"
   ]
  },
  {
   "cell_type": "markdown",
   "id": "6fce0d6f-ff4e-4623-91d8-b7343395e9b2",
   "metadata": {},
   "source": [
    "## The Objective\n",
    "\n",
    "Accoring to the Halevo's bound, we can extract from a qubit only one bit of information at maximum. If we transmit some information using a qubit as carrier, it is natural to think that only one bit information can be sent. Surprisingly, we can send two bits of information by sending only a qubit.{cite}`Bennett1992`  The method is known as [*superdense coding*](https://en.wikipedia.org/wiki/Superdense_coding).  Experiments{cite}`Schaetz2004,Williams2017` confirmed that more than one bit of information can be sent with a single qubit.\n"
   ]
  },
  {
   "cell_type": "markdown",
   "id": "e2384471-5fd5-4f4e-bb07-f566d1cf9ddc",
   "metadata": {},
   "source": [
    "## Algorithm\n",
    "\n",
    "Alice and Bob are separated by a distance and there is no classical communication channel between them. Alice wants to send two bits of information to Bob.  Bob knows Alice is sending one of $00$, $01$ , $10$, and $11$.  Alice sent Bob a single qubit and somehow Bob received the information.  How?  If only one qubit travels from Alice to Bob, it seems not possible since it can carry only one bit of information.  Similarly to the quantum teleportation, we can use quantum entanglement.\n",
    "\n",
    "**Step 1. Preparation**  \n",
    "Alice and Bob have a qubit each, $q_A$ and $q_B$, respectively.  These two qubits are prepared in a Bell state \n",
    "\n",
    "$$\n",
    "|\\Phi^{+}\\rangle = \\frac{1}{\\sqrt{2}}\\left(|0_A 0_B\\rangle + |1_A 1_B\\rangle\\right)\n",
    "$$\n",
    "\n",
    "where the index $A$ and $B$ indicate the owners of the qubit, Alice and Bob, respectively.\n",
    "\n",
    "**Step 2. Encoding**    \n",
    "Alice applies a unitary transformation to her qubit.  The unitary transformation depends on the information she wants to send.  \n",
    "   * To send $00$, do nothing.  The state remains in $|\\Phi^{+}\\rangle$.\n",
    "   \n",
    "   * To send $01$, apply X.  The state is transformed to $|\\Psi^{+}\\rangle = \\frac{1}{\\sqrt{2}}\\left(|0_A 1_B\\rangle + |1_A 0_B\\rangle\\right)$.\n",
    "   \n",
    "   * To send $10$, apply Z.  The state is transformed to $|\\Phi^{-}\\rangle = \\frac{1}{\\sqrt{2}}\\left(|0_A 0_B\\rangle - |1_A 1_B\\rangle\\right)$.\n",
    "\n",
    "   * To send $11$, apply Z $\\cdot$ X.  The state is transformed to $|\\Psi^{-}\\rangle = \\frac{1}{\\sqrt{2}}\\left(|0_A 1_B\\rangle - |1_A 0_B\\rangle\\right)$.\n",
    "   \n",
    "**Step 3.  Transmission**  \n",
    "Alice sends her qubit to Bob.\n",
    "\n",
    "**Step 4.  Decoding**   \n",
    "Bob now has two qubits.  To decode the information, Bob applies CX with $q_A$ as control and $q_B$ as target, and H on $q_A$.\n",
    "\n",
    "  * If the state is $|\\Phi^{+}\\rangle$,  Bob obtains (I $\\otimes$ H) $\\cdot$ CX$_\\text{AB}\\, |\\Phi^{+}\\rangle = |00\\rangle$.\n",
    "\n",
    "  * If the state is $|\\Psi^{+}\\rangle$,  Bob obtains (I $\\otimes$ H) $\\cdot$ CX$_\\text{AB}\\, |\\Psi^{+}\\rangle = |01\\rangle$.\n",
    "  \n",
    "  * If the state is $|\\Phi^{-}\\rangle$,  Bob obtains (I $\\otimes$ H) $\\cdot$ CX$_\\text{AB}\\, |\\Phi^{-}\\rangle = |10\\rangle$.\n",
    "  \n",
    "  * If the state is $|\\Psi^{-}\\rangle$,  Bob obtains (I $\\otimes$ H) $\\cdot$ CX$_\\text{AB}\\, |\\Psi^{-}\\rangle = |11\\rangle$. \n",
    "  \n",
    "  **Step 4. Measurement**  \n",
    "Bob measures both qubits in the computational basis.  The outcome is one of $00$, $01$, $10$, or $11$ with probability 1, which is the information Alice submitted.\n",
    "\n"
   ]
  },
  {
   "cell_type": "markdown",
   "id": "dc8946d3-73f1-45b5-9129-c480b4ec0ce2",
   "metadata": {},
   "source": [
    "## Qiskit Example"
   ]
  },
  {
   "cell_type": "markdown",
   "id": "3c938436-fa75-4aef-be0b-076212269d74",
   "metadata": {},
   "source": [
    "### Circuit\n",
    "  \n",
    "In the following Qiskit example, Alice selects a message at random, encode it and send it to Bob.  Then, Bob decodes it.  Run it several times and see the input and output are always the same."
   ]
  },
  {
   "cell_type": "code",
   "execution_count": 1,
   "id": "b9d81389-9f25-417c-888f-871e8684c1cb",
   "metadata": {},
   "outputs": [
    {
     "data": {
      "image/png": "[encoded data removed]",
      "text/plain": [
       "<Figure size 628.252x204.68 with 1 Axes>"
      ]
     },
     "execution_count": 1,
     "metadata": {
      "filenames": {
       "image/png": "/home/kawai/teaching/mybooks/qcomp-short/_build/jupyter_execute/algorithms/densecoding_5_0.png"
      }
     },
     "output_type": "execute_result"
    }
   ],
   "source": [
    "import numpy as np\n",
    "from qiskit import QuantumCircuit, QuantumRegister, ClassicalRegister, Aer\n",
    "from qiskit.quantum_info import Statevector, partial_trace\n",
    "\n",
    "cr=ClassicalRegister(2,'c')\n",
    "qr=QuantumRegister(2,'q')\n",
    "qc=QuantumCircuit(qr,cr)\n",
    "\n",
    "# engtangle the qubit\n",
    "qc.h(1)\n",
    "qc.cx(1,0)\n",
    "qc.barrier()\n",
    "\n",
    "# select information to be sent at random\n",
    "x=np.random.randint(3)\n",
    "\n",
    "# Alice encodes the message\n",
    "if x==0:\n",
    "    messageA='00'\n",
    "    qc.i(1)\n",
    "elif x==1:\n",
    "    messageA='01'\n",
    "    qc.x(1)\n",
    "elif x==2:\n",
    "    messageA='10'\n",
    "    qc.z(1)\n",
    "else:\n",
    "    messageA='11'\n",
    "    qc.x(1)\n",
    "    qc.z(1)\n",
    "\n",
    "    qc.barrier()\n",
    "\n",
    "# Bob decodes the message\n",
    "\n",
    "qc.cx(1,0)\n",
    "qc.h(1)\n",
    "qc.barrier()\n",
    "\n",
    "# measure the final state\n",
    "qc.measure([0,1],[0,1])\n",
    "\n",
    "# circuit\n",
    "qc.draw('mpl')"
   ]
  },
  {
   "cell_type": "markdown",
   "id": "4fb75a78-fd0b-4dbf-ac2f-3025dfe9af7f",
   "metadata": {},
   "source": [
    "### Execution (noiseless)"
   ]
  },
  {
   "cell_type": "code",
   "execution_count": 2,
   "id": "8a4fc1bb-2a81-4b8b-871d-f9b02e72106b",
   "metadata": {},
   "outputs": [],
   "source": [
    "# Using noiseless simulator\n",
    "backend = Aer.get_backend('statevector_simulator')   \n",
    "\n",
    "result=backend.run(qc).result()\n",
    "psi = result.get_statevector()"
   ]
  },
  {
   "cell_type": "code",
   "execution_count": 3,
   "id": "432b4ec6-ed14-46a9-bee2-4864a8f579bd",
   "metadata": {},
   "outputs": [
    {
     "name": "stdout",
     "output_type": "stream",
     "text": [
      "Allice sent the message: 00\n"
     ]
    }
   ],
   "source": [
    "# Show results\n",
    "\n",
    "print(\"Allice sent the message:\", messageA)\n",
    "# visualize the state Alice sent\n",
    "from qiskit.visualization import plot_state_qsphere\n",
    "\n"
   ]
  },
  {
   "cell_type": "code",
   "execution_count": 4,
   "id": "31ead162-6ae6-4f93-9c90-29f294f608eb",
   "metadata": {},
   "outputs": [
    {
     "name": "stdout",
     "output_type": "stream",
     "text": [
      "The state Bob finds.\n"
     ]
    },
    {
     "data": {
      "image/png": "[encoded data removed]",
      "text/plain": [
       "<Figure size 504x504 with 2 Axes>"
      ]
     },
     "execution_count": 4,
     "metadata": {
      "filenames": {
       "image/png": "/home/kawai/teaching/mybooks/qcomp-short/_build/jupyter_execute/algorithms/densecoding_9_1.png"
      }
     },
     "output_type": "execute_result"
    }
   ],
   "source": [
    "# visualize the decoded state\n",
    "print(\"The state Bob finds.\")\n",
    "plot_state_qsphere(psi)"
   ]
  },
  {
   "cell_type": "code",
   "execution_count": 5,
   "id": "7b86a313-8f47-47af-bfc3-e6ccef335a4f",
   "metadata": {},
   "outputs": [
    {
     "name": "stdout",
     "output_type": "stream",
     "text": [
      "Bob finds the message =  00\n",
      "the communication was succerss!\n"
     ]
    }
   ],
   "source": [
    "messageB=list(psi.to_dict().keys())\n",
    "\n",
    "if len(messageB)==1:\n",
    "    print(\"Bob finds the message = \",messageB[0])\n",
    "    if messageA == messageB[0]:\n",
    "        print(\"the communication was succerss!\")\n",
    "else:\n",
    "    print(\"the communication failed.\")"
   ]
  },
  {
   "cell_type": "markdown",
   "id": "f3d96794-7a6e-4afe-875b-821bb1715725",
   "metadata": {},
   "source": [
    "### Execution (noisy)"
   ]
  },
  {
   "cell_type": "code",
   "execution_count": 6,
   "id": "5af588ba-e2c4-45dd-b46e-89a021b74fd8",
   "metadata": {},
   "outputs": [
    {
     "data": {
      "image/png": "[encoded data removed]",
      "text/plain": [
       "<Figure size 504x360 with 1 Axes>"
      ]
     },
     "execution_count": 6,
     "metadata": {
      "filenames": {
       "image/png": "/home/kawai/teaching/mybooks/qcomp-short/_build/jupyter_execute/algorithms/densecoding_12_0.png"
      }
     },
     "output_type": "execute_result"
    }
   ],
   "source": [
    "# simulating IBL Jakarta device\n",
    "from qiskit.providers.fake_provider import FakeJakarta\n",
    "\n",
    "backend = FakeJakarta()\n",
    "\n",
    "# set the number of tries\n",
    "nshots=8192\n",
    "\n",
    "# execute the circuit\n",
    "job = backend.run(qc,shots=nshots)\n",
    "\n",
    "# get the results\n",
    "result = job.result()\n",
    "\n",
    "# get statistics\n",
    "counts = result.get_counts()\n",
    "\n",
    "from qiskit.visualization import plot_histogram\n",
    "plot_histogram(counts)"
   ]
  },
  {
   "cell_type": "markdown",
   "id": "846e5076-2050-479f-9609-9f53b6b253ba",
   "metadata": {},
   "source": [
    "With a high probability, Bob gets the correct message."
   ]
  },
  {
   "cell_type": "markdown",
   "id": "48d2f5b1-4313-4b5e-b26f-268a114e773b",
   "metadata": {},
   "source": [
    "\n",
    "---\n",
    "\n",
    "Last modified on 08/31/2022.\n"
   ]
  },
  {
   "cell_type": "code",
   "execution_count": null,
   "id": "e789efc5-e53f-4861-8828-1d1a722bf58e",
   "metadata": {},
   "outputs": [],
   "source": []
  }
 ],
 "metadata": {
  "kernelspec": {
   "display_name": "Python 3 (ipykernel)",
   "language": "python",
   "name": "python3"
  },
  "language_info": {
   "codemirror_mode": {
    "name": "ipython",
    "version": 3
   },
   "file_extension": ".py",
   "mimetype": "text/x-python",
   "name": "python",
   "nbconvert_exporter": "python",
   "pygments_lexer": "ipython3",
   "version": "3.9.12"
  }
 },
 "nbformat": 4,
 "nbformat_minor": 5
}