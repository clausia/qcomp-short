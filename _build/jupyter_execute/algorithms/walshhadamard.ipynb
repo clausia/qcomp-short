{
 "cells": [
  {
   "cell_type": "markdown",
   "id": "ee06949a-05df-41f9-b31f-f4c2f6216dfa",
   "metadata": {},
   "source": [
    "(sec-walsh-hadamard)=\n",
    "# Walsh-Hadamard Transformation"
   ]
  },
  {
   "cell_type": "markdown",
   "id": "eedfcfc8-fc3f-4142-9e97-250f547360d1",
   "metadata": {},
   "source": [
    "An integer $j$ can be expressed in binary bits $j_{n-1}\\,j_{n-2}\\,\\cdots\\,j_{0}$ such that\n",
    "\n",
    "$$\n",
    "j = 2^{n-1} j_{n-1} + 2^{n-2} j_{n-2} + \\cdots + j_0 = \\sum_{k=0}^{n-1} 2^k j_j\n",
    "$$\n",
    "\n",
    "where $j_k = \\in \\{0,1\\}$. The smallest and the largest integers expressed with $n$ bits are $0$ and $2^{n}-1$.  We can encode integers in quantum computation in the same way.  Replacing the bits with qubits $j_k$,\n",
    "\n",
    "$$\n",
    "|j\\rangle_n = |j_{n-1}\\,j_{n-2}\\,\\cdots\\,j_{0} \\rangle = |j_{n-1} \\rangle \\otimes  |j_{n-2} \\rangle \\otimes \\cdots \\otimes |j_{0}\\rangle = \\underset{k=0}{\\overset{n-1}{\\Large\\otimes}} |j_k\\rangle\n",
    "$$\n",
    "\n",
    "where $|\\cdot\\rangle_n$ is a ket in a $n$-dimensional Hilbert space.\n",
    "For example, integers from 0 to 15 can be encoded in with qubits. Integer $9$ is expressed as $|9\\rangle_4 = |0\\rangle \\otimes |1\\rangle \\otimes |0\\rangle \\otimes |1\\rangle$.\n",
    "\n",
    "An advantage of quantum computation is quantum parallelism using a super position state. It would be quite useful if we can create a superposition of many intergers\n",
    "\n",
    "$$\n",
    "|\\psi\\rangle = \\frac{1}{\\sqrt{2^n}}\\left(|0\\rangle_n + |1\\rangle_n + \\cdots + |2^{n-1}\\rangle_n \\right).\n",
    "$$"
   ]
  },
  {
   "cell_type": "markdown",
   "id": "82f9b108-883e-4900-a7c7-939629b4b50d",
   "metadata": {},
   "source": [
    "## Walsh-Hadamard transformation\n",
    "\n",
    "To find a quantum algorithm, we look at a few small cases. For $n=1$, the target state is $\\frac{1}{\\sqrt{2}}\\left(|0\\rangle + |1\\rangle\\right)$.  We are already familiar with this state and $H|0\\rangle$ is the solution.  For $n=2$, we have\n",
    "\n",
    "$$\n",
    "\\begin{align}\n",
    "\\frac{1}{2}\\left(|0\\rangle_2 + |1\\rangle_2 + |2\\rangle_2 + |3\\rangle_2 \\right) &=\n",
    "\\frac{1}{2}\\left(|00\\rangle + |01\\rangle + |10\\rangle + |11\\rangle\\right) \\\\\n",
    "& = \\frac{1}{\\sqrt{2}}\\left(|0\\rangle + |1\\rangle\\right) \\otimes \\frac{1}{\\sqrt{2}}\\left(|0\\rangle + |1\\rangle\\right) \\\\\n",
    "& = H|0\\rangle \\otimes H|0\\rangle = (H\\otimes H) |0\\rangle_2\n",
    "\\end{align}\n",
    "$$\n",
    "\n",
    "It is now clear that the desired quantum algorithm for general case is\n",
    "\n",
    "$$\n",
    "\\begin{align}\n",
    "|\\psi\\rangle &= (H \\otimes H \\otimes \\cdots \\otimes H) |0\\rangle_n \\\\\n",
    "& = \\frac{1}{\\sqrt{2}}\\left(|0\\rangle + |1\\rangle\\right) \\otimes \\frac{1}{\\sqrt{2}}\\left(|0\\rangle + |1\\rangle\\right) \\otimes \\cdots \\otimes \\frac{1}{\\sqrt{2}}\\left(|0\\rangle + |1\\rangle\\right)\n",
    "\\end{align}\n",
    "$$(walsh-hadamard)\n",
    "\n",
    "which is known as *Walsh-Hadamard* transform."
   ]
  },
  {
   "cell_type": "markdown",
   "id": "30973d81-8897-45e4-a2a5-545d73a9e2ed",
   "metadata": {},
   "source": [
    "**Example** {numref}`%s <sec-walsh-hadamard>`.1&nbsp;  The following example calculate the Wals-Hadamard transform for $n=3$.  The result should be $\\frac{1}{\\sqrt{8}} \\left(|000\\rangle + |001\\rangle + \\cdots + |110\\rangle + |111\\rangle \\right)$."
   ]
  },
  {
   "cell_type": "code",
   "execution_count": 1,
   "id": "8a79f8fb-79c5-490f-a07b-5e715fabb041",
   "metadata": {},
   "outputs": [
    {
     "data": {
      "image/png": "[encoded data removed]",
      "text/plain": [
       "<Figure size 146.797x204.68 with 1 Axes>"
      ]
     },
     "execution_count": 1,
     "metadata": {
      "filenames": {
       "image/png": "/home/kawai/teaching/mybooks/qcomp-short/_build/jupyter_execute/algorithms/walshhadamard_4_0.png"
      }
     },
     "output_type": "execute_result"
    }
   ],
   "source": [
    "import numpy as np\n",
    "from qiskit import *\n",
    "\n",
    "qr=QuantumRegister(3,'q')\n",
    "qc=QuantumCircuit(qr)\n",
    "\n",
    "qc.h(range(3))\n",
    "\n",
    "qc.draw('mpl')"
   ]
  },
  {
   "cell_type": "code",
   "execution_count": 2,
   "id": "3d2252f0-4b09-4562-a26a-c4d46f97353a",
   "metadata": {},
   "outputs": [
    {
     "data": {
      "text/latex": [
       "$$\\frac{\\sqrt{2}}{4} |000\\rangle+\\frac{\\sqrt{2}}{4} |001\\rangle+\\frac{\\sqrt{2}}{4} |010\\rangle+\\frac{\\sqrt{2}}{4} |011\\rangle+\\frac{\\sqrt{2}}{4} |100\\rangle+\\frac{\\sqrt{2}}{4} |101\\rangle+\\frac{\\sqrt{2}}{4} |110\\rangle+\\frac{\\sqrt{2}}{4} |111\\rangle$$"
      ],
      "text/plain": [
       "<IPython.core.display.Latex object>"
      ]
     },
     "execution_count": 2,
     "metadata": {},
     "output_type": "execute_result"
    }
   ],
   "source": [
    "# Show the result of Walsh-Hadamard transform\n",
    "from qiskit.quantum_info import Statevector\n",
    "psi=Statevector(qc)\n",
    "psi.draw('latex')"
   ]
  },
  {
   "cell_type": "markdown",
   "id": "0eead27c-59f4-40c2-8302-bcd9d771b951",
   "metadata": {},
   "source": [
    "## Remarks\n",
    "\n",
    "1. Recalling that the Hadamard gate changes the basis set, from the computational basis to the $x$-basis.  The Walsh-Hadamard transformation is simply $|00 \\cdots 00\\rangle \\Rightarrow |++ \\cdots ++\\rangle$.  Interestingly, the simple product of $|+\\rangle$ corresponds to the superposition of integer states.  Quantum algorithms use this kind of *tricks* everywhere.\n",
    "\n",
    "2. The Walsh-Hadamard transformation generates the superposition state where all terms have the same phase.  Applying phase shifting gates such as $Z$, $S$, $T$, and $P$, you can modify the phases. Quantum Fourier transform is an example.  See {numref}`sec-qft`."
   ]
  },
  {
   "cell_type": "markdown",
   "id": "f1dbc468-dfa7-44ce-95ce-e6904a67bd39",
   "metadata": {},
   "source": [
    "\n",
    "---\n",
    "Last modified on 07/23/2022."
   ]
  },
  {
   "cell_type": "code",
   "execution_count": null,
   "id": "061f7e07-dbde-4ef4-960f-c4d5b6bf9638",
   "metadata": {},
   "outputs": [],
   "source": []
  }
 ],
 "metadata": {
  "kernelspec": {
   "display_name": "Python 3 (ipykernel)",
   "language": "python",
   "name": "python3"
  },
  "language_info": {
   "codemirror_mode": {
    "name": "ipython",
    "version": 3
   },
   "file_extension": ".py",
   "mimetype": "text/x-python",
   "name": "python",
   "nbconvert_exporter": "python",
   "pygments_lexer": "ipython3",
   "version": "3.9.12"
  }
 },
 "nbformat": 4,
 "nbformat_minor": 5
}