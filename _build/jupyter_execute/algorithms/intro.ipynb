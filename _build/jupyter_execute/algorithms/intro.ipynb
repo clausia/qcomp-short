{
 "cells": [
  {
   "cell_type": "markdown",
   "id": "0e9ce44f-0c14-4577-841b-3bde2cbc65d9",
   "metadata": {},
   "source": [
    "# Algorithms"
   ]
  },
  {
   "cell_type": "markdown",
   "id": "a0c50ba3-14a5-4566-ba48-f41342bf2fad",
   "metadata": {},
   "source": [
    "TBW"
   ]
  }
 ],
 "metadata": {
  "kernelspec": {
   "display_name": "Python 3 (ipykernel)",
   "language": "python",
   "name": "python3"
  },
  "language_info": {
   "codemirror_mode": {
    "name": "ipython",
    "version": 3
   },
   "file_extension": ".py",
   "mimetype": "text/x-python",
   "name": "python",
   "nbconvert_exporter": "python",
   "pygments_lexer": "ipython3",
   "version": "3.9.12"
  }
 },
 "nbformat": 4,
 "nbformat_minor": 5
}