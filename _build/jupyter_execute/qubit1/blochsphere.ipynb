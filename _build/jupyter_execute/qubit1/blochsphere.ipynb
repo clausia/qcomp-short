{
 "cells": [
  {
   "cell_type": "markdown",
   "id": "51bb3653-8d97-4510-8100-77a8e4e79cc4",
   "metadata": {},
   "source": [
    "(sec-bloch-sphere)=\n",
    "# Bloch sphere"
   ]
  },
  {
   "cell_type": "code",
   "execution_count": null,
   "id": "71108270-95b6-4ae2-ae04-5b312d1830ca",
   "metadata": {},
   "outputs": [],
   "source": []
  }
 ],
 "metadata": {
  "kernelspec": {
   "display_name": "Python 3 (ipykernel)",
   "language": "python",
   "name": "python3"
  },
  "language_info": {
   "codemirror_mode": {
    "name": "ipython",
    "version": 3
   },
   "file_extension": ".py",
   "mimetype": "text/x-python",
   "name": "python",
   "nbconvert_exporter": "python",
   "pygments_lexer": "ipython3",
   "version": "3.9.12"
  }
 },
 "nbformat": 4,
 "nbformat_minor": 5
}