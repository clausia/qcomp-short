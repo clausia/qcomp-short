{
 "cells": [
  {
   "cell_type": "markdown",
   "id": "d054e0f3-e172-47a3-8b5b-e14be1037a7f",
   "metadata": {},
   "source": [
    "(sec-qcoin)=\n",
    "# Tossing a quantum coin"
   ]
  },
  {
   "cell_type": "markdown",
   "id": "b3acc0cd-97a5-4700-9b7e-47d4361afe13",
   "metadata": {},
   "source": [
    "To demonstrate the stochastic nature of quantum measurement, we consider a quantum coin.  The coin has two states, head and tail. We assign head to $|0\\rangle$ and tail to $|1\\rangle$  The superposition state $|\\psi\\rangle = \\frac{1}{\\sqrt{2}}\\left(|0\\rangle+|1\\rangle\\right)$ indicates that the state of the quantum coin is neither head nor tail.  Based on the Born rule, the chance to get head is 50% and tail 50%.  Since the outcome is completely random, measuring the state of the quantum coin is equivalent to tossing a classical coin.\n",
    "\n",
    "In the following qiskit code, the superposition state using a Hadamard gate (we will discuss this in next chapter) and then the state of the qubit is measured.  The result is stored in a classical bit. The quantum computation is simulated with `qasm_simulator` on your computer instead of sending the code to a real quantum computer. (We will send this to real quantum computer in a later chapter.) We repeat the simulation 10000 times and find the probabilities to find head and tail. Since the number of samplings is finite, the result is not exactly 50%-50% but close to  it."
   ]
  },
  {
   "cell_type": "code",
   "execution_count": 1,
   "id": "f79bc25c-f0f8-4ee4-9936-b041953b36bb",
   "metadata": {
    "tags": []
   },
   "outputs": [
    {
     "data": {
      "image/png": "[encoded data removed]",
      "text/plain": [
       "<Figure size 193.726x144.48 with 1 Axes>"
      ]
     },
     "execution_count": 1,
     "metadata": {
      "filenames": {
       "image/png": "/home/kawai/teaching/mybooks/qcomp-short/_build/jupyter_execute/qubit1/qcoin_2_0.png"
      }
     },
     "output_type": "execute_result"
    }
   ],
   "source": [
    "# Tossing Up Quantum Coin\n",
    "\n",
    "# import numpy\n",
    "import numpy as np\n",
    "\n",
    "# import entire qiskit\n",
    "from qiskit import *\n",
    "\n",
    "# set classical register (bit)\n",
    "cr = ClassicalRegister(1,'c')\n",
    "\n",
    "# set quantum register (qubit)\n",
    "qr = QuantumRegister(1,'q')\n",
    "\n",
    "# reset the quantum circuit\n",
    "qc = QuantumCircuit(qr,cr)\n",
    "\n",
    "# construct quantum circuit\n",
    "# step 1: create the superposition state with Hardamard gate\n",
    "qc.h(0)\n",
    "\n",
    "# measurement on qubit \n",
    "# output is stored in cllasical register\n",
    "qc.measure(qr,cr)\n",
    "\n",
    "# show the quantum circuit\n",
    "qc.draw('mpl')"
   ]
  },
  {
   "cell_type": "markdown",
   "id": "bd6978da-f86c-47fb-9448-89308afb5f62",
   "metadata": {},
   "source": [
    "The quantum circuit shows two lines, one for quantum register and the other for classical register.  The classical register contains a bit.  Usually the outcome of measurement on a qubit is stored. The quantum register contains a qubit.  It is initially reset to $\\ket{0}$.  The diagram shows that a single-qubit gate `H` (Hadamard gate) is applied on the qubit.  The outcome is $H |0\\rangle = \\frac{1}{\\sqrt{2}} \\left(|0\\rangle + |1\\rangle \\right)$.  The next gate shows that the state of the qubit is measured and the result, either **0** or **1**, is sent to the classical register.  In the current example, **0** or **1** is obtained with the equal probability.  Now, we execute the circuit."
   ]
  },
  {
   "cell_type": "code",
   "execution_count": 2,
   "id": "5ae1c970-40c0-4b67-86f3-4ec12513eb8e",
   "metadata": {},
   "outputs": [
    {
     "data": {
      "image/png": "[encoded data removed]",
      "text/plain": [
       "<Figure size 504x360 with 1 Axes>"
      ]
     },
     "execution_count": 2,
     "metadata": {
      "filenames": {
       "image/png": "/home/kawai/teaching/mybooks/qcomp-short/_build/jupyter_execute/qubit1/qcoin_4_0.png"
      }
     },
     "output_type": "execute_result"
    }
   ],
   "source": [
    "# Chose a general quantum simulator without noise.\n",
    "# The simulator behaves as an ideal quantum computer.\n",
    "backend = Aer.get_backend('qasm_simulator')\n",
    "\n",
    "# Execute the quantum circuit 10000 times\n",
    "job = backend.run(qc,shots=10000)\n",
    "\n",
    "# get the result\n",
    "result = job.result()\n",
    "\n",
    "# Count the outcome\n",
    "# Numbers of |0> and |1>\n",
    "counts = result.get_counts()\n",
    "\n",
    "# Visualize the outcome\n",
    "# import histgram plotting function\n",
    "from qiskit.visualization import plot_histogram\n",
    "plot_histogram(counts)\n",
    "\n",
    "# The result should be close to 0.5 for both |0> and |1>."
   ]
  },
  {
   "cell_type": "code",
   "execution_count": null,
   "id": "93dd0225-96b4-42dc-bb81-597e2fc27340",
   "metadata": {},
   "outputs": [],
   "source": []
  }
 ],
 "metadata": {
  "kernelspec": {
   "display_name": "Python 3 (ipykernel)",
   "language": "python",
   "name": "python3"
  },
  "language_info": {
   "codemirror_mode": {
    "name": "ipython",
    "version": 3
   },
   "file_extension": ".py",
   "mimetype": "text/x-python",
   "name": "python",
   "nbconvert_exporter": "python",
   "pygments_lexer": "ipython3",
   "version": "3.9.12"
  }
 },
 "nbformat": 4,
 "nbformat_minor": 5
}