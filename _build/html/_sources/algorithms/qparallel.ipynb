{
 "cells": [
  {
   "cell_type": "markdown",
   "id": "c6cb7ecf-de5b-4c51-ad71-ef75911fe0d4",
   "metadata": {},
   "source": [
    "(sec-qparallel)=\n",
    "# A little example of quantum parallelism"
   ]
  },
  {
   "cell_type": "markdown",
   "id": "6a5466a9-e572-41c1-98e6-b7c3ebeb6698",
   "metadata": {},
   "source": [
    "Quantum computer can calculate many different instances simultaneously. Here we consider a simple example.  Suppose that we want to calculate $z = x \\oplus y$ where $x,\\, y,\\, z \\in \\{0,1\\}$.  The variables are assigned to three qubits as $|zyx\\rangle = |z\\rangle \\otimes |y\\rangle \\otimes |x\\rangle$.  Initially, $z=0$.  The computation corresponds to transformation $|0\\rangle \\otimes |y\\rangle \\otimes |x\\rangle \\Rightarrow |x \\oplus y\\rangle \\otimes |y\\rangle \\otimes |x\\rangle$.  There are four possible instances:\n",
    "\n",
    "$$\n",
    "\\begin{align}\n",
    "|000\\rangle \\quad &\\Rightarrow \\quad |000\\rangle \\\\\n",
    "|001\\rangle \\quad &\\Rightarrow \\quad |101\\rangle \\\\\n",
    "|010\\rangle \\quad &\\Rightarrow \\quad |110\\rangle \\\\\n",
    "|011\\rangle \\quad &\\Rightarrow \\quad |011\\rangle\n",
    "\\end{align}\n",
    "$$\n",
    "\n",
    "We want to compute all these four cases at once.  We use a superposition state of the four input states. First we create four possible input states with equal weight and then we compute $x\\oplus y$ for each term:\n",
    "\n",
    "$$\n",
    "\\begin{align}\n",
    "|000\\rangle &\\Rightarrow |0\\rangle \\otimes \\frac{1}{2}\\left(|0\\rangle\\otimes|0\\rangle+|0\\rangle\\otimes|1\\rangle+|1\\rangle\\otimes|0\\rangle + |1\\rangle\\otimes|1\\rangle \\right) \\\\\n",
    "&\\Rightarrow \\frac{1}{2}\\left(|000\\rangle + |101\\rangle + |110\\rangle + |011\\rangle \\right)\n",
    "\\end{align}\n",
    "$$\n",
    "\n",
    "Note that the output does not include all possible states.  For example $|111\\rangle$ does not exist since $1\\oplus 1 \\ne 1$.\n",
    "\n",
    "The first step can be done with the Walsh-Hadamard transformation.  The addition can be done with thee $CX$ gates as shown in XXX. The following circuit calculates four cases simultaneously."
   ]
  },
  {
   "cell_type": "code",
   "execution_count": 4,
   "id": "4bb218da-6304-475a-b863-a52815c7bb95",
   "metadata": {},
   "outputs": [
    {
     "data": {
      "text/html": [
       "<pre style=\"word-wrap: normal;white-space: pre;background: #fff0;line-height: 1.1;font-family: &quot;Courier New&quot;,Courier,monospace\">     ┌───┐                ░ ┌─┐      \n",
       "q_0: ┤ H ├──■─────────■───░─┤M├──────\n",
       "     ├───┤┌─┴─┐     ┌─┴─┐ ░ └╥┘┌─┐   \n",
       "q_1: ┤ H ├┤ X ├──■──┤ X ├─░──╫─┤M├───\n",
       "     └───┘└───┘┌─┴─┐└───┘ ░  ║ └╥┘┌─┐\n",
       "q_2: ──────────┤ X ├──────░──╫──╫─┤M├\n",
       "               └───┘      ░  ║  ║ └╥┘\n",
       "c: 3/════════════════════════╩══╩══╩═\n",
       "                             0  1  2 </pre>"
      ],
      "text/plain": [
       "     ┌───┐                ░ ┌─┐      \n",
       "q_0: ┤ H ├──■─────────■───░─┤M├──────\n",
       "     ├───┤┌─┴─┐     ┌─┴─┐ ░ └╥┘┌─┐   \n",
       "q_1: ┤ H ├┤ X ├──■──┤ X ├─░──╫─┤M├───\n",
       "     └───┘└───┘┌─┴─┐└───┘ ░  ║ └╥┘┌─┐\n",
       "q_2: ──────────┤ X ├──────░──╫──╫─┤M├\n",
       "               └───┘      ░  ║  ║ └╥┘\n",
       "c: 3/════════════════════════╩══╩══╩═\n",
       "                             0  1  2 "
      ]
     },
     "execution_count": 4,
     "metadata": {},
     "output_type": "execute_result"
    }
   ],
   "source": [
    "from qiskit import *\n",
    "\n",
    "cr=ClassicalRegister(3,'c')\n",
    "qr=QuantumRegister(3,'q')\n",
    "qc=QuantumCircuit(qr,cr)\n",
    "\n",
    "qc.h([0,1])\n",
    "qc.cx(0,1)\n",
    "qc.cx(1,2)\n",
    "qc.cx(0,1)\n",
    "qc.barrier()\n",
    "qc.measure(qr,cr)\n",
    "qc.draw()"
   ]
  },
  {
   "cell_type": "code",
   "execution_count": 5,
   "id": "dbb7d389-887d-4a2e-8bc8-b16306e5e338",
   "metadata": {},
   "outputs": [
    {
     "data": {
      "image/png": "[encoded data removed]",
      "text/plain": [
       "<Figure size 504x360 with 1 Axes>"
      ]
     },
     "execution_count": 5,
     "metadata": {},
     "output_type": "execute_result"
    }
   ],
   "source": [
    "# Chose a general quantum simulator without noise.\n",
    "# The simulator behaves as an ideal quantum computer.\n",
    "backend = Aer.get_backend('qasm_simulator')\n",
    "\n",
    "# set number of tries\n",
    "nshots=8192\n",
    "\n",
    "# execute the quantum circuit and store the outcome\n",
    "job = backend.run(qc,shots=nshots)\n",
    "\n",
    "# extract the result\n",
    "result = job.result()\n",
    "\n",
    "# count the outcome\n",
    "counts = result.get_counts()\n",
    "\n",
    "from qiskit.visualization import plot_histogram\n",
    "plot_histogram(counts)"
   ]
  },
  {
   "cell_type": "markdown",
   "id": "9c9934fa-c28e-4f54-a28e-1364e9977c4c",
   "metadata": {},
   "source": [
    "Only four states are obtained and each shows $z = x \\oplus y$. We indeed calculated four different cases at once thanks to the quantum parallelism."
   ]
  },
  {
   "cell_type": "markdown",
   "id": "408b84cb-cad9-498f-94d8-c1241d34eac8",
   "metadata": {},
   "source": [
    "\n",
    "---\n",
    "Last modified: 07/31/2022"
   ]
  },
  {
   "cell_type": "code",
   "execution_count": null,
   "id": "5e3c80dc-1a84-46e6-bd5e-7c061c551dd2",
   "metadata": {},
   "outputs": [],
   "source": []
  }
 ],
 "metadata": {
  "kernelspec": {
   "display_name": "Python 3 (ipykernel)",
   "language": "python",
   "name": "python3"
  },
  "language_info": {
   "codemirror_mode": {
    "name": "ipython",
    "version": 3
   },
   "file_extension": ".py",
   "mimetype": "text/x-python",
   "name": "python",
   "nbconvert_exporter": "python",
   "pygments_lexer": "ipython3",
   "version": "3.9.12"
  }
 },
 "nbformat": 4,
 "nbformat_minor": 5
}
