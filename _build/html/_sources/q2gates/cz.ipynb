{
 "cells": [
  {
   "cell_type": "markdown",
   "id": "67ee1839-8c81-4350-b3f4-248f0825d36e",
   "metadata": {},
   "source": [
    "(sec-czgate)=\n",
    "# CZ Gate"
   ]
  },
  {
   "cell_type": "markdown",
   "id": "d57a878b-cbdb-4ddb-8521-cbf68c6dc3ba",
   "metadata": {},
   "source": [
    "Controlled Z (CZ) gate is one of controlled phase gates.  See discussed in {numref}`sec-cpgate`.  "
   ]
  },
  {
   "cell_type": "markdown",
   "id": "a4b97e1e-86f3-438b-acc4-41c0c85ad363",
   "metadata": {},
   "source": [
    "## Definition\n",
    "\n",
    "### Operational Definition\n",
    "\n",
    "When gate CZ$_{q_0}^{q_1}$ acts on $|q_1\\, q_0\\rangle$, Z is applied to $q_1$ if $q_0=1$ and nothing is done otherwise. Qubit $q_0$ serves as control qubit and $q_1$ as target qubit. Mathematically, it is expressed as\n",
    "\n",
    "$$\n",
    "\\text{CZ}_{q_0}^{q_1} \\left(|q_1\\rangle \\otimes |q_0\\rangle\\right) = \\left(Z^{q_0} |q_1\\rangle\\right) \\otimes |q_0\\rangle, \\quad q_0, q_1 \\in \\{0,1\\}\n",
    "$$\n",
    "\n",
    "Writing it explicitly, CZ transforms computational basis as follows:\n",
    "\n",
    "$$\n",
    "\\begin{align}\n",
    "\\text{CZ}_{q_0}^{q_1} \\lvert 00\\rangle &= \\lvert 00\\rangle \\\\\n",
    "\\text{CZ}_{q_0}^{q_1} \\lvert 01\\rangle &= \\lvert 01\\rangle \\\\\n",
    "\\text{CZ}_{q_0}^{q_1} \\lvert 10\\rangle &= \\lvert 10\\rangle \\\\\n",
    "\\text{CZ}_{q_0}^{q_1} \\lvert 11\\rangle &= - \\lvert 11\\rangle \n",
    "\\end{align}\n",
    "$$\n",
    "\n",
    "$$\n",
    "\\begin{align}\n",
    "\\text{CZ}_{q_1}^{q_0} \\lvert 00\\rangle &= \\lvert 00\\rangle \\\\\n",
    "\\text{CZ}_{q_1}^{q_0} \\lvert 01\\rangle &= \\lvert 01\\rangle \\\\\n",
    "\\text{CZ}_{q_1}^{q_0} \\lvert 10\\rangle &= \\lvert 10\\rangle \\\\\n",
    "\\text{CZ}_{q_1}^{q_0} \\lvert 11\\rangle &= - \\lvert 11\\rangle \n",
    "\\end{align}\n",
    "$$\n",
    "\n",
    "### Operator expression\n",
    "\n",
    "$$\n",
    "\\text{CZ}_{q_0}^{q_1} = \\text{I} \\otimes |0\\rangle\\langle 0| + \\text{Z} \\otimes |1\\rangle\\langle 1|\n",
    "$$\n",
    "\n",
    "$$\n",
    "\\text{CZ}_{q_1}^{q_0} = |0\\rangle\\langle 0| \\otimes \\text{I} + |1\\rangle\\langle 1| \\otimes \\text{Z}\n",
    "$$\n",
    "\n",
    "### Matrix representation\n",
    "\n",
    "$$\n",
    "\\text{CZ}_{q_0}^{q_1} = \\begin{bmatrix} 1&0&0&0\\\\0&1&0&0\\\\0&0&1&0\\\\0&0&0&-1\\end{bmatrix}\n",
    "$$\n",
    "\n",
    "$$\n",
    "\\text{CZ}_{q_1}^{q_0} = \\begin{bmatrix} 1&0&0&0\\\\0&1&0&0\\\\0&0&1&0\\\\0&0&0&-1\\end{bmatrix}\n",
    "$$\n",
    "\n",
    "Notice that $\\text{CZ}_{q_0}^{q_1} = \\text{CZ}_{q_1}^{q_0}$.  This is a kind of phase kickback discussed in {numref}`sec-cxgate`. Hence, it is not necessary to specify the control and target qubits.\n",
    "\n",
    "The Qiskit circuit code symbol `cz` and it appears as follows.  Notice that $\\text{CZ}_{q_0}^{q_1}$ and $\\text{CZ}_{q_1}^{q_0}$ have the same diagram."
   ]
  },
  {
   "cell_type": "code",
   "execution_count": 2,
   "id": "2ead086f-049b-4210-a0d9-f1a215b24fa1",
   "metadata": {
    "tags": [
     "hide-input"
    ]
   },
   "outputs": [
    {
     "data": {
      "image/png": "[encoded data removed]",
      "text/plain": [
       "<Figure size 206.852x144.48 with 1 Axes>"
      ]
     },
     "execution_count": 2,
     "metadata": {},
     "output_type": "execute_result"
    }
   ],
   "source": [
    "from qiskit import QuantumCircuit\n",
    "qc=QuantumCircuit(2)\n",
    "\n",
    "# CZ_{q0,q1}\n",
    "qc.cz(0,1)\n",
    "# CZ_{q1,q0}\n",
    "qc.cz(1,0)\n",
    "\n",
    "qc.draw('mpl')"
   ]
  },
  {
   "cell_type": "markdown",
   "id": "c4c2c808-6f88-4afc-9344-9df04c4106bd",
   "metadata": {},
   "source": [
    "### Acting on superposition state\n",
    "\n",
    "Unless needed, we omit the control and target qubits.\n",
    "\n",
    "CZ flips the phase of $|11\\rangle$.\n",
    "\n",
    "$$\n",
    "\\text{CZ} \\left (c_{00} |00\\rangle + c_{01} |01\\rangle + c_{10} |10\\rangle + c_{11} |11\\rangle \\right ) =\n",
    "c_{00} |00\\rangle + c_{01} |01\\rangle + c_{10} |10\\rangle - c_{11} |11\\rangle\n",
    "$$\n",
    "\n",
    "A simple application is to transform Bell states, CZ$|\\Phi^{\\pm}\\rangle = \\Phi^{\\mp}\\rangle$.  Notice that CZ does not affect the other Bell states $|\\Psi^{\\pm}\\rangle$.  See applications in {numref}`sec-teleportation` and {numref}`sec-entanglement-swap`."
   ]
  },
  {
   "cell_type": "markdown",
   "id": "17880d85-6145-444a-921c-040bf39935e9",
   "metadata": {},
   "source": [
    "## Relation with CX\n",
    "\n",
    "Recalling that X = H $\\cdot$ Z $\\cdot$ H,\n",
    "\n",
    "$$\n",
    "\\text{CX}_{q_0}^{q_1} = \\left(\\text{H} \\otimes \\text{I}\\right) \\cdot \\text{CZ} \\cdot  \\left(\\text{H} \\otimes \\text{I}\\right)\n",
    "$$\n",
    "\n",
    "$$\n",
    "\\text{CX}_{q_1}^{q_0} = \\left(\\text{I} \\otimes \\text{H}  \\right) \\cdot \\text{CZ} \\cdot  \\left( \\text{I} \\otimes \\text{H} \\right)\n",
    "$$\n",
    "\n",
    "Further recalling that H$^2$=H,the inverse of the above relations are\n",
    "\n",
    "$$\n",
    "\\text{CZ} = \\left(\\text{H} \\otimes \\text{I}\\right) \\cdot \\text{CX}_{q_0}^{q_1} \\cdot  \\left(\\text{H} \\otimes \\text{I}\\right)\n",
    "= \\left(\\text{I} \\otimes \\text{H}  \\right) \\cdot \\text{CX}_{q_1}^{q_0} \\cdot  \\left( \\text{I} \\otimes \\text{H} \\right)\n",
    "$$\n"
   ]
  },
  {
   "cell_type": "markdown",
   "id": "33ac91c6-7a7b-4635-98a7-d38444938d01",
   "metadata": {},
   "source": [
    "## An Physical Implementation of CZ\n",
    "\n",
    "Recall that gates are unitary transformation determined by Schr&ouml;dinger equation, $U=e^{-i H t}$.  All controlled gates require intertaction between two qubits. To realize the CZ gate, we consider the Ising interaction between them.  Adding also the local potentials, the Hamiltonian can be written as\n",
    "\n",
    "$$\n",
    "H = I - \\sigma_z \\otimes I - I \\otimes \\sigma_z + \\sigma_z \\otimes \\sigma_z \n",
    "$$\n",
    "\n",
    "The time evolution over period $\\tau=\\frac{\\pi}{4}$ leads to\n",
    "\n",
    "$$\n",
    "U = e^{-i\\frac{\\pi}{4} H } = e^{-i \\frac{\\pi}{4}} \\left(e^{i  \\frac{\\pi}{4}\\sigma_z} \\otimes e^{i  \\frac{\\pi}{4}\\sigma_z}\\right) \\cdot e^{-i \\frac{\\pi}{4} \\sigma_z \\otimes \\sigma_z} \\doteq \\begin{bmatrix} 1&0&0&0\\\\0&1&0&0\\\\0&0&1&0\\\\0&0&0&-1\\end{bmatrix}\n",
    "$$\n",
    "\n",
    "We find the Ising interaction between a pair of qubits  can realize the CZ gate. "
   ]
  },
  {
   "cell_type": "code",
   "execution_count": null,
   "id": "b1d5410b-b1b3-4230-b7f1-e528bc24c453",
   "metadata": {},
   "outputs": [],
   "source": []
  }
 ],
 "metadata": {
  "kernelspec": {
   "display_name": "Python 3 (ipykernel)",
   "language": "python",
   "name": "python3"
  },
  "language_info": {
   "codemirror_mode": {
    "name": "ipython",
    "version": 3
   },
   "file_extension": ".py",
   "mimetype": "text/x-python",
   "name": "python",
   "nbconvert_exporter": "python",
   "pygments_lexer": "ipython3",
   "version": "3.9.12"
  }
 },
 "nbformat": 4,
 "nbformat_minor": 5
}
