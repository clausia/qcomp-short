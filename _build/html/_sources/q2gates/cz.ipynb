{
 "cells": [
  {
   "cell_type": "markdown",
   "id": "c90b9982-693c-4cda-b2ef-62806da691b5",
   "metadata": {},
   "source": [
    "# CZ"
   ]
  },
  {
   "cell_type": "markdown",
   "id": "f19ad507-22e3-4ff4-bdc0-497c093457f0",
   "metadata": {},
   "source": [
    "| input |  |output |\n",
    "| :----: |:---: |:----: |\n",
    "| $\\lvert 00\\rangle$ | $\\Rightarrow$ | $\\lvert 00\\rangle$ |\n",
    "| $\\lvert 01\\rangle$ | $\\Rightarrow$ | $\\lvert 01\\rangle$ |\n",
    "| $\\lvert 10\\rangle$ | $\\Rightarrow$ | $\\lvert 10\\rangle$ |\n",
    "| $\\lvert 11\\rangle$ | $\\Rightarrow$ | $-\\lvert 11\\rangle$ |"
   ]
  },
  {
   "cell_type": "code",
   "execution_count": 1,
   "id": "badcd950-2078-4a05-b6f3-9a4ac5111b46",
   "metadata": {},
   "outputs": [],
   "source": [
    "import numpy as np\n",
    "from qiskit import QuantumCircuit, QuantumRegister, Aer\n",
    "from qiskit.quantum_info import Statevector\n",
    "backend = Aer.get_backend('statevector_simulator')"
   ]
  },
  {
   "cell_type": "markdown",
   "id": "806c17f6-40fb-4b2b-8a1e-055ae3b89413",
   "metadata": {},
   "source": [
    "* We check only $|11\\rangle \\Rightarrow -|11\\rangle$."
   ]
  },
  {
   "cell_type": "code",
   "execution_count": 2,
   "id": "7433486d-870f-4501-a07d-ce278b9af304",
   "metadata": {},
   "outputs": [
    {
     "data": {
      "text/html": [
       "<pre style=\"word-wrap: normal;white-space: pre;background: #fff0;line-height: 1.1;font-family: &quot;Courier New&quot;,Courier,monospace\">      ┌───┐ ░    \n",
       "q0_0: ┤ X ├─░──■─\n",
       "      ├───┤ ░  │ \n",
       "q0_1: ┤ X ├─░──■─\n",
       "      └───┘ ░    </pre>"
      ],
      "text/plain": [
       "      ┌───┐ ░    \n",
       "q0_0: ┤ X ├─░──■─\n",
       "      ├───┤ ░  │ \n",
       "q0_1: ┤ X ├─░──■─\n",
       "      └───┘ ░    "
      ]
     },
     "execution_count": 2,
     "metadata": {},
     "output_type": "execute_result"
    }
   ],
   "source": [
    "qr  = QuantumRegister(2)\n",
    "qc = QuantumCircuit(qr)\n",
    "qc.x([0,1])\n",
    "qc.barrier()\n",
    "qc.cz(0,1)\n",
    "qc.draw()"
   ]
  },
  {
   "cell_type": "code",
   "execution_count": 3,
   "id": "820e42be-0321-4e97-b356-cf52ec184c6d",
   "metadata": {},
   "outputs": [
    {
     "data": {
      "text/latex": [
       "$$- |11\\rangle$$"
      ],
      "text/plain": [
       "<IPython.core.display.Latex object>"
      ]
     },
     "execution_count": 3,
     "metadata": {},
     "output_type": "execute_result"
    }
   ],
   "source": [
    "result=backend.run(qc).result()\n",
    "(result.get_statevector()).draw('latex')"
   ]
  },
  {
   "cell_type": "markdown",
   "id": "6e36679b-f757-4add-a58f-3ddd77588c69",
   "metadata": {},
   "source": [
    "* Relation with `CX`"
   ]
  },
  {
   "cell_type": "markdown",
   "id": "d6f20ebd-58b2-4596-8f64-548c8803d81e",
   "metadata": {},
   "source": [
    "`CX` can be expressed with `H` and `CZ`.  Here we just check $|11\\rangle \\Rightarrow |10\\rangle$."
   ]
  },
  {
   "cell_type": "code",
   "execution_count": 4,
   "id": "2a3cda3c-a5f5-4a72-b578-4f8f1cad37f8",
   "metadata": {},
   "outputs": [
    {
     "data": {
      "text/html": [
       "<pre style=\"word-wrap: normal;white-space: pre;background: #fff0;line-height: 1.1;font-family: &quot;Courier New&quot;,Courier,monospace\">      ┌───┐ ░ ┌───┐   ┌───┐\n",
       "q1_0: ┤ X ├─░─┤ H ├─■─┤ H ├\n",
       "      ├───┤ ░ └───┘ │ └───┘\n",
       "q1_1: ┤ X ├─░───────■──────\n",
       "      └───┘ ░              </pre>"
      ],
      "text/plain": [
       "      ┌───┐ ░ ┌───┐   ┌───┐\n",
       "q1_0: ┤ X ├─░─┤ H ├─■─┤ H ├\n",
       "      ├───┤ ░ └───┘ │ └───┘\n",
       "q1_1: ┤ X ├─░───────■──────\n",
       "      └───┘ ░              "
      ]
     },
     "execution_count": 4,
     "metadata": {},
     "output_type": "execute_result"
    }
   ],
   "source": [
    "qr  = QuantumRegister(2)\n",
    "qc = QuantumCircuit(qr)\n",
    "qc.x([0,1])\n",
    "qc.barrier()\n",
    "qc.h(0)\n",
    "qc.cz(0,1)\n",
    "qc.h(0)\n",
    "qc.draw()"
   ]
  },
  {
   "cell_type": "code",
   "execution_count": 5,
   "id": "ed102f5e-be0d-4b2c-a2a7-26e35ac3c830",
   "metadata": {},
   "outputs": [
    {
     "data": {
      "text/latex": [
       "$$ |10\\rangle$$"
      ],
      "text/plain": [
       "<IPython.core.display.Latex object>"
      ]
     },
     "execution_count": 5,
     "metadata": {},
     "output_type": "execute_result"
    }
   ],
   "source": [
    "result=backend.run(qc).result()\n",
    "(result.get_statevector(decimals=3)).draw('latex')"
   ]
  }
 ],
 "metadata": {
  "kernelspec": {
   "display_name": "Python 3 (ipykernel)",
   "language": "python",
   "name": "python3"
  },
  "language_info": {
   "codemirror_mode": {
    "name": "ipython",
    "version": 3
   },
   "file_extension": ".py",
   "mimetype": "text/x-python",
   "name": "python",
   "nbconvert_exporter": "python",
   "pygments_lexer": "ipython3",
   "version": "3.9.12"
  }
 },
 "nbformat": 4,
 "nbformat_minor": 5
}
