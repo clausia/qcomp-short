{
 "cells": [
  {
   "cell_type": "markdown",
   "id": "dec4c265-ecc8-412d-8343-72c046f0185c",
   "metadata": {},
   "source": [
    "(sec-mixedstates)=\n",
    "# Mixed states"
   ]
  },
  {
   "cell_type": "markdown",
   "id": "2dcd4884-d882-4c87-a344-1e28c5ec2bbd",
   "metadata": {},
   "source": [
    "TBW"
   ]
  }
 ],
 "metadata": {
  "kernelspec": {
   "display_name": "Python 3 (ipykernel)",
   "language": "python",
   "name": "python3"
  },
  "language_info": {
   "codemirror_mode": {
    "name": "ipython",
    "version": 3
   },
   "file_extension": ".py",
   "mimetype": "text/x-python",
   "name": "python",
   "nbconvert_exporter": "python",
   "pygments_lexer": "ipython3",
   "version": "3.9.12"
  }
 },
 "nbformat": 4,
 "nbformat_minor": 5
}
