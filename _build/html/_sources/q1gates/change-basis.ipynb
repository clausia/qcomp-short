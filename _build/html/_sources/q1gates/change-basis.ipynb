{
 "cells": [
  {
   "cell_type": "markdown",
   "id": "88a438fe-b417-4eff-9593-81404d78bdb1",
   "metadata": {},
   "source": [
    "(sec-change-basis)=\n",
    "# Change of basis sets\n",
    "\n",
    "Although the computational basis ($z$-basis) $\\{|0\\rangle,|1\\rangle\\}$ is the primary basis set, in some cases $x$-basis $\\{|+\\rangle,|-\\rangle\\}$ and $y$-basis $\\{|L\\rangle,|R\\rangle\\}$ are more convenient. \n",
    "\n",
    "We can change from a basis set to another by $H$, $S$, and $S\\cdot H$.\n",
    "\n",
    "$$\n",
    "\\begin{align}\n",
    "H |0\\rangle &= |+\\rangle, & \\quad H|1\\rangle &= |-\\rangle \\\\\n",
    "S |+\\rangle &= |L\\rangle, &\\quad S|-\\rangle &= |R\\rangle \\\\\n",
    "(S\\cdot H)|0\\rangle &= |L\\rangle, \\quad & (S\\cdot H)|1\\rangle &= |R\\rangle\n",
    "\\end{align}\n",
    "$$\n",
    "\n",
    "and their inverse transformation are\n",
    "\n",
    "$$\n",
    "\\begin{align}\n",
    "H |+\\rangle &= |0\\rangle, & \\quad H|-\\rangle &= |1\\rangle \\\\\n",
    "S^\\dagger |L\\rangle &= |+\\rangle, &\\quad S^\\dagger|R\\rangle &= |-\\rangle \\\\\n",
    "(H\\cdot S^\\dagger)|L\\rangle &= |0\\rangle, \\quad & (H\\cdot S^\\dagger)|R\\rangle &= |1\\rangle\n",
    "\\end{align}\n",
    "$$\n",
    "\n"
   ]
  },
  {
   "cell_type": "markdown",
   "id": "8d01774e-f4eb-4ce5-80ab-ac99c0c894ce",
   "metadata": {},
   "source": [
    "## Transformation of gates\n",
    "\n",
    "Consider the following three transofrmations by gates, $G_z$, $G_x%$, and $G_y$.\n",
    "\n",
    "$$\n",
    "\\begin{eqnarray}\n",
    "G_z \\left (a_0 |0\\rangle + a_1 |1\\rangle\\right) &=& b_0 |0\\rangle + b_1 |1\\rangle \\\\\n",
    "G_x \\left (a_0 |+\\rangle + a_1 |-\\rangle\\right) &=& b_0 |+\\rangle + b_1 |-\\rangle\\\\\n",
    "G_y \\left (a_0 |L\\rangle + a_1 |R\\rangle\\right) &=& b_0 |L\\rangle + b_1 |R\\rangle\n",
    "\\end{eqnarray}\n",
    "$$\n",
    "\n",
    "The difference is only the basis set and the coefficients are the same in all three cases.  Then, there are simple relation among the gates.\n",
    "\n",
    "$$\n",
    "G_z = H \\cdot G_x \\cdot H, \\quad G_y = S \\cdot G_x \\cdot S^\\dagger = (S \\cdot H) \\cdot G_z  \\cdot(H \\cdot S^\\dagger)\n",
    "$$"
   ]
  },
  {
   "cell_type": "markdown",
   "id": "a2c1543c-3e1a-45c2-ace7-4d6307ac8147",
   "metadata": {},
   "source": [
    "**Example 1**  Swapping coefficients\n",
    "\n",
    "Suppose that a state vector is given in $\\{|+\\rangle,|-\\rangle\\}$ basis as $c_0 |+\\rangle + c_1 |-\\rangle$. We want to swap the coefficients. \n",
    "\n",
    "$$\n",
    "c_0 |+\\rangle + c_1 |-\\rangle \\quad \\xrightarrow{?} \\quad c_1 |+\\rangle + c_0 |-\\rangle\n",
    "$$\n",
    "\n",
    "What gate do we need?  In {numref}`sec-xgate`, we learned that XGate swaps the coeeficients in the computational basis. Recalling that HGate switches basis set between the computational basis and the $x$-basis.  Then, $H \\cdot X \\cdot H$ should do the job.  Let us try it.\n",
    "\n",
    "$$\n",
    "c_0 |+\\rangle + c_1 |-\\rangle \\quad \\xrightarrow{H} \\quad c_0 |0\\rangle + c_1 |1\\rangle\n",
    "\\quad \\xrightarrow{X} \\quad  c_1 |0\\rangle + c_0 |1\\rangle \\quad \\xrightarrow{H} \\quad\n",
    "c_1 |+\\rangle + c_0 |-\\rangle\n",
    "$$\n",
    "\n",
    "REcall that  we derived $Z=H \\cdot X \\cdot H$ in {numref}`sec-hgate`.  $Z$ is the gate we wanted."
   ]
  },
  {
   "cell_type": "markdown",
   "id": "b6834c68-ef89-48f6-a8b4-1bd9cdc735b0",
   "metadata": {},
   "source": [
    "\n",
    "---\n",
    "**Exercise** {numref}`%s <sec-change-basis>`.1&nbsp;  We want to swap the coefficients in the $y$-basis.  That is $\n",
    "c_0 |L\\rangle + c_1 |R\\rangle \\quad \\xrightarrow{?} \\quad c_1 |L\\rangle + c_0 |R\\rangle $. Find an gate for this transformation.\n"
   ]
  },
  {
   "cell_type": "markdown",
   "id": "009d7d99-d9b5-4023-96f7-018bbbbe31b0",
   "metadata": {},
   "source": [
    "\n",
    "**Exercise** {numref}`%s <sec-change-basis>`.2&nbsp;  In {numref}`sec-sxgate`, we noticed that $S$ gate and $SX$ gate work in the same way but in different basis sets.  Show that $SX = H \\cdot S \\cdot H$ and $SX^\\dagger = H \\cdot S^\\dagger \\cdot H$.\n"
   ]
  },
  {
   "cell_type": "markdown",
   "id": "a0e3976f-ad85-4cc4-927e-ed7b464b0b30",
   "metadata": {},
   "source": [
    "\n",
    "---\n",
    "**Example 2** addition and subtraction of the coefficients\n",
    "\n",
    "We want to find a gate that transforms a state vector as\n",
    "\n",
    "$$\n",
    "c_0 |+\\rangle + c_1|-\\rangle \\quad \\xrightarrow{?} \\quad \\frac{1}{\\sqrt{2}}\\left(c_0+c_1\\right)|+\\rangle + \\frac{1}{\\sqrt{2}}\\left(c_0-c_1\\right)|-\\rangle \n",
    "$$\n",
    "\n",
    "Recalling that $H$ gate does the same type of transformation for the computational basis.  The $H$ gate itself is also used to change the basis set. Hence, $H \\cdot H \\cdot H$ will do the job. However, we recall that $H^2=I$.  Hence, $H \\cdot H \\cdot H=H$.  Interestingly, A single $H$ works in the same way on the two different basis sets.\n",
    "\n",
    "Similarly, we want to find a gate that transforms a state vector in the $y$-basis as\n",
    "\n",
    "$$\n",
    "c_0 |L\\rangle + c_1|R\\rangle \\quad \\xrightarrow{?} \\quad \\frac{1}{\\sqrt{2}}\\left(c_0+c_1\\right)|L\\rangle + \\frac{1}{\\sqrt{2}}\\left(c_0-c_1\\right)|R\\rangle \n",
    "$$\n",
    "\n",
    "The $S$ and $S^\\dagger$ gates swap the basis set between the $x$-basis and the $y$-basis. We already know that the $H$ gate works between the computational gate and the $x$ gate.  Hence, $S \\cdot H \\cdot S^\\dagger$ should achieve the task.\n"
   ]
  },
  {
   "cell_type": "markdown",
   "id": "3cdc9032-4d1d-4f4f-8662-697142c9d291",
   "metadata": {},
   "source": [
    "\n",
    "---\n",
    "**Exercise** {numref}`%s <sec-change-basis>`.3&nbsp;  Show that $S \\cdot H \\cdot S^\\dagger$ works as desired.\n",
    "\n",
    "---\n"
   ]
  },
  {
   "cell_type": "markdown",
   "id": "1095d6b3-2f42-4223-84cc-98afd0621384",
   "metadata": {},
   "source": [
    "(ex-quantum-phase)=\n",
    "## Qiskit Example:  Measuring quantum phase.\n",
    "\n",
    "This is the extension of {numref}`ex-hgate-interference`.\n",
    "\n",
    "Consider a superposition state, \n",
    "\n",
    "$$\n",
    "|\\phi\\rangle = \\frac{1}{\\sqrt{2}}\\left(|0\\rangle + e^{i \\phi} |1\\rangle\\right)\n",
    "$$\n",
    "\n",
    "The corresponding Bloch vector is $\\vec{r} = \\cos\\phi\\, \\hat{x} + \\sin\\phi\\,\\hat{y}$.\n",
    "\n",
    "We want to find out the value of the phase angle $\\phi$.  If we measure this state, we only get the modulus of the coefficients and thus no information on the phase is obtained.  In physics, the phase difference between two waves is measured by the interference pattern.  Here, we use the same method. \n",
    "\n",
    "First, we write the state vector with the $x$-basis.\n",
    "\n",
    "$$\n",
    "|\\phi\\rangle = \\frac{1}{2}\\left[ (1+e^{i \\phi}) |+\\rangle + (1-e^{i \\phi}) |-\\rangle \\right]\n",
    "$$\n",
    "\n",
    "Notice that the modulus square of coefficients are\n",
    "\n",
    "$$\n",
    "p_0 = \\left | \\frac{1}{2} (1+e^{i \\phi}) \\right |^2 =  \\frac{1}{2}\\left(1+\\cos \\phi\\right), \\qquad p_1 = \\left | \\frac{1}{2} (1-e^{i \\phi}) \\right |^2 = \\frac{1}{2}\\left(1-\\cos \\phi\\right)\n",
    "$$\n",
    "\n",
    "If these quantities are measured, we find the value of $\\cos\\phi = p_0 - p_1$.  However, the measurement must be done in the computational basis. Hence, we change the basis set by $H$.\n",
    "\n",
    "$$\n",
    "H |\\phi\\rangle = \\frac{1}{2}\\left[ (1+e^{i \\phi}) |0\\rangle + (1-e^{i \\phi}) |1\\rangle \\right]\n",
    "$$\n",
    "\n",
    "Measuring $|0\\rangle$ and $|1\\rangle$, we find the probabilities $p_0$ and $p_1$ from which we find $\\cos \\phi$.  Notice that this is the $x$ component of the Bloch vector.\n",
    "\n",
    "In order to determine $e^{i \\phi}$, we also have to find $\\sin\\phi$, that is the $y$ component of the Bloch vector.  We rewrite the state vector again but in the $y$-basis.\n",
    "\n",
    "$$\n",
    "\\psi\\rangle = \\frac{1}{2} \\left[ (1-i e^{i \\phi}) |L \\rangle + (1 + i e^{i \\phi}) |R\\rangle \\right]\n",
    "$$\n",
    "\n",
    "The modulus square of coefficients are now\n",
    "\n",
    "$$\n",
    "q_0 = \\left | \\frac{1}{2} (1-i e^{i \\phi}) \\right |^2 =  \\frac{1}{2}\\left(1+\\sin \\phi\\right), \\qquad q_1 = \\left | \\frac{1}{2} (1+i e^{i \\phi}) \\right |^2 = \\frac{1}{2}\\left(1-\\sin \\phi\\right)\n",
    "$$\n",
    "\n",
    "To measure these quantities, the $y$-basis must be transformed to the computational basis. It is done by $H \\cdot S^\\dagger$.\n",
    "\n",
    "$$\n",
    "(H \\cdot S^\\dagger) |\\psi\\rangle = \\frac{1}{2}\\left(1- i e^{i \\phi}\\right) |0\\rangle + \\frac{1}{2}\\left(1+ i e^{-i \\phi}\\right) |1\\rangle\n",
    "$$\n",
    "\n",
    "The measurement determines he probabilities $q_0$ and $q_1$ and we find $\\sin\\phi = q_0 - q_1$.  \n",
    "Now we have full information on $e^{i \\phi} = \\cos\\phi + i \\sin\\phi$.\n",
    "\n",
    "Let us try this method using Qiskit.\n",
    "\n",
    "First we create the superposition state using $H$ and $P$ gates.  We set $\\phi=\\pi/3$.  The goal of the quantum computation is to obtain this angle by quantum measurement.  In the following quantum circuit, we use two qubits, one for $\\cos\\phi$ and the other for $\\sin\\phi$.\n"
   ]
  },
  {
   "cell_type": "code",
   "execution_count": 1,
   "id": "2eff4723-5171-4292-a550-26b940883aea",
   "metadata": {},
   "outputs": [
    {
     "data": {
      "image/png": "[encoded data removed]",
      "text/plain": [
       "<Figure size 507.852x204.68 with 1 Axes>"
      ]
     },
     "execution_count": 1,
     "metadata": {},
     "output_type": "execute_result"
    }
   ],
   "source": [
    "import numpy as np\n",
    "\n",
    "from qiskit import *\n",
    "\n",
    "# two classical registers\n",
    "cr=ClassicalRegister(2,'c')\n",
    "\n",
    "# two quantum registers (qubits)\n",
    "qr=QuantumRegister(2,'q')\n",
    "\n",
    "# set the quantum circuit\n",
    "qc=QuantumCircuit(qr,cr)\n",
    "\n",
    "# Generation of the superposition state\n",
    "qc.h([0,1])\n",
    "qc.p(np.pi/3,[0,1])\n",
    "\n",
    "# separate the preparation part from the phase determination\n",
    "# by placing a barrier\n",
    "qc.barrier([0,1])\n",
    "\n",
    "# real part\n",
    "qc.h(0)\n",
    "\n",
    "# imaginary part\n",
    "qc.sdg(1)\n",
    "qc.h(1)\n",
    "\n",
    "# measure the both qubits\n",
    "qc.measure(qr,cr)\n",
    "\n",
    "# show the circuit\n",
    "qc.draw('mpl')"
   ]
  },
  {
   "cell_type": "code",
   "execution_count": 7,
   "id": "dc3dc575-6c9b-4d79-b0d0-2f29adc15f69",
   "metadata": {},
   "outputs": [
    {
     "name": "stdout",
     "output_type": "stream",
     "text": [
      "measured phi =  1.037\n",
      "exact answer =  1.047\n",
      "error =  -0.010\n"
     ]
    }
   ],
   "source": [
    "# Chose a general quantum simulator without noise.\n",
    "# The simulator behaves as an ideal quantum computer.\n",
    "backend = Aer.get_backend('qasm_simulator')\n",
    "\n",
    "# set number of tries\n",
    "nshots=8192\n",
    "\n",
    "# execute the quantum circuit and store the outcome\n",
    "job = backend.run(qc,shots=nshots)\n",
    "\n",
    "# extract the result\n",
    "result = job.result()\n",
    "\n",
    "# count the outcome\n",
    "counts = result.get_counts()\n",
    "\n",
    "# get the marginal counts\n",
    "from qiskit.result import marginal_counts\n",
    "counts_x = marginal_counts(result,indices=[0]).get_counts()\n",
    "counts_y = marginal_counts(result,indices=[1]).get_counts()\n",
    "\n",
    "# calculate the marginal probability for the sine part\n",
    "q0=counts_y['0']/nshots\n",
    "q1=counts_y['1']/nshots\n",
    "dy=q0-q1\n",
    "\n",
    "# calculate the marginal probability for the cosine part\n",
    "p0=counts_x['0']/nshots\n",
    "p1=counts_x['1']/nshots\n",
    "dx=p0-p1\n",
    "\n",
    "# evaluate the phase angle\n",
    "phi=np.arctan2(dy,dx)\n",
    "\n",
    "# print out the results\n",
    "print(\"measured phi = {:6.3f}\".format(phi))\n",
    "print(\"exact answer = {:6.3f}\".format(np.pi/3))\n",
    "print(\"error =  {:6.3f}\".format(phi - np.pi/3))"
   ]
  },
  {
   "cell_type": "markdown",
   "id": "30cf99b3-0be1-4796-8afe-ace07cf50e35",
   "metadata": {},
   "source": [
    "The result of quantum computing is quite close to the original phase angle."
   ]
  },
  {
   "cell_type": "markdown",
   "id": "163a8494-fd01-49a7-9033-96db8eb412de",
   "metadata": {},
   "source": [
    "\n",
    "---\n",
    "Last modified: 08/31/2022"
   ]
  },
  {
   "cell_type": "code",
   "execution_count": null,
   "id": "ae3ef484-f212-4c24-b6a6-2d99f45fb8c9",
   "metadata": {},
   "outputs": [],
   "source": []
  }
 ],
 "metadata": {
  "kernelspec": {
   "display_name": "Python 3 (ipykernel)",
   "language": "python",
   "name": "python3"
  },
  "language_info": {
   "codemirror_mode": {
    "name": "ipython",
    "version": 3
   },
   "file_extension": ".py",
   "mimetype": "text/x-python",
   "name": "python",
   "nbconvert_exporter": "python",
   "pygments_lexer": "ipython3",
   "version": "3.9.12"
  }
 },
 "nbformat": 4,
 "nbformat_minor": 5
}
