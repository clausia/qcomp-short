{
 "cells": [
  {
   "cell_type": "markdown",
   "id": "4ae1f164-69bd-4a4c-84df-3e358ca4effa",
   "metadata": {},
   "source": [
    "(sec-statevectors)=\n",
    "# State vectors"
   ]
  },
  {
   "cell_type": "markdown",
   "id": "d0209622-44f9-4eb8-b405-0253304bac53",
   "metadata": {},
   "source": [
    "The theory of quantum mechanics is built on linear algebra.  I hope that you have studied elementary linear algebra prior to this book.  While I briefly introduce necessary mathematics, I expect you to review the theory of complex vector spaces (Hilbert spaces).  You can find a good summary of mathematics is also given in this book\n",
    "\n",
    "* J. Audretsch: *Entangled Systems - New Directions in Quantum Physics* (Wiley-VCH, 2007) \n",
    "\n",
    "which I already recommended in the previous section.  \n",
    "\n",
    "If you want to practice mathematical calculation in depth, there is an exercise book on quantum computation.\n",
    "\n",
    "* W.-H. Steeb and Y. Hardy: *Problems and Solutions in Quantum Computing and Quantum Information* (World Scientific, 2012).\n",
    " "
   ]
  },
  {
   "cell_type": "markdown",
   "id": "74d8af3c-c513-4969-9f09-6e9a91623d0c",
   "metadata": {},
   "source": [
    "The following is a summary of Hilbert space using abstract mathematical expressions.  The ket and bra notation of vectors may be new to you.  Otherwise, it is just a standard linear algebra.  I will discuss each item in later chapters with practical examples for quantum computation.  For now, refresh your understanding of linear algebra."
   ]
  },
  {
   "cell_type": "markdown",
   "id": "c3ff8325-fac1-4954-89cf-fff63956fb05",
   "metadata": {},
   "source": [
    "## Ket and bra\n",
    "\n",
    "The state of a quantum object is mathematically described by a complex vector in a *Hilbert space*, which is called *state vector*. The state vector is denoted as $|\\bullet\\rangle$, which is called *ket vector* or simply *ket*.  \"$\\bullet$\" in the ket can be any symbol representing the state.  For example, an electron in a spin-up state is commonly expressed by $\\ket{\\uparrow}$. We could use $|$&hearts; $\\rangle$, $|$&spades;$\\rangle$, $|$&diams;$\\rangle$, $|$&clubs;$\\rangle$ to express the states of quantum cards (if they exist.)  We often write an arbitrary state as $| \\psi\\rangle$. \n",
    "\n",
    "For every ket $|\\psi\\rangle$, there is a corresponding complex vector $\\langle\\psi|$, which is known as *bra vector* or just *bra*. Mathematically, $\\langle\\psi|$ is the _adjoint_ or _dual_ of $|\\psi\\rangle$. \n",
    "The corresponding bra with the same symbol as a ket represents the same state of the qubit.  For example, both $|\\uparrow\\rangle$ and $\\langle\\uparrow|$ represent the same spin-up state.\n",
    "We need bra vectors to compute inner products (See subsection {ref}`subsec-innerproduct`).\n",
    "\n",
    "You are familiar with Euclidean vectors such as forces and velocities and the rules of calculation with them. \n",
    "Since kets and bras are vectors, they share the same mathematical operations with the Euclidean vectors, namely two basic mathematical operations, *addition* $|a\\rangle+|b\\rangle$ and *scalar mulitplication* $\\lambda |a\\rangle$ ($\\lambda$ is a complex number).  The regular rules of calculation are listed below.  The dual of the operations are $\\langle a| + \\langle b|$ and $\\langle a | \\lambda^*$ where $\\lambda^*$ is a complex conjugate of $\\lambda$. "
   ]
  },
  {
   "cell_type": "markdown",
   "id": "00c5e31b-9903-4c26-93cb-e63d5a550477",
   "metadata": {
    "tags": []
   },
   "source": [
    "## Addition\n",
    "The following statements are valid for any $|a\\rangle$, $|b\\rangle$, $|c\\rangle$ in the same vector space.\n",
    "The same rules are applied to bra vectors.\n",
    "\n",
    "| rule | mathematical expression |\n",
    "| :---: | :---: |\n",
    "| closure | $\\lvert a \\rangle + \\lvert b\\rangle$ is a ket in the same vector space. |\n",
    "| commutativity | $\\lvert a \\rangle + \\lvert b\\rangle = \\lvert b \\rangle + \\lvert a\\rangle$ | \n",
    "| associativity | $(\\lvert a \\rangle + \\lvert b\\rangle) +  \\lvert c\\rangle =  \\lvert a\\rangle + (\\lvert b \\rangle + \\lvert c\\rangle)$ |\n",
    "| null vector   | There exists null vector $0$ such that $\\lvert a \\rangle + 0 = \\lvert a \\rangle$ |\n",
    "| inverse       | There exists inverse vector $\\lvert -a \\rangle$ such that $\\lvert a \\rangle + \\lvert -a \\rangle = 0$. <br/> In a common expression, $\\lvert -a \\rangle = - \\lvert a \\rangle$  |"
   ]
  },
  {
   "cell_type": "markdown",
   "id": "4c078b60-6f7a-43f8-acfa-f6b7f66d7ebd",
   "metadata": {},
   "source": [
    "## Scalar multiplication\n",
    "\n",
    "The following statements are valid for any $|a\\rangle$ and $|b\\rangle$ in the same vector space and any complex numbers $\\alpha$ and $\\beta$.\n",
    "The same rules are applied to bra vectors.\n",
    "\n",
    "| rule | mathematical expression |\n",
    "| :---: | :---: |\n",
    "| closure | $\\alpha \\lvert a \\rangle$ is another ket in the same vector space |\n",
    "| vector  distributivity | $\\alpha (\\lvert a \\rangle + \\lvert b\\rangle) = \\alpha \\lvert a \\rangle + \\alpha \\lvert b \\rangle$ |\n",
    "| scalar  distributivity | $(\\alpha + \\beta) \\lvert a \\rangle = \\alpha \\lvert a \\rangle + \\beta \\lvert a \\rangle$ |\n",
    "| associativity | $\\alpha (\\beta \\lvert a \\rangle) = (\\alpha\\beta) \\lvert a \\rangle$|\n",
    "| identity |  There exists identity $I$ such that $I \\lvert a \\rangle = \\lvert a \\rangle$  (We write $I$ as $1$.) |"
   ]
  },
  {
   "cell_type": "markdown",
   "id": "189ab6a1-9ca8-4ba9-bc4b-903c6b9ca6de",
   "metadata": {},
   "source": [
    "## Superposition\n",
    "\n",
    "Combining addition and scalar multiplication, we can construct a superposition of vectors,\n",
    "\n",
    "$$\n",
    "|\\psi\\rangle = \\alpha |a\\rangle + \\beta |b\\rangle\n",
    "$$\n",
    "\n",
    "where $\\alpha$ and $\\beta$ are complex numbers.  The corresponding bra is\n",
    "\n",
    "$$\n",
    "\\langle \\psi | = \\langle a | \\alpha^* + \\langle b | \\beta^*.\n",
    "$$\n",
    "\n",
    "Notice that the coefficients are complex conjugate of the original ones in the ket."
   ]
  },
  {
   "cell_type": "markdown",
   "id": "a841215a-8c46-40a0-8e85-9178b3fb25d1",
   "metadata": {},
   "source": [
    "___  \n",
    "\n",
    "__Exercise__ {numref}`%s <chap-prerequisites>`.1 &nbsp;  Consider a superposition state $\\alpha |a\\rangle + e^{i \\theta} \\alpha |b\\rangle$ where $\\theta$ is real.  Find the corresponding bra vector.  \n",
    "\n",
    "___"
   ]
  },
  {
   "cell_type": "markdown",
   "id": "6f569fe6-e416-4d5f-a3cb-4e8c27456953",
   "metadata": {},
   "source": [
    "(subsec-innerproduct)=\n",
    "## Inner product\n",
    "\n",
    "In the Euclidean vector space, an inner product (dot product) $\\,\\vec{a} \\cdot \\vec{b}\\,$ is real and $\\,\\vec{a} \\cdot \\vec{b} = \\vec{b} \\cdot \\vec{a}$. The inner product in a Hilbert space differs in two points. Firstly, the inner product in a Hilbert space $\\langle a|b \\rangle$ is complex.  Secondly, the inner product is not symmetric between $a$ and $b$, that is $\\langle a|b \\rangle \\ne \\langle b|a \\rangle$. Instead, the two inner products are complex conjugate to each other as $\\langle a|b \\rangle^* = \\langle b|a \\rangle$.\n",
    "\n",
    "The inner product between $|c \\rangle$ and a superposition state $|\\psi \\rangle = \\alpha |a \\rangle + \\beta |b \\rangle$ can be computed with the distribution rule\n",
    "\n",
    "$$\\begin{eqnarray}\n",
    "\\langle c|\\psi \\rangle &=& \\bra{c} \\left(\\alpha |a \\rangle + \\beta |b \\rangle\\right) = \\alpha \\langle c|a \\rangle + \\beta \\langle c|b \\rangle\\\\\n",
    "\\langle \\psi|c \\rangle &=& \\left(\\alpha^* \\langle a | + \\beta^* \\langle b |\\right) \\ket{c} = \\alpha^* \\langle a|c \\rangle + \\beta^* \\langle b|c \\rangle.\n",
    "\\end{eqnarray}\n",
    "$$\n"
   ]
  },
  {
   "cell_type": "markdown",
   "id": "281e48fb-d09b-434f-9c3c-e1e4526ffcf7",
   "metadata": {},
   "source": [
    "___\n",
    "__Exercise__ {numref}`%s <chap-prerequisites>`.2 &nbsp; \n",
    "1. In the above example of inner product, show that $\\langle c|\\psi \\rangle^* = \\langle \\psi|c \\rangle$. (otherwise, the distribution rule does not work.)  \n",
    "2.  Show that $\\langle \\psi|\\psi \\rangle$ is real  for any $|\\psi\\rangle$.\n",
    "___"
   ]
  },
  {
   "cell_type": "markdown",
   "id": "a0a848b8-6c8c-4421-8d59-b59da7e1860b",
   "metadata": {},
   "source": [
    "## Orthogonality\n",
    "\n",
    "The inner product of two Euclidean vectors $\\vec{a}$ and $\\vec{b}$ may be expressed as $\\vec{a}\\cdot\\vec{b} = a b \\cos\\theta$ where $\\theta$ is the angle between the two vectors. When $\\theta = \\pm \\frac{\\pi}{2}$, the inner product vanishes.  Then, the two vectors are said to be orthogonal. Although no such angle can be defined between two kets, we say that $|a\\rangle$ and $|a\\rangle$ are _orthogonal_ if $\\langle a | b \\rangle = 0$."
   ]
  },
  {
   "cell_type": "markdown",
   "id": "add9b5b0-cfb7-45d5-95cf-c90be2a1ac5e",
   "metadata": {},
   "source": [
    "___\n",
    "  $|q\\rangle$ and $|b\\rangle$ are normalized and orthogonal to each other and have the. SHow that $|\\psi\\rangle = |a\\rangle + i |b \\rangle$ and $|\\varphi\\rangle = |a\\rangle - i |b \\rangle$. are orthogonal. if  "
   ]
  },
  {
   "cell_type": "markdown",
   "id": "19c69e98-eaba-49ea-a70d-f18d98249146",
   "metadata": {},
   "source": [
    "## Norm and normarization\n",
    "\n",
    "Recall that the norm (magnitude) of an Euclidean vector is defined by $\\|\\vec{a}\\| = \\sqrt{\\vec{a}\\cdot\\vec{a}}$.\n",
    "The norm of $\\ket{a}$ is defined in the same way.  Replacing the dot product with inner product, we have the norm of $|a\\rangle$ as\n",
    "\n",
    "$$\n",
    "\\||a\\rangle\\| = \\sqrt{\\langle a|a \\rangle}  \\ge 0.\n",
    "$$\n",
    "\n",
    "When $\\langle a|a \\rangle = 1$, the ket is said to be _normalized_.  Although we cannot express the ket as an arrow, physicists often use an imaginary arrow to represent a ket and the norm can be viewed as the length of the imaginary arrow.  This analogy works quite well.  So, the normalized ket is much like a unit vector. "
   ]
  },
  {
   "cell_type": "markdown",
   "id": "26d60142-663b-4888-a525-a4f3397d2b10",
   "metadata": {},
   "source": [
    "___\n",
    "\n",
    "__Exercise__ {numref}`%s <chap-prerequisites>`.3 &nbsp;  Show that $|b\\rangle = \\frac{|a\\rangle}{\\sqrt{\\langle a|a \\rangle}}$ is normalized.     \n",
    "\n",
    "__Exercise__ {numref}`%s <chap-prerequisites>`.4 &nbsp;   $|a\\rangle$ and $|b\\rangle$ are normalized and orthogonal to each other. Show that $|\\psi\\rangle = |a\\rangle + i |b \\rangle$ and $|\\varphi\\rangle = |a\\rangle - i |b \\rangle$ are orthogonal.  \n",
    "\n",
    "___"
   ]
  },
  {
   "cell_type": "markdown",
   "id": "edc1d7e7-59e2-4f91-995f-1457286ca9b1",
   "metadata": {},
   "source": [
    "## Global phase\n",
    "\n",
    "It is easy to show that if $|\\psi\\rangle$ is normalized, $e^{i \\theta}|\\psi\\rangle,\\,\\theta \\in \\mathbb{R}$ is also normalized.\n",
    "Although they are mathematically different, the two kets corresponds to the same physical state.  The factor $e^{i \\theta}$ is known as global phase and does not play any significant role in physics.  Hence, we can ignore it.  Quantum computation can be simplified by utilizing the freedom to chose any global phase."
   ]
  },
  {
   "cell_type": "markdown",
   "id": "9f479988-b624-4fb3-a810-80802f08b4a9",
   "metadata": {},
   "source": [
    "## Basis sets\n",
    "\n",
    "In a freshman physics course, perhaps you expressed a force vector in the three-dimensional Euclidean space as $\\vec{F} = F_x \\vec{i} + F_y \\vec{j} + F_z \\vec{k}$.  In fact, any vector can be expressed in the same way using the basis vectors  $\\vec{i}$, $\\vec{j}$ and $\\vec{k}$.  These three vectors are orthogonal to each other and their magnitude is 1.  Hence they are *orthonormal basis*.\n",
    "\n",
    "\n",
    "Similarly, a $n$-dimensional Hilbert space is _spanned_ by a basis set $\\{\\ket{e_0}, \\ket{e_1}, \\cdots, \\ket{e_{n-1}}\\}$.  We assume that the basis vectors are normized and orthogonal to each other.  Such basis set is called _orthonormal basis_ and the basis vectors satisfy\n",
    "\n",
    "$$\n",
    "\\langle e_i | e_j \\rangle = \\delta_{ij}\n",
    "$$(orthonormal)\n",
    "\n",
    "where $\\delta_{ij}$ is the usual Kronecker's delta.\n",
    "\n",
    "The basis vectors are _linearly independent_ and _complete_.  That means that any ket vector  can be expressed as a linear combination of the base vectors as\n",
    "\n",
    "$$\n",
    "|\\psi\\rangle = c_0 |e_0\\rangle + c_1 |e_1\\rangle  \\cdots c_{n-1} |e_{n-1}\\rangle = \\sum_{i=0}^{n-1} c_i |e_i\\rangle\n",
    "$$ (basis_expansion)\n",
    "where $c_i$ is complex.\n",
    "Using the orthonormality condition {eq}`orthonormal` , we can find the expansion coefficient as $c_i=\\langle  e_i|\\psi \\rangle$ which is a crucial quantity in quantum mechanics.\n",
    "\n",
    "\n",
    "The corresponding bra vector are expressed as\n",
    "\n",
    "$$\n",
    "\\langle \\psi| = c^*_0 \\langle e_0| + c^*_1 \\langle e_1|  \\cdots c^*_{n-1} \\langle e_{n-1}| = \\sum_{i=0}^{n-1} c^*_i \\langle e_i|.\n",
    "$$\n",
    "\n",
    "Notice that the expansion coefficients of the bra are complex conjugate of the coefficients of the ket.\n",
    "\n",
    "If $|\\psi\\rangle$ is normalized, the coefficients is normalized as $\\sum_j |c_j|^2 = 1$.\n"
   ]
  },
  {
   "cell_type": "markdown",
   "id": "18d250dc-2d1b-41df-9940-6d2bce7c0c4e",
   "metadata": {},
   "source": [
    "## Completeness\n",
    "\n",
    "In Equation {eq}`basis_expansion` we expanded an arbitrary vector in a complete basis set.  The following _closure relation_ guarantees the completeness.\n",
    "\n",
    "$$\n",
    "|e_0\\rangle\\langle e_0| + |e_1\\rangle\\langle e_1| + \\cdots + |e_{n-1}\\rangle\\langle e_{n-1}| = I\n",
    "$$ (completeness)\n",
    "\n",
    "where $\\{|e_i\\rangle\\}$ is an orthonormal basis.  $|e_i\\rangle\\langle e_i|$ is a kind of operator called _projection operator_, which we study in XXX.  It acts on a ket as follows:\n",
    "\n",
    "$$\n",
    "(|e_i\\rangle\\langle e_i|)\\, |\\psi\\rangle =  |e_i\\rangle (\\langle e_i|\\psi\\rangle) = c_i e_i\\rangle \n",
    "$$\n",
    "where $c_i = \\langle e_i|\\psi\\rangle$."
   ]
  },
  {
   "cell_type": "code",
   "execution_count": null,
   "id": "1185b1bd-8f79-4bda-854b-e127df801bf9",
   "metadata": {},
   "outputs": [],
   "source": []
  }
 ],
 "metadata": {
  "kernelspec": {
   "display_name": "Python 3 (ipykernel)",
   "language": "python",
   "name": "python3"
  },
  "language_info": {
   "codemirror_mode": {
    "name": "ipython",
    "version": 3
   },
   "file_extension": ".py",
   "mimetype": "text/x-python",
   "name": "python",
   "nbconvert_exporter": "python",
   "pygments_lexer": "ipython3",
   "version": "3.9.12"
  }
 },
 "nbformat": 4,
 "nbformat_minor": 5
}
