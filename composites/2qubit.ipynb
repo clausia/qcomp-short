{
 "cells": [
  {
   "cell_type": "markdown",
   "id": "ce31c7e9-c7e8-4335-877a-a631f4d04756",
   "metadata": {},
   "source": [
    "(sec-2qubits)=\n",
    "# Two qubits\n"
   ]
  },
  {
   "cell_type": "markdown",
   "id": "bb02f5e4-cf05-4e30-9259-54fd6c1d7799",
   "metadata": {},
   "source": [
    "## Hilbert space and computational basis\n",
    "\n",
    "First, let us recall that a single qubit is in a two-dimensional Hilbert space $\\mathbb{C}^2$ and the computational basis vectors $0\\rangle$ and $|1\\rangle$ span the space. Now we consider two qubits $q_0$ and $q_1$. The composite system lives in a four-dimensional Hilbert space.  The dimension $4$ is not $2+2$ but $2 \\times 2$.  We write it $\\mathbb{C}^2 \\otimes \\mathbb{C}^2$ where $\\otimes$ indicates *tensor product*.  This mathematical structure is very important. Using the computational basis of each $\\mathbb{C}^2$, we can construct four *computational basis* vectors for the composite system as products $|q_1\\rangle \\otimes |q_0\\rangle$:\n",
    "\n",
    "$$\n",
    "|00\\rangle \\equiv |0\\rangle \\otimes |0\\rangle, \\quad |01\\rangle \\equiv |0\\rangle \\otimes |1\\rangle, \\quad |10\\rangle \\equiv |1\\rangle \\otimes |0\\rangle, \\quad |11\\rangle \\equiv |0\\rangle \\otimes |0\\rangle.\n",
    "$$(computational-basis-q2)\n",
    "\n",
    "The physical meaning of each basis vector is clear. For example, $|01\\rangle$ means $q_0$ is in $\\rangle$ and $q_1$ in $|0\\rangle$.\n",
    "\n",
    "Other basis sets are also used.  The $xx$ basis uses $|\\pm\\rangle$ for both qubits\n",
    "\n",
    "$$\n",
    "|++\\rangle \\equiv |+\\rangle \\otimes |+\\rangle, \\quad |+-\\rangle \\equiv |+\\rangle \\otimes |-\\rangle, \\quad |-+\\rangle \\equiv |-\\rangle \\otimes |+\\rangle, \\quad |--\\rangle \\equiv |-\\rangle \\otimes |-\\rangle\n",
    "$$\n",
    "\n",
    "The mixed basis in which $q_0$ and $q_1$ use different basis kets is also allowed.\n",
    "\n",
    "$$\n",
    "|0+\\rangle \\equiv |0\\rangle \\otimes |+\\rangle, \\quad |0-\\rangle \\equiv |0\\rangle \\otimes |-\\rangle, \\quad |1+\\rangle \\equiv |1\\rangle \\otimes |+\\rangle, \\quad |1-\\rangle \\equiv |1\\rangle \\otimes |-\\rangle\n",
    "$$\n"
   ]
  },
  {
   "cell_type": "markdown",
   "id": "df96eebb-5099-49aa-91d5-2d6444497715",
   "metadata": {},
   "source": [
    "**Exercise** {numref}`%s <sec-2qubits>`.1    Show that the above basis sets are all orthonormal."
   ]
  },
  {
   "cell_type": "markdown",
   "id": "69cfd1da-060d-4b5a-b774-f816653f1656",
   "metadata": {},
   "source": [
    "## Superposition states\n",
    "\n",
    "The state of two-qubit system is expressed as \n",
    "\n",
    "$$\n",
    "c_{00} |00\\rangle + c_{01} |01\\rangle + c_{10} |10\\rangle + c_{11} |11\\rangle.\n",
    "$$\n",
    "\n",
    "What does this state physically means?  To see that, we assume that Alice has qubit $q_0$ and Bob has $q_1$.  They are separated by a large distance.  Even when they are far apart, the above state is still valid. Alice can measure her qubit but not Bob's qubit.  Similarly, Bob can measure his qubit but not Alice's.  This type of measurement is known as *local measurement*.  Now Alice measures her qubit $q_0$ before Bob measures $q_1$.  Suppose that the outcome is $|0\\rangle$.  The state now collapses to \n",
    "\n",
    "$$\n",
    "\\frac{1}{N} (c_{00} |00\\rangle + c_{10} |10\\rangle) = \\left(c_0 |0\\rangle + c_1|1\\rangle\\right) \\otimes |0\\rangle .\n",
    "$$\n",
    "\n",
    "where $N = \\sqrt{|c_{00}|^2 + |c_{01}|^2}$, $c_0=c_{00}/N$, and $c_1=c_{10}/N$.  After the measurement, Alice's qubit is now in  definite state $0\\rangle$ but Bob's qubit remains in a superposition state.  Next, Bob measures his qubit and found it in $|1\\rangle$.  Then, the state further collapses to $|1\\rangle \\otimes |0\\rangle$.  \n",
    "\n",
    "Recall that the outcome of quantum measurement is completely random and there is no way to predict it.  You can calculate the probability to find each state based on the Born rule.  The probability that Alice obtain $|0\\rangle$ is $p_A(0) = |c_{00}|^2 + |c_{10}|^2$ because Alices qubit is $|0\\rangle$ in $|00\\rangle = |0\\rangle \\otimes |0\\rangle$ and $|10\\rangle = |1\\rangle \\otimes |0\\rangle$. In other words, when Alice obtained $|0\\rangle$, Bob's qubit can be still $|0\\rangle$ or $|1\\rangle$, hence we need to take into account both. \n",
    "\n",
    "The probability that Bob gets $|1\\rangle$ after Alice get $|0\\rangle$ is $p_B(1|0)=|c_1|^2$, which is the [*conditional probability*](https://en.wikipedia.org/wiki/Conditional_probability) after Alice gets $|0\\rangle$. The net probability to find $|10\\rangle$ is \n",
    "\n",
    "$$\n",
    "p_A(0) p_B(1|0) = \\left(|c_{00}|^2 + |c_{01}|^2)\\right) |c_1|^2 = |c_{10}|^2\n",
    "$$\n",
    "\n",
    "which is the probability to obtain $|10\\rangle$.  , The Born rule worked well for the composite case."
   ]
  },
  {
   "cell_type": "markdown",
   "id": "0518d00a-b3af-4beb-b2ea-990c2b2ea27f",
   "metadata": {},
   "source": [
    "**Exercise**  {numref}`%s <sec-2qubits>`.1 Suppose that Alice measured her qubit before Bob did and got $|1\\rangle$.  Bob measured his qubit after Alice and obtained $|1\\rangle$.  What is the state after their measurement and what is the probability to get it?"
   ]
  },
  {
   "cell_type": "markdown",
   "id": "3ee4eaaf-3dd2-46d8-a4a6-99412f6e7140",
   "metadata": {},
   "source": [
    "Now an important question arises. If Bob measures before Alice, does the probability remain the same?\n",
    "\n",
    "Suppose that Bob measured before Alice and got $|1\\rangle$.  The probability that happens is $p_B(1)=|c_{10}|^2 + |c_{11}|^2$, which is different from the previous case despite that Bob gets the same outcome.   This is weird but let us move on.  After Bob's measurement the state collapse to\n",
    "\n",
    "$$\n",
    "\\frac{1}{N} (c_{10} |10\\rangle + c_{11} |11\\rangle) = |1\\rangle \\otimes \\left(c_0 |0\\rangle + c_1|1\\rangle\\right)\n",
    "$$(superposition-q2)\n",
    "\n",
    "where $N = \\sqrt{|c_{10}|^2 + |c_{11}|^2}$, $c_0=c_{10}/N$, and $c_1=c_{11}/N$.\n",
    "Next, Alice measured her qubit and obtained $0\\rangle$ with the probability $p_A(0|1)=|c_0|^2$.  The final state is $|10\\rangle$.  The net probability is\n",
    "\n",
    "$$\n",
    "p_B(1) p_A(0|1) = \\left(|c_{10}|^2 + |c_{11}|^2)\\right) |c_1|^2 = |c_{10}|^2\n",
    "$$\n",
    "\n",
    "in agreement with the previous case.  This agreement is guaranteed by the [*Bayes' theorem*](https://en.wikipedia.org/wiki/Bayes%27_theorem) $p_A(x)p_B(y|x) = p_B(y) p_A(x|y)$.\n",
    "\n",
    "While the net probability does not depend on the order of the measurement, the probabilities of individual observers experience depend on it. Despite that Alice and Bob are separated by a far distance, the act of Alice on her qubit changed the state of Bob's qubit instantaneously.  This conclusion is quite counter intuitive and needs to be examined more carefully."
   ]
  },
  {
   "cell_type": "markdown",
   "id": "17f39e49-e903-4d1b-a691-4eb093d0395e",
   "metadata": {},
   "source": [
    "## Product states\n",
    "\n",
    "Let us consider a special case where the two qubit state is \n",
    "\n",
    "$$\n",
    "|10\\rangle = |1\\rangle \\otimes |0\\rangle\n",
    "$$(product10)\n",
    "\n",
    "that is $c_{00}=c_{01}=c_{11}=0$ and $c_{10}=1$ in Eq {eq}`superposition-q2`.  Alice always finds her qubit in $|0\\rangle$ (probability=1) and Bob always find his in $|1\\rangle$ without exception (probability=1).   In this case, the order of measurement does not affect the individual measurements. There seems no controversy.\n",
    "\n",
    "Next we consider\n",
    "\n",
    "$$\n",
    "|+-\\rangle = \\frac{1}{\\sqrt{2}} \\left(|0\\rangle + |1\\rangle\\right ) \\otimes \\frac{1}{\\sqrt{2}} \\left(|0\\rangle - |1\\rangle\\right ) = \\frac{1}{2} \\left(|00\\rangle - |01\\rangle + |10\\rangle - |11\\rangle \\right).\n",
    "$$(product+-)\n",
    "\n",
    "This state is closer to the general case {eq}`superposition-q2`.  However, the probability that Alice gets $|0\\rangle$ is $\\frac{1}{2}$ and the probability Bob gets $|1\\rangle$ is also $\\frac{1}{2}$ regardless of who measures first.\n",
    "\n",
    "The state of the composite systems in these two examples can be written as *product state* $|q_1\\rangle \\otimes |q_0\\rangle$.  In Eq. {eq}`product10`, $|q_0\\rangle = |0\\rangle$ and $|q_1\\rangle = |1\\rangle$.  In Eq. {eq}`product+-`, $|q_0\\rangle = |-\\rangle$ and $|q_1\\rangle = |+\\rangle$.  When a composite system is in a product state, the measurements of $q_0$ and $q_1$ are completely independent and thus the order does not matter."
   ]
  },
  {
   "cell_type": "markdown",
   "id": "eac318f3-9c55-4cf7-a95e-10cae2fd4a30",
   "metadata": {},
   "source": [
    "## Entangled states\n",
    "\n",
    "When the state of a composite system cannot be written in a form of product $|q_1\\rangle \\otimes |q_0\\rangle$, we say that the system is *entangled*.  [*Quantum entanglement*](https://en.wikipedia.org/wiki/Quantum_entanglement) is unique to quantum systems.\n",
    "When the qubits are entangled, they are not independent. Measurement on one qubit change the state of the other qubit.  \n",
    "\n",
    "A pair of qubits interact at a certain place and an entangle state\n",
    "\n",
    "$$\n",
    "\\frac{1}{\\sqrt{2}} \\left(|01\\rangle + |10\\rangle\\right)\n",
    "$$(01+10)\n",
    "\n",
    "is formed.  Alice takes $q_0$ and travels to a distant place with it. Bob takes the other qubit and travels in the opposite direction.  Alice and Bob are separated by a large distance.\n",
    "\n",
    "The entangled state {eq}`01+10` indicates that Alice's qubit is either $|0\\rangle$ or $|1\\rangle$ and so is Bob's.  When Alice's measurement results in $|0\\rangle$, then Bob's qubit necessarily in $|1\\rangle$ since $|00\\rangle$ is absent.  On the other hand, if Alice finds $|1\\rangle$ then Bob's qubit must be in $|0\\rangle$.   Alice immediately knows what Bob's will find.  Hence, their measurement is perfectly correlated.  \n",
    "\n",
    "This correlation is not necessarily controversial since classical correlation exits.  Consider a pair of grabs.  Each side of the grab is placed in a separate box.  Alice took a box and Bob the other.  They don't know which side of the grab is in their of box.  They open the box at their home.  When Alice finds the left grab, the Bob must find the right grab.  This is an example of perfect classical correlation.  When Bob opened the box before Alice, the outcome remain the same.\n",
    "\n",
    "The quantum correlation by entanglement seems the same as the classical case but it is actually quite different. Before measurement neither spin has a definite state.  Both qubits are mixture of $|0\\rangle$ and $|1\\rangle$.  Alice's measurement destroys the mixture of Bob's qubit *instantaneously* over *distance*.  How can Alice's action on her qubit changes the state of Bob's qubit instantaneously over an arbitrarily long distance?   This is known as [*EPR paradox*](https://en.wikipedia.org/wiki/EPR_paradox).  Einstein called it \"Spooky action at a distance\" and claimed that the theory of quantum mechanics is incomplete.  However, every experimental observation is found to be consistent with the standard theory of quantum mechanics.  In the next section, we discuss more about it. \n",
    "\n",
    "Once David Mermin explained the common attitude toward the theory of quantum mechanics as \"Shut up and calculate\". {cite}`Mermin1989`.   For the moment, we set aside the incomprehensible aspect of quantum entanglement and just accept the extraordinary properties of quantum entanglement.  It turns out that entanglement carries very useful properties that classical physics cannot offer. We exploit them in quantum computation.  In fact, the success of quantum computation relies on quantum entanglement."
   ]
  },
  {
   "cell_type": "markdown",
   "id": "e7e0d43a-c5b4-4098-9132-e885035b4ecb",
   "metadata": {},
   "source": [
    "## Bell basis\n",
    "\n",
    "The Hilbert space of two qubits is four-dimensional and spanned by four basis vectors.  The computational basis {eq}`computational-basis-q2` is based on the product states.  In many cases, basis set based on entangled states is desired.  The most popular entangled basis is *Bell basis* defined by four Bell states:\n",
    "\n",
    "$$\n",
    "\\begin{align}\n",
    "|\\Phi^{\\pm}\\rangle &= \\frac{1}{\\sqrt{2}} \\left(|00\\rangle \\pm |11\\rangle\\right) \\\\\n",
    "|\\Psi^{\\pm}\\rangle &= \\frac{1}{\\sqrt{2}} \\left(|01\\rangle \\pm |10\\rangle\\right)\n",
    "\\end{align}\n",
    "$$\n",
    "\n",
    "Among them, $|\\Psi^{-}\\rangle$, known as *singlet state*, plays an important role in quantum information theory. \n",
    "\n",
    "No entangled state can be created by local transformation (one-qubit gates). We must use a two-qubits gate such as controlled-$X$. The following Qiskit example generates $\\Phi^+\\rangle$ and |\\Pis^+\\rangle$."
   ]
  },
  {
   "cell_type": "code",
   "execution_count": 1,
   "id": "abd77137-95b8-401c-8d70-82d4334fcf1e",
   "metadata": {},
   "outputs": [
    {
     "data": {
      "text/html": [
       "<pre style=\"word-wrap: normal;white-space: pre;background: #fff0;line-height: 1.1;font-family: &quot;Courier New&quot;,Courier,monospace\">     ┌───┐     \n",
       "q_0: ┤ H ├──■──\n",
       "     └───┘┌─┴─┐\n",
       "q_1: ─────┤ X ├\n",
       "          └───┘</pre>"
      ],
      "text/plain": [
       "     ┌───┐     \n",
       "q_0: ┤ H ├──■──\n",
       "     └───┘┌─┴─┐\n",
       "q_1: ─────┤ X ├\n",
       "          └───┘"
      ]
     },
     "execution_count": 1,
     "metadata": {},
     "output_type": "execute_result"
    }
   ],
   "source": [
    "from qiskit import *\n",
    "\n",
    "qr=QuantumRegister(2,'q')\n",
    "qc=QuantumCircuit(qr)\n",
    "\n",
    "# generate |00>+|11>\n",
    "qc.h(0)\n",
    "qc.cx(0,1)\n",
    "\n",
    "qc.draw()"
   ]
  },
  {
   "cell_type": "code",
   "execution_count": 4,
   "id": "5e6278e3-c5cd-42e7-97b1-c32aff42e2cf",
   "metadata": {},
   "outputs": [
    {
     "data": {
      "text/latex": [
       "$$\\frac{\\sqrt{2}}{2} |00\\rangle+\\frac{\\sqrt{2}}{2} |11\\rangle$$"
      ],
      "text/plain": [
       "<IPython.core.display.Latex object>"
      ]
     },
     "execution_count": 4,
     "metadata": {},
     "output_type": "execute_result"
    }
   ],
   "source": [
    "from qiskit.quantum_info import Statevector\n",
    "psi=Statevector(qc)\n",
    "psi.draw('latex')"
   ]
  },
  {
   "cell_type": "code",
   "execution_count": 5,
   "id": "abf30090-c282-4150-8e00-ba53baf4fffb",
   "metadata": {},
   "outputs": [
    {
     "data": {
      "image/png": "[encoded data removed]",
      "text/plain": [
       "<Figure size 288x288 with 2 Axes>"
      ]
     },
     "execution_count": 5,
     "metadata": {},
     "output_type": "execute_result"
    }
   ],
   "source": [
    "from qiskit.visualization import plot_state_qsphere\n",
    "# it's an entangled state.  Use qsphere.\n",
    "plot_state_qsphere(psi,figsize=(4,4))"
   ]
  },
  {
   "cell_type": "code",
   "execution_count": 7,
   "id": "40b84f3d-7778-48d6-bb4a-25622144ba19",
   "metadata": {},
   "outputs": [
    {
     "data": {
      "text/html": [
       "<pre style=\"word-wrap: normal;white-space: pre;background: #fff0;line-height: 1.1;font-family: &quot;Courier New&quot;,Courier,monospace\">     ┌───┐          \n",
       "q_0: ┤ H ├──■───────\n",
       "     └───┘┌─┴─┐┌───┐\n",
       "q_1: ─────┤ X ├┤ X ├\n",
       "          └───┘└───┘</pre>"
      ],
      "text/plain": [
       "     ┌───┐          \n",
       "q_0: ┤ H ├──■───────\n",
       "     └───┘┌─┴─┐┌───┐\n",
       "q_1: ─────┤ X ├┤ X ├\n",
       "          └───┘└───┘"
      ]
     },
     "execution_count": 7,
     "metadata": {},
     "output_type": "execute_result"
    }
   ],
   "source": [
    "# generate |01>+|10> by flipping q_0 or q_1\n",
    "# either works.\n",
    "qc.x(1)\n",
    "qc.draw()"
   ]
  },
  {
   "cell_type": "code",
   "execution_count": 8,
   "id": "9e4b4773-e017-404f-82cb-5d7f3345630a",
   "metadata": {},
   "outputs": [
    {
     "data": {
      "text/latex": [
       "$$\\frac{\\sqrt{2}}{2} |01\\rangle+\\frac{\\sqrt{2}}{2} |10\\rangle$$"
      ],
      "text/plain": [
       "<IPython.core.display.Latex object>"
      ]
     },
     "execution_count": 8,
     "metadata": {},
     "output_type": "execute_result"
    }
   ],
   "source": [
    "psi=Statevector(qc)\n",
    "psi.draw('latex')"
   ]
  },
  {
   "cell_type": "code",
   "execution_count": 9,
   "id": "b132dd38-b1cd-4478-99dc-ed82373319e2",
   "metadata": {},
   "outputs": [
    {
     "data": {
      "image/png": "[encoded data removed]",
      "text/plain": [
       "<Figure size 288x288 with 2 Axes>"
      ]
     },
     "execution_count": 9,
     "metadata": {},
     "output_type": "execute_result"
    }
   ],
   "source": [
    "# it's an entangled state.  Use qsphere.\n",
    "plot_state_qsphere(psi,figsize=(4,4))"
   ]
  },
  {
   "cell_type": "markdown",
   "id": "d2e56a5a-0403-430e-8305-c29f662f668c",
   "metadata": {},
   "source": [
    "**Exercise**  {numref}`%s <sec-2qubits>`.2  Generate $|\\Phi^{-}\\rangle$ and $|\\Psi^{-}\\rangle$ using Qiskit.  (There are several different ways. A simple one uses the $Z$ gate.  You can also apply $H$ to both qubits.  Find where to put these gates.)"
   ]
  },
  {
   "cell_type": "markdown",
   "id": "2ebe2f50-c532-4fa8-bf00-9ed1731dc1af",
   "metadata": {},
   "source": [
    "[^neg]: Symbol $\\neg$ means negation."
   ]
  },
  {
   "cell_type": "markdown",
   "id": "58ca36f9-69b0-4ac0-a7e2-d2bf272848d9",
   "metadata": {},
   "source": [
    "## Two-qubit measurements in computational basis\n",
    "\n",
    "We want to determine $|c_{ij}|$ in  {eq}`superposition-q2` by measurement.  It can be done easily in Qiskit.\n",
    "\n"
   ]
  },
  {
   "cell_type": "code",
   "execution_count": 42,
   "id": "cc3da21e-870f-4b49-b0ef-94e040898e10",
   "metadata": {},
   "outputs": [
    {
     "data": {
      "text/html": [
       "<pre style=\"word-wrap: normal;white-space: pre;background: #fff0;line-height: 1.1;font-family: &quot;Courier New&quot;,Courier,monospace\">     ┌───┐     ┌─────────┐┌─────────┐ ░ ┌─┐   \n",
       "q_0: ┤ H ├──■──┤ Ry(π/5) ├┤ Rx(π/3) ├─░─┤M├───\n",
       "     └───┘┌─┴─┐└─────────┘└─────────┘ ░ └╥┘┌─┐\n",
       "q_1: ─────┤ X ├───────────────────────░──╫─┤M├\n",
       "          └───┘                       ░  ║ └╥┘\n",
       "c: 2/════════════════════════════════════╩══╩═\n",
       "                                         0  1 </pre>"
      ],
      "text/plain": [
       "     ┌───┐     ┌─────────┐┌─────────┐ ░ ┌─┐   \n",
       "q_0: ┤ H ├──■──┤ Ry(π/5) ├┤ Rx(π/3) ├─░─┤M├───\n",
       "     └───┘┌─┴─┐└─────────┘└─────────┘ ░ └╥┘┌─┐\n",
       "q_1: ─────┤ X ├───────────────────────░──╫─┤M├\n",
       "          └───┘                       ░  ║ └╥┘\n",
       "c: 2/════════════════════════════════════╩══╩═\n",
       "                                         0  1 "
      ]
     },
     "execution_count": 42,
     "metadata": {},
     "output_type": "execute_result"
    }
   ],
   "source": [
    "from qiskit import *\n",
    "import numpy as np\n",
    "\n",
    "cr=ClassicalRegister(2,'c')\n",
    "qr=QuantumRegister(2,'q')\n",
    "qc=QuantumCircuit(qr,cr)\n",
    "\n",
    "qc.h(0)\n",
    "qc.cx(0,1)\n",
    "qc.ry(np.pi/5,0)\n",
    "qc.rx(np.pi/3,0)\n",
    "\n",
    "qc.barrier()\n",
    "qc.measure(0,0)\n",
    "qc.measure(1,1)\n",
    "\n",
    "qc.draw()"
   ]
  },
  {
   "cell_type": "code",
   "execution_count": 43,
   "id": "1b43842b-d895-4fd1-990a-3ee17530add9",
   "metadata": {},
   "outputs": [
    {
     "data": {
      "image/png": "[encoded data removed]",
      "text/plain": [
       "<Figure size 504x360 with 1 Axes>"
      ]
     },
     "execution_count": 43,
     "metadata": {},
     "output_type": "execute_result"
    }
   ],
   "source": [
    "# Chose a general quantum simulator without noise.\n",
    "# The simulator behaves as an ideal quantum computer.\n",
    "backend = Aer.get_backend('qasm_simulator')\n",
    "\n",
    "# set number of tries\n",
    "nshots=8192\n",
    "\n",
    "# execute the quantum circuit and store the outcome\n",
    "job = backend.run(qc,shots=nshots)\n",
    "\n",
    "# extract the result\n",
    "result = job.result()\n",
    "\n",
    "# count the outcome\n",
    "counts = result.get_counts()\n",
    "\n",
    "from qiskit.visualization import plot_histogram\n",
    "plot_histogram(counts)"
   ]
  },
  {
   "cell_type": "markdown",
   "id": "0ccb5732-a6c5-4c9b-955a-6256d40ff71d",
   "metadata": {},
   "source": [
    "## Bell state measurement\n",
    "\n",
    "We can expand any two qubit states in the Bell basis as\n",
    "\n",
    "$$\n",
    "\\ket{\\psi} = c_{\\Phi^+} |\\Phi^{+}\\rangle + c_{\\Phi^-} |\\Phi^{-}\\rangle + c_{\\Psi^+} |\\Psi^{+}\\rangle + c_{\\Psi^-} |\\Phi^{-}\\rangle .\n",
    "$$(bell-expansion)\n",
    "\n",
    "Now, we want find the probabilities to find the Bell states.  Since the Bell states are all entangled, standard measurement based on the computational basis does not help.  Applying $(H \\otimes I)\\cdot CX$ transforms the basis to the computational basis without changing the coefficients:\n",
    "\n",
    "$$\n",
    "(H \\otimes I)\\cdot CX \\ket{\\psi} = c_{\\Phi^+} |00\\rangle + c_{\\Phi^-} |10\\rangle + c_{\\Psi^+} |01\\rangle + c_{\\Psi^-} |11\\rangle .\n",
    "$$(comp-expansion)\n",
    "\n",
    "Now, the standard measurement in the computational basis determine the probabilities."
   ]
  },
  {
   "cell_type": "markdown",
   "id": "f31855e2-24a1-4d40-a235-7f41789b6f72",
   "metadata": {},
   "source": [
    "**Exercise**  {numref}`%s <sec-2qubits>`.3  Derive {eq}`comp-expansion`."
   ]
  },
  {
   "cell_type": "code",
   "execution_count": null,
   "id": "e38ce7b1-ef60-4abf-9f41-1ebfeed64aa0",
   "metadata": {},
   "outputs": [],
   "source": []
  }
 ],
 "metadata": {
  "kernelspec": {
   "display_name": "Python 3 (ipykernel)",
   "language": "python",
   "name": "python3"
  },
  "language_info": {
   "codemirror_mode": {
    "name": "ipython",
    "version": 3
   },
   "file_extension": ".py",
   "mimetype": "text/x-python",
   "name": "python",
   "nbconvert_exporter": "python",
   "pygments_lexer": "ipython3",
   "version": "3.9.12"
  }
 },
 "nbformat": 4,
 "nbformat_minor": 5
}
