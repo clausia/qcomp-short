{
 "cells": [
  {
   "cell_type": "markdown",
   "id": "ee520f60-1f78-4a05-b4d1-4b3ae00a9782",
   "metadata": {},
   "source": [
    "(sec-Bell-game)=\n",
    "# Bell game"
   ]
  },
  {
   "cell_type": "markdown",
   "id": "3445c524-eb3c-4d22-a8f4-9a0fccc5be54",
   "metadata": {},
   "source": [
    "As shown in the previous section, quantum entanglement exhibits a weird correlation.  Is it consistent with any known cause of correlation?  John S. Bell showed that any correlation we know must satisfy an inequality (known as *Bell inequality*).  If a correlation that does not satisfies the inequality, it must be due to some unknown  *non-local* effect.  Since all the principles of classical physics are *local*, any violation of the Bell's inequality indicates the existence of non-local effects that cannot be explained by any classical physics.  Various experiments have confirmed that quantum entanglement violates the inequality and thus non-local effect must exist.\n",
    "\n",
    "In this section, we try to understand the Bell's inequality without complicated mathematics through the Bell game. "
   ]
  },
  {
   "cell_type": "code",
   "execution_count": null,
   "id": "b0d7c481-9b65-4115-a6d9-e5872d22e5ab",
   "metadata": {},
   "outputs": [],
   "source": []
  }
 ],
 "metadata": {
  "kernelspec": {
   "display_name": "Python 3 (ipykernel)",
   "language": "python",
   "name": "python3"
  },
  "language_info": {
   "codemirror_mode": {
    "name": "ipython",
    "version": 3
   },
   "file_extension": ".py",
   "mimetype": "text/x-python",
   "name": "python",
   "nbconvert_exporter": "python",
   "pygments_lexer": "ipython3",
   "version": "3.9.12"
  }
 },
 "nbformat": 4,
 "nbformat_minor": 5
}
