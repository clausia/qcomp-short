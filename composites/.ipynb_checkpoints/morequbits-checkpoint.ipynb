{
 "cells": [
  {
   "cell_type": "markdown",
   "id": "e45655a7-407f-4bd5-a721-51982af943ff",
   "metadata": {},
   "source": [
    "(sec-more-qubits)=\n",
    "# More qubits"
   ]
  },
  {
   "cell_type": "markdown",
   "id": "c9a86daf-f139-4306-9748-a94b8727c12b",
   "metadata": {},
   "source": [
    "Two qubits are too few for useful quantum computation and we need many more. In this section, we consider $n$ qubits where $n>2$.  Each qubit is in $\\mathbb{C}^2$ and thus  ther system of $n$ qubits is in $2^n$ dimensional Hilbert space $\\mathbf{C}^2 \\otimes \\cdots \\otimes \\mathbb{C}^2$, which spanned by $2^n$ basis vectors.\n"
   ]
  },
  {
   "cell_type": "markdown",
   "id": "526ee4f3-c181-4ef0-92d9-4573454631b3",
   "metadata": {},
   "source": [
    "## Notation\n",
    "\n",
    "In this book, we write the computational basis of $n$ qubits as\n",
    "\n",
    "$$\n",
    "|q_{n-1}\\, q_{n-2}\\, \\cdots\\, q_1\\, q_0\\rangle \\equiv |q_{n-1}\\rangle \\otimes |q_{n-2}\\rangle \\otimes \\cdots \\otimes |q_1\\rangle \\otimes |q_0\\rangle\n",
    "$$\n",
    "\n",
    "Notice that the qubits are ordered from the right to the left.  For example, $|01011\\rangle$ is a computational basis ket for five qubits representing $|0\\rangle \\otimes |1\\rangle \\otimes |0 \\rangle \\otimes |1\\rangle \\otimes |1\\rangle$. \n",
    "\n",
    "For large $n$, the expression becomes very long. We use a shorthand expression based on integers in classical binary strings:\n",
    "\n",
    "$$\n",
    "|j\\rangle_n = |j_{n-1}\\, j_{n-2}\\, \\cdots\\, j_1\\, j_0\\rangle\n",
    "$$\n",
    "\n",
    "where $j_k \\in \\{0,1\\}$ and\n",
    "\n",
    "$$\n",
    "j = 2^{n-1} j_{n-1} + 2^{n-2} j_{n-2} + \\cdots + 2 j_1 + j_0 = \\sum_{k=0}^{n-1} 2^k j_k.\n",
    "$$\n",
    "\n",
    "For $n=3$, we have eight basis vectors\n",
    "\n",
    "$$\n",
    "\\begin{align}\n",
    "&|0\\rangle_3 = |000\\rangle, && |1\\rangle_3 = |001\\rangle, &&& |2\\rangle_3 = |010\\rangle, &&&&|3\\rangle_3 = |011\\rangle\\\\\n",
    "&|4\\rangle_3 = |100\\rangle, && |5\\rangle_3 = |101\\rangle, &&& |6\\rangle_3 = |110\\rangle, &&&&|7\\rangle_3 = |111\\rangle\n",
    "\\end{align}\n",
    "$$"
   ]
  },
  {
   "cell_type": "markdown",
   "id": "e48dea3c-96d6-467b-8138-72fe1b64a6c9",
   "metadata": {},
   "source": [
    "\n",
    "---\n",
    "**Exercise**  For the system of 5 qubits, find what computational basis set $|13\\rangle_5$ means."
   ]
  },
  {
   "cell_type": "markdown",
   "id": "b28f4a71-be9e-4e8b-a59a-f6f40ae453c8",
   "metadata": {},
   "source": [
    "## Entanglement\n",
    "\n",
    "Recall the system is entangled if the state vector of a composite system cannot be written as a product of individual state vectors.  For two qubits, this definition is clear.  For three qubits, what does \"product\" state mean?  Do all three qubits have to be separated like $|q_2\\rangle \\otimes |q_1\\rangle \\otimes |q_0\\rangle$? If $q_1$ and $q_2$ are entangled but not with $q_0$ the state vector can be written as\n",
    "\n",
    "$$\n",
    "|\\text{entangled}\\rangle_2 \\otimes |q_0\\rangle\n",
    "$$\n",
    "\n",
    "Is this a product state?  In one sense this is a product state and thus the whole system is not entangled.  However, a part of the whole system is entangled.   When the state vector of a whole system cannot be written as any form of product state, we say that the whole system is entangled.  For example, the state known as the [*GHZ* state](https://en.wikipedia.org/wiki/Greenberger%E2%80%93Horne%E2%80%93Zeilinger_state):\n",
    "\n",
    "$$\n",
    "|\\text{GHZ}\\rangle = \\frac{1}{\\sqrt{2}}\\left(|000\\rangle + |111\\rangle\\right) \n",
    "$$\n",
    "\n",
    "cannot be written as any form of product state.  We say that the state is maximally entangled. To understand the effect of entanglement, qubits $q_0$, $q_1$ and $q_2$ are delivered to Alice, Bob, and Charlie, respectively.  Before any measurement, all of them have a equal chance to get $|0\\rangle$ or $|1\\rangle$.  Alice measures her qubit before others and get $|1\\rangle$.  Immediately, the state collapse to $|111\\rangle$ and she knows that Bob's and Charlie's qubits are both in $|1\\rangle$.  Now, they have no chance to get $|0\\rangle$ (but they don't know it.)  This happens even when they are far apart.  In one sense, this entanglement is strong because measurement of a single qubit removes the uncertainty in two others.  On the other hand, the entanglement is not robust since the measurement of a single qubit destroys the entanglement entirely. The GHZ state is used in various quantum algorithms including [Quantum Byzantine agreement](https://en.wikipedia.org/wiki/Quantum_Byzantine_agreement).\n",
    "\n",
    "There is another maximally entangled state known as the [*W* state](https://en.wikipedia.org/wiki/W_state)\n",
    "\n",
    "$$\n",
    "|\\text{W}\\rangle = \\frac{1}{\\sqrt{3}} \\left(|001\\rangle + |010\\rangle + |100\\rangle\\right).\n",
    "$$\n",
    "\n",
    "Again, Alice measures her qubit first but gets $|0\\rangle$ this time.  The state collapses to $\\frac{1}{\\sqrt{2}}\\left(01\\rangle + |10\\rangle\\right) \\otimes |0\\rangle$.\n",
    "This entanglement is a little bit more robust than the GHZ state since even after Alice measured, entanglement between Bob and Charie remains.  \n",
    "\n",
    "Finding all maximally entangled states for bigger composite systems is not a trivial task. We will not discuss it here."
   ]
  },
  {
   "cell_type": "markdown",
   "id": "f1f0384c-9a63-4371-94bd-167236f107bb",
   "metadata": {},
   "source": [
    "**Quiskit example: creation of GHZ state**\n",
    "\n",
    "The GHZ state can be created essentially in the same way as the Bell state $|\\Phi^{+}\\rangle$.  The following circuit creates it using `H` and `CX` gates."
   ]
  },
  {
   "cell_type": "code",
   "execution_count": 14,
   "id": "7df0e672-a918-4964-ace3-5ad0084ed862",
   "metadata": {},
   "outputs": [
    {
     "data": {
      "text/html": [
       "<pre style=\"word-wrap: normal;white-space: pre;background: #fff0;line-height: 1.1;font-family: &quot;Courier New&quot;,Courier,monospace\">     ┌───┐          \n",
       "q_0: ┤ H ├──■────■──\n",
       "     └───┘┌─┴─┐  │  \n",
       "q_1: ─────┤ X ├──┼──\n",
       "          └───┘┌─┴─┐\n",
       "q_2: ──────────┤ X ├\n",
       "               └───┘</pre>"
      ],
      "text/plain": [
       "     ┌───┐          \n",
       "q_0: ┤ H ├──■────■──\n",
       "     └───┘┌─┴─┐  │  \n",
       "q_1: ─────┤ X ├──┼──\n",
       "          └───┘┌─┴─┐\n",
       "q_2: ──────────┤ X ├\n",
       "               └───┘"
      ]
     },
     "execution_count": 14,
     "metadata": {},
     "output_type": "execute_result"
    }
   ],
   "source": [
    "from qiskit import *\n",
    "\n",
    "qr=QuantumRegister(3,'q')\n",
    "qc=QuantumCircuit(qr)\n",
    "\n",
    "qc.h(0)\n",
    "qc.cx(0,1)\n",
    "qc.cx(0,2)\n",
    "\n",
    "qc.draw()"
   ]
  },
  {
   "cell_type": "code",
   "execution_count": 15,
   "id": "547369dc-fb49-4424-9904-fc1ee53aa693",
   "metadata": {},
   "outputs": [
    {
     "data": {
      "text/latex": [
       "$$\\frac{\\sqrt{2}}{2} |000\\rangle+\\frac{\\sqrt{2}}{2} |111\\rangle$$"
      ],
      "text/plain": [
       "<IPython.core.display.Latex object>"
      ]
     },
     "execution_count": 15,
     "metadata": {},
     "output_type": "execute_result"
    }
   ],
   "source": [
    "from qiskit.quantum_info import Statevector\n",
    "\n",
    "psi=Statevector(qc)\n",
    "psi.draw('latex')"
   ]
  },
  {
   "cell_type": "code",
   "execution_count": 16,
   "id": "ce56e886-d923-44c5-addf-e93f735f7de5",
   "metadata": {},
   "outputs": [
    {
     "data": {
      "image/png": "[encoded data removed]",
      "text/plain": [
       "<Figure size 288x288 with 2 Axes>"
      ]
     },
     "execution_count": 16,
     "metadata": {},
     "output_type": "execute_result"
    }
   ],
   "source": [
    "from qiskit.visualization import plot_state_qsphere\n",
    "# it's an entangled state.  Use qsphere.\n",
    "plot_state_qsphere(psi,figsize=(4,4))"
   ]
  },
  {
   "cell_type": "markdown",
   "id": "be019f89-05e3-4744-9b44-d702c65f77c7",
   "metadata": {},
   "source": [
    "Generating W state is a little bit more complicated. The following circuit\n",
    "creates the W state."
   ]
  },
  {
   "cell_type": "code",
   "execution_count": 21,
   "id": "7af672f4-c839-4202-8cbe-56946d09ea8f",
   "metadata": {},
   "outputs": [
    {
     "data": {
      "text/html": [
       "<pre style=\"word-wrap: normal;white-space: pre;background: #fff0;line-height: 1.1;font-family: &quot;Courier New&quot;,Courier,monospace\">     ┌────────────┐               ┌───┐\n",
       "q_0: ┤ Ry(1.9106) ├──■─────────■──┤ X ├\n",
       "     └────────────┘┌─┴─┐     ┌─┴─┐└───┘\n",
       "q_1: ──────────────┤ H ├──■──┤ X ├─────\n",
       "                   └───┘┌─┴─┐└───┘     \n",
       "q_2: ───────────────────┤ X ├──────────\n",
       "                        └───┘          </pre>"
      ],
      "text/plain": [
       "     ┌────────────┐               ┌───┐\n",
       "q_0: ┤ Ry(1.9106) ├──■─────────■──┤ X ├\n",
       "     └────────────┘┌─┴─┐     ┌─┴─┐└───┘\n",
       "q_1: ──────────────┤ H ├──■──┤ X ├─────\n",
       "                   └───┘┌─┴─┐└───┘     \n",
       "q_2: ───────────────────┤ X ├──────────\n",
       "                        └───┘          "
      ]
     },
     "execution_count": 21,
     "metadata": {},
     "output_type": "execute_result"
    }
   ],
   "source": [
    "from qiskit import *\n",
    "import numpy  as np\n",
    "\n",
    "qr=QuantumRegister(3,'q')\n",
    "qc=QuantumCircuit(qr)\n",
    "\n",
    "theta = 2*np.arccos(1./np.sqrt(3))\n",
    "\n",
    "qc.ry(theta,0)\n",
    "qc.ch(0,1)\n",
    "qc.cx(1,2)\n",
    "qc.cx(0,1)\n",
    "qc.x(0)\n",
    "\n",
    "qc.draw()\n"
   ]
  },
  {
   "cell_type": "code",
   "execution_count": 22,
   "id": "37a4fbbb-1939-4f81-8073-a9cf0906611a",
   "metadata": {},
   "outputs": [
    {
     "data": {
      "text/latex": [
       "$$\\frac{\\sqrt{3}}{3} |001\\rangle+\\frac{\\sqrt{3}}{3} |010\\rangle+\\frac{\\sqrt{3}}{3} |100\\rangle$$"
      ],
      "text/plain": [
       "<IPython.core.display.Latex object>"
      ]
     },
     "execution_count": 22,
     "metadata": {},
     "output_type": "execute_result"
    }
   ],
   "source": [
    "from qiskit.quantum_info import Statevector\n",
    "\n",
    "psi=Statevector(qc)\n",
    "psi.draw('latex')"
   ]
  },
  {
   "cell_type": "code",
   "execution_count": 19,
   "id": "4b24e157-03a3-49a5-9d0f-c6f09212408c",
   "metadata": {},
   "outputs": [
    {
     "data": {
      "image/png": "[encoded data removed]",
      "text/plain": [
       "<Figure size 288x288 with 2 Axes>"
      ]
     },
     "execution_count": 19,
     "metadata": {},
     "output_type": "execute_result"
    }
   ],
   "source": [
    "plot_state_qsphere(psi,figsize=(4,4))"
   ]
  },
  {
   "cell_type": "code",
   "execution_count": null,
   "id": "a4378665-4b45-43da-b718-710ec3fb1159",
   "metadata": {},
   "outputs": [],
   "source": []
  }
 ],
 "metadata": {
  "kernelspec": {
   "display_name": "Python 3 (ipykernel)",
   "language": "python",
   "name": "python3"
  },
  "language_info": {
   "codemirror_mode": {
    "name": "ipython",
    "version": 3
   },
   "file_extension": ".py",
   "mimetype": "text/x-python",
   "name": "python",
   "nbconvert_exporter": "python",
   "pygments_lexer": "ipython3",
   "version": "3.9.12"
  }
 },
 "nbformat": 4,
 "nbformat_minor": 5
}
