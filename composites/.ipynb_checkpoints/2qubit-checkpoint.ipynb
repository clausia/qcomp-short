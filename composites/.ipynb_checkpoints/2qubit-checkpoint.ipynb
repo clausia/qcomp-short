{
 "cells": [
  {
   "cell_type": "markdown",
   "id": "ce31c7e9-c7e8-4335-877a-a631f4d04756",
   "metadata": {},
   "source": [
    "(sec-2qubits)=\n",
    "# Two qubits\n"
   ]
  },
  {
   "cell_type": "markdown",
   "id": "bb02f5e4-cf05-4e30-9259-54fd6c1d7799",
   "metadata": {},
   "source": [
    "## Hilbert space and computational basis\n",
    "\n",
    "First, let us recall that a single qubit is in a two-dimensional Hilbert space $\\mathbb{C}^2$ and the computational basis vectors $0\\ramgle$ and $|1\\rangle$ span the space. Now we consider two qubits $q_0$ and $q_1$. The composite system lives in a four-dimensional Hilbert space.  The dimension $4$ is not $2+2$ but $2 \\times 2$.  We write it $\\mathbb{C}^2 \\otimes \\mathbb{C}^2$ where $\\otimes$ indicates *tensor product*.  This mathematical structure is very important. Using the computational basis of each $\\mathbb{C}^2$, we can construct four *computational basis* vectors for the composite system as products $|q_1\\rangle \\otimes |q_0\\rangle$:\n",
    "\n",
    "$$\n",
    "|00\\rangle \\equiv |0\\rangle \\otimes |0\\rangle, \\quad |01\\rangle \\equiv |0\\rangle \\otimes |1\\rangle, \\quad |10\\rangle \\equiv |1\\rangle \\otimes |0\\rangle, \\quad |11\\rangle \\equiv |0\\rangle \\otimes |0\\rangle.\n",
    "$$\n",
    "\n",
    "The physical meaning of each basis vector is clear. For example, $|01\\rangle$ means $q_0$ is in $\\rangle$ and $q_1$ in $|0\\rangle$.\n",
    "\n",
    "Other basis sets are also used.  The $xx$ basis uses $|\\pm\\rangle$ for both qubits\n",
    "\n",
    "$$\n",
    "|++\\rangle \\equiv |+\\rangle \\otimes |+\\rangle, \\quad |+-\\rangle \\equiv |+\\rangle \\otimes |-\\rangle, \\quad |-+\\rangle \\equiv |-\\rangle \\otimes |+\\rangle, \\quad |--\\rangle \\equiv |-\\rangle \\otimes |-\\rangle\n",
    "$$\n",
    "\n",
    "The mixed basis in which $q_0$ and $q_1$ use different basis kets is also allowed.\n",
    "\n",
    "$$\n",
    "|0+\\rangle \\equiv |0\\rangle \\otimes |+\\rangle, \\quad |0-\\rangle \\equiv |0\\rangle \\otimes |-\\rangle, \\quad |1+\\rangle \\equiv |1\\rangle \\otimes |+\\rangle, \\quad |1-\\rangle \\equiv |1\\rangle \\otimes |-\\rangle\n",
    "$$\n"
   ]
  },
  {
   "cell_type": "markdown",
   "id": "df96eebb-5099-49aa-91d5-2d6444497715",
   "metadata": {},
   "source": [
    "**Exercise** {numref}`%s <sec-2qubits>`.1    Show that the above basis sets are all orthonormal."
   ]
  },
  {
   "cell_type": "markdown",
   "id": "69cfd1da-060d-4b5a-b774-f816653f1656",
   "metadata": {},
   "source": [
    "## Superposition states\n",
    "\n",
    "The state of two-qubit system is expressed as \n",
    "\n",
    "$$\n",
    "c_{00} |00\\rangle + c_{01} |01\\rangle + c_{10} |10\\rangle + c_{11} |11\\rangle.\n",
    "$$\n",
    "\n",
    "What does this state means to us?  To see that, we assume that Alice has qubit $q_0$ and Bob has $q_1$.  They are separated by a large distance.  Even if they are far apart, the above state is still valid. Alice can measure her qubit but not Bob's qubit.  Similarly, Bob can measure his qubit but not Alice's.  Now Alice measures her qubit $q_0$ before Bob measures $q_1$.  Suppose that the outcome is $|0\\rangle$.  The state now collapses to \n",
    "\n",
    "$$\n",
    "\\frac{1}{N} (c_{00} |00\\rangle + c_{10} |10\\rangle) = \\left(c_0 |0\\rangle + c_1|1\\rangle\\right) \\otimes |0\\rangle\n",
    "$$\n",
    "\n",
    "where $N = \\sqrt{|c_{00}|^2 + |c_{01}|^2}$, $c_0=c_{00}/N$, and $c_1=c_{10}/N$.  After the measurement, $q_0$ is now in the definite state $0\\rangle$ but $q_1$ is in a superposition state.\n",
    "Then, Bob measures his qubit and found it in $|1\\rangle$.  Then, the state further collapse to $|10\\rangle$.\n",
    "\n",
    "The outcome is completely random and there is no way to predict it.  You can calculate the probability to find each state based on the Born rule.  The probability that Alice obtain $|0\\rangle$ is $p_A(0) = |c_{00}|^2 + |c_{01}|^2$ and the probability that Bob gets $|1\\rangle$ after Alice get $|0\\rangle$ is $p_B(1|0)=|c_1|^2$, which is the conditional probability after Alice gets $|0\\rangle$. The net probability to find $|10\\rangle$ is \n",
    "\n",
    "$$\n",
    "p_A(0) p_B(1|0) = \\left(|c_{00}|^2 + |c_{01}|^2)\\right) |c_1|^2 = |c_{10}|^2\n",
    "$$\n"
   ]
  },
  {
   "cell_type": "markdown",
   "id": "0518d00a-b3af-4beb-b2ea-990c2b2ea27f",
   "metadata": {},
   "source": [
    "**Exercise**  {numref}`%s <sec-2qubits>`.1 Suppose that Alice measured her qubit before Bob did and got $|1\\rangle$.  Bob measured his qubit after Alice and obtained $|1\\rangle$.  What is the state after their measurement and what is the probability to get it?"
   ]
  },
  {
   "cell_type": "markdown",
   "id": "3ee4eaaf-3dd2-46d8-a4a6-99412f6e7140",
   "metadata": {},
   "source": [
    "Suppose that Bob measured before Alice and got $|1\\rangle$.  The probability that happens is $p_B(1)=|c_{10}|^2 + |c_{11}|^2$, which is different from the previous case despite that Bob gets the same outcome.   This is weird but let us move on.  After Bob's measurement the state collapse to\n",
    "\n",
    "$$\n",
    "\\frac{1}{N} (c_{10} |10\\rangle + c_{11} |11\\rangle) = |1\\rangle \\otimes \\left(c_0 |0\\rangle + c_1|1\\rangle\\right)\n",
    "$$\n",
    "\n",
    "where $N = \\sqrt{|c_{10}|^2 + |c_{11}|^2}$, $c_0=c_{10}/N$, and $c_1=c_{11}/N$.\n",
    "Next, Alice measured her qubit and obtained $0\\rangle$ with the probability $p_A(0|1)=|c_0|^2$.  The final state is $|10\\rangle$.  The net probability is\n",
    "\n",
    "$$\n",
    "p_B(1) p_A(0|1) = \\left(|c_{10}|^2 + |c_{11}|^2)\\right) |c_1|^2 = |c_{10}|^2\n",
    "$$\n",
    "\n",
    "in agreement with the previous case.  This agreement is guaranteed by the Bayes theorem $p_A(x)p_B(y|x) = p_B(y) p_A(x|y)$.\n",
    "\n",
    "While the net probability does not depend on the order of the measurements, the probabilities of individual observers experience depend on it. Despite that Alice and Bob are separated by a far distance, the act of Alice on her qubit changed the state of Bob's qubit instantaneously.  This conclusion is quite counter intuitive and needs to be examined more carefully."
   ]
  },
  {
   "cell_type": "code",
   "execution_count": null,
   "id": "53d4e0a4-6e78-4e0a-9aa4-3cefafe620ef",
   "metadata": {},
   "outputs": [],
   "source": [
    "\n",
    "\n",
    "\n"
   ]
  }
 ],
 "metadata": {
  "kernelspec": {
   "display_name": "Python 3 (ipykernel)",
   "language": "python",
   "name": "python3"
  },
  "language_info": {
   "codemirror_mode": {
    "name": "ipython",
    "version": 3
   },
   "file_extension": ".py",
   "mimetype": "text/x-python",
   "name": "python",
   "nbconvert_exporter": "python",
   "pygments_lexer": "ipython3",
   "version": "3.9.12"
  }
 },
 "nbformat": 4,
 "nbformat_minor": 5
}
