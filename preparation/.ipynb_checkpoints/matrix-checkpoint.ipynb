{
 "cells": [
  {
   "cell_type": "markdown",
   "id": "7d6bf8d7-4ca9-48c5-94bf-eb1322bd80c0",
   "metadata": {},
   "source": [
    "# Matrices in Python"
   ]
  },
  {
   "cell_type": "markdown",
   "id": "89fe0989-5547-48a5-81f2-abbcc87eaffc",
   "metadata": {},
   "source": [
    "Theory of quantum mechanics is based on linear algebra and mathematical objects such as vectors and operators are all expressed in abstract forms.  However, when we compute them in computers, classical or quantum, they must be expressed in a form the computers can understand.  We "
   ]
  },
  {
   "cell_type": "markdown",
   "id": "253cf70f-76b2-4cfb-ad6d-ec2ec3b1dfd4",
   "metadata": {},
   "source": [
    "Qiskit consists of a  hierarchy of modules and classes.  At the bottom of the  hierarchy, Qisket uses native functionalities of python and common classes. It is not necessary to learn the details of the bottom  level since they are mostly encapsulated in higher level classes and you don't have to deal with the low level classes directly.  Nevertheless, it is convenient if you become familiar with them.\n",
    "\n",
    "Consider an arbitrary state $|\\psi\\rangle$ in 4-dimensional vector space.  How can we express it numerically?  We first introduce a basis set.  In Qiskit, so-called _computational basis_  {$|00\\rangle$,  $|01\\rangle$, $|10\\rangle$, $|11\\rangle$} is assumed unless otherwise is mentioned.  Expanding the state in the basis vectors, we have\n",
    "\n",
    "$$\n",
    "|\\psi\\rangle =c_{00}|00\\rangle+c_{01}|01\\rangle+c_{10}|10\\rangle+c_{11}|11\\rangle\n",
    "$$(q2-expansion)\n",
    "\n",
    "Then, we want to store the coefficients $c_{ij}$ in a computer as a dataset.  Whenever needed, we must be able to find the values from the dataset quickly.  This dataset is a kind of map: \n",
    "\n",
    "$$\n",
    "|00\\rangle\\, \\rightarrow\\, c_{00}, \\qquad |01\\rangle\\, \\rightarrow\\,  c_{01}, \\qquad |10\\rangle\\, \\rightarrow\\,  c_{10}, \\qquad |11\\rangle\\, \\rightarrow\\,  c_{11}\n",
    "$$(q2-map)\n",
    "\n",
    "Consider the indexes as binary number. They are map to the ordered integer as '00' $\\rightarrow$ 0, '01' $\\rightarrow$ 1, '10' $\\rightarrow$ 2, and '11' $\\rightarrow$ 3.  Then, {eq}`q2-map` becomes map from the ordered index {0, 1, 2, 3} to $(c_{00}, c_{01}, c_{10}, c_{11})$.  This is just a one-dimensional matrix!\n",
    "The most primitive expression of state vectors is just a one-dimensional matrix\n",
    "\n",
    "$$\n",
    "|\\psi\\rangle\\, \\rightarrow\\, \\begin{pmatrix} c_{00}, c_{01}, c_{10}, c_{11}\\end{pmatrix}.\n",
    "$$\n",
    "\n",
    "In python, there are several ways to express matrices.  However, Qiskit exclusively uses `numpy.ndarray` class. \n",
    "You can extract the value of a coefficient from the matrix using the corresponding index.\n",
    "\n",
    "A disadvantage of simple matrix expression is that everyone must agree on the order of the basis vectors.\n",
    "If we don't know what the basis set is used or don't know their order, the matrix expression becomes useless.  In that case, we use `dictionary` type in python.  You can store both basis vectors and their coefficients as `dictionary` object.  For example, {'00':$c_{00}$, '01':$c_{01}$,'10':$c_{10}$, '11':$c_{11}$}.  If you want to find the  value of $c_{01}$,  use key '01' to get it.  The order of key-value pairs does not matter.  If you forgot what basis you are using, you can find it from the keys.  `dictionary` is a native data type in python and there  are many powerful tools with it.  Qiskit utilizes `dictionary` intensively.\n",
    "\n",
    "There are many useful functions and methods to manipulate `ndarray` and `dictionary` objects.  However, we don't need them  since \n",
    "arrays and dictionaries are encapsulated inside various Qiskit classes. We don't have to deal with raw data in array or dictionary. Instead we use Qiskit functions and methods.  Therefore, in this chapter, we look at very minimum of `ndarray` and `dictionary`  in the context of quantum state vectors."
   ]
  },
  {
   "cell_type": "markdown",
   "id": "86b042f8-a1d7-47dc-bd01-4be787d9336d",
   "metadata": {},
   "source": [
    "## List\n",
    "\n",
    "A collection of data placed in square brackets, for example, $[c_{00}, c_{01}, c_{10}, c_{11}]$ is called `list` in python.\n",
    "This is not a matrix in the mathematical sense since arithmetic operations are not defined for `list` objects.  Nevertheless, Qiskit uses it just for expressing a state vector but not for computation.  Mathematical operations on state vectors must be done with Qiskit modules.  There are many functions that take `list` object as input and generate an appropriate form of state vectors.  We will discuss them in the coming chapters.\n",
    "\n",
    "_Remark:_  Python has a similar data structure called `tuple`. It is also a collection of data objects but it is immortal, meaning that you cannot edit the contents onece you create it.  Therefore, we do not use it for state vector."
   ]
  },
  {
   "cell_type": "markdown",
   "id": "8ed4d600-5d36-4c03-8d43-15db781b20fd",
   "metadata": {
    "tags": []
   },
   "source": [
    "## Matrix as array\n",
    "\n",
    "Python does not have native array or matrix object.  Qiskit uses `ndarray`  (or simply `array`) from `numpy` module.  Here array and matrix are the same thing.  In this book, we invoke numpy as\n",
    "\n",
    "`import numpy as np`\n",
    "\n",
    "We create an `array` object directly from `list` in python. Just put a `list` object into `array` function.  Then, the output is the desired array object.  There are many other ways to create array objects using Qiskit modules, which we will discuss though out this book.\n",
    "\n",
    "The following example generates a matrix $\\begin{bmatrix}\\frac{1}{\\sqrt{2}},\\frac{1}{\\sqrt{2}}\\end{bmatrix}$."
   ]
  },
  {
   "cell_type": "code",
   "execution_count": 1,
   "id": "bfb52f17-74ae-4029-94f3-d3291eb8fdfa",
   "metadata": {},
   "outputs": [
    {
     "name": "stdout",
     "output_type": "stream",
     "text": [
      "type =  <class 'numpy.ndarray'> \n",
      "\n",
      "content =  [0.70710678 0.70710678] \n",
      "\n"
     ]
    }
   ],
   "source": [
    "# load numpy\n",
    "import numpy as np\n",
    "\n",
    "# express convert list to array\n",
    "x=np.array([1/np.sqrt(2),1/np.sqrt(2)])\n",
    "\n",
    "# check the type of variable and its content.\n",
    "print(\"type = \", type(x),\"\\n\")\n",
    "print(\"content = \", x,\"\\n\")"
   ]
  },
  {
   "cell_type": "markdown",
   "id": "442f76d7-b6cf-44f8-a45d-edc926a6b1a8",
   "metadata": {},
   "source": [
    "You can access to a component of array with index (python uses [... ] to specity indeces.)"
   ]
  },
  {
   "cell_type": "code",
   "execution_count": 2,
   "id": "a5b819bc-c1aa-44a9-95ee-283583a21d2f",
   "metadata": {},
   "outputs": [
    {
     "name": "stdout",
     "output_type": "stream",
     "text": [
      "0.7071067811865475\n"
     ]
    }
   ],
   "source": [
    "# find the second element in the array\n",
    "# remember that python index always begins with 0\n",
    "# hence index=1 corresponds to the second element. \n",
    "print(x[1])"
   ]
  },
  {
   "cell_type": "markdown",
   "id": "ad2d6f9a-a7e5-40de-8cd0-7728f6247a40",
   "metadata": {},
   "source": [
    "## Tensor product"
   ]
  },
  {
   "cell_type": "markdown",
   "id": "76b9c535-4bef-46a9-9aaa-43e762c54288",
   "metadata": {},
   "source": [
    "If a state vector $|\\alpha\\rangle$ is in $m$-dimensional vector space and another vector $|\\beta\\rangle$ in $n$-dimensional vector space, the state vector of the combined vector space is given by tensor (Kronecker) product $|\\alpha\\rangle \\otimes |\\beta\\rangle$ whose dimension is $mn$. The tensor product is a very ubiquitous operation in quantum computing.  `kron` function in numpy computes the tensor product. For example, `kron(a,b)` computes $a \\otimes b$ where $a$ and $b$ are `ndarray`.\n",
    "\n",
    "The following example computes $[1,1] \\otimes [1,-1]$.  The output should be $[1,-1,1,-1]$."
   ]
  },
  {
   "cell_type": "code",
   "execution_count": 3,
   "id": "9f9fa8b7-674d-4e19-aa86-6ab523d99c2e",
   "metadata": {},
   "outputs": [
    {
     "name": "stdout",
     "output_type": "stream",
     "text": [
      "[ 1 -1  1 -1]\n"
     ]
    }
   ],
   "source": [
    "# First, we create two state vectors.\n",
    "a = np.array([1,1])\n",
    "b = np.array([1,-1])\n",
    "\n",
    "# [1,1]⊗[1,−1]\n",
    "ab=np.kron(a,b )\n",
    "\n",
    "print(ab)"
   ]
  },
  {
   "cell_type": "markdown",
   "id": "c4e3e4eb-9e5b-438b-a228-5320b0d135ba",
   "metadata": {},
   "source": [
    "## Computational basis\n",
    "\n",
    "The dimension of the smallest vector space is two.  Hence, it is spanned by two vectors, $|0\\rangle$ and $|1\\rangle$. Their matrix representations are\n",
    "\n",
    "$$\n",
    "|0\\rangle \\doteq [1,0], \\qquad |1\\rangle \\doteq [0,1]\n",
    "$$\n",
    "\n",
    "You can construct a basis set of a bigger vector space with dimension $2^n$ by tensor product.  For example, the 8-dimensional vector space has eight basis vectors\n",
    "\n",
    "$$\n",
    "|000\\rangle = |0\\rangle \\otimes |0\\rangle \\otimes |0\\rangle, \\quad |001\\rangle = 0\\rangle \\otimes |0\\rangle \\otimes |1\\rangle, \\quad \\cdots \\quad |111\\rangle = |1\\rangle \\otimes |1\\rangle \\otimes |1\\rangle\n",
    "$$\n",
    "\n",
    "The following example generates the matrix representation of $|010\\rangle$."
   ]
  },
  {
   "cell_type": "code",
   "execution_count": 4,
   "id": "bceb01dd-b4a9-41ff-951e-a4145d14d338",
   "metadata": {},
   "outputs": [
    {
     "name": "stdout",
     "output_type": "stream",
     "text": [
      "[0 0 1 0 0 0 0 0]\n"
     ]
    }
   ],
   "source": [
    "# define the basis vectors for 2d\n",
    "ket0 = [1,0]\n",
    "ket1 = [0,1]\n",
    "\n",
    "# construct a basis vector for 8d\n",
    "ket010 = np.kron(ket0,np.kron(ket1,ket0))\n",
    "print(ket010)"
   ]
  },
  {
   "cell_type": "markdown",
   "id": "8eecdee7-ade6-453e-98bd-a76fdc61077b",
   "metadata": {},
   "source": [
    "_Remarks_: Some modules in Qiskit calculate the tensor product in an easier way. You are encouraged to use Qiskit classes instead of numpy."
   ]
  },
  {
   "cell_type": "markdown",
   "id": "2d75c3bf-3d9a-4ca2-a3fd-c140c560e8e5",
   "metadata": {},
   "source": [
    "## Matrix as dictionary\n",
    "\n",
    "In the above example, only one out of eight components have non-vanishing value.   However, even such a simple state, it is not simple to find out which basis vector the matrix represnting.  In addition, we are wasting memory by having so many zeros.  It is much easier to express the state vector in phython's dictionary.  The dictionary is a set of key-value pairs placed in curly brackets, {key1:val1, key2:val2, ... }. The keys can be any data type including `string`.  Unlike matrix representation, it is not necessary to keep a key whose value is zero.  Hence, we don't see unnecessary zeros.\n",
    "\n",
    "To find out a coefficient, just ask the value associate with the key. Search a key in dictionary is very fast because python implements them using hash tables. If you ask to look for non-existing key, you will get an error message.\n",
    "\n",
    "_Remark:_ The data in `Dictionary` is ordered.  When a new key is added, it is placed at the end.  (Dictionary was unordered in python 3.6 and earlier.)\n",
    "\n",
    "In the following example, we consider 16-dimensional vector space.  There are 16 computational basis vectors with four indexes. We create a state vector $\\left(|0011\\rangle + |0101\\rangle \\right)/\\sqrt{2}$ in dictionary format.  Only two keys '0011' and '0101' have non-zero value, $\\frac{1}{\\sqrt{2}}$ and all other elements are zero.  Hence, we store only two elements in the dictionary. There are two ways to construct the dictionary, making the whole dictionary in one step and adding keys one by one.  We show the both."
   ]
  },
  {
   "cell_type": "code",
   "execution_count": 5,
   "id": "eb64f398-c770-4303-b1c5-197707a9ab26",
   "metadata": {},
   "outputs": [
    {
     "name": "stdout",
     "output_type": "stream",
     "text": [
      "type =  <class 'dict'>\n",
      "number of keys = 2\n",
      "conent =  {'0011': 0.7071067811865475, '0101': 0.7071067811865475} \n",
      "\n"
     ]
    }
   ],
   "source": [
    "# store (|0011>+|0101>)/sqrt(2) in dictionary\n",
    "\n",
    "# direct method\n",
    "psi={'0011':1/np.sqrt(2), '0101':1/np.sqrt(2)}\n",
    "# check the type of variable and its content.\n",
    "print(\"type = \",type(psi))\n",
    "print(\"number of keys =\", len(psi))\n",
    "print(\"conent = \", psi,\"\\n\")"
   ]
  },
  {
   "cell_type": "markdown",
   "id": "adbe23b4-f3f2-4dba-88c3-ef947cdd5156",
   "metadata": {},
   "source": [
    "You can construct a dictionary key by key."
   ]
  },
  {
   "cell_type": "code",
   "execution_count": 6,
   "id": "3e3fb705-0d26-4e1f-a87c-9bc9ea9c9399",
   "metadata": {},
   "outputs": [
    {
     "name": "stdout",
     "output_type": "stream",
     "text": [
      "type =  <class 'dict'>\n",
      "number of keys = 2\n",
      "conent =  {'0011': 0.7071067811865475, '0101': 0.7071067811865475} \n",
      "\n"
     ]
    }
   ],
   "source": [
    "# create empty dictionary\n",
    "psi = dict()\n",
    "# add key one by one\n",
    "psi['0011'] = 1/np.sqrt(2)\n",
    "psi['0101'] = 1/np.sqrt(2)\n",
    "# check the type of variable and its content.\n",
    "print(\"type = \",type(psi))\n",
    "print(\"number of keys =\", len(psi))\n",
    "print(\"conent = \", psi,\"\\n\")"
   ]
  },
  {
   "cell_type": "code",
   "execution_count": 7,
   "id": "edec74ad-c07c-4896-8258-e0f301d736ee",
   "metadata": {},
   "outputs": [
    {
     "name": "stdout",
     "output_type": "stream",
     "text": [
      "0.7071067811865475\n"
     ]
    }
   ],
   "source": [
    "# find a coefficient to |11>\n",
    "print(psi['0101'])"
   ]
  },
  {
   "cell_type": "markdown",
   "id": "18cbe181-c62b-44f7-b15f-b1ddbe95e484",
   "metadata": {},
   "source": [
    "You can enter a key with zero value.  Dictionary will keep it as shown below."
   ]
  },
  {
   "cell_type": "code",
   "execution_count": 8,
   "id": "326e3312-1934-44d5-aeb8-71756799834b",
   "metadata": {},
   "outputs": [
    {
     "name": "stdout",
     "output_type": "stream",
     "text": [
      "number of keys = 3\n",
      "conent =  {'0011': 0.7071067811865475, '0101': 0.7071067811865475, '1111': 0} \n",
      "\n"
     ]
    }
   ],
   "source": [
    "# adding a key with zero value\n",
    "psi['1111']=0\n",
    "print(\"number of keys =\", len(psi))\n",
    "print(\"conent = \", psi,\"\\n\")"
   ]
  },
  {
   "cell_type": "markdown",
   "id": "020ca48c-a449-4f7f-87b1-5ec4cdb4d171",
   "metadata": {},
   "source": []
  },
  {
   "cell_type": "code",
   "execution_count": 9,
   "id": "5a819050-bd60-4437-826b-767d2ae786a2",
   "metadata": {},
   "outputs": [
    {
     "name": "stdout",
     "output_type": "stream",
     "text": [
      "number of keys = 4\n",
      "conent =  {'0011': 0.7071067811865475, '0101': 0.7071067811865475, '1111': 0, '0000': 0} \n",
      "\n"
     ]
    }
   ],
   "source": [
    "# adding another key which will be placed at the end in the dictionary\n",
    "# note that '0000' is the lsat one (recall that '0000' is the first element in the matrix.)\n",
    "psi['0000']=0\n",
    "print(\"number of keys =\", len(psi))\n",
    "print(\"conent = \", psi,\"\\n\")"
   ]
  },
  {
   "cell_type": "markdown",
   "id": "9e9959cf-c03e-4739-9577-39a7ab430bdf",
   "metadata": {},
   "source": [
    ":::{admonition}  Summary\n",
    ":class: seealso\n",
    "\n",
    "The following objects and methods are useed to construct state vectors in a numerical form.\n",
    "\n",
    "* `list` - native python data structure:  [Python references: list](https://www.w3schools.com/python/python_lists.asp)\n",
    "* `dictionary` - native python data structure: [Python references: dictionary](https://www.w3schools.com/python/python_dictionaries.asp)\n",
    "* `array` - a class in `Numpy` module:  [Numpy references: ndarray](https://numpy.org/doc/stable/reference/arrays.ndarray.html)  \n",
    "* `kron` - a function in `Numpy` module: \n",
    "[Numpy references: kron](https://numpy.org/doc/stable/reference/generated/numpy.kron.html)\n",
    "\n",
    ":::"
   ]
  },
  {
   "cell_type": "markdown",
   "id": "0fcc4957-8354-43b4-a520-e18437844f3a",
   "metadata": {},
   "source": [
    ":::{admonition}  Suggested readings\n",
    ":class: seealso\n",
    "\n",
    "\n",
    "* T. E. Oliphant: _Guide to Numpy_ (Continuum Press, 2015)\n",
    "* A. B. Downey: _Think Python_ 2nd ed. (O'REILLY, 2016)\n",
    "                                        \n",
    ":::"
   ]
  }
 ],
 "metadata": {
  "kernelspec": {
   "display_name": "Python 3 (ipykernel)",
   "language": "python",
   "name": "python3"
  },
  "language_info": {
   "codemirror_mode": {
    "name": "ipython",
    "version": 3
   },
   "file_extension": ".py",
   "mimetype": "text/x-python",
   "name": "python",
   "nbconvert_exporter": "python",
   "pygments_lexer": "ipython3",
   "version": "3.9.12"
  }
 },
 "nbformat": 4,
 "nbformat_minor": 5
}
