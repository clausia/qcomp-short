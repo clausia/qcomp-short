{
 "cells": [
  {
   "cell_type": "markdown",
   "id": "4ae1f164-69bd-4a4c-84df-3e358ca4effa",
   "metadata": {},
   "source": [
    "(sec-qiskit)=\n",
    "# Qiskit\n"
   ]
  },
  {
   "cell_type": "markdown",
   "id": "d0209622-44f9-4eb8-b405-0253304bac53",
   "metadata": {},
   "source": [
    "Qiskit is an open-source software development kit (SDK) for quantum computation. It provides a large set of tools for creating and manipulating quantum programs, running them on simulators on a local computer, or running them on real quantum devices on IBM Quantum Experience.  You can find useful information about Qiskit including tutorials and API documentation at [qiskit.org](https://qiskit.org)."
   ]
  },
  {
   "cell_type": "markdown",
   "id": "fe98a13f-b092-4072-b15d-32eb5d00eff2",
   "metadata": {},
   "source": [
    "## Installation\n",
    "\n",
    "It is a set of python modules but not included in Anaconda.  We need to install them manually.\n",
    "\n",
    "```\n",
    "pip install qiskit\n",
    "pip install qiskit[visualization]\n",
    "```\n",
    "\n",
    "Since conda does not manage these packages, you must update the package when a new version becomes available.  To check the current version, run the following command in the anaconda terminal window.\n",
    "\n",
    "On MS Windows, use Anaconda Powershell Prompt.\n",
    "```\n",
    "pip list | select-string \"qiskit\"\n",
    "\n",
    "qiskit                            0.36.2\n",
    "qiskit-aer                        0.10.4\n",
    "qiskit-ibmq-provider              0.19.1\n",
    "qiskit-ignis                      0.7.1\n",
    "qiskit-terra                      0.20.2\n",
    "```\n",
    "\n",
    "On Linux\n",
    "```\n",
    "pip list | grep qiskit\n",
    "\n",
    "qiskit                            0.36.2\n",
    "qiskit-aer                        0.10.4\n",
    "qiskit-ibmq-provider              0.19.1\n",
    "qiskit-ignis                      0.7.1\n",
    "qiskit-terra                      0.20.2\n",
    "```\n",
    "\n",
    "To check updates, the following command shows available new versions.\n",
    "\n",
    "```\n",
    "# On MS Windows\n",
    "pip list --outdated | select-string \"qiskit\"\n",
    "\n",
    "#\n",
    "pip list --outdated | grep qiskit\n",
    "```\n",
    "\n"
   ]
  },
  {
   "cell_type": "markdown",
   "id": "7f5227b8-46a9-4dd6-b7d5-957710f6b776",
   "metadata": {},
   "source": [
    "## IBM Quantum Experience\n",
    "\n",
    "In order to take the full advantage of qiskit, you must first create your IBM Quantum Experience account.  With IBMid, you can run qiskit codes on real IBM quantum computers as well as on realistic simulations on your computer.  Go to \n",
    "[quantum-computing.ibm.com](https://quantum-computing.ibm.com/) and set up an account.\n",
    "Log in to your account.  You are in IBM Quantum Dashboard where you find many useful stuffs which we discuss in later chapters. \n"
   ]
  },
  {
   "cell_type": "markdown",
   "id": "2f8c0a15-acaf-4000-af45-d8fee5aab367",
   "metadata": {},
   "source": [
    "## API key\n",
    "\n",
    "Next, you need to obtain an API key and save it in a local computer.\n",
    "\n",
    "1. Log in to IBM Quantum Experience at [quantum-computing.ibm.com](https://quantum-computing.ibm.com/)\n",
    "2. Click the user icon at the upper-right corner.\n",
    "3. Click \"Account setting\".\n",
    "4. Click \"Generate new token\"\n",
    "5. Click copy icon at the right end of the token box.  Your token is copied to the clipboard.\n",
    "6. Open a text editor and paste the token.  Save it it to a temporary file so that you can copy the token at a later time if needed. Delete the file after the key is properly installed.\n",
    "7. Open an Anaconda terminal window.\n",
    "8. Start python and execute the following command at the python prompt:\n",
    "\n",
    "```\n",
    ">>> from qiskit import IBMQ\n",
    ">>> IBMQ.save_account('past your token here')\n",
    "```\n",
    "The token must be inside the single quotes.  Now, we verify if the token works.\n",
    "\n",
    "```\n",
    ">>> IBMQ.load_account()\n",
    "```\n",
    "You should get the following response:\n",
    "```\n",
    "<AccountProvider for IBMQ(hub='ibm-q', group='open', project='main')>\n",
    "```\n",
    "If it worked, delete the temporary file created at step 6.  Otherwise, something went wrong. Try step 8 again.  Make it sure that the whole key is pasted.\n",
    "\n",
    "If you work on multiple computers, you have to install the same API on each machine."
   ]
  },
  {
   "cell_type": "markdown",
   "id": "83fbb1fc-2c4d-490d-8c08-b9dde51a83ce",
   "metadata": {},
   "source": [
    "## Using Qiskit\n",
    "\n",
    "Since Qiskit is a collection of python modules, we must import it to your code before using it.  The package is so large that importing the entire package is not a good idea. In this book, we use only a small portion of it.  As you move on, this book introduces some basic modules absolutely necessary for quantum computing and explains how to use them step by step."
   ]
  },
  {
   "cell_type": "markdown",
   "id": "ca6efafb-373b-4bfb-a3ad-86efe2983a13",
   "metadata": {},
   "source": [
    "## Suggested Reading\n",
    "\n",
    "As mentioned above, there are various online resources at [qiskit.org](https://qiskit.org) and [quantum-computing.ibm.com](https://quantum-computing.ibm.com/). In particular, the following online textbook is recommended.\n",
    "\n",
    "* [Learn Quantum Computation using Qiskit](https://qiskit.org/textbook/)\n",
    "\n",
    "In addition, the following paperback book is recommended.\n",
    "\n",
    "* H. Norl&eacute;n: [*Quantum Computing in Practice with Qiskit and IBM Quantum Experience*](https://www.packtpub.com/product/quantum-computing-in-practice-with-qiskit-and-ibm-quantum-experience/9781838828448) (Packt, 2020).\n",
    "Source codes can be obtained at [github](https://github.com/PacktPublishing/Quantum-Computing-in-Practice-with-Qiskit-and-IBM-Quantum-Experience). "
   ]
  },
  {
   "cell_type": "code",
   "execution_count": null,
   "id": "7782e9a6-ad8e-4154-82bc-df28e376f0f5",
   "metadata": {},
   "outputs": [],
   "source": []
  }
 ],
 "metadata": {
  "kernelspec": {
   "display_name": "Python 3 (ipykernel)",
   "language": "python",
   "name": "python3"
  },
  "language_info": {
   "codemirror_mode": {
    "name": "ipython",
    "version": 3
   },
   "file_extension": ".py",
   "mimetype": "text/x-python",
   "name": "python",
   "nbconvert_exporter": "python",
   "pygments_lexer": "ipython3",
   "version": "3.9.12"
  }
 },
 "nbformat": 4,
 "nbformat_minor": 5
}
