{
 "cells": [
  {
   "cell_type": "markdown",
   "id": "a5397cf5-cde4-4e8d-842b-dace4f372693",
   "metadata": {},
   "source": [
    "(sec-matrices-in-python)=\n",
    "# Matrices in Python"
   ]
  },
  {
   "cell_type": "markdown",
   "id": "c403f694-a40d-4b58-bd78-02eeaa4c04bf",
   "metadata": {},
   "source": [
    "The theory of quantum mechanics is based on linear algebra and mathematical objects such as vectors and operators are all expressed in abstract forms.  However, when we compute them in computers, classical or quantum, they must be expressed in a form the computers can understand. The use of *matrix recpresentation*  is the common approach. Most computer languages can natively handle matrices.  However, the python platform is not able to manage matrices.  There are many python libraries that can deal with matrices.  In this book, we use `numpy` libraries.  There is also a way to deal with matrix within the python platform using its native data type `dict`.  In this chapter, I introduce how to express matrices python, namely\n",
    "\n",
    "1. List (python platform)\n",
    "2. ndarray class (numpy library)\n",
    "3. dict (python platform)\n",
    "\n",
    "I also introduce some useful python functions related to matrices.\n",
    "\n",
    "In the following matrix representation of a $n$-dimensional vector is written as\n",
    "\n",
    "$$\n",
    "|v\\rangle \\doteq \\begin{pmatrix} v_0 & v_1 & \\cdots & v_{n-1} \\end{pmatrix}\n",
    "$$\n",
    "\n",
    "and a $n\\times n$ matrix as\n",
    "\n",
    "$$\n",
    "M = \\begin{pmatrix}m_{0,0} & m_{0,1} & \\cdots & m_{0,n-1} \\\\\n",
    "m_{1,2} & m_{1,1} & \\cdots & m_{1,n-1} \\\\\n",
    "\\vdots & \\ddots & \\ddots & \\vdots \\\\\n",
    "m_{n-1,0} & m_{n-1,1} & \\cdots & m_{n-1,n-1} \n",
    "\\end{pmatrix} .\n",
    "$$"
   ]
  },
  {
   "cell_type": "markdown",
   "id": "fefe637b-b3af-4753-8ff9-c6425510d3e1",
   "metadata": {},
   "source": [
    "## Lists\n",
    "\n",
    "A collection of data placed in square brackets, for example, $[v_0, v_1, v_2, v_3]$ is called `list` in python.\n",
    "This is not a matrix in the mathematical sense since arithmetic operations are not defined for `list` objects.  Nevertheless, Qiskit uses it just for expressing a state vector but not for computation.  Mathematical operations on state vectors must be done with Qiskit modules.  There are many functions that take `list` object as input and generate an appropriate form of state vectors.  We will discuss them in the coming chapters.\n",
    "\n",
    "_Remark:_  Python has a similar data structure called `tuple`. It is also a collection of data objects but it is immortal, meaning that you cannot edit the contents after it is created.  Therefore, we do not use it."
   ]
  },
  {
   "cell_type": "markdown",
   "id": "e41e39a0-541e-4c02-bfc7-f8e00b422970",
   "metadata": {
    "tags": []
   },
   "source": [
    "## Vectors as array\n",
    "\n",
    "Python does not have native array or matrix object.  Qiskit uses `ndarray`  (or simply `array`) from `numpy` library.  Here array and matrix are the same thing.  In this book, we invoke numpy as\n",
    "\n",
    "`import numpy as np`\n",
    "\n",
    "We create an `array` object directly from `list` in python. Just put a `list` object into `array` function.  Then, the output is the desired array object.  For example, list\n",
    "\n",
    "> x = [3,1,2]\n",
    "\n",
    "cannot be used as vector since mathematica addition is not defined for it.  However,\n",
    "\n",
    "> y = np.array([3,2,1])\n",
    "\n",
    "is `ndarray` class object and mathematically it can be considered as vector.\n",
    "\n",
    "The print out of `list` and `ndarray` appear the same.  Do not get confused.\n",
    "\n"
   ]
  },
  {
   "cell_type": "markdown",
   "id": "1f041f21-c7a0-4792-b90c-53c471360adb",
   "metadata": {},
   "source": [
    "\n",
    "---\n",
    "**Example**  {numref}`%s <sec-matrices-in-python>`.1&nbsp; Let us create vector $\\left(\\cos(\\pi/4),\\sin(\\pi/4) \\right)$.\n",
    "\n"
   ]
  },
  {
   "cell_type": "code",
   "execution_count": 11,
   "id": "51c5e95e-1a90-4a2f-b5b2-b0b304c75c28",
   "metadata": {
    "tags": [
     "hide-output"
    ]
   },
   "outputs": [
    {
     "name": "stdout",
     "output_type": "stream",
     "text": [
      "type of x =  <class 'list'>\n",
      "content of x =  [0.7071067811865476, 0.7071067811865475] \n",
      "\n",
      "type of y =  <class 'numpy.ndarray'>\n",
      "content of y =  [0.70710678 0.70710678] \n",
      "\n"
     ]
    }
   ],
   "source": [
    "# load numpy\n",
    "import numpy as np\n",
    "\n",
    "# create a list\n",
    "x = [np.cos(np.pi/4), np.sin(np.pi/4)]\n",
    "\n",
    "# convert list to array\n",
    "y = np.array(x)\n",
    "\n",
    "# check the type of array and its content.\n",
    "print(\"type of x = \", type(x))\n",
    "print(\"content of x = \", x,\"\\n\")\n",
    "print(\"type of y = \", type(y))\n",
    "print(\"content of y = \", y,\"\\n\")"
   ]
  },
  {
   "cell_type": "markdown",
   "id": "193541d0-acda-4936-a212-b74ef0218a68",
   "metadata": {},
   "source": [
    "You can access to a component of array with index (python uses [... ] to specity indeces.)  Both `'list` and `array` gives the same value."
   ]
  },
  {
   "cell_type": "code",
   "execution_count": 13,
   "id": "1769876d-d576-4650-a5c1-c13174554bef",
   "metadata": {
    "tags": [
     "hide-output"
    ]
   },
   "outputs": [
    {
     "name": "stdout",
     "output_type": "stream",
     "text": [
      "second element in x =  0.7071067811865475\n",
      "second element in y =  0.7071067811865475\n"
     ]
    }
   ],
   "source": [
    "# find the second element in the array\n",
    "# remember that python index always begins with 0\n",
    "# hence index=1 corresponds to the second element. \n",
    "print(\"second element in x = \",x[1])\n",
    "print(\"second element in y = \",y[1])"
   ]
  },
  {
   "cell_type": "markdown",
   "id": "2bf03d66-105c-44ce-a395-4eaa1628b43c",
   "metadata": {},
   "source": [
    "Now, we calculate $x+x$ and $y+y$.  Notice that the sum of `list` data just concatenate two lists.  On the other hand, $y+y$ is arithmetic addition.  Now you see the difference between `list` and `array`."
   ]
  },
  {
   "cell_type": "code",
   "execution_count": 18,
   "id": "c7ae5cbe-4036-4f24-b73b-90668ea5d687",
   "metadata": {
    "tags": [
     "hide-output"
    ]
   },
   "outputs": [
    {
     "name": "stdout",
     "output_type": "stream",
     "text": [
      "x+x =  [0.7071067811865476, 0.7071067811865475, 0.7071067811865476, 0.7071067811865475]\n",
      "y+y =  [1.41421356 1.41421356]\n"
     ]
    }
   ],
   "source": [
    "print(\"x+x = \",x+x)\n",
    "print(\"y+y = \",y+y)"
   ]
  },
  {
   "cell_type": "markdown",
   "id": "0ca0a6e8-75e5-4e9b-ba52-6adf528a7d82",
   "metadata": {},
   "source": [
    "## Matrices as array\n",
    "\n",
    "You can create a matrix as `ndarray` in the same way as vectors."
   ]
  },
  {
   "cell_type": "code",
   "execution_count": 32,
   "id": "0a635055-842f-443a-af6b-bc4c74e300de",
   "metadata": {},
   "outputs": [
    {
     "name": "stdout",
     "output_type": "stream",
     "text": [
      "list a =  [[1, 2], [3, 4]] \n",
      "\n",
      "2 x list =  [[1, 2], [3, 4], [1, 2], [3, 4]] \n",
      "\n",
      "matrix b\n",
      " [[1 2]\n",
      " [3 4]] \n",
      "\n",
      " 2 x matrix\n",
      " [[2 4]\n",
      " [6 8]]\n"
     ]
    }
   ],
   "source": [
    "import numpy as np\n",
    "\n",
    "# nested list\n",
    "a = [[1,2],[3,4]]\n",
    "\n",
    "# convert it to 2x2 matrix\n",
    "b = np.array([ [1,2],[3,4]])\n",
    "\n",
    "# nexted list\n",
    "print(\"list a = \",a,\"\\n\")\n",
    "# 2*a is not scalr multiplication\n",
    "# it just doubles the number of elements\n",
    "print(\"2 x list = \",2*a,\"\\n\")\n",
    "\n",
    "print(\"matrix b\\n\",b,\"\\n\")\n",
    "print(\" 2 x matrix\\n\",2*b)"
   ]
  },
  {
   "cell_type": "code",
   "execution_count": null,
   "id": "504c0ded-82ef-48d1-b99e-68d96e5d4266",
   "metadata": {
    "tags": [
     "hide-output"
    ]
   },
   "outputs": [],
   "source": []
  },
  {
   "cell_type": "markdown",
   "id": "aa9d6432-e773-44fc-8e36-5435e7ce1dbd",
   "metadata": {},
   "source": [
    "## Tensor product"
   ]
  },
  {
   "cell_type": "markdown",
   "id": "d3bdf8f7-0cff-4594-a24c-c4935c8912bd",
   "metadata": {},
   "source": [
    "If a state vector $|\\alpha\\rangle$ is in $m$-dimensional vector space and another vector $|\\beta\\rangle$ in $n$-dimensional vector space, the state vector of the combined vector space is given by tensor (Kronecker) product $|\\alpha\\rangle \\otimes |\\beta\\rangle$ whose dimension is $mn$. The tensor product is a very ubiquitous operation in quantum computing.  `kron` function in numpy computes the tensor product. For example, `kron(a,b)` computes $a \\otimes b$ where $a$ and $b$ are `ndarray`.\n",
    "\n",
    "The following example computes $[1,1] \\otimes [1,-1]$.  The output should be $[1,-1,1,-1]$."
   ]
  },
  {
   "cell_type": "code",
   "execution_count": 3,
   "id": "f46e1c46-866e-4a5f-8751-d6ff5c853029",
   "metadata": {},
   "outputs": [
    {
     "name": "stdout",
     "output_type": "stream",
     "text": [
      "[ 1 -1  1 -1]\n"
     ]
    }
   ],
   "source": [
    "# First, we create two state vectors.\n",
    "a = np.array([1,1])\n",
    "b = np.array([1,-1])\n",
    "\n",
    "# [1,1]⊗[1,−1]\n",
    "ab=np.kron(a,b )\n",
    "\n",
    "print(ab)"
   ]
  },
  {
   "cell_type": "markdown",
   "id": "d579061f-c26b-493f-af01-8a6840229897",
   "metadata": {},
   "source": [
    "## Computational basis\n",
    "\n",
    "The dimension of the smallest vector space is two.  Hence, it is spanned by two vectors, $|0\\rangle$ and $|1\\rangle$. Their matrix representations are\n",
    "\n",
    "$$\n",
    "|0\\rangle \\doteq [1,0], \\qquad |1\\rangle \\doteq [0,1]\n",
    "$$\n",
    "\n",
    "You can construct a basis set of a bigger vector space with dimension $2^n$ by tensor product.  For example, the 8-dimensional vector space has eight basis vectors\n",
    "\n",
    "$$\n",
    "|000\\rangle = |0\\rangle \\otimes |0\\rangle \\otimes |0\\rangle, \\quad |001\\rangle = 0\\rangle \\otimes |0\\rangle \\otimes |1\\rangle, \\quad \\cdots \\quad |111\\rangle = |1\\rangle \\otimes |1\\rangle \\otimes |1\\rangle\n",
    "$$\n",
    "\n",
    "The following example generates the matrix representation of $|010\\rangle$."
   ]
  },
  {
   "cell_type": "code",
   "execution_count": 4,
   "id": "3d8a433d-699e-4238-b67a-594d45634967",
   "metadata": {},
   "outputs": [
    {
     "name": "stdout",
     "output_type": "stream",
     "text": [
      "[0 0 1 0 0 0 0 0]\n"
     ]
    }
   ],
   "source": [
    "# define the basis vectors for 2d\n",
    "ket0 = [1,0]\n",
    "ket1 = [0,1]\n",
    "\n",
    "# construct a basis vector for 8d\n",
    "ket010 = np.kron(ket0,np.kron(ket1,ket0))\n",
    "print(ket010)"
   ]
  },
  {
   "cell_type": "markdown",
   "id": "ec84758f-93f4-4743-b591-4dc018168d43",
   "metadata": {},
   "source": [
    "_Remarks_: Some modules in Qiskit calculate the tensor product in an easier way. You are encouraged to use Qiskit classes instead of numpy."
   ]
  },
  {
   "cell_type": "markdown",
   "id": "d6fd5808-bf29-4ca7-97ab-8fa0ffc172f6",
   "metadata": {},
   "source": [
    "## Matrix as dictionary\n",
    "\n",
    "In the above example, only one out of eight components have non-vanishing value.   However, even such a simple state, it is not simple to find out which basis vector the matrix represnting.  In addition, we are wasting memory by having so many zeros.  It is much easier to express the state vector in phython's dictionary.  The dictionary is a set of key-value pairs placed in curly brackets, {key1:val1, key2:val2, ... }. The keys can be any data type including `string`.  Unlike matrix representation, it is not necessary to keep a key whose value is zero.  Hence, we don't see unnecessary zeros.\n",
    "\n",
    "To find out a coefficient, just ask the value associate with the key. Search a key in dictionary is very fast because python implements them using hash tables. If you ask to look for non-existing key, you will get an error message.\n",
    "\n",
    "_Remark:_ The data in `Dictionary` is ordered.  When a new key is added, it is placed at the end.  (Dictionary was unordered in python 3.6 and earlier.)\n",
    "\n",
    "In the following example, we consider 16-dimensional vector space.  There are 16 computational basis vectors with four indexes. We create a state vector $\\left(|0011\\rangle + |0101\\rangle \\right)/\\sqrt{2}$ in dictionary format.  Only two keys '0011' and '0101' have non-zero value, $\\frac{1}{\\sqrt{2}}$ and all other elements are zero.  Hence, we store only two elements in the dictionary. There are two ways to construct the dictionary, making the whole dictionary in one step and adding keys one by one.  We show the both."
   ]
  },
  {
   "cell_type": "code",
   "execution_count": 5,
   "id": "817f1c8d-d507-4749-b04b-0ac9708660cd",
   "metadata": {},
   "outputs": [
    {
     "name": "stdout",
     "output_type": "stream",
     "text": [
      "type =  <class 'dict'>\n",
      "number of keys = 2\n",
      "conent =  {'0011': 0.7071067811865475, '0101': 0.7071067811865475} \n",
      "\n"
     ]
    }
   ],
   "source": [
    "# store (|0011>+|0101>)/sqrt(2) in dictionary\n",
    "\n",
    "# direct method\n",
    "psi={'0011':1/np.sqrt(2), '0101':1/np.sqrt(2)}\n",
    "# check the type of variable and its content.\n",
    "print(\"type = \",type(psi))\n",
    "print(\"number of keys =\", len(psi))\n",
    "print(\"conent = \", psi,\"\\n\")"
   ]
  },
  {
   "cell_type": "markdown",
   "id": "db88c7ca-238b-49a0-8cd8-4de826762de3",
   "metadata": {},
   "source": [
    "You can construct a dictionary key by key."
   ]
  },
  {
   "cell_type": "code",
   "execution_count": 6,
   "id": "9746b31b-6483-461a-a71e-6cdd10474faa",
   "metadata": {},
   "outputs": [
    {
     "name": "stdout",
     "output_type": "stream",
     "text": [
      "type =  <class 'dict'>\n",
      "number of keys = 2\n",
      "conent =  {'0011': 0.7071067811865475, '0101': 0.7071067811865475} \n",
      "\n"
     ]
    }
   ],
   "source": [
    "# create empty dictionary\n",
    "psi = dict()\n",
    "# add key one by one\n",
    "psi['0011'] = 1/np.sqrt(2)\n",
    "psi['0101'] = 1/np.sqrt(2)\n",
    "# check the type of variable and its content.\n",
    "print(\"type = \",type(psi))\n",
    "print(\"number of keys =\", len(psi))\n",
    "print(\"conent = \", psi,\"\\n\")"
   ]
  },
  {
   "cell_type": "code",
   "execution_count": 7,
   "id": "02edc4d3-14ad-44f8-8d99-51f2ea8f4127",
   "metadata": {},
   "outputs": [
    {
     "name": "stdout",
     "output_type": "stream",
     "text": [
      "0.7071067811865475\n"
     ]
    }
   ],
   "source": [
    "# find a coefficient to |11>\n",
    "print(psi['0101'])"
   ]
  },
  {
   "cell_type": "markdown",
   "id": "7e53cd18-01e7-456f-ae55-7abe74991ab8",
   "metadata": {},
   "source": [
    "You can enter a key with zero value.  Dictionary will keep it as shown below."
   ]
  },
  {
   "cell_type": "code",
   "execution_count": 8,
   "id": "fd1722dc-4eff-42f9-ae51-2520fd18c1d3",
   "metadata": {},
   "outputs": [
    {
     "name": "stdout",
     "output_type": "stream",
     "text": [
      "number of keys = 3\n",
      "conent =  {'0011': 0.7071067811865475, '0101': 0.7071067811865475, '1111': 0} \n",
      "\n"
     ]
    }
   ],
   "source": [
    "# adding a key with zero value\n",
    "psi['1111']=0\n",
    "print(\"number of keys =\", len(psi))\n",
    "print(\"conent = \", psi,\"\\n\")"
   ]
  },
  {
   "cell_type": "code",
   "execution_count": 9,
   "id": "9388381c-0c4c-4510-9f9d-68e16064646a",
   "metadata": {},
   "outputs": [
    {
     "name": "stdout",
     "output_type": "stream",
     "text": [
      "number of keys = 4\n",
      "conent =  {'0011': 0.7071067811865475, '0101': 0.7071067811865475, '1111': 0, '0000': 0} \n",
      "\n"
     ]
    }
   ],
   "source": [
    "# adding another key which will be placed at the end in the dictionary\n",
    "# note that '0000' is the lsat one (recall that '0000' is the first element in the matrix.)\n",
    "psi['0000']=0\n",
    "print(\"number of keys =\", len(psi))\n",
    "print(\"conent = \", psi,\"\\n\")"
   ]
  },
  {
   "cell_type": "markdown",
   "id": "e09ed215-90b6-45c8-8c5e-cf065ba4a7fe",
   "metadata": {},
   "source": [
    ":::{admonition}  Summary\n",
    ":class: seealso\n",
    "\n",
    "The following objects and methods are useed to construct state vectors in a numerical form.\n",
    "\n",
    "* `list` - native python data structure:  [Python references: list](https://www.w3schools.com/python/python_lists.asp)\n",
    "* `dictionary` - native python data structure: [Python references: dictionary](https://www.w3schools.com/python/python_dictionaries.asp)\n",
    "* `array` - a class in `Numpy` module:  [Numpy references: ndarray](https://numpy.org/doc/stable/reference/arrays.ndarray.html)  \n",
    "* `kron` - a function in `Numpy` module: \n",
    "[Numpy references: kron](https://numpy.org/doc/stable/reference/generated/numpy.kron.html)\n",
    "\n",
    ":::"
   ]
  },
  {
   "cell_type": "markdown",
   "id": "78ee6d28-4934-4139-8d8d-636664a0dfe2",
   "metadata": {},
   "source": [
    ":::{admonition}  Suggested readings\n",
    ":class: seealso\n",
    "\n",
    "\n",
    "* T. E. Oliphant: _Guide to Numpy_ (Continuum Press, 2015)\n",
    "* A. B. Downey: _Think Python_ 2nd ed. (O'REILLY, 2016)\n",
    "                                        \n",
    ":::"
   ]
  }
 ],
 "metadata": {
  "kernelspec": {
   "display_name": "Python 3 (ipykernel)",
   "language": "python",
   "name": "python3"
  },
  "language_info": {
   "codemirror_mode": {
    "name": "ipython",
    "version": 3
   },
   "file_extension": ".py",
   "mimetype": "text/x-python",
   "name": "python",
   "nbconvert_exporter": "python",
   "pygments_lexer": "ipython3",
   "version": "3.9.12"
  }
 },
 "nbformat": 4,
 "nbformat_minor": 5
}
