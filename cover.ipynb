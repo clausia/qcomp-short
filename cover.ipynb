{
 "cells": [
  {
   "cell_type": "markdown",
   "id": "83c307cb-03a6-40e1-91bc-7dc7712c6b80",
   "metadata": {},
   "source": [
    "# A First Step to Quantum Computing and Qiskit"
   ]
  },
  {
   "cell_type": "markdown",
   "id": "f22a6cfc-7083-4007-9d3e-ea577b7865a7",
   "metadata": {},
   "source": [
    "**Ryoichi Kawai**  \n",
    "\n",
    "Department of Physics   \n",
    "\n",
    "University of Alabama at Birmingham\n",
    "\n",
    "mailto:kawai@uab.edu\n",
    "\n",
    "https://kawaihome.link"
   ]
  },
  {
   "cell_type": "markdown",
   "id": "52597bff-f83f-4d1b-b3c1-4524be491aa0",
   "metadata": {},
   "source": [
    "```{warning}\n",
    "I started writing this book in April, 2022.   I hope this book will be ready for the course in Fall 2022 or at latest, Spring 2023.  At the present, even the structure of book has not been fixed. You are free to read it but don’t give me any comment nor ask me any question until the first full draft is completed.\n",
    "\n",
    "Thank you for your patience!  \n",
    "\n",
    "Ryoichi Kawai\n",
    "```"
   ]
  },
  {
   "cell_type": "code",
   "execution_count": null,
   "id": "729d681d-978e-42c3-badf-49792d7a308d",
   "metadata": {},
   "outputs": [],
   "source": []
  }
 ],
 "metadata": {
  "kernelspec": {
   "display_name": "Python 3 (ipykernel)",
   "language": "python",
   "name": "python3"
  },
  "language_info": {
   "codemirror_mode": {
    "name": "ipython",
    "version": 3
   },
   "file_extension": ".py",
   "mimetype": "text/x-python",
   "name": "python",
   "nbconvert_exporter": "python",
   "pygments_lexer": "ipython3",
   "version": "3.9.12"
  }
 },
 "nbformat": 4,
 "nbformat_minor": 5
}
