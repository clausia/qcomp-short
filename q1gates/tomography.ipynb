{
 "cells": [
  {
   "cell_type": "markdown",
   "id": "b7371fcf-4b55-40bb-af46-8bc8a420cac3",
   "metadata": {},
   "source": [
    "(sec-state-tomography)=\n",
    "# State tomography\n",
    "\n",
    "State *tomography* is an experimental method to determine the state of a quantum system. In this section, we try to determine the pure state of a qubit by quantum computation.   Measurement of a single qubit cannot determine it due to the stochastic nature of quantum measurement.  We must prepare many  qubits in the same state.\n",
    "\n",
    "In {numref}`ex-quantum-phase`, we developed a quantum circuit that determines the quantum phase of a qubit.  In that example, we had only one parameter, $\\phi$, to be determined. To obtain the full information (up to the global phase) of the state vector, we have to determine two parameters.  Recall that the state of a qubit can be expressed as\n",
    "\n",
    "$$\n",
    "|\\psi\\rangle = \\cos\\left(\\frac{\\theta}{2}\\right) |0\\rangle + \\sin\\left(\\frac{\\theta}{2}\\right) e^{i \\phi}|1\\rangle\n",
    "$$\n",
    "\n",
    "Measuring this state directly, we obtain only $\\left|\\cos\\left(\\frac{\\theta}{2}\\right)\\right|$ and $\\left|\\sin\\left(\\frac{\\theta}{2}\\right)\\right|$. Neither $\\theta$ nor $\\phi$ can be determined from them. We need a quantum algorithm similar to the method used in {numref}`ex-quantum-phase`.  See the following Strategy box on State Tomography.\n"
   ]
  },
  {
   "cell_type": "markdown",
   "id": "2a2ccee3-3695-4949-a641-e2fcc0d77a3f",
   "metadata": {},
   "source": [
    "```{admonition} Strategy - State Tomography\n",
    "\n",
    "\n",
    "To determine the Bloch vector corresponding to a pure state $\\psi\\rangle$,  change the $x$-, $y$-, $z$-basis to the computational basis and measure the state in the computational basis.\n",
    "\n",
    "* $x$ component  \n",
    "Change the basis from the $x$-basis to the computational basis  by the $H$ gate.  \n",
    "Measure $H |\\psi\\rangle$.  Then, $r_x = \\sin\\theta \\cos \\phi = p_0 -p_1$.\n",
    "\n",
    "* $y$ component  \n",
    "Change the basis from the $y$-basis to the computational basis  by the $H\\cdot S^\\dagger$ gate.    \n",
    "Measure $(H\\cdot S^\\dagger) |\\psi\\rangle$.  Then, $r_y = \\sin\\theta \\sin\\phi = p_0 -p_1$.\n",
    "\n",
    "* $z$ component  \n",
    "Since the $z$-basis and the computational basis are the same, no need to change the basis.  \n",
    "Measure $|\\psi\\rangle$.  Then, $r_z = \\cos\\theta = p_0 -p_1$.\n",
    "\n",
    "\n",
    "One the Bloch vector is measured, we can calculate the angles by $\\theta = \\text{arccos}(r_z)$ and $\\phi = \\text{arctan2}.(r_y,r_x)$.\n",
    "\n",
    "\n",
    "```\n"
   ]
  },
  {
   "cell_type": "code",
   "execution_count": 1,
   "id": "7fe04fae-bfa3-4613-bbe8-fe750b7cd455",
   "metadata": {},
   "outputs": [
    {
     "data": {
      "text/html": [
       "<pre style=\"word-wrap: normal;white-space: pre;background: #fff0;line-height: 1.1;font-family: &quot;Courier New&quot;,Courier,monospace\">     ┌──────────────┐ ░  ┌───┐      ┌─┐   \n",
       "q_0: ┤ U(π/7,π/3,0) ├─░──┤ H ├──────┤M├───\n",
       "     ├──────────────┤ ░ ┌┴───┴┐┌───┐└╥┘┌─┐\n",
       "q_1: ┤ U(π/7,π/3,0) ├─░─┤ Sdg ├┤ H ├─╫─┤M├\n",
       "     ├──────────────┤ ░ └─┬─┬─┘└───┘ ║ └╥┘\n",
       "q_2: ┤ U(π/7,π/3,0) ├─░───┤M├────────╫──╫─\n",
       "     └──────────────┘ ░   └╥┘        ║  ║ \n",
       "c: 3/══════════════════════╩═════════╩══╩═\n",
       "                           2         0  1 </pre>"
      ],
      "text/plain": [
       "     ┌──────────────┐ ░  ┌───┐      ┌─┐   \n",
       "q_0: ┤ U(π/7,π/3,0) ├─░──┤ H ├──────┤M├───\n",
       "     ├──────────────┤ ░ ┌┴───┴┐┌───┐└╥┘┌─┐\n",
       "q_1: ┤ U(π/7,π/3,0) ├─░─┤ Sdg ├┤ H ├─╫─┤M├\n",
       "     ├──────────────┤ ░ └─┬─┬─┘└───┘ ║ └╥┘\n",
       "q_2: ┤ U(π/7,π/3,0) ├─░───┤M├────────╫──╫─\n",
       "     └──────────────┘ ░   └╥┘        ║  ║ \n",
       "c: 3/══════════════════════╩═════════╩══╩═\n",
       "                           2         0  1 "
      ]
     },
     "execution_count": 1,
     "metadata": {},
     "output_type": "execute_result"
    }
   ],
   "source": [
    "import numpy as np\n",
    "\n",
    "from qiskit import *\n",
    "\n",
    "# two classical registers\n",
    "cr=ClassicalRegister(3,'c')\n",
    "\n",
    "# two quantum registers (qubits)\n",
    "qr=QuantumRegister(3,'q')\n",
    "\n",
    "# set the quantum circuit\n",
    "qc=QuantumCircuit(qr,cr)\n",
    "\n",
    "# set parameters\n",
    "theta=np.pi/7\n",
    "phi=np.pi/3\n",
    "\n",
    "# Generation of the state\n",
    "qc.u(theta,phi,0,[0,1,2])\n",
    "\n",
    "# separate the preparation part from the phase determination\n",
    "# by placing a barrier\n",
    "qc.barrier([0,1,2])\n",
    "\n",
    "# x-component\n",
    "qc.h(0)\n",
    "\n",
    "# y-component\n",
    "qc.sdg(1)\n",
    "qc.h(1)\n",
    "\n",
    "# z-component\n",
    "# no gate for this\n",
    "\n",
    "# measure the both qubits\n",
    "qc.measure(qr,cr)\n",
    "\n",
    "# show the circuit\n",
    "qc.draw()"
   ]
  },
  {
   "cell_type": "code",
   "execution_count": 13,
   "id": "7e7ee408-3f7b-4b05-a067-3be7d8406e4a",
   "metadata": {},
   "outputs": [
    {
     "name": "stdout",
     "output_type": "stream",
     "text": [
      "measured   phi =  1.062 (exact  =  1.047 )\n",
      "measured theta =  0.441 (exact  =  0.449 )\n"
     ]
    }
   ],
   "source": [
    "# Chose a general quantum simulator without noise.\n",
    "# The simulator behaves as an ideal quantum computer.\n",
    "backend = Aer.get_backend('qasm_simulator')\n",
    "\n",
    "# set number of tries\n",
    "nshots=8192\n",
    "\n",
    "# execute the quantum circuit and store the outcome\n",
    "job = backend.run(qc,shots=nshots)\n",
    "\n",
    "# extract the result\n",
    "result = job.result()\n",
    "\n",
    "# count the outcome\n",
    "counts = result.get_counts()\n",
    "\n",
    "from qiskit.result import marginal_counts\n",
    "\n",
    "# marginal counts of each component\n",
    "counts_x = marginal_counts(result,indices=[0]).get_counts()\n",
    "counts_y = marginal_counts(result,indices=[1]).get_counts()\n",
    "counts_z = marginal_counts(result,indices=[2]).get_counts()\n",
    "\n",
    "# get the Bloch vector components\n",
    "rx=(counts_x['0']-counts_x['1'])/nshots\n",
    "ry=(counts_y['0']-counts_y['1'])/nshots\n",
    "rz=(counts_z['0']-counts_z['1'])/nshots\n",
    "\n",
    "# evaluate the phase angle\n",
    "theta_qc=np.arccos(rz)\n",
    "phi_qc=np.arctan2(ry,rx)\n",
    "\n",
    "\n",
    "# print out the results\n",
    "print(\"measured   phi = {:6.3f} (exact  = {:6.3f} )\".format(phi_qc, phi))\n",
    "print(\"measured theta = {:6.3f} (exact  = {:6.3f} )\".format(theta_qc,theta))\n"
   ]
  },
  {
   "cell_type": "code",
   "execution_count": null,
   "id": "d66329fc-a003-45cd-91d0-4caa5c94e304",
   "metadata": {},
   "outputs": [],
   "source": []
  }
 ],
 "metadata": {
  "kernelspec": {
   "display_name": "Python 3 (ipykernel)",
   "language": "python",
   "name": "python3"
  },
  "language_info": {
   "codemirror_mode": {
    "name": "ipython",
    "version": 3
   },
   "file_extension": ".py",
   "mimetype": "text/x-python",
   "name": "python",
   "nbconvert_exporter": "python",
   "pygments_lexer": "ipython3",
   "version": "3.9.12"
  }
 },
 "nbformat": 4,
 "nbformat_minor": 5
}
