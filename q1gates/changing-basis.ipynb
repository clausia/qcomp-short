{
 "cells": [
  {
   "cell_type": "markdown",
   "id": "88a438fe-b417-4eff-9593-81404d78bdb1",
   "metadata": {},
   "source": [
    "(sec-change-basis)=\n",
    "# Change of basis sets\n",
    "\n",
    "Although the computational basis $\\{|0\\rangle,|1\\rangle\\}$ is the primary basis set, $\\{|+\\rangle,|-\\rangle\\}$ and $\\{|L\\rangle,|R\\rangle\\}$ are often used when quantum algorithms are developed.  A few examples are given in this section.\n",
    "\n",
    "The difference is only the basis set and the coefficients are the same in all three cases.  Then, there are simple relation among the gates.\n",
    "\n",
    "$$\n",
    "G' = H \\cdot G \\cdot H, \\quad G'' = S \\cdot G' \\cdot S^\\dagger\n",
    "$$"
   ]
  },
  {
   "cell_type": "markdown",
   "id": "8d01774e-f4eb-4ce5-80ab-ac99c0c894ce",
   "metadata": {},
   "source": [
    "## Transformation of gates\n",
    "\n",
    "Suppose that gates $G$, $G'$, and $G''$ transform state vectors as \n",
    "\n",
    "$$\n",
    "G \\left (a_0 |0\\rangle + a_1 |1\\rangle\\right) = b_0 |0\\rangle + b_1 |1\\rangle\n",
    "$$\n",
    "\n",
    "$$\n",
    "G' \\left (a_0 |+\\rangle + a_1 |-\\rangle\\right) = b_0 |+\\rangle + b_1 |-\\rangle\n",
    "$$\n",
    "\n",
    "$$\n",
    "G'' \\left (a_0 |L\\rangle + a_1 |R\\rangle\\right) = b_0 |L\\rangle + b_1 |R\\rangle\n",
    "$$\n",
    "\n",
    "The difference is only the basis set and the coefficients are the same in all three cases.  Then, there are simple relation among the gates.\n",
    "\n",
    "$$\n",
    "G' = H \\cdot G \\cdot H, \\quad G'' = S \\cdot G' \\cdot S^\\dagger\n",
    "$$"
   ]
  },
  {
   "cell_type": "markdown",
   "id": "a2c1543c-3e1a-45c2-ace7-4d6307ac8147",
   "metadata": {},
   "source": [
    "**Example 1**  Swapping coefficients\n",
    "\n",
    "Suppose that a state vector is given in $\\{|+\\rangle,|-\\rangle\\}$ basis as $c_0 |+\\rangle + c_1 |-\\rangle$. We want to swap the coefficients. \n",
    "\n",
    "$$\n",
    "c_0 |+\\rangle + c_1 |-\\rangle \\quad \\xrightarrow{?} \\quad c_1 |+\\rangle + c_0 |-\\rangle\n",
    "$$\n",
    "\n",
    "What gate do we need?  In {numref}`sec-xgate`, we learned that XGate swaps the coeeficients in the computational basis. Recalling that HGate switches basis set between $\\{|+\\rangle,|-\\rangle\\}$ and $\\{|0\\rangle,|1\\rangle\\}$.  $H \\cdot X \\cdot H$ should do the job.  Let us try it.\n",
    "\n",
    "$$\n",
    "c_0 |+\\rangle + c_1 |-\\rangle \\quad \\xrightarrow{H} \\quad c_0 |0\\rangle + c_1 |1\\rangle\n",
    "\\quad \\xrightarrow{X} \\quad  c_1 |0\\rangle + c_0 |1\\rangle \\quad \\xrightarrow{H} \\quad\n",
    "c_1 |+\\rangle + c_0 |-\\rangle\n",
    "$$\n",
    "\n",
    "In {numref}`sec-hgate`, we derived $Z=H \\cdot X \\cdot H$.  Hence, ZGate is the best solution. This example tells us that there are many ways to do the same transformation.  However, finding the simplest combination of gates is not trivial."
   ]
  },
  {
   "cell_type": "markdown",
   "id": "b6834c68-ef89-48f6-a8b4-1bd9cdc735b0",
   "metadata": {},
   "source": [
    "\n",
    "---\n",
    "**Exercise** {numref}`%s <sec-change-basis>`.1&nbsp;  Show that $S \\cdot H \\cdot S^\\dagger$ works as desired."
   ]
  },
  {
   "cell_type": "markdown",
   "id": "009d7d99-d9b5-4023-96f7-018bbbbe31b0",
   "metadata": {},
   "source": [
    "\n",
    "**Exercise** {numref}`%s <sec-change-basis>`.2&nbsp;  In {numref}`sec-sxgate`, we noticed that SGate and SXGate work in the same way but in different basis sets.  Show that $SX = H \\cdot S \\cdot H$ and $SX^\\dagger = H \\cdot S^\\dagger \\cdot H$.\n"
   ]
  },
  {
   "cell_type": "markdown",
   "id": "a0e3976f-ad85-4cc4-927e-ed7b464b0b30",
   "metadata": {},
   "source": [
    "\n",
    "---\n",
    "**Example 2** addition and subtraction of the coefficients\n",
    "\n",
    "We want to find a gate that transforms a state vector as\n",
    "\n",
    "$$\n",
    "c_0 |+\\rangle + c_1|-\\rangle \\quad \\xrightarrow{?} \\quad \\frac{1}{\\sqrt{2}}\\left(c_0+c_1\\right)|+\\rangle + \\frac{1}{\\sqrt{2}}\\left(c_0-c_1\\right)|-\\rangle \n",
    "$$\n",
    "\n",
    "Recalling that HGate does the same for the computational basis.  Hgate itself is also used to change the basis set. Hence, $H \\cdot H \\cdot H$ will do the job. However, we recall that $H^2=I$.  Hence, $H \\cdot H \\cdot H=H$.  Interestingly, HGate works in the same way on the two basis sets.\n",
    "\n",
    "Similarly, we want to find a gate that transforms a state vector in $\\{|L\\rangle,|R\\rangle\\}$ basis as\n",
    "\n",
    "$$\n",
    "c_0 |L\\rangle + c_1|R\\rangle \\quad \\xrightarrow{?} \\quad \\frac{1}{\\sqrt{2}}\\left(c_0+c_1\\right)|L\\rangle + \\frac{1}{\\sqrt{2}}\\left(c_0-c_1\\right)|R\\rangle \n",
    "$$\n",
    "\n",
    "SGate and SdgGate swap the basis set between $\\{|+\\rangle,|-\\rangle\\}$ and $\\{|L\\rangle,|R\\rangle\\}$. We also know that HGate works for $\\{|+\\rangle,|-\\rangle\\}$.  Hence, $S \\cdot H \\cdot S^\\dagger$ should work for $\\{|L\\rangle,|R\\rangle\\}$.\n"
   ]
  },
  {
   "cell_type": "markdown",
   "id": "3cdc9032-4d1d-4f4f-8662-697142c9d291",
   "metadata": {},
   "source": [
    "\n",
    "---\n",
    "**Exercise** {numref}`%s <sec-change-basis>`.3&nbsp;  Show that $S \\cdot H \\cdot S^\\dagger$ works as desired.\n",
    "\n",
    "---\n"
   ]
  },
  {
   "cell_type": "markdown",
   "id": "1095d6b3-2f42-4223-84cc-98afd0621384",
   "metadata": {},
   "source": [
    "(ex-relative phase)=\n",
    "## Qiskit Example:  Finding the relative phase.\n",
    "\n",
    "This is the extension of {numref}`ex-hgate-interference`.\n",
    "\n",
    "Consider a superposition state, \n",
    "\n",
    "$$\n",
    "|\\phi\\rangle = \\frac{1}{\\sqrt{2}}\\left(|0\\rangle + e^{i \\phi} |1\\rangle\\right)\n",
    "$$\n",
    "\n",
    "We want to find out the value of the relative phase angle $\\phi$.  If we measure this state, we only get the modulus of the coefficients and thus no information on the phase is obtained.  In physics, the phase difference between two waves is measured by the interference pattern.  Here, we use the same method.  Applying the $H$ gate, the state is transformed to\n",
    "\n",
    "$$\n",
    "H |\\psi\\rangle = \\frac{1}{2}\\left(1+e^{i \\phi}\\right) |0\\rangle + \\frac{1}{2}\\left(1-e^{-i \\phi}\\right) |1\\rangle\n",
    "$$\n",
    "\n",
    "Now, we measure this state.  The probabilities to find $|0\\rangle$ and $|1\\rangle$ are\n",
    "\n",
    "$$\n",
    "p_0 = \\frac{1}{2}\\left(1+\\cos \\phi\\right), \\qquad p_1 = \\frac{1}{2}\\left(1-\\cos \\phi\\right)\n",
    "$$\n",
    "\n",
    "The difference $\\delta_x = p_0 - p_1 = \\cos\\phi$ which gives the real part of $e^{i ]phi}$.\n",
    "\n",
    "Next, we measure the imaginary part by using the $y$-basis.  Applying $H S^\\dagger$, the state is transformed as\n",
    "\n",
    "$$\n",
    "H S^\\dagger |\\psi\\rangle = \\frac{1}{2}\\left(1- i e^{i \\phi}\\right) |0\\rangle + \\frac{1}{2}\\left(1+ i e^{-i \\phi}\\right) |1\\rangle\n",
    "$$\n",
    "\n",
    "The outcome of the measurement is \n",
    "\n",
    "$$\n",
    "p_0 = \\frac{1}{2}\\left(1+\\sin \\phi\\right), \\qquad p_1 = \\frac{1}{2}\\left(1-\\sin \\phi\\right)\n",
    "$$\n",
    "\n",
    "and thus $\\delta_y=p_0-p_1=\\sin \\phi$.  Now, we know $e^{i \\phi}$.\n",
    "\n",
    "Let us try this method using Qiskit.\n",
    "\n",
    "First we create the superposition state using $H$ and $P$ gates.  We set $\\phi=\\pi/3$.  The goal of the quantum computation is to obtain this angle by quantum measurement.  In the following quantum circuit, we use two qubits, one for the real part and the other for the imaginary part.\n"
   ]
  },
  {
   "cell_type": "code",
   "execution_count": 41,
   "id": "2eff4723-5171-4292-a550-26b940883aea",
   "metadata": {},
   "outputs": [
    {
     "data": {
      "text/html": [
       "<pre style=\"word-wrap: normal;white-space: pre;background: #fff0;line-height: 1.1;font-family: &quot;Courier New&quot;,Courier,monospace\">     ┌───┐┌────────┐ ░  ┌───┐      ┌─┐   \n",
       "q_0: ┤ H ├┤ P(π/3) ├─░──┤ H ├──────┤M├───\n",
       "     ├───┤├────────┤ ░ ┌┴───┴┐┌───┐└╥┘┌─┐\n",
       "q_1: ┤ H ├┤ P(π/3) ├─░─┤ Sdg ├┤ H ├─╫─┤M├\n",
       "     └───┘└────────┘ ░ └─────┘└───┘ ║ └╥┘\n",
       "c: 2/═══════════════════════════════╩══╩═\n",
       "                                    0  1 </pre>"
      ],
      "text/plain": [
       "     ┌───┐┌────────┐ ░  ┌───┐      ┌─┐   \n",
       "q_0: ┤ H ├┤ P(π/3) ├─░──┤ H ├──────┤M├───\n",
       "     ├───┤├────────┤ ░ ┌┴───┴┐┌───┐└╥┘┌─┐\n",
       "q_1: ┤ H ├┤ P(π/3) ├─░─┤ Sdg ├┤ H ├─╫─┤M├\n",
       "     └───┘└────────┘ ░ └─────┘└───┘ ║ └╥┘\n",
       "c: 2/═══════════════════════════════╩══╩═\n",
       "                                    0  1 "
      ]
     },
     "execution_count": 41,
     "metadata": {},
     "output_type": "execute_result"
    }
   ],
   "source": [
    "import numpy as np\n",
    "\n",
    "from qiskit import *\n",
    "\n",
    "cr=ClassicalRegister(2,'c')\n",
    "qr=QuantumRegister(2,'q')\n",
    "qc=QuantumCircuit(qr,cr)\n",
    "\n",
    "# Generation of the superposition state\n",
    "qc.h([0,1])\n",
    "qc.p(np.pi/3,[0,1])\n",
    "qc.barrier([0,1])\n",
    "\n",
    "# real part\n",
    "qc.h(0)\n",
    "\n",
    "# imaginary part\n",
    "qc.sdg(1)\n",
    "qc.h(1)\n",
    "\n",
    "# measure the both qubits\n",
    "qc.measure(qr,cr)\n",
    "\n",
    "qc.draw()"
   ]
  },
  {
   "cell_type": "code",
   "execution_count": 38,
   "id": "dc3dc575-6c9b-4d79-b0d0-2f29adc15f69",
   "metadata": {},
   "outputs": [
    {
     "name": "stdout",
     "output_type": "stream",
     "text": [
      "measured phi =  1.052\n",
      "original phi =  1.047\n",
      "error =   0.004\n"
     ]
    }
   ],
   "source": [
    "# Chose a general quantum simulator without noise.\n",
    "# The simulator behaves as an ideal quantum computer.\n",
    "backend = Aer.get_backend('qasm_simulator')\n",
    "\n",
    "# set number of tries\n",
    "nshots=10000\n",
    "\n",
    "# execute the quantum circuit and store the outcome\n",
    "job = backend.run(qc,shots=nshots)\n",
    "\n",
    "# extract the result\n",
    "result = job.result()\n",
    "\n",
    "# count the outcome\n",
    "counts = result.get_counts()\n",
    "\n",
    "# calculate the marginal probability for the imaginry part\n",
    "p0=counts['00'] + counts['01']\n",
    "p1=counts['10'] + counts['11']\n",
    "dy=(p0-p1)/(p0+p1)\n",
    "\n",
    "# calculate the marginal probability for the real part\n",
    "p0=counts['00'] + counts['10']\n",
    "p1=counts['01'] + counts['11']\n",
    "dx=(p0-p1)/(p0+p1)\n",
    "\n",
    "# evaluate the phase angle\n",
    "phi=np.arctan2(dy,dx)\n",
    "print(\"measured phi = {:6.3f}\".format(phi))\n",
    "print(\"original phi = {:6.3f}\".format(np.pi/3))\n",
    "print(\"error =  {:6.3f}\".format(phi - np.pi/3))"
   ]
  },
  {
   "cell_type": "markdown",
   "id": "30cf99b3-0be1-4796-8afe-ace07cf50e35",
   "metadata": {},
   "source": [
    "The result of quantum computing is quite close to the original phase angle."
   ]
  },
  {
   "cell_type": "markdown",
   "id": "163a8494-fd01-49a7-9033-96db8eb412de",
   "metadata": {},
   "source": [
    "\n",
    "---\n",
    "Last modified: 07/09/2022"
   ]
  },
  {
   "cell_type": "code",
   "execution_count": null,
   "id": "ae3ef484-f212-4c24-b6a6-2d99f45fb8c9",
   "metadata": {},
   "outputs": [],
   "source": []
  }
 ],
 "metadata": {
  "kernelspec": {
   "display_name": "Python 3 (ipykernel)",
   "language": "python",
   "name": "python3"
  },
  "language_info": {
   "codemirror_mode": {
    "name": "ipython",
    "version": 3
   },
   "file_extension": ".py",
   "mimetype": "text/x-python",
   "name": "python",
   "nbconvert_exporter": "python",
   "pygments_lexer": "ipython3",
   "version": "3.9.12"
  }
 },
 "nbformat": 4,
 "nbformat_minor": 5
}
