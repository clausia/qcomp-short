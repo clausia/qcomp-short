{
 "cells": [
  {
   "cell_type": "markdown",
   "id": "e9803f34-48f3-4261-a6ac-425856a8252b",
   "metadata": {},
   "source": [
    "(chap-one-qubit-gates)=\n",
    "# One-qubit gates"
   ]
  },
  {
   "cell_type": "markdown",
   "id": "41b4269a-bfdc-41ab-bd20-ada1b44f4579",
   "metadata": {},
   "source": [
    "In quantum computing, we manipulate the state of qubits by applying a series of gates on qubits. In this chapter, I introduce various one-qubit gates commonly used in quantum computing. When a one-qubit gate acts on a single qubit, the Bloch vector of the qubit rotates around a certain axis by a certain angle.  The most general rotation is [*Euler rotation*](https://en.wikipedia.org/wiki/Euler_angles), which is done by $U$ gate.  In theory, we need only this gate. However, it is not convenient since we have to figure out three parameters (angles) for each operation.  Furthermore, in actual quantum computing devices, the general gate may not be available.   In practice, we use parameter-free gates with predefined rotation axes and angles, and a few others that require a single parameter.\n",
    "\n",
    "Mathematically, the gates are unitary operators in $\\mathbb{C}^2$. Some are Hermitian and others are not.  {numref}`tbl-q1gates` lists commonly used single-qubit gates.  I explain some the most important ones in the following section.  See also Qiskit documentation:\n",
    "\n",
    "[Qiskit Circuit Library](https://qiskit.org/documentation/apidoc/circuit_library.html)."
   ]
  },
  {
   "cell_type": "markdown",
   "id": "0de2299e-bb47-4536-9608-7a64a7f99c21",
   "metadata": {},
   "source": [
    "```{table} Commonly used single-qubit gates\n",
    ":name: tbl-q1gates\n",
    "\n",
    "\n",
    "| Generaic Name      |  Qiskit Ciruit Name  | # of Parameters | Symbols |\n",
    "| :-----------:      | :------------------: | :-------------: | :-----: |\n",
    "| Unitary            |  u                   |         3       |  $U$    |\n",
    "| Rotation X         |  rx                  |         1       |  $R_x$  |\n",
    "| Rotation Y         |  ry                  |         1       |  $R_y$  |\n",
    "| Rotation Z         |  rz                  |         1       |  $R_z$  |\n",
    "| Pauli X            |  x                   |         0       |  $X$    |\n",
    "| Pauli Y            |  y                   |         0       |  $Y$    |\n",
    "| Pauli Z            |  z                   |         0       |  $Z$    |\n",
    "| Hadamard           |  h                   |         0       |  $H$    |\n",
    "| Sqrt X             |  sx                  |         0       |  $SX$   |\n",
    "| Inverse sqrt X     |  sxdg                |         0       |  $SX^\\dagger$ |\n",
    "| Sqrt Z             |  s                   |         0       |  $S$     |\n",
    "| Inverse sqrt Z     |  sdg                 |         0       |  $S^\\dagger$ |\n",
    "| 4th root Z         |  t                   |         0       |  $T$     |\n",
    "| Inverse 4th root Z |  tdg                 |         0       |  $T^\\dagger$ |\n",
    "| Phase              |  p                   |         1       |  $P$     |\n",
    "\n",
    "\n",
    "```"
   ]
  },
  {
   "cell_type": "markdown",
   "id": "98fa17e2-673e-47fe-8a42-e049f1b7718c",
   "metadata": {},
   "source": [
    "## Mathematical expressions\n",
    "\n",
    "In the following sections, the definition and properties of each gate is explained.\n",
    "There are several ways to define the gates. In the following sections, the gates are defined in four different ways but they  are mathematically all equivalent. In this lecture, each gate is expressed with the following forms.   Using complex coefficients $c_{ij}$, a gate $A$ is defines as\n",
    "\n",
    "* Transformation of basis vectors   \n",
    "$A|0\\rangle = c_{00} |0\\rangle + c_{10}|1\\rangle$ and $A|1\\rangle = c_{01}|0\\rangle + c_{11}|1\\rangle$\n",
    "\n",
    "* Operator expression with dyads (useful for theoretical investigation)  \n",
    "$A = c_{00} |0\\rangle\\langle 0| + c_{01} |0\\rangle\\langle 1| + c_{10} |1\\rangle\\langle 0| + c_{11} |1\\rangle\\langle 1|$\n",
    "\n",
    "* Matrix expression  \n",
    "$A = \\begin{bmatrix}c_{00} & c_{01} \\\\ c_{10} & c_{11}\\end{bmatrix}$\n",
    "\n",
    "which are all equivalent.\n"
   ]
  },
  {
   "cell_type": "markdown",
   "id": "343f7a8a-a003-4ea1-96ab-7c80bcc28b4d",
   "metadata": {},
   "source": [
    "## Universal Gate\n",
    "\n",
    "Every single qubit can be expressed with universal gate $U(\\theta,\\phi,\\lambda)$ by specifying the value of parameters $\\theta$, $\\phi$, and $\\lambda$.  Hence, any single qubit can be defined with the $U$ gate.  Why do we need many different gates when they can be all expressed with a single $U$ gate?  In fact, a common algorithm of quantum machine learning uses only the $U$ gate and $CX$ gate and determine the parameter values by mahine learning methods.  However, it is easier to understand a circuit if it is written with a set of parameter-free gates since the meaning of the gates are clear.  \n"
   ]
  },
  {
   "cell_type": "markdown",
   "id": "b1790d9b-412b-43e0-9db0-e2769b7451c3",
   "metadata": {},
   "source": [
    "## Transformation of general superposition states\n",
    "\n",
    "The definitions do not give you a clear idea on the operational functionality of a gate.  It is important to understand how a superposition state is transformed by the gate. Pay attention to how the coefficients are transformed."
   ]
  },
  {
   "cell_type": "markdown",
   "id": "9a99e72f-2a52-4c6e-978e-8d114e317e0e",
   "metadata": {},
   "source": [
    "## Combination of gates\n",
    "\n",
    "When gate $Y$ is applied after $X$, we write it $Y \\cdot X$. We can think of a gate $(Y \\cdot X)$  acts on a state vector as\n",
    "\n",
    "$$\n",
    "Y (X |\\psi\\rangle) = (Y \\cdot X) |\\psi\\rangle\n",
    "$$\n",
    "\n",
    "We put \"$\\cdot$\" between the gates to avoid confusion.  For example $SX$ is a single gate and $S \\cdot X$ is a product of $S$ and $X$.\n",
    "\n",
    "The order is important.  $Y \\cdot X$ is not necessarily equal to $X \\cdot Y$.\n",
    "\n",
    "In quantum circuit, the gates act from left to right.  For example,  $Y\\cdot X |0\\rangle$ becomes"
   ]
  },
  {
   "cell_type": "code",
   "execution_count": 1,
   "id": "ee3808f8-77ae-45b5-ace0-19062ea53689",
   "metadata": {
    "tags": [
     "hide-input"
    ]
   },
   "outputs": [
    {
     "data": {
      "image/png": "[encoded data removed]",
      "text/plain": [
       "<Figure size 193.726x84.28 with 1 Axes>"
      ]
     },
     "execution_count": 1,
     "metadata": {},
     "output_type": "execute_result"
    }
   ],
   "source": [
    "from qiskit import QuantumCircuit\n",
    "\n",
    "qc=QuantumCircuit(1)\n",
    "qc.x(0)\n",
    "qc.y(0)\n",
    "qc.draw('mpl')"
   ]
  },
  {
   "cell_type": "markdown",
   "id": "e3824fb9-a0d6-4d88-9e1f-ab2c63095300",
   "metadata": {},
   "source": [
    "\n",
    "---\n",
    "Last modified: 08/31/2022"
   ]
  }
 ],
 "metadata": {
  "kernelspec": {
   "display_name": "Python 3 (ipykernel)",
   "language": "python",
   "name": "python3"
  },
  "language_info": {
   "codemirror_mode": {
    "name": "ipython",
    "version": 3
   },
   "file_extension": ".py",
   "mimetype": "text/x-python",
   "name": "python",
   "nbconvert_exporter": "python",
   "pygments_lexer": "ipython3",
   "version": "3.9.13"
  }
 },
 "nbformat": 4,
 "nbformat_minor": 5
}
