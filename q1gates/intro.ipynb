{
 "cells": [
  {
   "cell_type": "markdown",
   "id": "e9803f34-48f3-4261-a6ac-425856a8252b",
   "metadata": {},
   "source": [
    "(chap-one-qubit-gates)=\n",
    "# One-qubit gates"
   ]
  },
  {
   "cell_type": "markdown",
   "id": "41b4269a-bfdc-41ab-bd20-ada1b44f4579",
   "metadata": {},
   "source": [
    "In quantum computing, we manipulate the state of qubits by applying a series of gates on qubits. In this chapter, I introduce various single-qubit gates commonly used in quantum computing. They are unitary operators in $\\mathbb{C}^2$. Some are Hermitian and others are not.  Some are parameter-free and others require parameter values.   {numref}`tbl-q1gates` lists commonly used single-qubit gates.  I explain some the most important ones in the following section.  See also Qiskit documentation"
   ]
  },
  {
   "cell_type": "markdown",
   "id": "0de2299e-bb47-4536-9608-7a64a7f99c21",
   "metadata": {},
   "source": [
    "```{table} Commonly used single-qubit gates\n",
    ":name: tbl-q1gates\n",
    "\n",
    "\n",
    "| Generaic Name | Qiskit Class Name |  Qiskit Ciruit Name  | Symbols |\n",
    "| :-----------: | :---------------: | :------------------: | :-----: |\n",
    "| Pauli X       | XGate             | x                    |  `X`    |\n",
    "| Pauli Y       | YGate             | y                    |  `Y`    |\n",
    "| Pauli Z       | ZGate             | z                    |  `Z`    |\n",
    "| Hadamard      | HGate             | h                    |  `H`    |\n",
    "| Sqrt X        | SXGate            | sx                   | `SX`    |\n",
    "| Inverse sqrt X | SXdgGate         | sxdg                 | `SX`$^\\dagger$ |\n",
    "| Sqrt Z        | SGate             | s                    | `S`     |\n",
    "| Inverse sqrt Z | SdgGate          | sdg                  |`S`$^\\dagger$ |\n",
    "| 4th root Z    | TGate             | t                    | `T`     |\n",
    "| Inverse 4th root Z | TdgGate      | tdg                  | `T`$^\\dagger$ |\n",
    "| Phase         | PhaseGate         | p                    | `P`     |\n",
    "| Rotation X    | RXGate            | rx                   | `R`$_x$ |\n",
    "| Rotation Y    | RYGate            | ry                   | `R`$_y$ |\n",
    "| Rotation Z    | RZGate            | rz                   | `R`$_z$ |\n",
    "| Unitary 2     | U2Gate            | u2                   | `U`$_2$ |\n",
    "| Unitary 3     | UGate             | u                    | `U`|\n",
    "```"
   ]
  },
  {
   "cell_type": "markdown",
   "id": "39227117-80eb-42b5-88af-1613afff5428",
   "metadata": {},
   "source": [
    "Their definition and typical usage of those gates are explained in the following sections."
   ]
  },
  {
   "cell_type": "markdown",
   "id": "9a99e72f-2a52-4c6e-978e-8d114e317e0e",
   "metadata": {},
   "source": [
    "## Combination of gates\n",
    "\n",
    "When gate $Y$ is applied after $X$, we write it $Y \\cdot X$. We can think of a gate $(Y \\cdot X)$  acts on a state vector as\n",
    "\n",
    "$$\n",
    "Y (X |\\psi\\rangle) = (Y \\cdot X) |\\psi\\rangle\n",
    "$$\n",
    "\n",
    "We put \"$\\cdot$\" between the gates to avoid confusion.  For example $SX$ is a single gate and $S \\cdot X$ is a product of $S$ and $X$.\n",
    "\n",
    "The order is important.  $Y \\cdot X$ is not necessarily equal to $X \\cdot Y$.\n",
    "\n",
    "In quantum circuit, the gates act from left to right.  For example,  $Y\\cdot X |0\\rangle$ becomes"
   ]
  },
  {
   "cell_type": "code",
   "execution_count": 1,
   "id": "ee3808f8-77ae-45b5-ace0-19062ea53689",
   "metadata": {
    "tags": [
     "hide-input"
    ]
   },
   "outputs": [
    {
     "data": {
      "text/html": [
       "<pre style=\"word-wrap: normal;white-space: pre;background: #fff0;line-height: 1.1;font-family: &quot;Courier New&quot;,Courier,monospace\">   ┌───┐┌───┐\n",
       "q: ┤ X ├┤ Y ├\n",
       "   └───┘└───┘</pre>"
      ],
      "text/plain": [
       "   ┌───┐┌───┐\n",
       "q: ┤ X ├┤ Y ├\n",
       "   └───┘└───┘"
      ]
     },
     "execution_count": 1,
     "metadata": {},
     "output_type": "execute_result"
    }
   ],
   "source": [
    "from qiskit import QuantumCircuit\n",
    "\n",
    "qc=QuantumCircuit(1)\n",
    "qc.x(0)\n",
    "qc.y(0)\n",
    "qc.draw()"
   ]
  },
  {
   "cell_type": "code",
   "execution_count": null,
   "id": "36c2737e-b1df-487a-9f16-ef8a165a1d9f",
   "metadata": {},
   "outputs": [],
   "source": []
  }
 ],
 "metadata": {
  "kernelspec": {
   "display_name": "Python 3 (ipykernel)",
   "language": "python",
   "name": "python3"
  },
  "language_info": {
   "codemirror_mode": {
    "name": "ipython",
    "version": 3
   },
   "file_extension": ".py",
   "mimetype": "text/x-python",
   "name": "python",
   "nbconvert_exporter": "python",
   "pygments_lexer": "ipython3",
   "version": "3.9.12"
  }
 },
 "nbformat": 4,
 "nbformat_minor": 5
}
