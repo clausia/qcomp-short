{
 "cells": [
  {
   "cell_type": "code",
   "execution_count": 140,
   "id": "d0fa66fb-91b5-4de6-8b3d-f57fbdb0ffe9",
   "metadata": {},
   "outputs": [
    {
     "data": {
      "text/plain": [
       "645"
      ]
     },
     "execution_count": 140,
     "metadata": {},
     "output_type": "execute_result"
    }
   ],
   "source": [
    "# import numpy\n",
    "import numpy as np\n",
    "\n",
    "# import entire qiskit\n",
    "from qiskit import *\n",
    "from qiskit.circuit import *\n",
    "\n",
    "# Chose a general quantum simulator without noise.\n",
    "# The simulator behaves as an ideal quantum computer.\n",
    "backend = Aer.get_backend('qasm_simulator')\n",
    "    \n",
    "a=[-0.23839, 0.64851, 2.39561]\n",
    "b=[ 1.17082, 0.71778,-1.21405]\n",
    "c=[-0.19782, 0.46408, 0.321]\n",
    "\n",
    "kp=1000\n",
    "xp=np.zeros((2,kp))\n",
    "yp=np.zeros((kp))\n",
    "zp=np.zeros((kp))\n",
    "\n",
    "radius = np.sqrt(2/np.pi)\n",
    "\n",
    "for i in range(kp):\n",
    "    \n",
    "    x=2*(np.random.rand(2)) - 1\n",
    "    y=0\n",
    "\n",
    "    r=np.linalg.norm(x)\n",
    "    \n",
    "    if np.sqrt(x[0]**2+x[1]**2) < radius:\n",
    "        y=1\n",
    "\n",
    "    xp[:,i]=x\n",
    "    yp[i]=y\n",
    "\n",
    "    # set classical register (bit)\n",
    "    cr = ClassicalRegister(1,'c')\n",
    "\n",
    "    # set quantum register (qubit)\n",
    "    qr = QuantumRegister(1,'q')\n",
    "\n",
    "    # reset the quantum circuit\n",
    "    qc = QuantumCircuit(qr,cr)\n",
    "\n",
    "    qc.u(x[0],x[1],0,0)\n",
    "    qc.u(a[0],b[0],c[0],0)\n",
    "    qc.u(x[0],x[1],0,0)\n",
    "    qc.u(a[1],b[1],c[1],0)\n",
    "    qc.u(x[0],x[1],0,0)\n",
    "    qc.u(a[2],b[2],c[2],0)\n",
    "  \n",
    "    \n",
    "    # measurement on qubit \n",
    "    # output is stored in cllasical register\n",
    "    qc.measure(qr,cr)\n",
    "    # Execute the quantum circuit 10000 times\n",
    "    job = backend.run(qc,shots=100)\n",
    "\n",
    "    # get the result\n",
    "    result = job.result()\n",
    "\n",
    "    # Count the outcome\n",
    "    # Numbers of |0> and |1>\n",
    "    counts = result.get_counts()\n",
    "    \n",
    "    z=0\n",
    "    if counts.get('0',0)<counts.get('1',0):\n",
    "        z=1\n",
    "\n",
    "    zp[i]=z\n",
    "\n",
    "np.count_nonzero(zp==yp)"
   ]
  },
  {
   "cell_type": "code",
   "execution_count": null,
   "id": "83857948-6497-4c3e-9c06-d1376da40724",
   "metadata": {},
   "outputs": [],
   "source": [
    "import matplotlib.pyplot as plt\n",
    "fig, axes = plt.subplots(1, 3, figsize=(10, 3))\n",
    "plot_data(X_test, initial_predictions, fig, axes[0])\n",
    "plot_data(X_test, predicted_test, fig, axes[1])\n",
    "plot_data(X_test, y_test, fig, axes[2])\n",
    "axes[0].set_title(\"Predictions with random weights\")\n",
    "axes[1].set_title(\"Predictions after training\")\n",
    "axes[2].set_title(\"True test data\")\n",
    "plt.tight_layout()\n",
    "plt.show()"
   ]
  }
 ],
 "metadata": {
  "kernelspec": {
   "display_name": "Python 3 (ipykernel)",
   "language": "python",
   "name": "python3"
  },
  "language_info": {
   "codemirror_mode": {
    "name": "ipython",
    "version": 3
   },
   "file_extension": ".py",
   "mimetype": "text/x-python",
   "name": "python",
   "nbconvert_exporter": "python",
   "pygments_lexer": "ipython3",
   "version": "3.9.12"
  }
 },
 "nbformat": 4,
 "nbformat_minor": 5
}
