{
 "cells": [
  {
   "cell_type": "markdown",
   "id": "3a76dae9-b942-4758-8f38-d8fdd9143876",
   "metadata": {
    "tags": []
   },
   "source": [
    "(sec-rgate)=\n",
    "# Rotation Gates, RX, RY, RZ\n",
    "\n",
    "We shall call $RX$, $RY$, and $RY$ gates RXGate, RYGate and RZGate, respectively.  All rotation gates require one parameter.\n",
    "\n",
    "Qiskit circuit names are `rx`, `ry`, and `rx`, respectively."
   ]
  },
  {
   "cell_type": "markdown",
   "id": "352c86eb-f27f-4710-801c-14a2ee5fd406",
   "metadata": {
    "tags": []
   },
   "source": [
    "[API References: RXGate](https://qiskit.org/documentation/stubs/qiskit.circuit.library.RXGate.html)  \n",
    "[API References: RYGate](https://qiskit.org/documentation/stubs/qiskit.circuit.library.RYGate.html)  \n",
    "[API References: RZGate](https://qiskit.org/documentation/stubs/qiskit.circuit.library.RZGate.html)  "
   ]
  },
  {
   "cell_type": "markdown",
   "id": "13495b13-a686-44e8-bcab-24b79c1c2c29",
   "metadata": {},
   "source": [
    "## Definition\n",
    "\n",
    "> $RX(\\theta) = e^{-i X \\theta/2} = \\cos(\\theta/2) I - i \\sin(\\theta/2) X$   \n",
    "> $RY(\\theta) = e^{-i Y \\theta/2} = \\cos(\\theta/2) I - i \\sin(\\theta/2) Y$  \n",
    "> $RZ(\\theta) = e^{-i Z \\theta/2} = \\cos(\\theta/2) I - i \\sin(\\theta/2) Z$ \n",
    "\n",
    "These gates rotates the Bloch vector arounf $x$, $y$, and $z$ axis by $\\theta$, respectively. They appear in quantum circuit as"
   ]
  },
  {
   "cell_type": "code",
   "execution_count": 1,
   "id": "74eaf25d-2469-4a23-9fe4-3fcea63396a3",
   "metadata": {
    "tags": [
     "hide-input"
    ]
   },
   "outputs": [
    {
     "data": {
      "text/html": [
       "<pre style=\"word-wrap: normal;white-space: pre;background: #fff0;line-height: 1.1;font-family: &quot;Courier New&quot;,Courier,monospace\">   ┌───────┐┌───────┐┌───────┐\n",
       "q: ┤ Rx(t) ├┤ Ry(t) ├┤ Rz(t) ├\n",
       "   └───────┘└───────┘└───────┘</pre>"
      ],
      "text/plain": [
       "   ┌───────┐┌───────┐┌───────┐\n",
       "q: ┤ Rx(t) ├┤ Ry(t) ├┤ Rz(t) ├\n",
       "   └───────┘└───────┘└───────┘"
      ]
     },
     "execution_count": 1,
     "metadata": {},
     "output_type": "execute_result"
    }
   ],
   "source": [
    "from qiskit.circuit import QuantumCircuit, Parameter\n",
    "t=Parameter('t')\n",
    "qc=QuantumCircuit(1)\n",
    "qc.rx(t,0)\n",
    "qc.ry(t,0)\n",
    "qc.rz(t,0)\n",
    "qc.draw()"
   ]
  },
  {
   "cell_type": "markdown",
   "id": "63af7ad8-b74a-4b0f-bac4-53de58a9d77a",
   "metadata": {
    "jp-MarkdownHeadingCollapsed": true,
    "tags": []
   },
   "source": [
    "## Additional useful Properties\n",
    "\n",
    "In the following $R$ represent any of $RX$, $RY$, and $RZ$.\n",
    "\n",
    "1. $R^\\dagger(\\theta) = R^{-1}(\\theta) = R(-\\theta)$\n",
    "2. $R^{\\alpha} (\\theta) = R(\\alpha\\theta)$\n",
    "3. $R(\\theta_2) \\cdot R(\\theta_1) = R(\\theta_1 + \\theta_2)$  (note: all rotations must be around the same axis.)"
   ]
  },
  {
   "cell_type": "markdown",
   "id": "d1be6ef8-ac13-41e8-be96-63778495b401",
   "metadata": {},
   "source": [
    "## Relation with other gates\n",
    "\n",
    "By definition a one-qubit gate transforms a Bloch vector to another, which is a rotation of the Bloch vector.  Hence, Any one-qubit gate can be expressed as rotation.  In turn, any rotation can be expressed by a combination of rotations.  Hence, any one-qubit gate can be expressed with a comination of RXGate, RYGate, and RZGate.  Mathematically, these three gates are enough to describe quantum computation.  However, the combination of rotation gates are not necessarily the most efficient implementation of gates.  Parameter-free gates are still preferred.\n",
    "\n",
    "The previous gates are related to the rotation as\n",
    "\n",
    "* $X = i RX(\\pi) \\simeq RX(\\pi)$\n",
    "* $Y = i RY(\\pi) \\simeq RY(\\pi)$\n",
    "* $Z = i RZ(\\pi) \\simeq RZ(\\pi)$\n",
    "* $H = X \\cdot Y^{1/2} = i RX(\\p\n"
   ]
  },
  {
   "cell_type": "markdown",
   "id": "86d1d0fc-003f-46b3-8b88-5b9461b7be36",
   "metadata": {},
   "source": [
    "\n",
    "---\n",
    "Last modified"
   ]
  }
 ],
 "metadata": {
  "kernelspec": {
   "display_name": "Python 3 (ipykernel)",
   "language": "python",
   "name": "python3"
  },
  "language_info": {
   "codemirror_mode": {
    "name": "ipython",
    "version": 3
   },
   "file_extension": ".py",
   "mimetype": "text/x-python",
   "name": "python",
   "nbconvert_exporter": "python",
   "pygments_lexer": "ipython3",
   "version": "3.9.12"
  }
 },
 "nbformat": 4,
 "nbformat_minor": 5
}
