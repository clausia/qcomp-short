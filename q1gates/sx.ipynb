{
 "cells": [
  {
   "cell_type": "markdown",
   "id": "3a76dae9-b942-4758-8f38-d8fdd9143876",
   "metadata": {
    "tags": []
   },
   "source": [
    "(sec-sxgate)=\n",
    "# SX and SXdg Gates\n",
    "\n",
    "SX gate is a native gate of IBMQ hardware. Do not get confused with $S$ times $X$.\n",
    "\n",
    "[API References: SXGate](https://qiskit.org/documentation/stubs/qiskit.circuit.library.SXGate.html#qiskit.circuit.library.SXGate)  \n",
    "[API References: SXdgGate](https://qiskit.org/documentation/stubs/qiskit.circuit.library.SXdgGate.html#qiskit.circuit.library.SXdgGate) "
   ]
  },
  {
   "cell_type": "markdown",
   "id": "e42222f6-f0fc-4da3-88d1-243547ba57f7",
   "metadata": {},
   "source": [
    "## Definition\n",
    "\n",
    "> $SX |0\\rangle = e^{i\\pi/4}|0\\rangle + e^{-i\\pi/4} |1\\rangle = e^{i\\pi/4}|R\\rangle, \\quad SX |1\\rangle = e^{-i\\pi/4}|0\\rangle + e^{i\\pi/4} |1\\rangle = e^{i\\pi/4}|R\\rangle$\n",
    "> $SX^\\dagger |0\\rangle = e^{-i\\pi/4} |0\\rangle + e^{i\\pi/4} |1\\rangle = e^{-i\\pi/4}|L\\rangle, \\quad SX^\\dagger |1\\rangle = e^{i\\pi/4}|0\\rangle + e^{-i\\pi/4} |1\\rangle = e^{i\\pi/4}|R\\rangle$\n",
    "\n",
    "When they acts on $\\{|+\\rangle,|-\\rangle\\}$ basis, only the phase on $|-\\rangle$ changes as follows:\n",
    "\n",
    "> $SX |+\\rangle = |+\\rangle, \\quad SX |-\\rangle = i |-\\rangle$  \n",
    "> $SX^\\dagger |+\\rangle = |+\\rangle, \\quad SX^\\dagger |-\\rangle = -i |-\\rangle$\n",
    "\n",
    "From these expression, it is clear that $SX^2 = (SX^\\dagger)^2 = X$.  Hence, SX and SXdg are square roots of $X$,  $SX=X^{1/2}$ and $SX^\\dagger = X^{-1/2}$.\n",
    "\n",
    "The qiskit circuit symbol is $\\sqrt{X}$ for SXGate and $\\sqrt{Xdg}$ for SXdgGate. They appear in quantum circuits as"
   ]
  },
  {
   "cell_type": "code",
   "execution_count": 2,
   "id": "0b617062-6d35-4991-9080-c8bc7637014f",
   "metadata": {
    "tags": [
     "hide-input"
    ]
   },
   "outputs": [
    {
     "data": {
      "text/html": [
       "<pre style=\"word-wrap: normal;white-space: pre;background: #fff0;line-height: 1.1;font-family: &quot;Courier New&quot;,Courier,monospace\">   ┌────┐┌──────┐\n",
       "q: ┤ √X ├┤ √Xdg ├\n",
       "   └────┘└──────┘</pre>"
      ],
      "text/plain": [
       "   ┌────┐┌──────┐\n",
       "q: ┤ √X ├┤ √Xdg ├\n",
       "   └────┘└──────┘"
      ]
     },
     "execution_count": 2,
     "metadata": {},
     "output_type": "execute_result"
    }
   ],
   "source": [
    "from qiskit import QuantumCircuit\n",
    "qc=QuantumCircuit(1)\n",
    "qc.sx(0)\n",
    "qc.sxdg(0)\n",
    "qc.draw()"
   ]
  },
  {
   "cell_type": "markdown",
   "id": "62cfafee-68da-4768-80d7-032650288fcc",
   "metadata": {},
   "source": [
    "## Acting on a superposition state\n",
    "\n",
    "When SXGate and SXdgGate are applied to a super position state the coefficient to $|0\\rangle$ remains the same but that of $|1\\rangle$ gets additional phase factor.  That is\n",
    "\n",
    ">$$\n",
    "SX \\left (c_0 |0\\rangle + c_1 |1\\rangle\\right) = \\frac{1}{\\sqrt{2}}\\left(e^{i \\pi/4} c_0 + e^{-i \\pi/4} c_1\\right) |0\\rangle + \\frac{1}{\\sqrt{2}}\\left(e^{-i \\pi/4} c_0 + e^{i \\pi/4} c_1\\right) |1\\rangle \n",
    "$$(SX-on-superpos)\n",
    "\n",
    ">$$\n",
    "SX^\\dagger \\left (c_0 |0\\rangle + c_1 |1\\rangle\\right) = \\frac{1}{\\sqrt{2}}\\left(e^{-i \\pi/4} c_0 + e^{i \\pi/4} c_1\\right) |0\\rangle + \\frac{1}{\\sqrt{2}}\\left(e^{i \\pi/4} c_0 + e^{-i \\pi/4} c_1\\right) |1\\rangle \n",
    "$$(SXdg-on-superpos)\n",
    "\n",
    "\n",
    "In $\\{|+\\rangle,|-\\rangle\\}$ basis,\n",
    "\n",
    ">$$\n",
    "SX \\left(c_0 |+\\rangle + c_1|-\\rangle\\right) = c_0 |+\\rangle + i c_1 |-\\rangle\n",
    "$$(SX-on-supoerpos+)\n",
    "\n",
    ">$$\n",
    "SX^\\dagger \\left(c_0 |+\\rangle + c_1|-\\rangle\\right) = c_0 |+\\rangle - i c_1 |-\\rangle\n",
    "$$(SXdg-on-supoerpos+)\n",
    "\n",
    "Comparing these relations with Eqs. {eq}`S-on-superpos` and {eq}`Sdg-on-superpos`, we find that SXGate and SGate work in the same way but in different basis sets."
   ]
  },
  {
   "cell_type": "markdown",
   "id": "e27516f6-75ec-475a-bad0-622379824699",
   "metadata": {},
   "source": [
    "## Additional useful Properties\n",
    "\n",
    "$SX \\cdot SX = SX^\\dagger \\cdot SX^\\dagger = X$ implies that\n",
    "1. $SX = X \\cdot SX^\\dagger = SX^\\dagger\\cdot X, \\quad SX^\\dagger = X \\cdot SX = SX \\cdot X$.\n",
    "2. $X = SX \\cdot X \\cdot SX^\\dagger = SX^\\dagger \\cdot X \\cdot SX$\n",
    "3. $SX = X \\cdot SX \\cdot X, \\quad SX^\\dagger = X \\cdot SX^\\dagger \\cdot X$."
   ]
  },
  {
   "cell_type": "code",
   "execution_count": null,
   "id": "7c91a87e-e056-40e0-9358-0ec497349f29",
   "metadata": {},
   "outputs": [],
   "source": []
  }
 ],
 "metadata": {
  "kernelspec": {
   "display_name": "Python 3 (ipykernel)",
   "language": "python",
   "name": "python3"
  },
  "language_info": {
   "codemirror_mode": {
    "name": "ipython",
    "version": 3
   },
   "file_extension": ".py",
   "mimetype": "text/x-python",
   "name": "python",
   "nbconvert_exporter": "python",
   "pygments_lexer": "ipython3",
   "version": "3.9.12"
  }
 },
 "nbformat": 4,
 "nbformat_minor": 5
}
