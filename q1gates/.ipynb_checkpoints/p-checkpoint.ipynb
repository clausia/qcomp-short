{
 "cells": [
  {
   "cell_type": "markdown",
   "id": "3a76dae9-b942-4758-8f38-d8fdd9143876",
   "metadata": {
    "tags": []
   },
   "source": [
    "# P Gate\n",
    "\n",
    "P gate is also known as *phase gate*.  Unlike previous gates, it requires a parameter.\n",
    "\n",
    "[API References: PhaseGate](https://qiskit.org/documentation/stubs/qiskit.circuit.library.PhaseGate.html#qiskit.circuit.library.PhaseGate)  "
   ]
  },
  {
   "cell_type": "markdown",
   "id": "f5626ae9-ced1-4c1d-8d53-94d11b2cd307",
   "metadata": {},
   "source": [
    "## Definition\n",
    "\n",
    "> $P(t) |0\\rangle = |0\\rangle, \\qquad P(t) |1\\rangle = e^{i t}|1\\rangle$\n",
    "\n",
    "\n",
    "\n",
    "The qiskit circuit symbol is $P$. It appears in quantum circuits as"
   ]
  },
  {
   "cell_type": "code",
   "execution_count": 3,
   "id": "4350af63-7bdf-4101-a404-fc3c3a80b6c4",
   "metadata": {
    "tags": [
     "hide-input"
    ]
   },
   "outputs": [
    {
     "data": {
      "text/html": [
       "<pre style=\"word-wrap: normal;white-space: pre;background: #fff0;line-height: 1.1;font-family: &quot;Courier New&quot;,Courier,monospace\">   ┌──────┐\n",
       "q: ┤ P(t) ├\n",
       "   └──────┘</pre>"
      ],
      "text/plain": [
       "   ┌──────┐\n",
       "q: ┤ P(t) ├\n",
       "   └──────┘"
      ]
     },
     "execution_count": 3,
     "metadata": {},
     "output_type": "execute_result"
    }
   ],
   "source": [
    "from qiskit.circuit import QuantumCircuit, Parameter\n",
    "t=Parameter('t')\n",
    "qc=QuantumCircuit(1)\n",
    "qc.p(t,0)\n",
    "qc.draw()"
   ]
  },
  {
   "cell_type": "code",
   "execution_count": null,
   "id": "fe3df4e2-08e2-47e0-92c3-91bcbbb1d90f",
   "metadata": {},
   "outputs": [],
   "source": []
  }
 ],
 "metadata": {
  "kernelspec": {
   "display_name": "Python 3 (ipykernel)",
   "language": "python",
   "name": "python3"
  },
  "language_info": {
   "codemirror_mode": {
    "name": "ipython",
    "version": 3
   },
   "file_extension": ".py",
   "mimetype": "text/x-python",
   "name": "python",
   "nbconvert_exporter": "python",
   "pygments_lexer": "ipython3",
   "version": "3.9.12"
  }
 },
 "nbformat": 4,
 "nbformat_minor": 5
}
