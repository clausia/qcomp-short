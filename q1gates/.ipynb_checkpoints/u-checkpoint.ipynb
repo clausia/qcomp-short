{
 "cells": [
  {
   "cell_type": "markdown",
   "id": "751d0778-eb5c-4015-a71d-dcbb733e39e8",
   "metadata": {},
   "source": [
    "(sec-ugate)=\n",
    "\n",
    "# U Gate"
   ]
  },
  {
   "cell_type": "markdown",
   "id": "b45e0be3-5b66-41d4-bfae-959015c0f7be",
   "metadata": {},
   "source": [
    "When a gate acts on a qubit, it rotates the Bloch vector.  Any rotation can be specified with three angles, $\\theta$, $\\phi$, and $\\lambda$.  They are known as [*Euler angles*](https://en.wikipedia.org/wiki/Euler_angles). In standard quantum computation, a standard Euler rotation $z-y-z$ is used.  That is rotating 1) around $z$ axis by $\\lambda$, 2) around $y$ axis by $\\theta$, and 3) around $z$ axis by $\\phi$.  The rotations must be done in this order.  This gate transforms $|0\\rangle$ to a general qubit state."
   ]
  },
  {
   "cell_type": "markdown",
   "id": "4051b830-8339-4ae4-8c23-8b15ded867a2",
   "metadata": {},
   "source": [
    "[Qiskit API References: UGate](https://qiskit.org/documentation/stubs/qiskit.circuit.library.UGate.html)"
   ]
  },
  {
   "cell_type": "markdown",
   "id": "58cde0b4-3659-444e-a7b5-b593fa17a7a1",
   "metadata": {},
   "source": [
    "## Definition\n",
    "\n",
    "**Transformation**\n",
    "\n",
    ">$$\n",
    "U(\\theta,\\phi,\\lambda) |0\\rangle = \\cos(\\theta/2) |0\\rangle + \\sin(\\theta/2) e^{i \\phi} |1\\rangle, \\qquad\n",
    "U(\\theta,\\phi,\\lambda) |1\\rangle = - e^{i \\phi} \\left[\\sin(\\theta/2) |0\\rangle  - \\cos(\\theta/2) e^{i \\lambda}|1\\rangle\\right]\n",
    "$$\n",
    "\n",
    "Notice that when it acts on $|0\\rangle$, we obtain a general state in the Bloch sphere expression (no $\\lambda$ appears in it).\n",
    "\n",
    "\n",
    "The expression is complicated and it is hard to see how the Bloch vector is transformed.\n",
    "\n",
    "**Matrix expression**\n",
    "\n",
    ">$$\n",
    "U(\\theta,\\phi,\\lambda) \\doteq \\begin{bmatrix} \\cos(\\theta/2) & - e^{i \\phi} \\sin(\\theta/2) \\\\ e^{i \\lambda} \\sin(\\theta/2) & e^{i (\\lambda+\\phi)} \\cos(\\theta/2)\\end{bmatrix}\n",
    "$$\n",
    "\n",
    "**Using Rotation gates**\n",
    "\n",
    "The $U$ gate used to be defined as $U(\\theta,\\phi,\\lambda)=R_z(\\phi) R_y(\\theta) R_z(\\lambda)$. (See [OpenQASM 2](https://doi.org/10.48550/arXiv.1707.03429).)  However, it adds a global phase on the Bloch sphere expression. To remove the inconvenience, now it is officially defined in [OpenQASM 3](https://openqasm.com/language/gates.html#built-in-gates) as\n",
    "\n",
    ">$$\n",
    "U(\\theta,\\phi,\\lambda) = e^{i (\\lambda+\\phi)/2} R_z(\\phi) R_y(\\theta) R_z(\\lambda) .\n",
    "$$\n",
    "\n"
   ]
  },
  {
   "cell_type": "markdown",
   "id": "63f47781-6c20-4a1c-8677-0125ab700ddb",
   "metadata": {},
   "source": [
    "Since this is a general rotation gate, we apply it to a general state expressed in the Bloch sphere.   \n",
    "\n",
    ">$$\n",
    "\\begin{eqnarray}\n",
    "U(\\theta,\\phi,\\lambda)\\left(\\cos(\\alpha/2)|0\\rangle+\\sin(\\alpha/2)e^{i\\beta}|1\\rangle\\right) \n",
    "&=& \\frac{1}{2}\\left[(1+e^{i(\\beta+\\lambda)})\\cos\\left(\\frac{\\alpha+\\theta}{2}\\right)+(1-e^{i(\\beta+\\lambda)})\\cos\\left(\\frac{\\alpha-\\theta}{2}\\right)\\right]|0\\rangle\\\\\n",
    "&+& \\frac{1}{2}e^{i \\phi} \\left[(1+e^{i(\\beta+\\lambda)})\\sin\\left(\\frac{\\alpha+\\theta}{2}\\right)-(1-e^{i(\\beta+\\lambda)})\\sin\\left(\\frac{\\alpha-\\theta}{2}\\right)\\right]|1\\rangle\n",
    "\\end{eqnarray}\n",
    "$$\n"
   ]
  },
  {
   "cell_type": "code",
   "execution_count": null,
   "id": "0ff97b8f-2325-492b-9775-b8fab94587cb",
   "metadata": {},
   "outputs": [],
   "source": []
  }
 ],
 "metadata": {
  "kernelspec": {
   "display_name": "Python 3 (ipykernel)",
   "language": "python",
   "name": "python3"
  },
  "language_info": {
   "codemirror_mode": {
    "name": "ipython",
    "version": 3
   },
   "file_extension": ".py",
   "mimetype": "text/x-python",
   "name": "python",
   "nbconvert_exporter": "python",
   "pygments_lexer": "ipython3",
   "version": "3.9.12"
  }
 },
 "nbformat": 4,
 "nbformat_minor": 5
}
