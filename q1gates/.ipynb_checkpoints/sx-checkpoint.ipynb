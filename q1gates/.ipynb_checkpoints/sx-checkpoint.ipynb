{
 "cells": [
  {
   "cell_type": "markdown",
   "id": "3a76dae9-b942-4758-8f38-d8fdd9143876",
   "metadata": {
    "tags": []
   },
   "source": [
    "(sec-sxgate)=\n",
    "# SX and SXdg Gates\n",
    "\n",
    "SX gate is a native gate of IBMQ hardware. Do not get confused with $S$ times $X$.\n",
    "\n",
    "[API References: SXGate](https://qiskit.org/documentation/stubs/qiskit.circuit.library.SXGate.html#qiskit.circuit.library.SXGate)  \n",
    "[API References: SXdgGate](https://qiskit.org/documentation/stubs/qiskit.circuit.library.SXdgGate.html#qiskit.circuit.library.SXdgGate) "
   ]
  },
  {
   "cell_type": "markdown",
   "id": "e42222f6-f0fc-4da3-88d1-243547ba57f7",
   "metadata": {},
   "source": [
    "## Definition\n",
    "\n",
    "> $SX |0\\rangle = e^{i\\pi/4}|0\\rangle + e^{-i\\pi/4} |1\\rangle = e^{i\\pi/4}|R\\rangle, \\quad SX |1\\rangle = e^{-i\\pi/4}|0\\rangle + e^{i\\pi/4} |1\\rangle = e^{i\\pi/4}|R\\rangle$\n",
    "> $SX^\\dagger |0\\rangle = e^{-i\\pi/4} |0\\rangle + e^{i\\pi/4} |1\\rangle = e^{-i\\pi/4}|L\\rangle, \\quad SX^\\dagger |1\\rangle = e^{i\\pi/4}|0\\rangle + e^{-i\\pi/4} |1\\rangle = e^{i\\pi/4}|R\\rangle$\n",
    "\n",
    "When they acts on $\\{|+\\rangle,|-\\rangle\\}$ basis, only the phase on $|-\\rangle$ changes as follows:\n",
    "\n",
    "> $SX |+\\rangle = |+\\rangle, \\quad SX |-\\rangle = i |-\\rangle$  \n",
    "> $SX^\\dagger |+\\rangle = |+\\rangle, \\quad SX^\\dagger |-\\rangle = -i |-\\rangle$\n",
    "\n",
    "From these expression, it is clear that $SX^2 = (SX^\\dagger)^2 = X$.  Hence, SX and SXdg are square roots of $X$,  $SX=X^{1/2}$ and $SX^\\dagger = X^{-1/2}$.\n",
    "\n",
    "The qiskit circuit symbol is $\\sqrt{X}$ for SXGate and $\\sqrt{Xdg}$ for SXdgGate. They appear in quantum circuits as"
   ]
  },
  {
   "cell_type": "code",
   "execution_count": 2,
   "id": "0b617062-6d35-4991-9080-c8bc7637014f",
   "metadata": {
    "tags": [
     "hide-input"
    ]
   },
   "outputs": [
    {
     "data": {
      "text/html": [
       "<pre style=\"word-wrap: normal;white-space: pre;background: #fff0;line-height: 1.1;font-family: &quot;Courier New&quot;,Courier,monospace\">   ┌────┐┌──────┐\n",
       "q: ┤ √X ├┤ √Xdg ├\n",
       "   └────┘└──────┘</pre>"
      ],
      "text/plain": [
       "   ┌────┐┌──────┐\n",
       "q: ┤ √X ├┤ √Xdg ├\n",
       "   └────┘└──────┘"
      ]
     },
     "execution_count": 2,
     "metadata": {},
     "output_type": "execute_result"
    }
   ],
   "source": [
    "from qiskit import QuantumCircuit\n",
    "qc=QuantumCircuit(1)\n",
    "qc.sx(0)\n",
    "qc.sxdg(0)\n",
    "qc.draw()"
   ]
  },
  {
   "cell_type": "markdown",
   "id": "62cfafee-68da-4768-80d7-032650288fcc",
   "metadata": {},
   "source": [
    "## Acting on a superposition state\n",
    "\n",
    "When SXGate and SXdgGate are applied to a super position state the coefficient to $|0\\rangle$ remains the same but that of $|1\\rangle$ gets additional phase factor.  That is\n",
    "\n",
    ">$$\n",
    "SX \\left (c_0 |0\\rangle + c_1 |1\\rangle\\right) = \\frac{1}{\\sqrt{2}}\\left(e^{i \\pi/4} c_0 + e^{-i \\pi/4} c_1\\right) |0\\rangle + \\frac{1}{\\sqrt{2}}\\left(e^{-i \\pi/4} c_0 + e^{i \\pi/4} c_1\\right) |1\\rangle \n",
    "$$(SX-on-superpos)\n",
    "\n",
    ">$$\n",
    "SX^\\dagger \\left (c_0 |0\\rangle + c_1 |1\\rangle\\right) = \\frac{1}{\\sqrt{2}}\\left(e^{-i \\pi/4} c_0 + e^{i \\pi/4} c_1\\right) |0\\rangle + \\frac{1}{\\sqrt{2}}\\left(e^{i \\pi/4} c_0 + e^{-i \\pi/4} c_1\\right) |1\\rangle \n",
    "$$(SXdg-on-superpos)\n",
    "\n",
    "\n",
    "In $\\{|+\\rangle,|-\\rangle\\}$ basis,\n",
    "\n",
    ">$$\n",
    "SX \\left(c_0 |+\\rangle + c_1|-\\rangle\\right) = c_0 |+\\rangle + i c_1 |-\\rangle\n",
    "$$(SX-on-supoerpos+)\n",
    "\n",
    ">$$\n",
    "SX^\\dagger \\left(c_0 |+\\rangle + c_1|-\\rangle\\right) = c_0 |+\\rangle - i c_1 |-\\rangle\n",
    "$$(SXdg-on-supoerpos+)\n",
    "\n",
    "Comparing these relations with Eqs. {eq}`S-on-superpos` and {eq}`Sdg-on-superpos`, we find that SXGate and SGate work in the same way but in different basis sets."
   ]
  },
  {
   "cell_type": "markdown",
   "id": "adad5622-8cea-435a-8721-a623f88d26bc",
   "metadata": {},
   "source": [
    "## Definition and Properties"
   ]
  },
  {
   "cell_type": "markdown",
   "id": "c725dc09-7d5b-4778-93ee-c68bce5d2ed8",
   "metadata": {},
   "source": [
    "__Definition__\n",
    "\n",
    "$\\qquad\\texttt{SX} = \\texttt{X}^{\\frac{1}{2}}, \\qquad \\texttt{SX}^\\dagger= \\texttt{X}^{-\\frac{1}{2}}$.\n",
    "\n",
    "which implies\n",
    "\n",
    "* $\\texttt{SX}\\, \\texttt{SX} =  \\texttt{SX}^\\dagger\\,  \\texttt{SX}^\\dagger = X$\n",
    "* $\\texttt{SX}\\,\\texttt{SX}^\\dagger = \\texttt{SX}^\\dagger\\, \\texttt{SX} = I$\n",
    "\n"
   ]
  },
  {
   "cell_type": "markdown",
   "id": "352c86eb-f27f-4710-801c-14a2ee5fd406",
   "metadata": {
    "tags": []
   },
   "source": [
    "__Matrix representation__   \n",
    "\n",
    "$\n",
    "\\qquad\\texttt{SX} = \\frac{1}{2} \\begin{bmatrix} 1+i & 1-i \\\\ 1-i & 1+i \\end{bmatrix}, \\qquad \\texttt{SX}^\\dagger = \\frac{1}{2} \\begin{bmatrix} 1-i & 1+i \\\\ 1+i & 1-i \\end{bmatrix}\n",
    "$"
   ]
  },
  {
   "cell_type": "markdown",
   "id": "f6186989-e227-48ff-8d00-462c08e1d192",
   "metadata": {},
   "source": [
    "__Actions on Pauli basis__\n",
    "1. `SX` changes the `Z`-basis to the `Y`-basis with additional phase:   \n",
    "$\n",
    "\\begin{align}\n",
    "&\\texttt{SX}|0\\rangle = e^{i\\pi/4}|R\\rangle, &&\\texttt{SX}|1\\rangle = e^{-i\\pi/4} |L\\rangle\\\\\n",
    "&\\texttt{SX}^\\dagger|0\\rangle = e^{-i\\pi/4}|L\\rangle, &&\\texttt{SX}^\\dagger|1\\rangle = e^{i\\pi/4} |R\\rangle\n",
    "\\end{align}\n",
    "$\n",
    "\n",
    "2. `SX` does not change the `X`-basis up to the phase factor:  \n",
    "$\n",
    "\\begin{align}\n",
    "&\\texttt{SX}|+\\rangle = |+\\rangle, &&\\texttt{SX}|-\\rangle = i|-\\rangle\\\\  \n",
    "&\\texttt{SX}^\\dagger|+\\rangle = |+\\rangle, &&\\texttt{SX}^\\dagger|-\\rangle = -i|-\\rangle\n",
    "\\end{align}\n",
    "$\n",
    "3. `SX` changes the `Y`-basis to the `Z`-basis with additional phase:  \n",
    "$\n",
    "\\begin{align}\n",
    "&\\texttt{SX}|L\\rangle = e^{i\\pi/4}|0\\rangle,  &&\\texttt{SX}|R\\rangle = e^{-i\\pi/4} | 1\\rangle\\\\  \n",
    "&\\texttt{SX}^\\dagger |L\\rangle = e^{i\\pi/4}|1\\rangle, &&\\texttt{SX}^\\dagger|R\\rangle = e^{-i\\pi/4} |0\\rangle\n",
    "\\end{align}\n",
    "$\n"
   ]
  },
  {
   "cell_type": "markdown",
   "id": "2827da53-e2d1-4fab-b7fb-67aafb077b43",
   "metadata": {},
   "source": [
    "__Useful Commutations and Similarity Transformation__  \n",
    "\n",
    "* $\\texttt{H}\\, \\texttt{SX} = \\texttt{S}\\, \\texttt{H}, \\qquad \\texttt{SX}\\, \\texttt{H} = \\texttt{H}\\, \\texttt{S}$\n",
    "* $\\texttt{SX} = \\texttt{H}\\,\\texttt{S}\\,\\texttt{H}, \\qquad  \\texttt{SX}^\\dagger = \\texttt{H}\\,\\texttt{S}^\\dagger\\,\\texttt{H  }$"
   ]
  },
  {
   "cell_type": "markdown",
   "id": "3721b521-f6a7-4b8f-a8f1-5d77cad77337",
   "metadata": {},
   "source": [
    "__Relation with Rotation__ (up to phase)\n",
    "\n",
    "* $\\texttt{SX} = e^{i \\pi/4}\\, \\texttt{R}_x\\left(\\frac{\\pi}{2}\\right), \\qquad \\texttt{SX}^\\dagger = e^{-i \\pi/4}\\, \\texttt{R}_x\\left(-\\frac{\\pi}{2}\\right)$.\n",
    "* $\\texttt{Rz}(\\theta) = \\texttt{SX}^\\dagger\\, \\texttt{Ry}(\\theta)\\, \\texttt{SX}$"
   ]
  },
  {
   "cell_type": "markdown",
   "id": "0f15d17e-e5c9-4589-aa73-eccbbb4bd731",
   "metadata": {},
   "source": [
    "__Qiskit__\n",
    "\n",
    " \n",
    "In Qiskit the gate names are `sx` for $\\texttt{SX}$ and `sxdg` for  $\\texttt{SX}^\\dagger$.  Their corresponding gate symbols are shown as"
   ]
  },
  {
   "cell_type": "code",
   "execution_count": null,
   "id": "534bac7b-cc6f-4ea1-90c5-da688ba32ac4",
   "metadata": {
    "tags": [
     "hide-input"
    ]
   },
   "outputs": [
    {
     "data": {
      "text/html": [
       "<pre style=\"word-wrap: normal;white-space: pre;background: #fff0;line-height: 1.1;font-family: &quot;Courier New&quot;,Courier,monospace\">      ┌────┐ \n",
       "q_0: ─┤ √X ├─\n",
       "     ┌┴────┴┐\n",
       "q_1: ┤ √Xdg ├\n",
       "     └──────┘</pre>"
      ],
      "text/plain": [
       "      ┌────┐ \n",
       "q_0: ─┤ √X ├─\n",
       "     ┌┴────┴┐\n",
       "q_1: ┤ √Xdg ├\n",
       "     └──────┘"
      ]
     },
     "execution_count": 1,
     "metadata": {},
     "output_type": "execute_result"
    }
   ],
   "source": [
    "from qiskit import QuantumCircuit\n",
    "qc=QuantumCircuit(2)\n",
    "qc.sx(0)\n",
    "qc.sxdg(1)\n",
    "qc.draw()"
   ]
  },
  {
   "cell_type": "markdown",
   "id": "32ff634b-4830-46c3-a03b-f69b9f2f770e",
   "metadata": {},
   "source": [
    "---\n",
    "__Decomposition of  `Ry`__\n",
    "\n",
    "`Ry` is not a native gate in IBMQ machines.  We want to express it with native gates  `Rz`and  `SX`.  There is a simple relation`Ry = SX Rz SX`$^\\dagger$.  Let us check if this decomposition works."
   ]
  },
  {
   "cell_type": "code",
   "execution_count": null,
   "id": "7c91a87e-e056-40e0-9358-0ec497349f29",
   "metadata": {},
   "outputs": [],
   "source": []
  }
 ],
 "metadata": {
  "kernelspec": {
   "display_name": "Python 3 (ipykernel)",
   "language": "python",
   "name": "python3"
  },
  "language_info": {
   "codemirror_mode": {
    "name": "ipython",
    "version": 3
   },
   "file_extension": ".py",
   "mimetype": "text/x-python",
   "name": "python",
   "nbconvert_exporter": "python",
   "pygments_lexer": "ipython3",
   "version": "3.9.12"
  }
 },
 "nbformat": 4,
 "nbformat_minor": 5
}
