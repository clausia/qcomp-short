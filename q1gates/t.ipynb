{
 "cells": [
  {
   "cell_type": "markdown",
   "id": "3a76dae9-b942-4758-8f38-d8fdd9143876",
   "metadata": {
    "tags": []
   },
   "source": [
    "(sec-tgate)=\n",
    "# T Gate and T$^\\dagger$ Gate\n",
    "\n",
    "We shall call $T$ and $T^\\dagger$ gates TGate and TdgGate, respectively."
   ]
  },
  {
   "cell_type": "markdown",
   "id": "352c86eb-f27f-4710-801c-14a2ee5fd406",
   "metadata": {
    "tags": []
   },
   "source": [
    "[API References: TGate](https://qiskit.org/documentation/stubs/qiskit.circuit.library.TGate.html)  \n",
    "[API References: TdgGate](https://qiskit.org/documentation/stubs/qiskit.circuit.library.TdgGate.html)  "
   ]
  },
  {
   "cell_type": "markdown",
   "id": "13495b13-a686-44e8-bcab-24b79c1c2c29",
   "metadata": {},
   "source": [
    "## Definition\n",
    "\n",
    "> $T |0\\rangle = |0\\rangle, \\qquad S |1\\rangle = e^{i\\pi/4}|1\\rangle$   \n",
    "> $T^\\dagger |0\\rangle = |0\\rangle, \\qquad S^\\dagger |1\\rangle = e^{-i\\pi/4}|1\\rangle$\n",
    "\n",
    "\n",
    "The qiskit circuit symbol is `T` for TGate and `Tdg` for TdgGate. They appear in quantum circuits as"
   ]
  },
  {
   "cell_type": "code",
   "execution_count": 2,
   "id": "74eaf25d-2469-4a23-9fe4-3fcea63396a3",
   "metadata": {
    "tags": [
     "hide-input"
    ]
   },
   "outputs": [
    {
     "data": {
      "text/html": [
       "<pre style=\"word-wrap: normal;white-space: pre;background: #fff0;line-height: 1.1;font-family: &quot;Courier New&quot;,Courier,monospace\">   ┌───┐┌─────┐\n",
       "q: ┤ T ├┤ Tdg ├\n",
       "   └───┘└─────┘</pre>"
      ],
      "text/plain": [
       "   ┌───┐┌─────┐\n",
       "q: ┤ T ├┤ Tdg ├\n",
       "   └───┘└─────┘"
      ]
     },
     "execution_count": 2,
     "metadata": {},
     "output_type": "execute_result"
    }
   ],
   "source": [
    "from qiskit.circuit import QuantumCircuit\n",
    "qc=QuantumCircuit(1)\n",
    "qc.t(0)\n",
    "qc.tdg(0)\n",
    "qc.draw()"
   ]
  },
  {
   "cell_type": "markdown",
   "id": "3bde44c5-4f42-4c1e-8c5f-7e3e42e11181",
   "metadata": {},
   "source": [
    "## Acting on a superposition state\n",
    "\n",
    "When TGate and TdgGate are applied to a super position state the coefficient to $|0\\rangle$ remains the same but that of $|1\\rangle$ gets additional phase factor.  That is\n",
    "\n",
    ">$$\n",
    "T \\left (c_0 |0\\rangle + c_1 |1\\rangle\\right) = c_0 |0\\rangle + e^{i\\pi/4} c_1 |1\\rangle \n",
    "$$(T-on-superpos)\n",
    "\n",
    ">$$\n",
    "T^\\dagger \\left (c_0 |0\\rangle + c_1 |1\\rangle\\right) = c_0 |0\\rangle + e^{-i\\pi/4} c_1 |1\\rangle \n",
    "$$(Tdg-on-superpos)\n",
    "\n",
    "\n",
    "In Bloch sphere representation,\n",
    "\n",
    ">$$\n",
    "T \\left( \\cos(\\theta/2)|0\\rangle + \\sin(\\theta/2) e^{i\\phi}|1\\rangle\\right) = \\cos(\\theta/2) |0\\rangle + \\sin(\\theta/2) e^{i (\\phi+\\pi/4)} |1\\rangle\n",
    "$$\n",
    "\n",
    ">$$\n",
    "T^\\dagger \\left( \\cos(\\theta/2)|0\\rangle + \\sin(\\theta/2) e^{i\\phi}|1\\rangle\\right) = \\cos(\\theta/2) |0\\rangle + \\sin(\\theta/2) e^{i (\\phi-\\pi/4)} |1\\rangle\n",
    "$$\n",
    "\n",
    "This suggests that the Bloch vector rotates around $z$ axis by $\\pm\\pi/4$.\n",
    "Recall that $Z$ changes the relative phase by $e^{i \\pi} = -1$. Further notice that $(e^{\\pm i \\pi/4})^4 = e^{i \\pi}$.  Hence, $T^4 = (T^\\dagger)^4 = Z$.  Because of this relation,  TGate and TdaGate are sometimes expressed as  $T=Z^{1/4}$ and $T^\\dagger=Z^{-1/4}$."
   ]
  },
  {
   "cell_type": "markdown",
   "id": "2827da53-e2d1-4fab-b7fb-67aafb077b43",
   "metadata": {},
   "source": [
    "## Additional useful Properties\n",
    "\n",
    "1. $S = T \\cdot T$ and $S^\\dagger = T^\\dagger \\cdot T^\\dagger$\n",
    "2. $Z = T^4 = T\\cdot S \\cdot T = T \\cdot T \\cdot S = S \\cdot T \\cdot T$"
   ]
  },
  {
   "cell_type": "markdown",
   "id": "86d1d0fc-003f-46b3-8b88-5b9461b7be36",
   "metadata": {},
   "source": [
    "\n",
    "---\n",
    "Last modified"
   ]
  }
 ],
 "metadata": {
  "kernelspec": {
   "display_name": "Python 3 (ipykernel)",
   "language": "python",
   "name": "python3"
  },
  "language_info": {
   "codemirror_mode": {
    "name": "ipython",
    "version": 3
   },
   "file_extension": ".py",
   "mimetype": "text/x-python",
   "name": "python",
   "nbconvert_exporter": "python",
   "pygments_lexer": "ipython3",
   "version": "3.9.12"
  }
 },
 "nbformat": 4,
 "nbformat_minor": 5
}
