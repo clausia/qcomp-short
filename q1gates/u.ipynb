{
 "cells": [
  {
   "cell_type": "markdown",
   "id": "751d0778-eb5c-4015-a71d-dcbb733e39e8",
   "metadata": {},
   "source": [
    "(sec-ugate)=\n",
    "\n",
    "# U Gate"
   ]
  },
  {
   "cell_type": "markdown",
   "id": "b45e0be3-5b66-41d4-bfae-959015c0f7be",
   "metadata": {},
   "source": [
    "When a gate acts on a qubit, it rotates the Bloch vector.  Any rotation can be specified with three angles, $\\theta$, $\\phi$, and $\\lambda$.  They are known as [*Euler angles*](https://en.wikipedia.org/wiki/Euler_angles). In standard quantum computation, a particular Euler rotation $z-x-z$ is used.  That is rotating 1) around $z$ axis by $\\lambda$, 2) around $x$ axis by $\\theta$, and 3) around $z$ axis by $\\phi$.  The rotations must be done in this order."
   ]
  },
  {
   "cell_type": "code",
   "execution_count": null,
   "id": "ac229787-bee5-4001-9ca3-1fd705a383de",
   "metadata": {},
   "outputs": [],
   "source": []
  }
 ],
 "metadata": {
  "kernelspec": {
   "display_name": "Python 3 (ipykernel)",
   "language": "python",
   "name": "python3"
  },
  "language_info": {
   "codemirror_mode": {
    "name": "ipython",
    "version": 3
   },
   "file_extension": ".py",
   "mimetype": "text/x-python",
   "name": "python",
   "nbconvert_exporter": "python",
   "pygments_lexer": "ipython3",
   "version": "3.9.12"
  }
 },
 "nbformat": 4,
 "nbformat_minor": 5
}
