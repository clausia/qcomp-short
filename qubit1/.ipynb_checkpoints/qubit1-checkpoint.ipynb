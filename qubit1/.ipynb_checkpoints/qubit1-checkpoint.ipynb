{
 "cells": [
  {
   "cell_type": "markdown",
   "id": "b9887770-b02a-47bc-b757-8808062de8ee",
   "metadata": {},
   "source": [
    "(sec-math-qubit)=\n",
    "# Mathematics of a qubit\n"
   ]
  },
  {
   "cell_type": "code",
   "execution_count": null,
   "id": "8aac4d72-0688-4fc8-b7e9-6d6cc932cfde",
   "metadata": {},
   "outputs": [],
   "source": []
  }
 ],
 "metadata": {
  "kernelspec": {
   "display_name": "Python 3 (ipykernel)",
   "language": "python",
   "name": "python3"
  },
  "language_info": {
   "codemirror_mode": {
    "name": "ipython",
    "version": 3
   },
   "file_extension": ".py",
   "mimetype": "text/x-python",
   "name": "python",
   "nbconvert_exporter": "python",
   "pygments_lexer": "ipython3",
   "version": "3.9.12"
  }
 },
 "nbformat": 4,
 "nbformat_minor": 5
}
