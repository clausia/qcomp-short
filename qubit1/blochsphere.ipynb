{
 "cells": [
  {
   "cell_type": "markdown",
   "id": "51bb3653-8d97-4510-8100-77a8e4e79cc4",
   "metadata": {},
   "source": [
    "(sec-bloch-sphere)=\n",
    "# Bloch sphere"
   ]
  },
  {
   "cell_type": "code",
   "execution_count": 8,
   "id": "71108270-95b6-4ae2-ae04-5b312d1830ca",
   "metadata": {
    "tags": [
     "hide-output"
    ]
   },
   "outputs": [],
   "source": [
    "%%capture\n",
    "# The output block is disabled.\n",
    "\n",
    "import numpy as np\n",
    "from qiskit import *\n",
    "\n",
    "qr = QuantumRegister(1)\n",
    "qc = QuantumCircuit(qr)\n",
    "\n",
    "qc.ry(np.pi/2,0)\n",
    "qc.rz(np.pi/2,0)\n",
    "qc.rx(np.pi/2,0)\n",
    "\n",
    "from qiskit.visualization import visualize_transition\n",
    "movie=visualize_transition(qc,fpg=50, spg=1)\n"
   ]
  },
  {
   "cell_type": "code",
   "execution_count": null,
   "id": "c838c290-5458-4d46-8bdd-06486f6bf8ba",
   "metadata": {
    "tags": [
     "hide-output"
    ]
   },
   "outputs": [],
   "source": [
    "movie"
   ]
  },
  {
   "cell_type": "code",
   "execution_count": null,
   "id": "dea0bf89-bec9-4a69-bf59-5116ab035261",
   "metadata": {},
   "outputs": [],
   "source": []
  }
 ],
 "metadata": {
  "kernelspec": {
   "display_name": "Python 3 (ipykernel)",
   "language": "python",
   "name": "python3"
  },
  "language_info": {
   "codemirror_mode": {
    "name": "ipython",
    "version": 3
   },
   "file_extension": ".py",
   "mimetype": "text/x-python",
   "name": "python",
   "nbconvert_exporter": "python",
   "pygments_lexer": "ipython3",
   "version": "3.9.12"
  }
 },
 "nbformat": 4,
 "nbformat_minor": 5
}
