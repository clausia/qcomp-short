{
 "cells": [
  {
   "cell_type": "markdown",
   "id": "647670e8-8747-48b7-a22b-b378e17a8e92",
   "metadata": {},
   "source": [
    "# Classical computation \n",
    "\n",
    "Before going to quantum computation, let us briefly look at classical computation."
   ]
  },
  {
   "cell_type": "markdown",
   "id": "b4e67ec7-398e-4eaf-ba3a-991588137487",
   "metadata": {},
   "source": [
    "## Bits\n",
    "\n",
    "A classical computer consists of many small building blocks, each of them has two possible states.  We assign indexes to these states, $\\texttt{0}$ and $\\texttt{1}$.  When the device is in one state, we interpret it as `0` and in the other state as `1`.  We call the information stored in this device unit `bit` and use a symbol $b \\in \\{\\texttt{0},\\texttt{1}\\}$.  The computer consists of many bits, bit 0, bit 1, bit 2, .......  For convenience, we denote the bits as $b_0, b_1, b_2, \\cdots $ and altogether the information is stored in a string of n bits, $'\\, b_{n-1}\\, b_{n-2}\\, \\cdots\\, b_1\\, b_0\\, '$, for example $\\texttt{0010101}$."
   ]
  },
  {
   "cell_type": "markdown",
   "id": "9fd01698-b119-4e55-8429-dd2bd05d32f8",
   "metadata": {},
   "source": [
    "## Gates\n",
    "\n",
    "The computer can change the state of any bit at our command.  A simple operation is to flip a bit, that is $0\\rightarrow 1$  and $1 \\rightarrow 0$.  We express it using a concept of _gate_.  A bit enters a gate and comes out with a different value.  In the classical computer, there are only two possibility,  no flip or flip.  \"No flip\" means nothing happens to the bit and thus we are not interesting it.  The gate that flips a bit is called `NOT` gate. (See {numref}`classical-gates`.)  This is the only gate acts on a single bit outputs a single bit.  The relation between the input and the output bit is given in the truth {numref}`table %s <classical-NOT>`.\n",
    "\n"
   ]
  },
  {
   "cell_type": "markdown",
   "id": "a7ad2c4a-60b8-4cbc-b3af-064e2386513b",
   "metadata": {},
   "source": [
    "```{list-table} NOT Gate\n",
    ":header-rows: 1\n",
    ":name: classical-NOT\n",
    ":align: center\n",
    "\n",
    "* - &nbsp;\n",
    "  - $i$\n",
    "  - &nbsp;\n",
    "  - $o$\n",
    "  - &nbsp; \n",
    "* - &nbsp;\n",
    "  - 0\n",
    "  - &nbsp;\n",
    "  - 1\n",
    "  - &nbsp;    \n",
    "* - &nbsp;\n",
    "  - 1\n",
    "  - &nbsp;\n",
    "  - 0\n",
    "  - &nbsp;  \n",
    "```"
   ]
  },
  {
   "cell_type": "markdown",
   "id": "7a34fe94-b7b2-4f30-9e21-50823429e791",
   "metadata": {},
   "source": [
    "Classical computation uses various kind of gates which takes two input bits ($i_0$ and $i_1$) and outputs one bit.  For example, `AND` gate outputs $i_0 \\times i_1$.  (See {numref}`classical-gates`.)\n",
    "The corresponding truth table is given in {numref}`classical-AND`.  Notice that this process is _irreversible_, meaning that we cannot recover the input information $i_0$ and $i_1$ from the output $o$.  Hence, we says that a bit of information is lost.  Two-bit classical gates  are in general irreversible and 1 bit of information is lost. "
   ]
  },
  {
   "cell_type": "markdown",
   "id": "ed325ef1-f094-4d76-a295-c7ce4606fa39",
   "metadata": {},
   "source": [
    "```{list-table} AND Gate\n",
    ":header-rows: 1\n",
    ":name: classical-AND\n",
    ":align: center\n",
    "\n",
    "* - &nbsp;\n",
    "  - $i_0$\n",
    "  - &nbsp;\n",
    "  - $i_1$\n",
    "  - &nbsp;  \n",
    "  - $o$\n",
    "  - &nbsp; \n",
    "* - &nbsp;\n",
    "  - 0\n",
    "  - &nbsp;\n",
    "  - 0\n",
    "  - &nbsp;  \n",
    "  - 0\n",
    "  - &nbsp;   \n",
    "* - &nbsp;\n",
    "  - 0\n",
    "  - &nbsp;\n",
    "  - 1\n",
    "  - &nbsp;  \n",
    "  - 0\n",
    "  - &nbsp;  \n",
    "* - &nbsp;\n",
    "  - 1\n",
    "  - &nbsp;\n",
    "  - 0\n",
    "  - &nbsp;  \n",
    "  - 0\n",
    "  - &nbsp;\n",
    "* - &nbsp;\n",
    "  - 1\n",
    "  - &nbsp;\n",
    "  - 1\n",
    "  - &nbsp;  \n",
    "  - 1\n",
    "  - &nbsp;  \n",
    "```"
   ]
  },
  {
   "cell_type": "markdown",
   "id": "0481fee1-2330-4e0f-8167-f570570add9f",
   "metadata": {},
   "source": [
    "```{figure} ./classical-gate.png\n",
    ":name: classical-gates\n",
    ":align: center\n",
    ":width: 400px\n",
    "\n",
    "An example of classical gates. The $\\texttt{NOT}$ gate takes one bit and output one bit.\n",
    "```"
   ]
  },
  {
   "cell_type": "markdown",
   "id": "99072787-b57e-4cf9-85f8-3a986f2e0141",
   "metadata": {},
   "source": [
    "In principle, classical computation needs only $\\texttt{NOT}$ and $\\texttt{AND}$ gates.  It is using other gates makes classical computing much more efficient."
   ]
  },
  {
   "cell_type": "markdown",
   "id": "a1db074c-b02d-4627-bea4-3396477bf50f",
   "metadata": {},
   "source": [
    "**Exercise**  Is $\\texttt{NOT}$ gate reversible?"
   ]
  },
  {
   "cell_type": "markdown",
   "id": "55c8eb19-5d9a-4920-b61e-d9645dc8a2f8",
   "metadata": {},
   "source": [
    "## Encoding\n",
    "\n",
    "The computer can understand only bit strings and manipulates them by applying gates.  However, problems we want to solve are usually not expressed in bit strings.  Somehow, we need to map the problems to bit strings the computer can understand. In other words, we need to _encode_ the information in our expression to the bit strings. As a simple example, we consider a boolean operation between two logical variables $x$ and $y$.  Their value is either $\\texttt{True}$ or $\\texttt{False}$.   Since the valiables takes only one of two possibilities, the mapping between the boolean variables and bits are naturally\n",
    "\n",
    "$$\n",
    "\\texttt{False} \\Rightarrow \\texttt{0}, \\quad \\texttt{True} \\Rightarrow \\texttt{1}\n",
    "$$\n",
    "\n",
    "Now, variable $x$ is expressed by a bit $b_0$ and $y$  by $b_1$.  \n",
    "\n",
    "In many problems, encoding is not obvious at all.  Integer numbers can be mapped to bit strings using their binary expressions.  For example, $5 \\Rightarrow \\texttt{101}$, which requires three bits.  Exact encoding of continuous numbers is not possible  since bits are digital.  Approximated representation such as _floating point_ numbers are used.\n",
    ", quantum or classical"
   ]
  },
  {
   "cell_type": "markdown",
   "id": "bad45181-5204-48e9-95b6-80cbf170b420",
   "metadata": {},
   "source": [
    "## Instructions\n",
    "\n",
    "Computation means that by manipu, quantum or classicallating the state of bits toward the solution.  The device can flip the specified bits .  It can be thought of bits entering a _gate_ and coming out with different values.  We need to instruct the device how to change the state of the bits.  In other words we to find find what gates should be applied to the bits. Let us consider a simple operation $x+y \\mod 2$ where $x, y \\in \\{0, 1\\}$.  WE shall write this operation simply as $x \\oplus y$ . We map $x$ and $y$ to bits $b_0$ and $b_1$. Applying an `XOR` gate on $q_0$ and $b_1$ produces desired outputs.   The following diagram classically computes $x \\oplus y$ and the output is stored in $x$. The value of $y$ remains the same."
   ]
  },
  {
   "cell_type": "markdown",
   "id": "0d2d8394-a09b-46ad-a737-c63be938e095",
   "metadata": {},
   "source": [
    "```{figure} ./classical-half-adder.png\n",
    ":name: classical-half-adder\n",
    ":align: center\n",
    ":width: 400px\n",
    "\n",
    "An example of classical circuit.  This circuit computer $x \\oplus y$ using $\\texttt{XOR}$ and $\\texttt{AND}$.  In addition to the answer, carry over bit \n",
    "```"
   ]
  },
  {
   "cell_type": "markdown",
   "id": "f6dceb7f-f831-4f0f-953f-69fa2a8d7a8e",
   "metadata": {},
   "source": [
    "In real world applications, we don’t apply the gates by ourselves.  Instead, we use a programming language such as `python`. The language translates the mathematical  expression such as $x + y$ into gate instructions. So, we really don't need to know about the classical gate.  Quantum computation has not reached that level yet. Users must picks appropriate gates by themselves."
   ]
  },
  {
   "cell_type": "markdown",
   "id": "ba98878f-27b2-4abc-8f9f-8d37ae9776dc",
   "metadata": {},
   "source": [
    "## Readout and decoding\n",
    "\n",
    "Once the computation is completed at the device level, we need to read out the values of the bits and decode the outcome to an integer.  The readout of the classical bits can be done without damaging their state.  The value of the classical bits remains the same before and after the readout.  (That is not the case in quantum computers.)"
   ]
  },
  {
   "cell_type": "code",
   "execution_count": null,
   "id": "ad07d076-a577-462e-91ee-714a7b00f030",
   "metadata": {},
   "outputs": [],
   "source": []
  }
 ],
 "metadata": {
  "kernelspec": {
   "display_name": "Python 3 (ipykernel)",
   "language": "python",
   "name": "python3"
  },
  "language_info": {
   "codemirror_mode": {
    "name": "ipython",
    "version": 3
   },
   "file_extension": ".py",
   "mimetype": "text/x-python",
   "name": "python",
   "nbconvert_exporter": "python",
   "pygments_lexer": "ipython3",
   "version": "3.9.12"
  }
 },
 "nbformat": 4,
 "nbformat_minor": 5
}
