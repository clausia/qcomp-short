{
 "cells": [
  {
   "cell_type": "markdown",
   "id": "01aaef73-dac8-4f56-968f-e83517262260",
   "metadata": {},
   "source": [
    "# What is information?"
   ]
  },
  {
   "cell_type": "markdown",
   "id": "a31f0cc3-58df-4123-89d7-1d232c3e8383",
   "metadata": {},
   "source": [
    "Why do you ask a question? That is because you do not know something and try to find it."
   ]
  }
 ],
 "metadata": {
  "kernelspec": {
   "display_name": "Python 3 (ipykernel)",
   "language": "python",
   "name": "python3"
  },
  "language_info": {
   "codemirror_mode": {
    "name": "ipython",
    "version": 3
   },
   "file_extension": ".py",
   "mimetype": "text/x-python",
   "name": "python",
   "nbconvert_exporter": "python",
   "pygments_lexer": "ipython3",
   "version": "3.9.12"
  }
 },
 "nbformat": 4,
 "nbformat_minor": 5
}
