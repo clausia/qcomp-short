{
 "cells": [
  {
   "cell_type": "markdown",
   "id": "65175fca-3449-44fa-bc23-32ec76b01a48",
   "metadata": {},
   "source": [
    "(chap-preliminaries)=\n",
    "# Preliminaries\n",
    "\n",
    "In this book, we will use various computer tools, `Python`, `Jupyter`, and `Qiskit`.  In addition, we will use online tools and real quantum computers provided by `IBM Quantum`.  There are many useful tutorials on quantum computing at the IBM Quantum web site.  No previous experience is needed.  However, you must train yourself along with this book.   \n",
    "\n",
    "In this chapter, Python, Jupyter, Qiskit, and IBM Quantum are introduced.  Although there are online services that provide these computer software, it will be convenient to run them on your computer.  Therefore, it is highly recommended to install them on your computer.  Installation instruction is given in the following sections."
   ]
  },
  {
   "cell_type": "markdown",
   "id": "314c4246-56a0-463c-a1bb-2f0b84f45e9e",
   "metadata": {},
   "source": [
    "```{admonition} Downloading page\n",
    ":class: tip\n",
    "You can download any page of this book as jupyter notebook (.ipynb).  Move the cursor to the download icon at the top-right corner and select .ipynb with the right mouse button.  Then, select  \"save link as ...\".  The jupyter notebook file is downloaded to your computer.  You can run it inside jupyter lab.\n",
    "\n",
    "You can also download any page as PDF in the same way.  If you prefer to read it on paper, print the PDF file.\n",
    "```"
   ]
  }
 ],
 "metadata": {
  "kernelspec": {
   "display_name": "Python 3 (ipykernel)",
   "language": "python",
   "name": "python3"
  },
  "language_info": {
   "codemirror_mode": {
    "name": "ipython",
    "version": 3
   },
   "file_extension": ".py",
   "mimetype": "text/x-python",
   "name": "python",
   "nbconvert_exporter": "python",
   "pygments_lexer": "ipython3",
   "version": "3.9.12"
  }
 },
 "nbformat": 4,
 "nbformat_minor": 5
}
