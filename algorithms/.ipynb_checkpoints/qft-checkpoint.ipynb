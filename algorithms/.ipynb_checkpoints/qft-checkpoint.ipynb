{
 "cells": [
  {
   "cell_type": "markdown",
   "id": "02b4dcb4-5bac-4ad7-ba8f-89b0b0128d13",
   "metadata": {},
   "source": [
    "(sec-qft)=\n",
    "# Quantum Fourier Transform"
   ]
  },
  {
   "cell_type": "markdown",
   "id": "7b1181c5-a027-4f16-83a3-94a133bad4da",
   "metadata": {},
   "source": [
    "Fourier transform (FT) is a ubiquitous mathematical tool used in science, engineering and beyond and we are using it every day without knowing it. Whenever digital signals are processed, the Fourier transform is most likely used including WiFi, cell phone, digital music, digital picture, ..., to name a few.  We wish to calculate the Fourier transform on a quantum computer.  It turns out that quantum computers are not good at calculating general Fourier transform as explained below.  We will focus on a very special case not for the sake of Fourier transform but for other quantum algorithms such as phase estimation.\n"
   ]
  },
  {
   "cell_type": "markdown",
   "id": "0a911547-5bd6-481b-b47a-736cfa98bc97",
   "metadata": {},
   "source": [
    "## Discrete Fourier Transform\n",
    "\n",
    "The digital signal processes use a particular form  of Fourier transform known as *discrete Fourier transform* defined by\n",
    "\n",
    "$$\n",
    "y_n = \\frac{1}{\\sqrt{N}} \\sum_{m=0}^{N-1} x_m e^{2\\pi i\\, n\\, m/N}\n",
    "$$(DFT)\n",
    "\n",
    "or writing ti in a matrix from\n",
    "\n",
    "$$\n",
    "\\begin{bmatrix}y_0\\\\y_1\\\\ \\vdots \\\\ y_{N-1}\\end{bmatrix} = \\frac{1}{\\sqrt{N}} \n",
    "\\begin{bmatrix} 1 & 1 & \\cdots & 1 \\\\ 1 & e^{2\\pi i/N} & \\cdots & e^{2\\pi i (N-1)/N} \\\\\n",
    "\\vdots & \\vdots & \\cdots &\\vdots \\\\ 1 & e^{2\\pi i (N-1)/N} &\\cdots & e^{2\\pi i (N-1)^2/N}\n",
    "\\end{bmatrix}\n",
    "\\begin{bmatrix}x_0\\\\x_1\\\\ \\vdots \\\\ x_{N-1}\\end{bmatrix}\n",
    "$$(DFT-as-matrix)\n",
    "\n",
    "where $x_m \\in \\mathbb{C}$ is the original signal and $y_n \\in \\mathbb{C}$ is its Fourier transform. \n",
    "\n",
    "Writing the column vectors in kets as $|x\\rangle$ and $|y\\rangle$ and the matrix as an operator $\\mathcal{F}_N$, the Fourier transform can be written in an abstract form\n",
    "\n",
    "$$\n",
    "|y\\rangle = \\mathcal{F}_N |x\\rangle .\n",
    "$$(DFT-as-operator)\n",
    "\n",
    "It is easy to check that $\\mathcal{F}_N \\mathcal{F}_N^\\dagger = 1$ and thus $\\mathcal{F}_N$ is unitary.  Hence, the DFT is a unitary transformation in $N$-dimensional Hilbert space and thus it can be implemented as a quantum transformation by 1) preparing a quantum state $|x\\rangle$ using a certain basis set, 2) constructing the unitary transformation, and 3) reading out $|y\\rangle$.  However, we have a couple of issues here.  First of all,  quantum measurement only gives us $|y_n|$ through the Born rule.  Secondly, there is no good way to prepare $|x\\rangle$ unless $N$ is very small.   Unfortunately, the quantum version of DFT seems practically not feasible at the present.\n",
    "Nevertheless, the quantum Fourier operator $\\mathcal{F}_N$ itself has several useful application such as phase estimation and period finding. It is worth developing a quantum algorithm for $\\mathcal{F}_N$.  \n"
   ]
  },
  {
   "cell_type": "markdown",
   "id": "a281496f-ca88-4584-bfc7-7028d8b0545e",
   "metadata": {},
   "source": [
    "## Fourier transform of the computational basis.\n",
    "\n",
    "Let us expand $x\\rangle$ in computational basis vectors $|j\\rangle$ where $j=0,\\cdots, N-1$ as\n",
    "$|x\\rangle = \\sum_{j=0}^{N-1} x_j |j\\rangle$.  The DFT {eq}`DFT-as-operator` becomes\n",
    "\n",
    "$$\n",
    "|y\\rangle = \\mathcal{F}_N \\sum_{j=0}^{N-1} x_j |j\\rangle = \\sum_{j=0}^{N-1} x_j \\left( \\mathcal{F}_N |j\\rangle \\right) \n",
    "= \\sum_{j=0}^{N-1} x_j |u_j\\rangle\n",
    "$$(DFT-basis-expansion)\n",
    "\n",
    "where $\\vert u_j \\rangle$ is the Fourier transform of the computational basis vector $\\vert j \\rangle$ defined by \n",
    "\n",
    "$$\n",
    "|u_j\\rangle = \\mathcal{F}_N |j\\rangle .\n",
    "$$(QFT)\n",
    "\n",
    "Equation {eq}`QFT` can be computed on a quantum computer since the computational basis can be easily prepared.   When we say \"quantum Fourier transform', we actually mean Eq. {eq}`QFT` rather than EQ. {eq}`DFT-as-operator`.\n",
    "\n"
   ]
  },
  {
   "cell_type": "markdown",
   "id": "0f4bb250-66dc-4519-9690-58a80ab168b8",
   "metadata": {},
   "source": [
    "**Exercise** {numref}`$s <sec-qft>`.1&nbsp;  Show that $|k_j\\rangle$ forms an orthonormal basis set."
   ]
  },
  {
   "cell_type": "markdown",
   "id": "dedbc447-c8e5-4245-82f5-45585a4af6dd",
   "metadata": {
    "tags": []
   },
   "source": [
    "## The QFT algorithm\n",
    "\n",
    "First, we write Eq. {eq}`DFT-as-basis-change` in the computational basis.\n",
    "We assume that $N=2^k$ where $k$ is a positive integer.  We use $k$ qubits to form a $N$ dimensional Hilbert space.  The computational basis set is expressed as $|e_j\\rangle=|q_{k-1}\\, \\cdots\\, q_1\\, q_0\\rangle \\equiv  |q_{k-1}\\rangle \\otimes \\cdots \\otimes |q_1\\rangle \\otimes  |q_0\\rangle$  where $j=2^{k-1} q_{k-1}+\\cdots+2 q_1 + q_0$.    For k=2, there are four basis kets $|e_0\\rangle=|00\\rangle,\\, |e_1\\rangle=|01\\rangle,\\,  |e_2\\rangle=|10\\rangle,\\, |e_3\\rangle=|11\\rangle$.\n",
    "\n",
    "Now our task is to realize $\\mathcal{F}_N$ as a quantum circuit using one- and two-qubits gates.\n",
    "Let us consider $k=1$, the simplest QFT:\n",
    "\n",
    "$$\n",
    "\\begin{align}\n",
    "|u_0\\rangle &= \\mathcal{F}_2 |0\\rangle = \\frac{1}{\\sqrt{2}} \\left(|0\\rangle +  e^{i 0} |1\\rangle\\right) = \\frac{1}{\\sqrt{2}} \\left(|0\\rangle + |1\\rangle\\right)\\\\\n",
    "|u_1\\rangle &= \\mathcal{F}_2 |1\\rangle = \\frac{1}{\\sqrt{2}} \\left(|0\\rangle + e^{i \\pi}|1\\rangle\\right) = \\frac{1}{\\sqrt{2}} \\left(|0\\rangle - |1\\rangle\\right)\n",
    "\\end{align}\n",
    "$$\n",
    "\n",
    "This is a familiar Hadamard transformation and thus  $\\mathcal{F}_2 = H$.  We have already computed it in {numref}`sec-hgate`.   (See {numref}`sec-hgate-qft`.)\n",
    "\n",
    "We need more examples to get an idea of $\\mathcal{F}_N$..  Let us try $k=2$.\n",
    "\n",
    "$$\n",
    "\\begin{align}\n",
    "|u_0\\rangle &= \\mathcal{F}_2 |00\\rangle = \\frac{1}{2} \\left(|00\\rangle + |10\\rangle  +|01\\rangle + |11\\rangle\\right)\\\\ &= \\frac{1}{\\sqrt{2}} \\left(|0\\rangle + |1\\rangle\\right) \\otimes\n",
    "\\frac{1}{\\sqrt{2}} \\left(|0\\rangle + |1\\rangle\\right) \\\\\n",
    "|u_1\\rangle &= \\mathcal{F}_2 |01\\rangle = \\frac{1}{2} \\left(|00\\rangle + e^{i \\pi/2}|01\\rangle + e^{i \\pi}|10\\rangle + e^{i 3\\pi/2}|11\\rangle \\right)\\\\ & = \\frac{1}{\\sqrt{2}} \\left(|0\\rangle -  |1\\rangle\\right) \\otimes \\frac{1}{\\sqrt{2}} \\left(|0\\rangle + i |1\\rangle\\right) \\\\\n",
    "|u_2\\rangle &= \\mathcal{F}_2 |10\\rangle = \\frac{1}{2} \\left(|00\\rangle + e^{i \\pi}|01\\rangle + e^{2 i \\pi}|10\\rangle + e^{i 3 \\pi}|11\\rangle \\right) \\\\\n",
    "&=  \\frac{1}{\\sqrt{2}} \\left(|0\\rangle + |1\\rangle\\right) \\otimes \\frac{1}{\\sqrt{2}} \\left(|0\\rangle - |1\\rangle\\right)\\\\\n",
    "|u_3\\rangle &= \\mathcal{F}_2 |11\\rangle = \\frac{1}{2} \\left(|00\\rangle + e^{i 3\\pi/2}|01\\rangle + e^{3 i \\pi}|10\\rangle + e^{i 9 \\pi/2} |11\\rangle \\right) \\\\\n",
    "&=  \\frac{1}{\\sqrt{2}} \\left(|0\\rangle - |1\\rangle\\right) \\otimes \\frac{1}{\\sqrt{2}} \\left(|0\\rangle -i |1\\rangle\\right)\n",
    "\\end{align}\n",
    "$$\n",
    "\n",
    "Now  phase factors $\\pm i$ appears in $|u_1\\rangle$ and $|u_3\\rangle$.  The $H$ gate is not enough and the $S$ gate is needed. \n",
    "\n",
    "$$\n",
    "\\begin{align}\n",
    "S \\cdot H |0\\rangle &= \\frac{1}{\\sqrt{2}}\\left(|0\\rangle + i |1\\rangle\\right) \\\\\n",
    "S \\cdot H |1\\rangle &= \\frac{1}{\\sqrt{2}}\\left(|0\\rangle - i |1\\rangle\\right) \n",
    "\\end{align}\n",
    "$$\n",
    "\n",
    "Substituting these relations, we find\n",
    "\n",
    "$$\n",
    "\\begin{align}\n",
    "|u_0\\rangle &= \\mathcal{F}_2 |00\\rangle = H |0\\rangle \\otimes H |0 \\rangle = ( H\\otimes H)|00\\rangle\\\\\n",
    "|u_1\\rangle &= \\mathcal{F}_2 |01\\rangle = H |1\\rangle \\otimes (S \\cdot H) |0\\rangle = (H \\otimes S\\cdot H) |10\\rangle\\\\\n",
    "|u_2\\rangle &= \\mathcal{F}_2 |10\\rangle = H |0\\rangle \\otimes H |1\\rangle = (H \\otimes H) |01\\rangle\\\\\n",
    "|u_3\\rangle &= \\mathcal{F}_2 |11\\rangle = H |1\\rangle \\otimes (S \\cdot H) |1\\rangle = (H \\otimes H) |01\\rangle = (H \\otimes S\\cdot H) |11\\rangle\n",
    "\\end{align}\n",
    "$$\n",
    "\n",
    "We have two problems. First, only $|u_1\\rangle$ and $u_3\\rangle$ use a $S$ gate.  But it can be managed by using controlled $S$ gate.  The second issue is that the order of the qubits does not match between the left and right hand sides.  This can be resolved by applying a $SWAP$ gate.  In conclusion the following circuit compute the Fourier transform of all computational basis vectors. "
   ]
  },
  {
   "cell_type": "code",
   "execution_count": 54,
   "id": "804b3d9e-4a68-4c19-8545-b4d322fabc1d",
   "metadata": {},
   "outputs": [
    {
     "name": "stdin",
     "output_type": "stream",
     "text": [
      "Enter a basis vector id (0-3): 2\n"
     ]
    },
    {
     "data": {
      "text/html": [
       "<pre style=\"word-wrap: normal;white-space: pre;background: #fff0;line-height: 1.1;font-family: &quot;Courier New&quot;,Courier,monospace\">           ░           ┌───┐   \n",
       "q_0: ──────░────────■──┤ H ├─X─\n",
       "     ┌───┐ ░ ┌───┐┌─┴─┐└───┘ │ \n",
       "q_1: ┤ X ├─░─┤ H ├┤ S ├──────X─\n",
       "     └───┘ ░ └───┘└───┘        </pre>"
      ],
      "text/plain": [
       "           ░           ┌───┐   \n",
       "q_0: ──────░────────■──┤ H ├─X─\n",
       "     ┌───┐ ░ ┌───┐┌─┴─┐└───┘ │ \n",
       "q_1: ┤ X ├─░─┤ H ├┤ S ├──────X─\n",
       "     └───┘ ░ └───┘└───┘        "
      ]
     },
     "execution_count": 54,
     "metadata": {},
     "output_type": "execute_result"
    }
   ],
   "source": [
    "import numpy as np\n",
    "from qiskit import *\n",
    "from qiskit.quantum_info import Statevector\n",
    "\n",
    "# qiskit does not have predefined controlled-S gate\n",
    "# you can create it or use controlled-P(pi/2)\n",
    "from qiskit.circuit.library.standard_gates import SGate\n",
    "cs=SGate().control(1)\n",
    "\n",
    "qr=QuantumRegister(2,'q')\n",
    "qc=QuantumCircuit(qr)\n",
    "\n",
    "# prepare an input basis vector\n",
    "k=input(\"Enter a basis vector id (0-3):\")\n",
    "        \n",
    "if k == \"1\":\n",
    "    qc.x(0)\n",
    "elif k == \"2\":\n",
    "    qc.x(1)\n",
    "elif k == \"3\":\n",
    "    qc.x([0,1])\n",
    "    \n",
    "qc.barrier([0,1])\n",
    "        \n",
    "qc.h(1)\n",
    "\n",
    "# add controlled-S (you can use 'qc.cp(np.pi/2,0,1)' instead)\n",
    "qc.append(cs,[0,1])\n",
    "\n",
    "qc.h(0)\n",
    "qc.swap(0,1)\n",
    "qc.draw()\n",
    "\n"
   ]
  },
  {
   "cell_type": "code",
   "execution_count": 53,
   "id": "4eee1be9-b9db-4d7f-8f2e-4ce2160eb57e",
   "metadata": {},
   "outputs": [
    {
     "data": {
      "text/latex": [
       "$$\\frac{1}{2} |00\\rangle- \\frac{1}{2} |01\\rangle+\\frac{1}{2} |10\\rangle- \\frac{1}{2} |11\\rangle$$"
      ],
      "text/plain": [
       "<IPython.core.display.Latex object>"
      ]
     },
     "execution_count": 53,
     "metadata": {},
     "output_type": "execute_result"
    }
   ],
   "source": [
    "# Show the Fourier transform\n",
    "psi=Statevector(qc)\n",
    "psi.draw('latex')"
   ]
  },
  {
   "cell_type": "code",
   "execution_count": null,
   "id": "7ae52186-1184-4a61-a8a0-1a05c05a8167",
   "metadata": {},
   "outputs": [],
   "source": []
  }
 ],
 "metadata": {
  "kernelspec": {
   "display_name": "Python 3 (ipykernel)",
   "language": "python",
   "name": "python3"
  },
  "language_info": {
   "codemirror_mode": {
    "name": "ipython",
    "version": 3
   },
   "file_extension": ".py",
   "mimetype": "text/x-python",
   "name": "python",
   "nbconvert_exporter": "python",
   "pygments_lexer": "ipython3",
   "version": "3.9.12"
  }
 },
 "nbformat": 4,
 "nbformat_minor": 5
}
