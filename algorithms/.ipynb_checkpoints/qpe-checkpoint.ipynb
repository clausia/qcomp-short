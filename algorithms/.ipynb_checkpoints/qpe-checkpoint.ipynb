{
 "cells": [
  {
   "cell_type": "markdown",
   "id": "17fd4cf9-8cb1-4b66-ae95-08e0c807019a",
   "metadata": {},
   "source": [
    "(sec-qpe)=\n",
    "# Quantum Phase Estimation\n",
    "\n",
    "The problem of quantum phase estimation (QPE) is just a special kind of eigenvalue problem.  However, it plays a quite important role in quantum computation.  It can be considered as a subroutine used in many useful quantum algorithms such as factorization, quantum walks, ... So, we need to learn it before other quantum algorithms."
   ]
  },
  {
   "cell_type": "markdown",
   "id": "e93f062c-72f4-4ebb-95b5-30d08e78b968",
   "metadata": {
    "jp-MarkdownHeadingCollapsed": true,
    "tags": []
   },
   "source": [
    "## The problem\n",
    "\n",
    "Consider a unitary operator $U$ in a $2n$-dimension Hilbert space $(\\mathbb{C}_2)^{\\otimes n}$.  Its eigenvector $|psi_\\lambda\\rangle$ satisfies the eigenvalue equation $U |\\psi_\\lambda\\rangle = \\lambda |\\psi_\\lambda\\rangle$ where $\\lambda$ is the eigenvalue. The adjoint of the eigenvalue equation is $\\langle \\psi_\\lambda| U^\\dagger = \\langle \\psi_\\lambda| \\lambda^*$. The inner product of the two eigenvalue equations is $\\langle \\psi_\\lambda| U^\\dagger U |\\psi_\\lambda\\rangle = |\\lambda|^2 \\langle\\psi_\\lambda|\\psi_\\lambda\\rangle$.  Since $U$ is unitary, $U\\dagger U = I$ and thus $|\\lambda|=1$. So, the eigenvalue equation can be written as \n",
    "\n",
    "$$\n",
    "U|\\psi_\\theta\\rangle = e^{2 \\pi i\\theta} |\\psi_\\theta\\rangle\n",
    "$$\n",
    "\n",
    "where $|\\psi_\\theta\\rangle$ is the eigenvector and the corresponding eigenvalue is $e^{2\\pi i\\theta}$. Our task is to find the phase variable  $\\theta \\in [0,1)$ for a given $|\\psi_\\theta$.  Mathematically, it is a trivial problem. Assuming $|\\psi_\\theta\\rangle$ is normalized, $e^{2\\pi i \\theta} =  \\langle \\psi_\\theta | U | \\psi_\\theta \\rangle$, which current quantum computer cannot compute.  Can we find $\\theta$ without computing the inner product?"
   ]
  },
  {
   "cell_type": "markdown",
   "id": "3c1bb11e-d9ff-44bd-b912-0a85e5d4975a",
   "metadata": {},
   "source": [
    "## The algorithm\n",
    "\n",
    "The QPE algorithm was developed by Kitaev in 1995 {cite}`Kitaev1995`. First, we need encode a continuous number $\\theta$ using qubits. Using $n$ qubits $|q_\n",
    "As usual, we begin with the simplest case $n=1$.  $U$ is a one-qubit operator.  We use a qubit for eigenvector $|\\psi_\\theta\\rangle$ and use  a *control* qubit $|q_0\\rangle$.  The total system is $|q_0\\rangle \\otimes |\\psi_\\theta\\rangle$. Now, set $q_0\\rangle = |+\\rangle$ and apply a controlled-$U$ gate ($CU$).\n",
    "\n",
    "$$\n",
    "CU_{0,1} \\frac{1}{\\sqrt{2}} \\left(|0\\rangle + |1\\rangle\\right) \\otimes |\\psi\\rangle = \n",
    "\\frac{1}{\\sqrt{2}} \\left(|0\\rangle + e^{2\\pi i \\theta}|1\\rangle\\right) \\otimes |\\psi\\rangle\n",
    "$$\n",
    "\n",
    "Notice that the phase of the control qubit has changed through phase kickback.(See xxx).\n",
    "\n"
   ]
  },
  {
   "cell_type": "code",
   "execution_count": null,
   "id": "33917a10-3f91-42ca-ae33-26f2da5524a6",
   "metadata": {},
   "outputs": [],
   "source": []
  }
 ],
 "metadata": {
  "kernelspec": {
   "display_name": "Python 3 (ipykernel)",
   "language": "python",
   "name": "python3"
  },
  "language_info": {
   "codemirror_mode": {
    "name": "ipython",
    "version": 3
   },
   "file_extension": ".py",
   "mimetype": "text/x-python",
   "name": "python",
   "nbconvert_exporter": "python",
   "pygments_lexer": "ipython3",
   "version": "3.9.12"
  }
 },
 "nbformat": 4,
 "nbformat_minor": 5
}
