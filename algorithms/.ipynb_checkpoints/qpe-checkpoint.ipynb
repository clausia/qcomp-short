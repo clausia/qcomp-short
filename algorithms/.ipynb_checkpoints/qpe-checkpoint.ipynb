{
 "cells": [
  {
   "cell_type": "markdown",
   "id": "17fd4cf9-8cb1-4b66-ae95-08e0c807019a",
   "metadata": {},
   "source": [
    "(sec-qpe)=\n",
    "# Quantum Phase Estimation\n",
    "\n",
    "The problem of quantum phase estimation (QPE) is just a special kind of eigenvalue problem.  However, it plays a quite important role in quantum computation.  It can be considered as a subroutine used in many useful quantum algorithms such as factorization, quantum walks, ... So, we need to learn it before other quantum algorithms."
   ]
  },
  {
   "cell_type": "markdown",
   "id": "e93f062c-72f4-4ebb-95b5-30d08e78b968",
   "metadata": {
    "tags": []
   },
   "source": [
    "## The problem\n",
    "\n",
    "Consider a unitary operator $U$ in a $2n$-dimension Hilbert space $(\\mathbb{C}_2)^{\\otimes n}$.  Its eigenvector $|psi_\\lambda\\rangle$ satisfies the eigenvalue equation $U |\\psi_\\lambda\\rangle = \\lambda |\\psi_\\lambda\\rangle$ where $\\lambda$ is the eigenvalue. The adjoint of the eigenvalue equation is $\\langle \\psi_\\lambda| U^\\dagger = \\langle \\psi_\\lambda| \\lambda^*$. The inner product of the two eigenvalue equations is $\\langle \\psi_\\lambda| U^\\dagger U |\\psi_\\lambda\\rangle = |\\lambda|^2 \\langle\\psi_\\lambda|\\psi_\\lambda\\rangle$.  Since $U$ is unitary, $U\\dagger U = I$ and thus $|\\lambda|=1$. So, the eigenvalue equation can be written as \n",
    "\n",
    "$$\n",
    "U|\\psi_\\theta\\rangle = e^{2 \\pi i\\theta} |\\psi_\\theta\\rangle\n",
    "$$\n",
    "\n",
    "where $|\\psi_\\theta\\rangle$ is the eigenvector and the corresponding eigenvalue is $e^{2\\pi i\\theta}$. Our task is to find the phase variable  $\\theta \\in [0,1)$ for a given $|\\psi_\\theta$.  Mathematically, it is a trivial problem. Assuming $|\\psi_\\theta\\rangle$ is normalized, $e^{2\\pi i \\theta} =  \\langle \\psi_\\theta | U | \\psi_\\theta \\rangle$, which current quantum computer cannot compute.  Can we find $\\theta$ without computing the inner product?"
   ]
  },
  {
   "cell_type": "markdown",
   "id": "3d024ab8-7203-497b-ab34-85a8cf7fc4ca",
   "metadata": {},
   "source": [
    "(ssec-binary-fraction)=\n",
    "## Encoding a continuous number between 0 and 1\n",
    "\n",
    "The value we want to find is not integer.  How can we encode a continuous number between 0 and 1 in qubits? Since it is not possible to encode a true continuous number in digital computers, we approximate it.  In {numref}`sec-walsh-hadamard` we encoded integers between $0$ and $2^n-1$ in $n$ qubits as $|j\\rangle_n = |j_{n-1}\\,j_{n-2}\\,\\cdots\\,j_{0} \\rangle$.  Noting that $ 0 \\le 2^n \\theta < 2^n$, we can encode $2^n \\theta$ as an integer state $|j\\rangle_n$.  Then, $\\theta = j/2^n$, which is not continuous and there is a gap of $2^{-n}$.  The gap decreases quickly as $n$ increases.  If an accurate value of $\\theta$ is needed, we must use a large number of qubits.\n",
    "\n",
    "Our task is now to find the integer state $|j\\rangle_n$ corresponding to $\\theta$."
   ]
  },
  {
   "cell_type": "markdown",
   "id": "208c357d-cec7-462f-bb5d-b050bae6c30e",
   "metadata": {},
   "source": [
    "# "
   ]
  },
  {
   "cell_type": "markdown",
   "id": "fb20e630-d686-4200-beb9-4ff36c8febc8",
   "metadata": {},
   "source": [
    "## The algorithm\n",
    "\n",
    "The QPE algorithm was developed by Kitaev in 1995 {cite}`Kitaev1995`.  \n",
    "\n",
    "We use $n+1$ qubits.  The first $n$ qubits are used to from  the computational basis $\\ell\\rangle_n\\, \\ell=0,\\cdots, n-1$ and $the remaining qubit stores $|psi\\rangle$.\n",
    "The first step of our strategy is to create the following state:\n",
    "\n",
    "$$\n",
    "|\\Phi\\rangle_{n+1} = \\frac{1}{\\sqrt{2^n}} \\left (|0\\rangle_n  + |1\\rangle_n + \\cdots |n-1\\rangle_n \\right) \\otimes |\\psi\\rangle = \\sum_{\\ell=0}^{n-1} |\\ell\\rangle_n \\otimes |\\psi\\rangle\n",
    "$$(qpe-step1)\n",
    "\n",
    "We try to find a quantum algorithm that transforms it to $|j\\rangle_n \\otimes |\\psi\\rangle$.  In other words, the algorithm eliminates the integer states expect for $|j\\rangle_n$.  Since there is one term at the end, measurement detects $|j\\rangle_n$ with high certainty.\n",
    "\n",
    "We can generate {eq}`qpe-step1` using the Walsh-Hadamard transformation discussed in {numref}`sec-wilsh-hadamard`.  Furthermore, we know that Eq. {eq}`qpe-step1` is equivalent to\n",
    "\n",
    "$$\n",
    "|\\Phi\\rangle_{n+1} = \\frac{1}{\\sqrt{2^{n+1}}} \\left(|0\\rangle + |1\\rangle\\right) \\otimes \\cdots \\otimes \\left(|0\\rangle + |1\\rangle\\right) \\otimes |\\psi\\rangle\n",
    "$$\n",
    "\n",
    "Next we consider a controlled gate $CU^{2^i}$ which applys the unitary operator $U$ $2^i$ times on $\\psi\\rangle$ when $i$-th qubit is in $1\\rangle$ and does nothing otherwise.  For example, the $i$-th qubit is transformed as (only the $i$-qubit and $|psi\\rangle$ are shown)\n",
    "\n",
    "$$\n",
    "\\begin{align}\n",
    "CU^{2^i} \\left(|0\\rangle + |1\\rangle\\right)_i \\otimes |\\psi\\rangle &= \n",
    "|0\\rangle \\otimes |\\psi\\rangle + |1\\rangle \\otimes (U^{2^i}|\\psi\\rangle)\n",
    "= |0\\rangle \\otimes |\\psi\\rangle + |1\\rangle \\otimes (e^{2\\pi i\\, \\theta\\, 2^i} |\\psi\\rangle) \\\\\n",
    "&= \\left(|0\\rangle + e^{2\\pi i\\, \\theta\\, 2^i} |1\\rangle\\right) \\otimes |\\psi\\rangle\n",
    "\\end{align}\n",
    "$$\n",
    "\n",
    "Applying the gate to all qubits (except for $|\\psi\\rangle$),\n",
    "\n",
    "$$\n",
    "\\begin{align}\n",
    "\\overset{n-1}{\\underset{i=0}{\\Large\\otimes}} CU^{2^i} |\\Psi\\rangle_{n+1}\n",
    "&= \\frac{1}{\\sqrt{2^{n+1}}} \\left(|0\\rangle + e^{2\\pi i\\, \\theta\\,2^{n-1}}|1\\rangle\\right) \\otimes \\cdots \\otimes \\left(|0\\rangle + e^{2\\pi i\\, \\theta\\,2^{0}}|1\\rangle\\right) \\otimes |\\psi\\rangle \\\\\n",
    "& =  \\frac{1}{\\sqrt{2^{n+1}}} \\sum_{\\ell=0}^{n-1} e^{2\\pi i\\, \\theta\\, \\ell} |\\ell\\rangle \\otimes |\\psi\\rangle =  \\frac{1}{\\sqrt{2^{n+1}}} \\sum_{\\ell=0}^{n-1} e^{2\\pi i\\, 2^n \\theta\\, \\ell/2^n} |\\ell\\rangle \\otimes |\\psi\\rangle \\\\\n",
    "&= \\mathcal{F}_{n} |2^n \\theta\\rangle \\otimes |\\psi\\rangle\n",
    "\\end{align}\n",
    "$$\n",
    "\n",
    "Recall that $2^n \\theta$ is an integer as discussed in {numref}`ssec-binary-fraction`.  Hence, we have Fourier transform of a computational basis.\n",
    "\n",
    "The final step is to apply inverse Fourier transform.\n",
    "\n",
    "$$\n",
    "\\mathcal{F}^\\dagger_{n} \\cdot \\overset{n-1}{\\underset{i=0}{\\Large\\otimes}} CU^{2^i} |\\Psi\\rangle_{n+1} = \\mathcal{F}^\\dagger _{n} \\mathcal{F}_{n} |2^n \\theta\\rangle \\otimes |\\psi\\rangle =  |2^n \\theta\\rangle \\otimes |\\psi\\rangle.\n",
    "$$\n",
    "\n",
    "We have obtained a desired state.  Suppose that we obtain $|j\\rangle$ up on the measurement with high probability, then $\\theta = j/2^n$.\n",
    "\n",
    "If the number of qubits is not big enough, $2^n \\theta$ can deviate from any integer.  Nevertheless, the chance to find the nearest integer $j$ is much high than other integers.  Thence, this algorithm gives us a good estimate of $\\theta$.  See the discussion of the error in {cite}`Nielsen2000`.\n"
   ]
  },
  {
   "cell_type": "markdown",
   "id": "d61043ea-062c-4f6d-9d0b-a9c81bd0b0af",
   "metadata": {},
   "source": [
    "## Example\n",
    "\n",
    "Consider a unitary operator $U = T^3$. $|1\\rangle$ is known to be its eigenket.  We want to find the phase of angle $\\theta$ of the corresponding eigenvalue.  Since the value of $\\theta$ is not known, we don't know how many qubits are needed.  Let us try three qubits for the expression of $\\theta$ and another qubit for $|psi\\rangle$.  We need also three classical bits for measurement. $T^3$ can be realized by the pase gate $P(3\\pi/4)$.\n",
    "\n",
    "\n"
   ]
  },
  {
   "cell_type": "code",
   "execution_count": 28,
   "id": "908336ff-40da-41b6-9963-b83843da42e0",
   "metadata": {},
   "outputs": [
    {
     "data": {
      "text/html": [
       "<pre style=\"word-wrap: normal;white-space: pre;background: #fff0;line-height: 1.1;font-family: &quot;Courier New&quot;,Courier,monospace\">     ┌───┐ ░                                                             »\n",
       "q_0: ┤ H ├─░──■──────────────────────────────────────────────────────────»\n",
       "     ├───┤ ░  │                                                          »\n",
       "q_1: ┤ H ├─░──┼─────────■─────────■──────────────────────────────────────»\n",
       "     ├───┤ ░  │         │         │                                      »\n",
       "q_2: ┤ H ├─░──┼─────────┼─────────┼─────────■─────────■─────────■────────»\n",
       "     ├───┤ ░  │P(3π/4)  │P(3π/4)  │P(3π/4)  │P(3π/4)  │P(3π/4)  │P(3π/4) »\n",
       "q_3: ┤ X ├─░──■─────────■─────────■─────────■─────────■─────────■────────»\n",
       "     └───┘ ░                                                             »\n",
       "c: 3/════════════════════════════════════════════════════════════════════»\n",
       "                                                                         »\n",
       "«                ░ \n",
       "«q_0: ───────────░─\n",
       "«                ░ \n",
       "«q_1: ───────────░─\n",
       "«                ░ \n",
       "«q_2: ─■─────────░─\n",
       "«      │P(3π/4)  ░ \n",
       "«q_3: ─■─────────░─\n",
       "«                ░ \n",
       "«c: 3/═════════════\n",
       "«                  </pre>"
      ],
      "text/plain": [
       "     ┌───┐ ░                                                             »\n",
       "q_0: ┤ H ├─░──■──────────────────────────────────────────────────────────»\n",
       "     ├───┤ ░  │                                                          »\n",
       "q_1: ┤ H ├─░──┼─────────■─────────■──────────────────────────────────────»\n",
       "     ├───┤ ░  │         │         │                                      »\n",
       "q_2: ┤ H ├─░──┼─────────┼─────────┼─────────■─────────■─────────■────────»\n",
       "     ├───┤ ░  │P(3π/4)  │P(3π/4)  │P(3π/4)  │P(3π/4)  │P(3π/4)  │P(3π/4) »\n",
       "q_3: ┤ X ├─░──■─────────■─────────■─────────■─────────■─────────■────────»\n",
       "     └───┘ ░                                                             »\n",
       "c: 3/════════════════════════════════════════════════════════════════════»\n",
       "                                                                         »\n",
       "«                ░ \n",
       "«q_0: ───────────░─\n",
       "«                ░ \n",
       "«q_1: ───────────░─\n",
       "«                ░ \n",
       "«q_2: ─■─────────░─\n",
       "«      │P(3π/4)  ░ \n",
       "«q_3: ─■─────────░─\n",
       "«                ░ \n",
       "«c: 3/═════════════\n",
       "«                  "
      ]
     },
     "execution_count": 28,
     "metadata": {},
     "output_type": "execute_result"
    }
   ],
   "source": [
    "import numpy as np\n",
    "from qiskit import *\n",
    "\n",
    "cr=ClassicalRegister(3,'c')\n",
    "qr=QuantumRegister(4,'q')\n",
    "qc=QuantumCircuit(qr,cr)\n",
    "\n",
    "# Walsh-Hadamard transformation for qubit 0-2\n",
    "qc.h(range(3))\n",
    "\n",
    "# X for qubit 3 to create |1>\n",
    "qc.x(3)\n",
    "\n",
    "qc.barrier()\n",
    "\n",
    "# qubit 0\n",
    "qc.cp(np.pi*3/4,0,3)\n",
    "\n",
    "# qubit 1\n",
    "qc.cp(np.pi*3/4,1,3)\n",
    "qc.cp(np.pi*3/4,1,3)\n",
    "\n",
    "# qubit 2\n",
    "qc.cp(np.pi*3/4,2,3)\n",
    "qc.cp(np.pi*3/4,2,3)\n",
    "qc.cp(np.pi*3/4,2,3)\n",
    "qc.cp(np.pi*3/4,2,3)\n",
    "\n",
    "qc.barrier()\n",
    "\n",
    "qc.draw()"
   ]
  },
  {
   "cell_type": "code",
   "execution_count": 29,
   "id": "7b78a69f-df0b-44f3-b136-3cd93640d26e",
   "metadata": {},
   "outputs": [
    {
     "data": {
      "text/html": [
       "<pre style=\"word-wrap: normal;white-space: pre;background: #fff0;line-height: 1.1;font-family: &quot;Courier New&quot;,Courier,monospace\">     ┌───┐ ░                                                             »\n",
       "q_0: ┤ H ├─░──■──────────────────────────────────────────────────────────»\n",
       "     ├───┤ ░  │                                                          »\n",
       "q_1: ┤ H ├─░──┼─────────■─────────■──────────────────────────────────────»\n",
       "     ├───┤ ░  │         │         │                                      »\n",
       "q_2: ┤ H ├─░──┼─────────┼─────────┼─────────■─────────■─────────■────────»\n",
       "     ├───┤ ░  │P(3π/4)  │P(3π/4)  │P(3π/4)  │P(3π/4)  │P(3π/4)  │P(3π/4) »\n",
       "q_3: ┤ X ├─░──■─────────■─────────■─────────■─────────■─────────■────────»\n",
       "     └───┘ ░                                                             »\n",
       "c: 3/════════════════════════════════════════════════════════════════════»\n",
       "                                                                         »\n",
       "«                ░    ┌───┐                                         ░ ┌─┐      \n",
       "«q_0: ───────────░──X─┤ H ├─■──────────────■────────────────────────░─┤M├──────\n",
       "«                ░  │ └───┘ │P(-π/2) ┌───┐ │                        ░ └╥┘┌─┐   \n",
       "«q_1: ───────────░──┼───────■────────┤ H ├─┼─────────■──────────────░──╫─┤M├───\n",
       "«                ░  │                └───┘ │P(-π/4)  │P(-π/2) ┌───┐ ░  ║ └╥┘┌─┐\n",
       "«q_2: ─■─────────░──X──────────────────────■─────────■────────┤ H ├─░──╫──╫─┤M├\n",
       "«      │P(3π/4)  ░                                            └───┘ ░  ║  ║ └╥┘\n",
       "«q_3: ─■─────────░──────────────────────────────────────────────────░──╫──╫──╫─\n",
       "«                ░                                                  ░  ║  ║  ║ \n",
       "«c: 3/═════════════════════════════════════════════════════════════════╩══╩══╩═\n",
       "«                                                                      0  1  2 </pre>"
      ],
      "text/plain": [
       "     ┌───┐ ░                                                             »\n",
       "q_0: ┤ H ├─░──■──────────────────────────────────────────────────────────»\n",
       "     ├───┤ ░  │                                                          »\n",
       "q_1: ┤ H ├─░──┼─────────■─────────■──────────────────────────────────────»\n",
       "     ├───┤ ░  │         │         │                                      »\n",
       "q_2: ┤ H ├─░──┼─────────┼─────────┼─────────■─────────■─────────■────────»\n",
       "     ├───┤ ░  │P(3π/4)  │P(3π/4)  │P(3π/4)  │P(3π/4)  │P(3π/4)  │P(3π/4) »\n",
       "q_3: ┤ X ├─░──■─────────■─────────■─────────■─────────■─────────■────────»\n",
       "     └───┘ ░                                                             »\n",
       "c: 3/════════════════════════════════════════════════════════════════════»\n",
       "                                                                         »\n",
       "«                ░    ┌───┐                                         ░ ┌─┐      \n",
       "«q_0: ───────────░──X─┤ H ├─■──────────────■────────────────────────░─┤M├──────\n",
       "«                ░  │ └───┘ │P(-π/2) ┌───┐ │                        ░ └╥┘┌─┐   \n",
       "«q_1: ───────────░──┼───────■────────┤ H ├─┼─────────■──────────────░──╫─┤M├───\n",
       "«                ░  │                └───┘ │P(-π/4)  │P(-π/2) ┌───┐ ░  ║ └╥┘┌─┐\n",
       "«q_2: ─■─────────░──X──────────────────────■─────────■────────┤ H ├─░──╫──╫─┤M├\n",
       "«      │P(3π/4)  ░                                            └───┘ ░  ║  ║ └╥┘\n",
       "«q_3: ─■─────────░──────────────────────────────────────────────────░──╫──╫──╫─\n",
       "«                ░                                                  ░  ║  ║  ║ \n",
       "«c: 3/═════════════════════════════════════════════════════════════════╩══╩══╩═\n",
       "«                                                                      0  1  2 "
      ]
     },
     "execution_count": 29,
     "metadata": {},
     "output_type": "execute_result"
    }
   ],
   "source": [
    "# Inverse Fourier transform\n",
    "\n",
    "# SWAP\n",
    "qc.swap(0,2)\n",
    "\n",
    "# qubit 0\n",
    "qc.h(0)\n",
    "\n",
    "# qubit 1\n",
    "qc.cp(-np.pi/2,1,0)\n",
    "qc.h(1)\n",
    "\n",
    "# qubit 2\n",
    "qc.cp(-np.pi/4,2,0)\n",
    "qc.cp(-np.pi/2,2,1)\n",
    "qc.h(2)\n",
    "\n",
    "qc.barrier()\n",
    "\n",
    "qc.measure(0,0)\n",
    "qc.measure(1,1)\n",
    "qc.measure(2,2)\n",
    "\n",
    "qc.draw()"
   ]
  },
  {
   "cell_type": "code",
   "execution_count": 34,
   "id": "77d5a44d-5769-4092-a10d-33a6995f6df8",
   "metadata": {},
   "outputs": [
    {
     "data": {
      "image/png": "[encoded data removed]",
      "text/plain": [
       "<Figure size 504x360 with 1 Axes>"
      ]
     },
     "execution_count": 34,
     "metadata": {},
     "output_type": "execute_result"
    }
   ],
   "source": [
    "# Chose a general quantum simulator without noise.\n",
    "# The simulator behaves as an ideal quantum computer.\n",
    "backend = Aer.get_backend('qasm_simulator')\n",
    "\n",
    "# set number of tries\n",
    "nshots=8192\n",
    "\n",
    "# execute the quantum circuit and store the outcome\n",
    "job = backend.run(qc,shots=nshots)\n",
    "\n",
    "# extract the result\n",
    "result = job.result()\n",
    "\n",
    "# count the outcome\n",
    "counts = result.get_counts()\n",
    "\n",
    "from qiskit.visualization import plot_histogram\n",
    "plot_histogram(counts)"
   ]
  },
  {
   "cell_type": "markdown",
   "id": "bf102d21-2f59-4c9a-a80c-4ebfa8f961d3",
   "metadata": {},
   "source": [
    "We obtain $|011\\rangle = |3\\rangle_3$  with unit probability.   The quantum algorithm has selected $j=3$ out of 8 integers. Hence, $\\theta = 3 / 2^3 = 3/8$.  The result is in perfect agreement with the actual eigenvalue $e^{i \\pi 3/4} = e^{2\\pi i 3/8}$. \n",
    "\n",
    "What will happen if we use more qubits than necessary?  Let us try 4 qubits.  There are 16 integer numbers to chose.  If $j=6$ is selected, we should get the same answer.  The following code indeed finds 6 as the answer."
   ]
  },
  {
   "cell_type": "code",
   "execution_count": 47,
   "id": "3264a946-ec69-42d7-99e9-09c2cad697ca",
   "metadata": {},
   "outputs": [
    {
     "data": {
      "image/png": "[encoded data removed]",
      "text/plain": [
       "<Figure size 504x360 with 1 Axes>"
      ]
     },
     "execution_count": 47,
     "metadata": {},
     "output_type": "execute_result"
    }
   ],
   "source": [
    "import numpy as np\n",
    "from qiskit import *\n",
    "\n",
    "cr=ClassicalRegister(4,'c')\n",
    "qr=QuantumRegister(5,'q')\n",
    "qc=QuantumCircuit(qr,cr)\n",
    "\n",
    "# Walsh-Hadamard transformation for qubit 0-2\n",
    "qc.h(range(4))\n",
    "\n",
    "# X for qubit 3 to create |1>\n",
    "qc.x(4)\n",
    "\n",
    "qc.barrier()\n",
    "\n",
    "for i in range(4):\n",
    "\n",
    "# qubit 0\n",
    "    for _ in range(2**i):\n",
    "        qc.cp(np.pi*3/4,i,4)\n",
    "        \n",
    "qc.barrier()\n",
    "\n",
    "# SWAP\n",
    "qc.swap(0,3)\n",
    "qc.swap(1,2)\n",
    "\n",
    "# qubit 0\n",
    "qc.h(0)\n",
    "\n",
    "# qubit 1\n",
    "qc.cp(-np.pi/2,1,0)\n",
    "qc.h(1)\n",
    "\n",
    "# qubit 2\n",
    "qc.cp(-np.pi/4,2,0)\n",
    "qc.cp(-np.pi/2,2,1)\n",
    "qc.h(2)\n",
    "\n",
    "# qubit 3\n",
    "qc.cp(-np.pi/8,3,0)\n",
    "qc.cp(-np.pi/4,3,1)\n",
    "qc.cp(-np.pi/2,3,2)\n",
    "qc.h(3)\n",
    "\n",
    "qc.barrier()\n",
    "\n",
    "qc.measure(0,0)\n",
    "qc.measure(1,1)\n",
    "qc.measure(2,2)\n",
    "qc.measure(3,3)\n",
    "\n",
    "# Chose a general quantum simulator without noise.\n",
    "# The simulator behaves as an ideal quantum computer.\n",
    "backend = Aer.get_backend('qasm_simulator')\n",
    "\n",
    "# set number of tries\n",
    "nshots=8192\n",
    "\n",
    "# execute the quantum circuit and store the outcome\n",
    "job = backend.run(qc,shots=nshots)\n",
    "\n",
    "# extract the result\n",
    "result = job.result()\n",
    "\n",
    "# count the outcome\n",
    "counts = result.get_counts()\n",
    "\n",
    "from qiskit.visualization import plot_histogram\n",
    "plot_histogram(counts)"
   ]
  },
  {
   "cell_type": "markdown",
   "id": "856db2b9-7499-48e5-b499-6210f0fc0a0d",
   "metadata": {},
   "source": [
    "Now we got $|0110\\rangle = |6\\rangle$ from which we find $\\theta = 6/2^4 = 3/8$.  The result does not change."
   ]
  },
  {
   "cell_type": "markdown",
   "id": "0b631d4f-b736-4e96-87f2-b13693989fae",
   "metadata": {},
   "source": [
    "## Irrational value\n",
    "\n",
    "If the eigenvalue is $e^{2\\pi i /3}$, $theta=1/3$ cannot be expressed by the finite binary fractions and thus it is not possible to get the perfect answer using the current algorithm.  Let us consider $U=P(2\\pi/3)$ and $\\psi\\rangle=|1\\rangle$.\n"
   ]
  },
  {
   "cell_type": "code",
   "execution_count": 48,
   "id": "3a945e49-b398-4a24-bc76-6c25be675171",
   "metadata": {},
   "outputs": [
    {
     "data": {
      "image/png": "[encoded data removed]",
      "text/plain": [
       "<Figure size 504x360 with 1 Axes>"
      ]
     },
     "execution_count": 48,
     "metadata": {},
     "output_type": "execute_result"
    }
   ],
   "source": [
    "import numpy as np\n",
    "from qiskit import *\n",
    "\n",
    "cr=ClassicalRegister(4,'c')\n",
    "qr=QuantumRegister(5,'q')\n",
    "qc=QuantumCircuit(qr,cr)\n",
    "\n",
    "# Walsh-Hadamard transformation for qubit 0-2\n",
    "qc.h(range(4))\n",
    "\n",
    "# X for qubit 3 to create |1>\n",
    "qc.x(4)\n",
    "\n",
    "qc.barrier()\n",
    "\n",
    "for i in range(4):\n",
    "\n",
    "# qubit 0\n",
    "    for _ in range(2**i):\n",
    "        qc.cp(np.pi*2/3,i,4)\n",
    "        \n",
    "qc.barrier()\n",
    "\n",
    "# SWAP\n",
    "qc.swap(0,3)\n",
    "qc.swap(1,2)\n",
    "\n",
    "# qubit 0\n",
    "qc.h(0)\n",
    "\n",
    "# qubit 1\n",
    "qc.cp(-np.pi/2,1,0)\n",
    "qc.h(1)\n",
    "\n",
    "# qubit 2\n",
    "qc.cp(-np.pi/4,2,0)\n",
    "qc.cp(-np.pi/2,2,1)\n",
    "qc.h(2)\n",
    "\n",
    "# qubit 3\n",
    "qc.cp(-np.pi/8,3,0)\n",
    "qc.cp(-np.pi/4,3,1)\n",
    "qc.cp(-np.pi/2,3,2)\n",
    "qc.h(3)\n",
    "\n",
    "qc.barrier()\n",
    "\n",
    "qc.measure(0,0)\n",
    "qc.measure(1,1)\n",
    "qc.measure(2,2)\n",
    "qc.measure(3,3)\n",
    "\n",
    "# Chose a general quantum simulator without noise.\n",
    "# The simulator behaves as an ideal quantum computer.\n",
    "backend = Aer.get_backend('qasm_simulator')\n",
    "\n",
    "# set number of tries\n",
    "nshots=8192\n",
    "\n",
    "# execute the quantum circuit and store the outcome\n",
    "job = backend.run(qc,shots=nshots)\n",
    "\n",
    "# extract the result\n",
    "result = job.result()\n",
    "\n",
    "# count the outcome\n",
    "counts = result.get_counts()\n",
    "\n",
    "from qiskit.visualization import plot_histogram\n",
    "plot_histogram(counts)"
   ]
  },
  {
   "cell_type": "markdown",
   "id": "8fb16c8c-a1e2-44f8-807c-ce2d571eea58",
   "metadata": {},
   "source": [
    "Clearly $|0101\\rangle = |5\\rangle$ is dominant. It corresponds to $\\theta = 5/2^4 = 0.3125$.  The exact answer is $1/3=0.3333...$.  The agreement is not bad and the error can be reduced by using more qubits."
   ]
  },
  {
   "cell_type": "markdown",
   "id": "a39f3278-9fff-45dc-8712-c0d27fbd3b9a",
   "metadata": {},
   "source": [
    "\n",
    "---\n",
    "Last modified on 07/24/2022."
   ]
  },
  {
   "cell_type": "code",
   "execution_count": null,
   "id": "0a8b3f8d-2d6e-4b2b-b78b-25f25c05ee6b",
   "metadata": {},
   "outputs": [],
   "source": []
  }
 ],
 "metadata": {
  "kernelspec": {
   "display_name": "Python 3 (ipykernel)",
   "language": "python",
   "name": "python3"
  },
  "language_info": {
   "codemirror_mode": {
    "name": "ipython",
    "version": 3
   },
   "file_extension": ".py",
   "mimetype": "text/x-python",
   "name": "python",
   "nbconvert_exporter": "python",
   "pygments_lexer": "ipython3",
   "version": "3.9.12"
  }
 },
 "nbformat": 4,
 "nbformat_minor": 5
}
