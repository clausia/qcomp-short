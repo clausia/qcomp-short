{
 "cells": [
  {
   "cell_type": "markdown",
   "id": "02b4dcb4-5bac-4ad7-ba8f-89b0b0128d13",
   "metadata": {},
   "source": [
    "(sec-qft)=\n",
    "# Quantum Fourier Transform"
   ]
  },
  {
   "cell_type": "markdown",
   "id": "7b1181c5-a027-4f16-83a3-94a133bad4da",
   "metadata": {},
   "source": [
    "Fourier transform (FT) is a ubiquitous mathematical tool used in science, engineering and beyond and we are using it every day without knowing it. Whenever digital signals are processed, the Fourier transform is most likely used including WiFi, cell phone, digital music, digital picture, ..., to name a few.  We wish to calculate the Fourier transform on a quantum computer.  It turns out that quantum computers are not good at calculating general Fourier transform as explained below.  We will focus on a very special case not for the sake of Fourier transform but for other quantum algorithms such as phase estimation.\n"
   ]
  },
  {
   "cell_type": "markdown",
   "id": "0a911547-5bd6-481b-b47a-736cfa98bc97",
   "metadata": {},
   "source": [
    "## Discrete Fourier Transform\n",
    "\n",
    "The digital signal processes use a particular form  of Fourier transform known as *discrete Fourier transform* defined by\n",
    "\n",
    "$$\n",
    "y_n = \\frac{1}{\\sqrt{N}} \\sum_{m=0}^{N-1} x_m e^{2\\pi i\\, n\\, m/N}\n",
    "$$(DFT)\n",
    "\n",
    "or writing ti in a matrix from\n",
    "\n",
    "$$\n",
    "\\begin{bmatrix}y_0\\\\y_1\\\\ \\vdots \\\\ y_{N-1}\\end{bmatrix} = \\frac{1}{\\sqrt{N}} \n",
    "\\begin{bmatrix} 1 & 1 & \\cdots & 1 \\\\ 1 & e^{2\\pi i/N} & \\cdots & e^{2\\pi i (N-1)/N} \\\\\n",
    "\\vdots & \\vdots & \\cdots &\\vdots \\\\ 1 & e^{2\\pi i (N-1)/N} &\\cdots & e^{2\\pi i (N-1)^2/N}\n",
    "\\end{bmatrix}\n",
    "\\begin{bmatrix}x_0\\\\x_1\\\\ \\vdots \\\\ x_{N-1}\\end{bmatrix}\n",
    "$$(DFT-as-matrix)\n",
    "\n",
    "where $x_m \\in \\mathbb{C}$ is the original signal and $y_n \\in \\mathbb{C}$ is its Fourier transform. \n",
    "\n",
    "Writing the column vectors in kets as \n",
    "\n",
    "$$\n",
    "|x\\rangle \\doteq \\begin{bmatrix}x_0\\\\x_1\\\\ \\vdots \\\\ x_{N-1}\\end{bmatrix}, \\qquad\n",
    "|y\\rangle \\doteq \\begin{bmatrix}y_0\\\\y_1\\\\ \\vdots \\\\ y_{N-1}\\end{bmatrix}\n",
    "$$\n",
    "\n",
    "and the matrix as an operator \n",
    "\n",
    "$$\n",
    "\\mathcal{F}_N \\doteq \\frac{1}{\\sqrt{N}} \\begin{bmatrix} 1 & 1 & \\cdots & 1 \\\\ 1 & e^{2\\pi i/N} & \\cdots & e^{2\\pi i (N-1)/N} \\\\\n",
    "\\vdots & \\vdots & \\cdots &\\vdots \\\\ 1 & e^{2\\pi i (N-1)/N} &\\cdots & e^{2\\pi i (N-1)^2/N}\n",
    "\\end{bmatrix}\n",
    "$$\n",
    "\n",
    "which we shall call *Fourier operator* or *Fourier gate*. Now, the Fourier transform can be written in an abstract form\n",
    "\n",
    "$$\n",
    "|y\\rangle = \\mathcal{F}_N |x\\rangle .\n",
    "$$(DFT-as-operator)\n",
    "\n",
    "It is easy to check that $\\mathcal{F}_N \\mathcal{F}_N^\\dagger = 1$ and thus $\\mathcal{F}_N$ is unitary. The inverse Fourier transform is done by $\\mathcal{F}_^\\dagger$ as\n",
    "\n",
    "$$\n",
    "|x\\rangle = \\mathcal{F}_N^\\dagger |y\\rangle .\n",
    "$$(DFT-inverse)\n",
    "\n",
    "A unitary transformation in $N$-dimensional Hilbert space can be implemented as a quantum transformation by 1) preparing a quantum state $|x\\rangle$ using a certain basis set, 2) constructing the unitary operator, and 3) reading out $|y\\rangle$.  \n",
    "However, we have a couple of issues here.  First of all,  quantum measurement only gives us $|y_n|$ through the Born rule.  This is not necessarily a fatal limitation since many applications need only the modulus such as power spectrum. Secondly, when $N$ is very large as in the engineering applications, there is no good way to prepare $|x\\rangle$  and also finding all $|y_n|$ requires a huge number of quantum measurement.   Unfortunately, the quantum version of DFT seems not feasible for traditional applications.\n",
    "\n",
    "Nevertheless, the quantum Fourier transform has several useful application such as phase estimation and period finding. It is worth developing a quantum algorithm for $\\mathcal{F}_N$.  To do so, we consider the Fourier transform of the computational basis $|j\\rangle$  ($j=0,\\cdots 2^{n-1}$) where $n$ is the number of qubits.  More explicitly, the basis is defined by \n",
    "\n",
    "$$\n",
    "|j\\rangle=|j_1\\, j_2,\\cdots\\, j_n\\rangle \\equiv  |j_1\\rangle \\otimes |j_2\\rangle \\otimes \\cdots \\otimes |j_n\\rangle\n",
    "$$\n",
    "\n",
    "where the individual qubit takes values $j_i \\in \\{0,1\\}$ and  $j=2^{n-1} j_1 + 2^{n-2} j_2 +\\cdots+ j_n$. For $n=2$, there are four basis kets $|0\\rangle=|00\\rangle,\\, |1\\rangle=|01\\rangle,\\,  |2\\rangle=|10\\rangle,\\, |3\\rangle=|11\\rangle$.\n",
    "\n",
    "when the Fourier operator is applied to the computational basis we obtain a new basis \n",
    "\n",
    "$$\n",
    "|\\tilde j\\rangle = \\mathcal{F}_N |j\\rangle .\n",
    "$$(QFT)\n",
    "\n",
    "where the tilde on $j$ indicates the Fourier transform.\n",
    "\n",
    "We can construct a quantum circuit for the Fourier operator $\\mathcal{F}_N$ from Eq.  {eq}`QFT`.  Once we obtained the circuit or the Fourier gate, we can apply it to other states.  \n",
    "In literature  \"quantum Fourier transform\" often means  Eq.{eq}`QFT` or the Fourier gate $\\mathcal{F}_N$ rather than the general Fourier transform {eq}`DFT-as-operator`."
   ]
  },
  {
   "cell_type": "markdown",
   "id": "0f4bb250-66dc-4519-9690-58a80ab168b8",
   "metadata": {},
   "source": [
    "**Exercise** {numref}`%s <sec-qft>`.1&nbsp;  Show that $|k_j\\rangle$ forms an orthonormal basis set."
   ]
  },
  {
   "cell_type": "markdown",
   "id": "dedbc447-c8e5-4245-82f5-45585a4af6dd",
   "metadata": {
    "tags": []
   },
   "source": [
    "## The QFT algorithm\n",
    "\n",
    "Now we construct the Foureir operator. \n",
    "First, we compute Eq. {eq}`QFT` explicitly in the computational basis.\n",
    "\n",
    "\n",
    "**N=2**  \n",
    "Let us consider $n=1$, the simplest QFT:\n",
    "\n",
    "$$\n",
    "\\begin{align}\n",
    "|\\tilde 0\\rangle &= \\mathcal{F}_2 |0\\rangle = \\frac{1}{\\sqrt{2}} \\left(|0\\rangle +  e^{i 0} |1\\rangle\\right) = \\frac{1}{\\sqrt{2}} \\left(|0\\rangle + |1\\rangle\\right) = H|0\\rangle\\\\\n",
    "|\\tilde 1\\rangle &= \\mathcal{F}_2 |1\\rangle = \\frac{1}{\\sqrt{2}} \\left(|0\\rangle + e^{i \\pi}|1\\rangle\\right) = \\frac{1}{\\sqrt{2}} \\left(|0\\rangle - |1\\rangle\\right) = H|1\\rangle\n",
    "\\end{align}\n",
    "$$\n",
    "\n",
    "which indicates $\\mathcal{F}_2 = H$.  We learned in {numref}`sec-hgate` that the Hadamard gate transforms the computational basis to the $x$-basis. That transformation turned out to be the lowest order QFT.  We have already computed it.   See {numref}`sec-hgate-qft`.\n",
    "\n",
    "**N=4**  \n",
    "\n",
    "We need more examples to get an idea of $\\mathcal{F}_N$..  Let us try $n=2$.\n",
    "\n",
    "$$\n",
    "\\begin{align}\n",
    "|\\tilde 0\\rangle &= \\mathcal{F}_2 |0\\rangle = \\frac{1}{2} \\left(|00\\rangle + |01\\rangle  +|10\\rangle + |11\\rangle\\right)\\\\ &= \\frac{1}{\\sqrt{2}} \\left(|0\\rangle + |1\\rangle\\right) \\otimes\n",
    "\\frac{1}{\\sqrt{2}} \\left(|0\\rangle + |1\\rangle\\right) \\\\\n",
    "|\\tilde 1\\rangle &= \\mathcal{F}_2 |01\\rangle = \\frac{1}{2} \\left(|00\\rangle + e^{i \\pi/2}|01\\rangle + e^{i \\pi}|10\\rangle + e^{i 3\\pi/2}|11\\rangle \\right)\\\\\n",
    "&= \\frac{1}{2} \\left(|00\\rangle + i |01\\rangle  - |10\\rangle  -i |11\\rangle \\right)\\\\& = \\frac{1}{\\sqrt{2}} \\left(|0\\rangle -  |1\\rangle\\right) \\otimes \\frac{1}{\\sqrt{2}} \\left(|0\\rangle + i |1\\rangle\\right) \\\\\n",
    "|\\tilde 2\\rangle &= \\mathcal{F}_2 |10\\rangle = \\frac{1}{2} \\left(|00\\rangle + e^{i \\pi}|01\\rangle + e^{2 i \\pi}|10\\rangle + e^{i 3 \\pi}|11\\rangle \\right) \\\\\n",
    "&= \\frac{1}{2} \\left(|00\\rangle - |01\\rangle +|10\\rangle - |11\\rangle \\right) \\\\\n",
    "&=  \\frac{1}{\\sqrt{2}} \\left(|0\\rangle + |1\\rangle\\right) \\otimes \\frac{1}{\\sqrt{2}} \\left(|0\\rangle - |1\\rangle\\right)\\\\\n",
    "|\\tilde 3\\rangle &= \\mathcal{F}_2 |11\\rangle = \\frac{1}{2} \\left(|00\\rangle + e^{i 3\\pi/2}|01\\rangle + e^{3 i \\pi}|10\\rangle + e^{i 9 \\pi/2} |11\\rangle \\right) \\\\\n",
    "&= \\frac{1}{2} \\left(|00\\rangle - i|01\\rangle - |10\\rangle + i |11\\rangle \\right) \\\\\n",
    "&=  \\frac{1}{\\sqrt{2}} \\left(|0\\rangle - |1\\rangle\\right) \\otimes \\frac{1}{\\sqrt{2}} \\left(|0\\rangle -i |1\\rangle\\right)\n",
    "\\end{align}\n",
    "$$(QFT2)\n",
    "\n",
    "Now  phase factors $\\pm i$ appears in $|u_1\\rangle$ and $|u_3\\rangle$.  The $H$ gate is not enough and the $S$ gate is needed. \n",
    "\n",
    "$$\n",
    "\\begin{align}\n",
    "S \\cdot H |0\\rangle &= \\frac{1}{\\sqrt{2}}\\left(|0\\rangle + i |1\\rangle\\right) \\\\\n",
    "S \\cdot H |1\\rangle &= \\frac{1}{\\sqrt{2}}\\left(|0\\rangle - i |1\\rangle\\right) \n",
    "\\end{align}\n",
    "$$\n",
    "\n",
    "Substituting these relations, we find\n",
    "\n",
    "$$\n",
    "\\begin{align}\n",
    "|\\tilde 0\\rangle &= \\mathcal{F}_2 |00\\rangle = H |0\\rangle \\otimes H |0 \\rangle = ( H\\otimes H)|00\\rangle\\\\\n",
    "|\\tilde 1\\rangle &= \\mathcal{F}_2 |01\\rangle = H |1\\rangle \\otimes (S \\cdot H) |0\\rangle = (H \\otimes S\\cdot H) |10\\rangle\\\\\n",
    "|\\tilde 2\\rangle &= \\mathcal{F}_2 |10\\rangle = H |0\\rangle \\otimes H |1\\rangle = (H \\otimes H) |01\\rangle\\\\\n",
    "|\\tilde 3\\rangle &= \\mathcal{F}_2 |11\\rangle = H |1\\rangle \\otimes (S \\cdot H) |1\\rangle = (H \\otimes H) |01\\rangle = (H \\otimes S\\cdot H) |11\\rangle\n",
    "\\end{align}\n",
    "$$\n",
    "\n",
    "We have two problems. First, only $|\\tilde 1\\rangle$ and $|\\tilde 3\\rangle$ use a $S$ gate.  Noting that the other qubit is $|1\\rangle$ when $S$ is used.  Hence, a controlled $S$ gate solves this issue. The second issue is that the order of the qubits does not match between the left and the right hand sides. For $|\\tilde 1\\rangle$, the Fourier gate acts on $|01\\rangle$ but the right hand side has $|10\\rangle$.  This can be resolved by applying a $SWAP$ gate.  Applying $SWAP$ to $|\\tilde 0\\rangle$ and $|\\tilde 3\\rangle$ do not change the order of the qubits. Hence, you can apply $SWAP$ in all cases.  Now, the single opertor $\\mathcal{F}_N$ transforms all input vectors correctly.  In conclusion the following circuit compute the Fourier transform of all computational basis vectors. "
   ]
  },
  {
   "cell_type": "code",
   "execution_count": 1,
   "id": "f780344c-554c-49d6-a077-77d33e868e53",
   "metadata": {
    "tags": [
     "hide-input"
    ]
   },
   "outputs": [
    {
     "data": {
      "text/html": [
       "<pre style=\"word-wrap: normal;white-space: pre;background: #fff0;line-height: 1.1;font-family: &quot;Courier New&quot;,Courier,monospace\">               ┌───┐   \n",
       "q_0: ───────■──┤ H ├─X─\n",
       "     ┌───┐┌─┴─┐└───┘ │ \n",
       "q_1: ┤ H ├┤ S ├──────X─\n",
       "     └───┘└───┘        </pre>"
      ],
      "text/plain": [
       "               ┌───┐   \n",
       "q_0: ───────■──┤ H ├─X─\n",
       "     ┌───┐┌─┴─┐└───┘ │ \n",
       "q_1: ┤ H ├┤ S ├──────X─\n",
       "     └───┘└───┘        "
      ]
     },
     "execution_count": 1,
     "metadata": {},
     "output_type": "execute_result"
    }
   ],
   "source": [
    "from qiskit import *\n",
    "from qiskit.circuit.library.standard_gates import SGate\n",
    "qr=QuantumRegister(2,'q')\n",
    "qc=QuantumCircuit(qr)\n",
    "cs=SGate().control(1)\n",
    "qc.h(1)\n",
    "qc.append(cs,[0,1])\n",
    "qc.h(0)\n",
    "qc.swap(0,1)\n",
    "qc.draw()"
   ]
  },
  {
   "cell_type": "markdown",
   "id": "6e654ea6-8fcc-46eb-824f-117c547e16ef",
   "metadata": {},
   "source": [
    "We very all four transformations {eq}`QFT2` using Qiskit."
   ]
  },
  {
   "cell_type": "code",
   "execution_count": 2,
   "id": "804b3d9e-4a68-4c19-8545-b4d322fabc1d",
   "metadata": {},
   "outputs": [],
   "source": [
    "import numpy as np\n",
    "from qiskit import *\n",
    "\n",
    "# qiskit does not have predefined controlled-S gate\n",
    "# In this application we use an equivalent gate controlled-P gate.\n",
    "\n",
    "def QFT():\n",
    "    # define the Fourier gate    \n",
    "    qc.h(1)\n",
    "    qc.cp(np.pi/2,0,1)\n",
    "    qc.h(0)\n",
    "    qc.swap(0,1)\n"
   ]
  },
  {
   "cell_type": "code",
   "execution_count": 3,
   "id": "0d8547da-72a0-4bad-96ec-a59ae1dc64f1",
   "metadata": {},
   "outputs": [
    {
     "name": "stdout",
     "output_type": "stream",
     "text": [
      "Fourier transform of |00>\n"
     ]
    },
    {
     "data": {
      "text/latex": [
       "$$\\frac{1}{2} |00\\rangle+\\frac{1}{2} |01\\rangle+\\frac{1}{2} |10\\rangle+\\frac{1}{2} |11\\rangle$$"
      ],
      "text/plain": [
       "<IPython.core.display.Latex object>"
      ]
     },
     "execution_count": 3,
     "metadata": {},
     "output_type": "execute_result"
    }
   ],
   "source": [
    "# for |00>\n",
    "qr=QuantumRegister(2,'q')\n",
    "qc=QuantumCircuit(qr)\n",
    "    \n",
    "# apply the Fourier gate\n",
    "QFT()\n",
    "\n",
    "# Show the Fourier transform\n",
    "from qiskit.quantum_info import Statevector\n",
    "psi=Statevector(qc)\n",
    "print(\"Fourier transform of |00>\")\n",
    "psi.draw('latex')"
   ]
  },
  {
   "cell_type": "code",
   "execution_count": 4,
   "id": "7ae52186-1184-4a61-a8a0-1a05c05a8167",
   "metadata": {},
   "outputs": [
    {
     "name": "stdout",
     "output_type": "stream",
     "text": [
      "Fourier transform of |01>\n"
     ]
    },
    {
     "data": {
      "text/latex": [
       "$$\\frac{1}{2} |00\\rangle+\\frac{i}{2} |01\\rangle- \\frac{1}{2} |10\\rangle- \\frac{i}{2} |11\\rangle$$"
      ],
      "text/plain": [
       "<IPython.core.display.Latex object>"
      ]
     },
     "execution_count": 4,
     "metadata": {},
     "output_type": "execute_result"
    }
   ],
   "source": [
    "# for |01>\n",
    "qr=QuantumRegister(2,'q')\n",
    "qc=QuantumCircuit(qr)\n",
    "    \n",
    "qc.x(0)\n",
    "QFT()\n",
    "psi=Statevector(qc)\n",
    "print(\"Fourier transform of |01>\")\n",
    "psi.draw('latex')"
   ]
  },
  {
   "cell_type": "code",
   "execution_count": 5,
   "id": "91fa64e0-bbea-4ed0-ba6f-f3cd262651b4",
   "metadata": {},
   "outputs": [
    {
     "name": "stdout",
     "output_type": "stream",
     "text": [
      "Fourier transform of |10>\n"
     ]
    },
    {
     "data": {
      "text/latex": [
       "$$\\frac{1}{2} |00\\rangle- \\frac{1}{2} |01\\rangle+\\frac{1}{2} |10\\rangle- \\frac{1}{2} |11\\rangle$$"
      ],
      "text/plain": [
       "<IPython.core.display.Latex object>"
      ]
     },
     "execution_count": 5,
     "metadata": {},
     "output_type": "execute_result"
    }
   ],
   "source": [
    "# for |10>\n",
    "qr=QuantumRegister(2,'q')\n",
    "qc=QuantumCircuit(qr)\n",
    "    \n",
    "qc.x(1)\n",
    "QFT()\n",
    "psi=Statevector(qc)\n",
    "print(\"Fourier transform of |10>\")\n",
    "psi.draw('latex')"
   ]
  },
  {
   "cell_type": "code",
   "execution_count": 6,
   "id": "14f36a78-0ae4-4e13-8d9e-a333f05e5eae",
   "metadata": {},
   "outputs": [
    {
     "name": "stdout",
     "output_type": "stream",
     "text": [
      "Fourier transform of |10>\n"
     ]
    },
    {
     "data": {
      "text/latex": [
       "$$\\frac{1}{2} |00\\rangle- \\frac{i}{2} |01\\rangle- \\frac{1}{2} |10\\rangle+\\frac{i}{2} |11\\rangle$$"
      ],
      "text/plain": [
       "<IPython.core.display.Latex object>"
      ]
     },
     "execution_count": 6,
     "metadata": {},
     "output_type": "execute_result"
    }
   ],
   "source": [
    "# for |11>\n",
    "qr=QuantumRegister(2,'q')\n",
    "qc=QuantumCircuit(qr)\n",
    "    \n",
    "qc.x([0,1])\n",
    "QFT()\n",
    "psi=Statevector(qc)\n",
    "print(\"Fourier transform of |10>\")\n",
    "psi.draw('latex')"
   ]
  },
  {
   "cell_type": "markdown",
   "id": "2479af55-55d5-4523-8e18-9c0801213041",
   "metadata": {},
   "source": [
    "**Higher order QFT**  \n",
    "\n",
    "Now we have some good idea about QFT. Now, we try to find $\\mathcal{F}_N$.  The derivation is a bit complicated but the extension of the $N=4$ case.  First, we evaluate $\\mathcal{F}_N |j\\rangle$.\n",
    "\n",
    "$$\n",
    "\\begin{align}\n",
    "|\\tilde j \\rangle &= \\mathcal{F}_N |j\\rangle  = \\frac{1}{\\sqrt{N}} \\sum_{k=0}^{N-1} e^{2\\pi i\\, j\\, k /2^n} |k\\rangle \\\\\n",
    "& = \\sum_{k=0}^{N-1} e^{2\\pi i\\, j\\,\\sum_{\\ell=1}^{n} k_\\ell/2^\\ell} |k_1\\, k_2\\, \\cdots\\, k_n \\rangle \\\\\n",
    "& = \\left (\\sum_{k_1=0}^1 e^{2 \\pi i\\, j\\, k_1/2} |k_1\\rangle\\right) \\otimes \\left (\\sum_{k_2=0}^1 e^{2 \\pi i\\, j, k_2/2^2} |k_2\\rangle\\right)\\otimes \\cdots \\otimes \\left (\\sum_{k_n=0}^1 e^{2 \\pi i\\,j\\' k_n/2^n} |k_n\\rangle\\right) \\\\\n",
    "& = \\left(|0\\rangle + e^{2 \\pi i\\, j /2} |1\\rangle \\right) \\otimes \\left(|0\\rangle + e^{2 \\pi i\\, j /2^2 } |1\\rangle \\right) \\otimes \\cdots \\otimes \\left(|0\\rangle + e^{2 \\pi i\\, j /2^n}|1\\rangle \\right) \n",
    "\n",
    "\\end{align}\n",
    "$$\n",
    "\n",
    "Now we develop a circuit that produces the same result."
   ]
  },
  {
   "cell_type": "markdown",
   "id": "b6af7782-db81-41c2-b4b7-613e868806cd",
   "metadata": {},
   "source": [
    "\n",
    "---\n",
    "Last modified: 07-19-2022"
   ]
  },
  {
   "cell_type": "code",
   "execution_count": null,
   "id": "e7eccf64-4b2d-4772-8b44-63e43752a7c1",
   "metadata": {},
   "outputs": [],
   "source": []
  }
 ],
 "metadata": {
  "kernelspec": {
   "display_name": "Python 3 (ipykernel)",
   "language": "python",
   "name": "python3"
  },
  "language_info": {
   "codemirror_mode": {
    "name": "ipython",
    "version": 3
   },
   "file_extension": ".py",
   "mimetype": "text/x-python",
   "name": "python",
   "nbconvert_exporter": "python",
   "pygments_lexer": "ipython3",
   "version": "3.9.12"
  }
 },
 "nbformat": 4,
 "nbformat_minor": 5
}
