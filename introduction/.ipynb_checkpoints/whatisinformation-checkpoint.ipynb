{
 "cells": [
  {
   "cell_type": "markdown",
   "id": "01aaef73-dac8-4f56-968f-e83517262260",
   "metadata": {},
   "source": [
    "# What is information?"
   ]
  },
  {
   "cell_type": "markdown",
   "id": "a31f0cc3-58df-4123-89d7-1d232c3e8383",
   "metadata": {},
   "source": [
    "Why do you ask a question? That is because you do not know something and try to find it.  In other words, you try to get new information.  But what is information and can we quantify the amount of information?  To answer this question, [information theory](https://en.wikipedia.org/wiki/Information_theory) was developed in the first half of twenty century by [Claude Shannon](https://en.wikipedia.org/wiki/Claude_Shannon) and others.  It turns out that  the theory of information is directly related to the theory of probability and also thermodynamics. At the end, we understand that information dictates all physical processes. "
   ]
  },
  {
   "cell_type": "markdown",
   "id": "9b2b12c3-3096-4a1c-85a0-6a7864fc9f92",
   "metadata": {},
   "source": [
    "## Uncertainties as information\n",
    "\n",
    "Consider coin flipping.  It has two possible outcomes, head and tail. Before tossing it up, we do not know the outcome.  This uncertainty is the origin of information. When you the outcome, the uncertainty vanish"
   ]
  }
 ],
 "metadata": {
  "kernelspec": {
   "display_name": "Python 3 (ipykernel)",
   "language": "python",
   "name": "python3"
  },
  "language_info": {
   "codemirror_mode": {
    "name": "ipython",
    "version": 3
   },
   "file_extension": ".py",
   "mimetype": "text/x-python",
   "name": "python",
   "nbconvert_exporter": "python",
   "pygments_lexer": "ipython3",
   "version": "3.9.12"
  }
 },
 "nbformat": 4,
 "nbformat_minor": 5
}
